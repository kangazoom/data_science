{
 "cells": [
  {
   "cell_type": "markdown",
   "metadata": {},
   "source": [
    "Michelle Cronin\n",
    "<br>General Assembly - Data Science\n",
    "<br>Homework 3 - Pima Indian Diabetes Dataset (Unsupervised)\n",
    "<br>February 29, 2016"
   ]
  },
  {
   "cell_type": "markdown",
   "metadata": {},
   "source": [
    "## 1) Give an overall summary of your performance from HW2 on the dataset"
   ]
  },
  {
   "cell_type": "markdown",
   "metadata": {},
   "source": [
    "Overall, my performance was positive. The accuracy, in every case, performed over the minimal benchmark (~65%). My worst model, Naive Bayes (multinomial) performed at 70.25% at ~79.7 microsec with the pg_conc feature. The model I chose as best when considering interpretibility, speed, and accuracy together was Logistic Regression at 76.16% for both all_data (data_imputed) at ~31.2 microsec per loop and data_small (data_dropped) at ~31.3 microsec per loop. I tested three different datasets for a dropped feature, imputed missing values, and an engineered feature. Of course, there were definitely some areas for improvement (see below)."
   ]
  },
  {
   "cell_type": "markdown",
   "metadata": {},
   "source": [
    "## 2) Do you see any areas for improvement?"
   ]
  },
  {
   "cell_type": "markdown",
   "metadata": {},
   "source": [
    "One main area for improvement could have been in how I measured for accuracy and instead should have used recall, F1, or AUC as there was unbalance in the class results and we were predicting medical outcomes. I also could have used gaussian Naive Bayes instead of multinomial Naive Bayes given the numerical nature of the data. Additionally, I could have spent more time playing around with tuning. Further, learning curves for several models revealed bias in most of the results."
   ]
  },
  {
   "cell_type": "markdown",
   "metadata": {},
   "source": [
    "## 3) Run k-Means on the dataset and describe your results"
   ]
  },
  {
   "cell_type": "markdown",
   "metadata": {},
   "source": [
    "- Inertia/Silhouette: \n",
    "    - (1) DATA_IMPUTED: Inertia score: 2422.97815686  / Silhouette score: 0.143477347606\n",
    "    - (2) DATA_FENGINEERED: Inertia score: 2763.42249348  / Silhouette score: 0.12987366144\n",
    "    - (3) DATA_DROPPED: Inertia score: 2290.3527396 / Silhouette score: 0.137652896944\n",
    "- Speed: (1) ~118 ms per loop with data_imputed (2) ~115 ms per loop with data_fengineered (3) ~186 ms per loop with data_dropped\n",
    "- Explored: DATA_DROPPED since it balances the lowest inertia score with one of the highest silhouette scores (still not very close to 1, unfortunately)\n",
    "- Comments: Breaking the data into clusters was interesting, since we can see that certain groups are definitely more at risk ('Early-Thirties in Need of Lifestyle Change') than others ('Carefree, Stick-Thin Twenty-Somesomethings'), implying that we have found distinct clusters. The low silhouette score implies that there are possibly better groupings available, although we need to feed the results through a supervised model to truly evaluate its usefulness."
   ]
  },
  {
   "cell_type": "code",
   "execution_count": 256,
   "metadata": {
    "collapsed": true
   },
   "outputs": [],
   "source": [
    "# import necessary libraries to start\n",
    "import pandas as pd\n",
    "import numpy as np\n",
    "import matplotlib.pyplot as plt\n",
    "%matplotlib inline\n",
    "\n",
    "import seaborn as sns"
   ]
  },
  {
   "cell_type": "code",
   "execution_count": 257,
   "metadata": {
    "collapsed": false
   },
   "outputs": [],
   "source": [
    "# import data (exported from hw2)\n",
    "data_imputed = pd.read_csv('data_imputed.csv')\n",
    "data_fengineered = pd.read_csv('data_fengineered.csv')\n",
    "data_dropped = pd.read_csv('data_dropped.csv')"
   ]
  },
  {
   "cell_type": "code",
   "execution_count": 258,
   "metadata": {
    "collapsed": false
   },
   "outputs": [
    {
     "data": {
      "text/html": [
       "<div>\n",
       "<table border=\"1\" class=\"dataframe\">\n",
       "  <thead>\n",
       "    <tr style=\"text-align: right;\">\n",
       "      <th></th>\n",
       "      <th>preg</th>\n",
       "      <th>pg_conc</th>\n",
       "      <th>diastolic_bp</th>\n",
       "      <th>skin</th>\n",
       "      <th>serum_insulin</th>\n",
       "      <th>bmi</th>\n",
       "      <th>diabetes_pf</th>\n",
       "      <th>age</th>\n",
       "      <th>class</th>\n",
       "      <th>ratio</th>\n",
       "    </tr>\n",
       "  </thead>\n",
       "  <tbody>\n",
       "    <tr>\n",
       "      <th>0</th>\n",
       "      <td>6</td>\n",
       "      <td>148.000</td>\n",
       "      <td>72.000</td>\n",
       "      <td>35.000</td>\n",
       "      <td>125.000</td>\n",
       "      <td>33.600</td>\n",
       "      <td>0.627</td>\n",
       "      <td>50</td>\n",
       "      <td>1</td>\n",
       "      <td>1.184</td>\n",
       "    </tr>\n",
       "    <tr>\n",
       "      <th>1</th>\n",
       "      <td>1</td>\n",
       "      <td>85.000</td>\n",
       "      <td>66.000</td>\n",
       "      <td>29.000</td>\n",
       "      <td>125.000</td>\n",
       "      <td>26.600</td>\n",
       "      <td>0.351</td>\n",
       "      <td>31</td>\n",
       "      <td>0</td>\n",
       "      <td>0.680</td>\n",
       "    </tr>\n",
       "    <tr>\n",
       "      <th>2</th>\n",
       "      <td>8</td>\n",
       "      <td>183.000</td>\n",
       "      <td>64.000</td>\n",
       "      <td>29.000</td>\n",
       "      <td>125.000</td>\n",
       "      <td>23.300</td>\n",
       "      <td>0.672</td>\n",
       "      <td>32</td>\n",
       "      <td>1</td>\n",
       "      <td>1.464</td>\n",
       "    </tr>\n",
       "    <tr>\n",
       "      <th>3</th>\n",
       "      <td>1</td>\n",
       "      <td>89.000</td>\n",
       "      <td>66.000</td>\n",
       "      <td>23.000</td>\n",
       "      <td>94.000</td>\n",
       "      <td>28.100</td>\n",
       "      <td>0.167</td>\n",
       "      <td>21</td>\n",
       "      <td>0</td>\n",
       "      <td>0.947</td>\n",
       "    </tr>\n",
       "    <tr>\n",
       "      <th>4</th>\n",
       "      <td>0</td>\n",
       "      <td>137.000</td>\n",
       "      <td>40.000</td>\n",
       "      <td>35.000</td>\n",
       "      <td>168.000</td>\n",
       "      <td>43.100</td>\n",
       "      <td>2.288</td>\n",
       "      <td>33</td>\n",
       "      <td>1</td>\n",
       "      <td>0.815</td>\n",
       "    </tr>\n",
       "  </tbody>\n",
       "</table>\n",
       "</div>"
      ],
      "text/plain": [
       "   preg  pg_conc  diastolic_bp   skin  serum_insulin    bmi  diabetes_pf  age  \\\n",
       "0     6  148.000        72.000 35.000        125.000 33.600        0.627   50   \n",
       "1     1   85.000        66.000 29.000        125.000 26.600        0.351   31   \n",
       "2     8  183.000        64.000 29.000        125.000 23.300        0.672   32   \n",
       "3     1   89.000        66.000 23.000         94.000 28.100        0.167   21   \n",
       "4     0  137.000        40.000 35.000        168.000 43.100        2.288   33   \n",
       "\n",
       "   class  ratio  \n",
       "0      1  1.184  \n",
       "1      0  0.680  \n",
       "2      1  1.464  \n",
       "3      0  0.947  \n",
       "4      1  0.815  "
      ]
     },
     "execution_count": 258,
     "metadata": {},
     "output_type": "execute_result"
    }
   ],
   "source": [
    "# check that I've imported the data correctly\n",
    "data_fengineered.head()"
   ]
  },
  {
   "cell_type": "code",
   "execution_count": 259,
   "metadata": {
    "collapsed": false
   },
   "outputs": [
    {
     "data": {
      "text/plain": [
       "(752, 10)"
      ]
     },
     "execution_count": 259,
     "metadata": {},
     "output_type": "execute_result"
    }
   ],
   "source": [
    "# check that it's all there\n",
    "data_fengineered.shape"
   ]
  },
  {
   "cell_type": "code",
   "execution_count": 260,
   "metadata": {
    "collapsed": false
   },
   "outputs": [
    {
     "name": "stdout",
     "output_type": "stream",
     "text": [
      "<class 'pandas.core.frame.DataFrame'>\n",
      "Int64Index: 752 entries, 0 to 751\n",
      "Data columns (total 10 columns):\n",
      "preg             752 non-null int64\n",
      "pg_conc          752 non-null float64\n",
      "diastolic_bp     752 non-null float64\n",
      "skin             752 non-null float64\n",
      "serum_insulin    752 non-null float64\n",
      "bmi              752 non-null float64\n",
      "diabetes_pf      752 non-null float64\n",
      "age              752 non-null int64\n",
      "class            752 non-null int64\n",
      "ratio            752 non-null float64\n",
      "dtypes: float64(7), int64(3)\n",
      "memory usage: 64.6 KB\n"
     ]
    }
   ],
   "source": [
    "data_fengineered.info()"
   ]
  },
  {
   "cell_type": "markdown",
   "metadata": {},
   "source": [
    "### REMINDER: Data Dictionary (describes the features):\n",
    "[reference](https://archive.ics.uci.edu/ml/datasets/Pima+Indians+Diabetes)\n",
    "<table>\n",
    "    <tr>\n",
    "        <td>**Field Name**</td>\n",
    "        <td>**Type**</td>\n",
    "        <td>**Description**</td>\n",
    "    </tr>\n",
    "    <tr>\n",
    "        <td>preg</td>\n",
    "        <td>integer</td>\n",
    "        <td>Number of times pregnant</td>\n",
    "    </tr>\n",
    "    <tr>\n",
    "        <td>pg_conc</td>\n",
    "        <td>integer</td>\n",
    "        <td>Plasma glucose concentration a[t] 2 hours in an oral glucose tolerance test\n",
    "        <br>(units not given, but maybe mg/dL)</td>\n",
    "    </tr>\n",
    "    <tr>\n",
    "        <td>diastolic_bp</td>\n",
    "        <td>integer</td>\n",
    "        <td>Diastolic blood pressure (mm Hg)</td>\n",
    "    </tr>\n",
    "    <tr>\n",
    "        <td>skin</td>\n",
    "        <td>integer</td>\n",
    "        <td>Triceps skin fold thickness (mm)</td>\n",
    "    </tr>\n",
    "    <tr>\n",
    "        <td>serum_insulin</td>\n",
    "        <td>integer</td>\n",
    "        <td>2-Hour serum insulin (mu U/ml)</td>\n",
    "    </tr>\n",
    "    <tr>\n",
    "        <td>bmi</td>\n",
    "        <td>float</td>\n",
    "        <td>Body mass index (weight in kg/(height in m)^2)</td>\n",
    "    </tr>\n",
    "    <tr>\n",
    "        <td>diabetes_pf</td>\n",
    "        <td>float</td>\n",
    "        <td>Diabetes pedigree function</td>\n",
    "    </tr>\n",
    "    <tr>\n",
    "        <td>age</td>\n",
    "        <td>integer</td>\n",
    "        <td>Age (years)</td>\n",
    "    </tr>\n",
    "    <tr>\n",
    "        <td>class</td>\n",
    "        <td>integer (0 or 1)</td>\n",
    "        <td>Class variable (0 to signify no diabetes or 1 to signify diabetes)</td>\n",
    "    </tr>\n",
    "    <tr>\n",
    "        <td>ratio</td>\n",
    "        <td>float</td>\n",
    "        <td>New feature I created, tested in one of the dataframes (datar):  pg_conc/serum_insulin\n",
    "        <br>Ratio of plasma glucose in blood after two hour test to serum insulin after two hour test\n",
    "        <br>(see end of Heading 3 for creation)</br>\n",
    "        </td>\n",
    "    </tr>\n",
    "</table>\n",
    "        \n",
    "        \n",
    "\n",
    "\n"
   ]
  },
  {
   "cell_type": "code",
   "execution_count": 261,
   "metadata": {
    "collapsed": true
   },
   "outputs": [],
   "source": [
    "# convert class feature to categorical \n",
    "data_imputed['class'] = pd.Categorical(data_imputed['class'])\n",
    "data_fengineered['class'] = pd.Categorical(data_fengineered['class'])\n",
    "data_dropped['class'] = pd.Categorical(data_dropped['class'])"
   ]
  },
  {
   "cell_type": "code",
   "execution_count": 262,
   "metadata": {
    "collapsed": true
   },
   "outputs": [],
   "source": [
    "# Assign data to X and y (3x for each dataset I wish to test)\n",
    "y1 = data_imputed['class']\n",
    "y2 = data_fengineered['class']\n",
    "y3 = data_dropped['class']\n",
    "\n",
    "X1 = data_imputed.drop('class', axis=1)\n",
    "X2 = data_fengineered.drop('class', axis=1)\n",
    "X3 = data_dropped.drop('class', axis=1)"
   ]
  },
  {
   "cell_type": "code",
   "execution_count": 263,
   "metadata": {
    "collapsed": true
   },
   "outputs": [],
   "source": [
    "# break up the data into test and training sets:\n",
    "from sklearn.cross_validation import train_test_split\n",
    "X_train1, X_test1, y_train1, y_test1 = train_test_split(X1, y1, test_size=0.2, random_state=1)\n",
    "X_train2, X_test2, y_train2, y_test2 = train_test_split(X2, y2, test_size=0.2, random_state=1)\n",
    "X_train3, X_test3, y_train3, y_test3 = train_test_split(X3, y3, test_size=0.2, random_state=1)"
   ]
  },
  {
   "cell_type": "code",
   "execution_count": 264,
   "metadata": {
    "collapsed": true
   },
   "outputs": [],
   "source": [
    "# 20% test / 80% train / 10 cross validation iterations \n",
    "from sklearn.cross_validation import ShuffleSplit\n",
    "cv1 = ShuffleSplit(X_train1.shape[0], n_iter=10, test_size=0.2, random_state=0)\n",
    "cv2 = ShuffleSplit(X_train2.shape[0], n_iter=10, test_size=0.2, random_state=0)\n",
    "cv3 = ShuffleSplit(X_train3.shape[0], n_iter=10, test_size=0.2, random_state=0)"
   ]
  },
  {
   "cell_type": "code",
   "execution_count": 265,
   "metadata": {
    "collapsed": true
   },
   "outputs": [],
   "source": [
    "from sklearn.preprocessing import StandardScaler\n",
    "# standardize training features\n",
    "scale = StandardScaler()\n",
    "X_train_std1 = scale.fit_transform(X_train1)\n",
    "# standardize the testing features in the same way - needed?\n",
    "X_test_std1 = scale.fit_transform(X_test1)\n",
    "\n",
    "X_train_std2 = scale.fit_transform(X_train2)\n",
    "X_test_std2 = scale.fit_transform(X_test2)\n",
    "\n",
    "X_train_std3 = scale.fit_transform(X_train3)\n",
    "X_test_std3 = scale.fit_transform(X_test3)"
   ]
  },
  {
   "cell_type": "code",
   "execution_count": 266,
   "metadata": {
    "collapsed": false
   },
   "outputs": [
    {
     "data": {
      "image/png": "[encoded data removed]",
      "text/plain": [
       "<matplotlib.figure.Figure at 0x10d991190>"
      ]
     },
     "metadata": {},
     "output_type": "display_data"
    }
   ],
   "source": [
    "from sklearn.cluster import KMeans\n",
    "\n",
    "# look at inertia plot (how close together are the points in the clusters) -- data_imputed\n",
    "x = []\n",
    "y = []\n",
    "for n in range(1,20):\n",
    "    km11 = KMeans(n_clusters=n)\n",
    "    km11.fit(X_train_std1)\n",
    "    x.append(n)\n",
    "    y.append(km11.inertia_)\n",
    "plt.plot(x, y);"
   ]
  },
  {
   "cell_type": "code",
   "execution_count": 267,
   "metadata": {
    "collapsed": false
   },
   "outputs": [
    {
     "data": {
      "image/png": "[encoded data removed]",
      "text/plain": [
       "<matplotlib.figure.Figure at 0x10bcacb90>"
      ]
     },
     "metadata": {},
     "output_type": "display_data"
    }
   ],
   "source": [
    "from sklearn.metrics import silhouette_score\n",
    "\n",
    "# look at silhouette plot (density and separation of each cluster) -- data_imputed\n",
    "x = []\n",
    "y = []\n",
    "for n in range(2,20):\n",
    "    km11 = KMeans(n_clusters=n)\n",
    "    centers = km11.fit_predict(X_train_std1)\n",
    "    x.append(n)\n",
    "    y.append(silhouette_score(X_train_std1, centers))\n",
    "plt.plot(x, y);"
   ]
  },
  {
   "cell_type": "code",
   "execution_count": 268,
   "metadata": {
    "collapsed": false
   },
   "outputs": [
    {
     "name": "stdout",
     "output_type": "stream",
     "text": [
      "10 loops, best of 3: 118 ms per loop\n"
     ]
    }
   ],
   "source": [
    "%%timeit\n",
    "# I'm going to choose k=8\n",
    "km1 = KMeans(n_clusters=8, n_init=20)\n",
    "cluster_labels1 = km1.fit_predict(X_train_std1)"
   ]
  },
  {
   "cell_type": "code",
   "execution_count": 269,
   "metadata": {
    "collapsed": true
   },
   "outputs": [],
   "source": [
    "km1 = KMeans(n_clusters=8, n_init=20)\n",
    "cluster_labels1 = km1.fit_predict(X_train_std1)"
   ]
  },
  {
   "cell_type": "code",
   "execution_count": 270,
   "metadata": {
    "collapsed": false
   },
   "outputs": [
    {
     "name": "stdout",
     "output_type": "stream",
     "text": [
      "DATA_IMPUTED:\n",
      "Inertia score: 2422.97815686 \n",
      "Silhouette score: 0.143477347606\n"
     ]
    }
   ],
   "source": [
    "print 'DATA_IMPUTED:\\nInertia score: {} \\nSilhouette score: {}'.format(km1.inertia_, silhouette_score(X_train_std1, cluster_labels1))"
   ]
  },
  {
   "cell_type": "code",
   "execution_count": 271,
   "metadata": {
    "collapsed": false
   },
   "outputs": [
    {
     "data": {
      "image/png": "[encoded data removed]",
      "text/plain": [
       "<matplotlib.figure.Figure at 0x10d801f10>"
      ]
     },
     "metadata": {},
     "output_type": "display_data"
    }
   ],
   "source": [
    "# look at inertia plot (how close together are the points in the clusters) -- data_fengineered\n",
    "x = []\n",
    "y = []\n",
    "for n in range(1,20):\n",
    "    km22 = KMeans(n_clusters=n)\n",
    "    km22.fit(X_train_std2)\n",
    "    x.append(n)\n",
    "    y.append(km22.inertia_)\n",
    "plt.plot(x, y);"
   ]
  },
  {
   "cell_type": "code",
   "execution_count": 272,
   "metadata": {
    "collapsed": false
   },
   "outputs": [
    {
     "data": {
      "image/png": "[encoded data removed]",
      "text/plain": [
       "<matplotlib.figure.Figure at 0x10e5c3a90>"
      ]
     },
     "metadata": {},
     "output_type": "display_data"
    }
   ],
   "source": [
    "from sklearn.metrics import silhouette_score\n",
    "\n",
    "# look at silhouette plot (density and separation of each cluster) -- data_fengineered\n",
    "x = []\n",
    "y = []\n",
    "for n in range(2,20):\n",
    "    km22 = KMeans(n_clusters=n)\n",
    "    centers = km22.fit_predict(X_train_std2)\n",
    "    x.append(n)\n",
    "    y.append(silhouette_score(X_train_std2, centers))\n",
    "plt.plot(x, y);"
   ]
  },
  {
   "cell_type": "code",
   "execution_count": 273,
   "metadata": {
    "collapsed": false
   },
   "outputs": [
    {
     "name": "stdout",
     "output_type": "stream",
     "text": [
      "10 loops, best of 3: 115 ms per loop\n"
     ]
    }
   ],
   "source": [
    "%%timeit\n",
    "# I'm going to choose k=8\n",
    "km2 = KMeans(n_clusters=8, n_init=20)\n",
    "cluster_labels2 = km2.fit_predict(X_train_std2)"
   ]
  },
  {
   "cell_type": "code",
   "execution_count": 274,
   "metadata": {
    "collapsed": true
   },
   "outputs": [],
   "source": [
    "km2 = KMeans(n_clusters=8, n_init=20)\n",
    "cluster_labels2 = km2.fit_predict(X_train_std2)"
   ]
  },
  {
   "cell_type": "code",
   "execution_count": 275,
   "metadata": {
    "collapsed": false
   },
   "outputs": [
    {
     "name": "stdout",
     "output_type": "stream",
     "text": [
      "DATA_FENGINEERED:\n",
      "Inertia score: 2763.42249348 \n",
      "Silhouette score: 0.12987366144\n"
     ]
    }
   ],
   "source": [
    "print 'DATA_FENGINEERED:\\nInertia score: {} \\nSilhouette score: {}'.format(km2.inertia_, silhouette_score(X_train_std2, cluster_labels1))"
   ]
  },
  {
   "cell_type": "code",
   "execution_count": 276,
   "metadata": {
    "collapsed": false
   },
   "outputs": [
    {
     "data": {
      "image/png": "[encoded data removed]",
      "text/plain": [
       "<matplotlib.figure.Figure at 0x10ceb5190>"
      ]
     },
     "metadata": {},
     "output_type": "display_data"
    }
   ],
   "source": [
    "# look at inertia plot (how close together are the points in the clusters) -- data_dropped\n",
    "x = []\n",
    "y = []\n",
    "for n in range(1,20):\n",
    "    km33 = KMeans(n_clusters=n)\n",
    "    km33.fit(X_train_std3)\n",
    "    x.append(n)\n",
    "    y.append(km33.inertia_)\n",
    "plt.plot(x, y);"
   ]
  },
  {
   "cell_type": "code",
   "execution_count": 277,
   "metadata": {
    "collapsed": false
   },
   "outputs": [
    {
     "data": {
      "image/png": "[encoded data removed]",
      "text/plain": [
       "<matplotlib.figure.Figure at 0x10e5c3c90>"
      ]
     },
     "metadata": {},
     "output_type": "display_data"
    }
   ],
   "source": [
    "# look at silhouette plot (density and separation of each cluster) -- data_dropped\n",
    "x = []\n",
    "y = []\n",
    "for n in range(2,20):\n",
    "    km33 = KMeans(n_clusters=n)\n",
    "    centers = km33.fit_predict(X_train_std3)\n",
    "    x.append(n)\n",
    "    y.append(silhouette_score(X_train_std3, centers))\n",
    "plt.plot(x, y);"
   ]
  },
  {
   "cell_type": "code",
   "execution_count": 278,
   "metadata": {
    "collapsed": false
   },
   "outputs": [
    {
     "name": "stdout",
     "output_type": "stream",
     "text": [
      "1 loops, best of 3: 186 ms per loop\n"
     ]
    }
   ],
   "source": [
    "%%timeit\n",
    "# I'm going to choose k=6\n",
    "km3 = KMeans(n_clusters=6, n_init=20)\n",
    "cluster_labels3 = km3.fit_predict(X_train_std3)"
   ]
  },
  {
   "cell_type": "code",
   "execution_count": 279,
   "metadata": {
    "collapsed": true
   },
   "outputs": [],
   "source": [
    "km3 = KMeans(n_clusters=6, n_init=20)\n",
    "cluster_labels3 = km3.fit_predict(X_train_std3)"
   ]
  },
  {
   "cell_type": "code",
   "execution_count": 280,
   "metadata": {
    "collapsed": false
   },
   "outputs": [
    {
     "name": "stdout",
     "output_type": "stream",
     "text": [
      "DATA_DROPPED:\n",
      "Inertia score: 2290.3527396 \n",
      "Silhouette score: 0.137652896944\n"
     ]
    }
   ],
   "source": [
    "print 'DATA_DROPPED:\\nInertia score: {} \\nSilhouette score: {}'.format(km3.inertia_, silhouette_score(X_train_std3, cluster_labels1))"
   ]
  },
  {
   "cell_type": "code",
   "execution_count": 281,
   "metadata": {
    "collapsed": false
   },
   "outputs": [
    {
     "data": {
      "text/html": [
       "<div>\n",
       "<table border=\"1\" class=\"dataframe\">\n",
       "  <thead>\n",
       "    <tr style=\"text-align: right;\">\n",
       "      <th></th>\n",
       "      <th>0</th>\n",
       "      <th>1</th>\n",
       "      <th>2</th>\n",
       "      <th>3</th>\n",
       "      <th>4</th>\n",
       "      <th>5</th>\n",
       "    </tr>\n",
       "  </thead>\n",
       "  <tbody>\n",
       "    <tr>\n",
       "      <th>preg</th>\n",
       "      <td>2.007</td>\n",
       "      <td>4.913</td>\n",
       "      <td>7.890</td>\n",
       "      <td>1.935</td>\n",
       "      <td>3.659</td>\n",
       "      <td>1.769</td>\n",
       "    </tr>\n",
       "    <tr>\n",
       "      <th>pg_conc</th>\n",
       "      <td>117.426</td>\n",
       "      <td>153.818</td>\n",
       "      <td>108.223</td>\n",
       "      <td>101.710</td>\n",
       "      <td>138.258</td>\n",
       "      <td>137.864</td>\n",
       "    </tr>\n",
       "    <tr>\n",
       "      <th>diastolic_bp</th>\n",
       "      <td>70.510</td>\n",
       "      <td>79.757</td>\n",
       "      <td>76.306</td>\n",
       "      <td>64.947</td>\n",
       "      <td>74.735</td>\n",
       "      <td>84.527</td>\n",
       "    </tr>\n",
       "    <tr>\n",
       "      <th>skin</th>\n",
       "      <td>31.663</td>\n",
       "      <td>27.907</td>\n",
       "      <td>31.882</td>\n",
       "      <td>19.757</td>\n",
       "      <td>34.421</td>\n",
       "      <td>41.963</td>\n",
       "    </tr>\n",
       "    <tr>\n",
       "      <th>bmi</th>\n",
       "      <td>33.097</td>\n",
       "      <td>30.172</td>\n",
       "      <td>32.056</td>\n",
       "      <td>25.310</td>\n",
       "      <td>35.045</td>\n",
       "      <td>41.944</td>\n",
       "    </tr>\n",
       "    <tr>\n",
       "      <th>diabetes_pf</th>\n",
       "      <td>0.375</td>\n",
       "      <td>0.391</td>\n",
       "      <td>0.392</td>\n",
       "      <td>0.409</td>\n",
       "      <td>1.169</td>\n",
       "      <td>0.429</td>\n",
       "    </tr>\n",
       "    <tr>\n",
       "      <th>age</th>\n",
       "      <td>26.324</td>\n",
       "      <td>47.424</td>\n",
       "      <td>40.958</td>\n",
       "      <td>24.739</td>\n",
       "      <td>33.223</td>\n",
       "      <td>27.817</td>\n",
       "    </tr>\n",
       "  </tbody>\n",
       "</table>\n",
       "</div>"
      ],
      "text/plain": [
       "                   0       1       2       3       4       5\n",
       "preg           2.007   4.913   7.890   1.935   3.659   1.769\n",
       "pg_conc      117.426 153.818 108.223 101.710 138.258 137.864\n",
       "diastolic_bp  70.510  79.757  76.306  64.947  74.735  84.527\n",
       "skin          31.663  27.907  31.882  19.757  34.421  41.963\n",
       "bmi           33.097  30.172  32.056  25.310  35.045  41.944\n",
       "diabetes_pf    0.375   0.391   0.392   0.409   1.169   0.429\n",
       "age           26.324  47.424  40.958  24.739  33.223  27.817"
      ]
     },
     "execution_count": 281,
     "metadata": {},
     "output_type": "execute_result"
    }
   ],
   "source": [
    "# check cluster centers for each cluster\n",
    "pd.set_option('display.float_format', lambda x: '%.3f' % x)\n",
    "columns = {str(x): scale.inverse_transform(km3.cluster_centers_[x]) for x in range(0,len(km3.cluster_centers_))}\n",
    "pd.DataFrame(columns, index=X_train3.columns)"
   ]
  },
  {
   "cell_type": "code",
   "execution_count": 282,
   "metadata": {
    "collapsed": false
   },
   "outputs": [
    {
     "data": {
      "text/html": [
       "<div>\n",
       "<table border=\"1\" class=\"dataframe\">\n",
       "  <thead>\n",
       "    <tr style=\"text-align: right;\">\n",
       "      <th></th>\n",
       "      <th>preg</th>\n",
       "      <th>pg_conc</th>\n",
       "      <th>diastolic_bp</th>\n",
       "      <th>skin</th>\n",
       "      <th>bmi</th>\n",
       "      <th>diabetes_pf</th>\n",
       "      <th>age</th>\n",
       "    </tr>\n",
       "  </thead>\n",
       "  <tbody>\n",
       "    <tr>\n",
       "      <th>count</th>\n",
       "      <td>601.000</td>\n",
       "      <td>601.000</td>\n",
       "      <td>601.000</td>\n",
       "      <td>601.000</td>\n",
       "      <td>601.000</td>\n",
       "      <td>601.000</td>\n",
       "      <td>601.000</td>\n",
       "    </tr>\n",
       "    <tr>\n",
       "      <th>mean</th>\n",
       "      <td>3.923</td>\n",
       "      <td>121.963</td>\n",
       "      <td>72.153</td>\n",
       "      <td>29.043</td>\n",
       "      <td>32.674</td>\n",
       "      <td>0.473</td>\n",
       "      <td>33.507</td>\n",
       "    </tr>\n",
       "    <tr>\n",
       "      <th>std</th>\n",
       "      <td>3.459</td>\n",
       "      <td>30.677</td>\n",
       "      <td>12.110</td>\n",
       "      <td>8.602</td>\n",
       "      <td>6.937</td>\n",
       "      <td>0.330</td>\n",
       "      <td>11.891</td>\n",
       "    </tr>\n",
       "    <tr>\n",
       "      <th>min</th>\n",
       "      <td>0.000</td>\n",
       "      <td>57.000</td>\n",
       "      <td>24.000</td>\n",
       "      <td>7.000</td>\n",
       "      <td>18.200</td>\n",
       "      <td>0.078</td>\n",
       "      <td>21.000</td>\n",
       "    </tr>\n",
       "    <tr>\n",
       "      <th>25%</th>\n",
       "      <td>1.000</td>\n",
       "      <td>100.000</td>\n",
       "      <td>64.000</td>\n",
       "      <td>25.000</td>\n",
       "      <td>27.600</td>\n",
       "      <td>0.245</td>\n",
       "      <td>24.000</td>\n",
       "    </tr>\n",
       "    <tr>\n",
       "      <th>50%</th>\n",
       "      <td>3.000</td>\n",
       "      <td>117.000</td>\n",
       "      <td>72.000</td>\n",
       "      <td>29.000</td>\n",
       "      <td>32.400</td>\n",
       "      <td>0.380</td>\n",
       "      <td>29.000</td>\n",
       "    </tr>\n",
       "    <tr>\n",
       "      <th>75%</th>\n",
       "      <td>6.000</td>\n",
       "      <td>141.000</td>\n",
       "      <td>80.000</td>\n",
       "      <td>32.000</td>\n",
       "      <td>36.900</td>\n",
       "      <td>0.629</td>\n",
       "      <td>41.000</td>\n",
       "    </tr>\n",
       "    <tr>\n",
       "      <th>max</th>\n",
       "      <td>17.000</td>\n",
       "      <td>198.000</td>\n",
       "      <td>114.000</td>\n",
       "      <td>63.000</td>\n",
       "      <td>67.100</td>\n",
       "      <td>2.420</td>\n",
       "      <td>81.000</td>\n",
       "    </tr>\n",
       "  </tbody>\n",
       "</table>\n",
       "</div>"
      ],
      "text/plain": [
       "         preg  pg_conc  diastolic_bp    skin     bmi  diabetes_pf     age\n",
       "count 601.000  601.000       601.000 601.000 601.000      601.000 601.000\n",
       "mean    3.923  121.963        72.153  29.043  32.674        0.473  33.507\n",
       "std     3.459   30.677        12.110   8.602   6.937        0.330  11.891\n",
       "min     0.000   57.000        24.000   7.000  18.200        0.078  21.000\n",
       "25%     1.000  100.000        64.000  25.000  27.600        0.245  24.000\n",
       "50%     3.000  117.000        72.000  29.000  32.400        0.380  29.000\n",
       "75%     6.000  141.000        80.000  32.000  36.900        0.629  41.000\n",
       "max    17.000  198.000       114.000  63.000  67.100        2.420  81.000"
      ]
     },
     "execution_count": 282,
     "metadata": {},
     "output_type": "execute_result"
    }
   ],
   "source": [
    "# check stats for each feature for comparison\n",
    "X_train3.describe()"
   ]
  },
  {
   "cell_type": "code",
   "execution_count": 465,
   "metadata": {
    "collapsed": false
   },
   "outputs": [
    {
     "data": {
      "text/html": [
       "<div>\n",
       "<table border=\"1\" class=\"dataframe\">\n",
       "  <thead>\n",
       "    <tr style=\"text-align: right;\">\n",
       "      <th></th>\n",
       "      <th>0</th>\n",
       "      <th>1</th>\n",
       "    </tr>\n",
       "  </thead>\n",
       "  <tbody>\n",
       "    <tr>\n",
       "      <th>0</th>\n",
       "      <td>0</td>\n",
       "      <td>3</td>\n",
       "    </tr>\n",
       "    <tr>\n",
       "      <th>1</th>\n",
       "      <td>1</td>\n",
       "      <td>5</td>\n",
       "    </tr>\n",
       "    <tr>\n",
       "      <th>2</th>\n",
       "      <td>0</td>\n",
       "      <td>0</td>\n",
       "    </tr>\n",
       "    <tr>\n",
       "      <th>3</th>\n",
       "      <td>0</td>\n",
       "      <td>1</td>\n",
       "    </tr>\n",
       "    <tr>\n",
       "      <th>4</th>\n",
       "      <td>0</td>\n",
       "      <td>2</td>\n",
       "    </tr>\n",
       "  </tbody>\n",
       "</table>\n",
       "</div>"
      ],
      "text/plain": [
       "   0  1\n",
       "0  0  3\n",
       "1  1  5\n",
       "2  0  0\n",
       "3  0  1\n",
       "4  0  2"
      ]
     },
     "execution_count": 465,
     "metadata": {},
     "output_type": "execute_result"
    }
   ],
   "source": [
    "# Check cluster sizes\n",
    "cluster_sizes = pd.DataFrame(data=[y_train3, cluster_labels3])\n",
    "cluster_sizes.head()"
   ]
  },
  {
   "cell_type": "code",
   "execution_count": 468,
   "metadata": {
    "collapsed": true
   },
   "outputs": [],
   "source": [
    "cluster_sizes = cluster_sizes.rename(columns=({ 0 : 'class', 1: 'cluster'}))"
   ]
  },
  {
   "cell_type": "code",
   "execution_count": 469,
   "metadata": {
    "collapsed": false
   },
   "outputs": [
    {
     "data": {
      "text/html": [
       "<div>\n",
       "<table border=\"1\" class=\"dataframe\">\n",
       "  <thead>\n",
       "    <tr style=\"text-align: right;\">\n",
       "      <th></th>\n",
       "      <th>class</th>\n",
       "      <th>cluster</th>\n",
       "    </tr>\n",
       "  </thead>\n",
       "  <tbody>\n",
       "    <tr>\n",
       "      <th>0</th>\n",
       "      <td>0</td>\n",
       "      <td>3</td>\n",
       "    </tr>\n",
       "    <tr>\n",
       "      <th>1</th>\n",
       "      <td>1</td>\n",
       "      <td>5</td>\n",
       "    </tr>\n",
       "    <tr>\n",
       "      <th>2</th>\n",
       "      <td>0</td>\n",
       "      <td>0</td>\n",
       "    </tr>\n",
       "    <tr>\n",
       "      <th>3</th>\n",
       "      <td>0</td>\n",
       "      <td>1</td>\n",
       "    </tr>\n",
       "    <tr>\n",
       "      <th>4</th>\n",
       "      <td>0</td>\n",
       "      <td>2</td>\n",
       "    </tr>\n",
       "  </tbody>\n",
       "</table>\n",
       "</div>"
      ],
      "text/plain": [
       "  class  cluster\n",
       "0     0        3\n",
       "1     1        5\n",
       "2     0        0\n",
       "3     0        1\n",
       "4     0        2"
      ]
     },
     "execution_count": 469,
     "metadata": {},
     "output_type": "execute_result"
    }
   ],
   "source": [
    "cluster_sizes.head()"
   ]
  },
  {
   "cell_type": "code",
   "execution_count": 508,
   "metadata": {
    "collapsed": false
   },
   "outputs": [
    {
     "data": {
      "text/plain": [
       "cluster\n",
       "0   0.283\n",
       "1   0.615\n",
       "2   0.394\n",
       "3   0.048\n",
       "4   0.661\n",
       "5   0.536\n",
       "Name: class, dtype: float64"
      ]
     },
     "execution_count": 508,
     "metadata": {},
     "output_type": "execute_result"
    }
   ],
   "source": [
    "# view percentages of which clusters get diagnosed with diabetes more than others\n",
    "cluster_sizes['class'] = cluster_sizes['class'].astype(int)\n",
    "diabetes = cluster_sizes.groupby(['cluster'])['class'].mean()\n",
    "diabetes"
   ]
  },
  {
   "cell_type": "code",
   "execution_count": 509,
   "metadata": {
    "collapsed": false
   },
   "outputs": [
    {
     "data": {
      "text/html": [
       "<div>\n",
       "<table border=\"1\" class=\"dataframe\">\n",
       "  <thead>\n",
       "    <tr style=\"text-align: right;\">\n",
       "      <th>cluster</th>\n",
       "      <th>0</th>\n",
       "      <th>1</th>\n",
       "      <th>2</th>\n",
       "      <th>3</th>\n",
       "      <th>4</th>\n",
       "      <th>5</th>\n",
       "    </tr>\n",
       "  </thead>\n",
       "  <tbody>\n",
       "    <tr>\n",
       "      <th>class</th>\n",
       "      <td>0.283</td>\n",
       "      <td>0.615</td>\n",
       "      <td>0.394</td>\n",
       "      <td>0.048</td>\n",
       "      <td>0.661</td>\n",
       "      <td>0.536</td>\n",
       "    </tr>\n",
       "  </tbody>\n",
       "</table>\n",
       "</div>"
      ],
      "text/plain": [
       "cluster     0     1     2     3     4     5\n",
       "class   0.283 0.615 0.394 0.048 0.661 0.536"
      ]
     },
     "execution_count": 509,
     "metadata": {},
     "output_type": "execute_result"
    }
   ],
   "source": [
    "diabetes = pd.DataFrame(data=[cluster_sizes.groupby(['cluster'])['class'].mean()])\n",
    "diabetes.head()"
   ]
  },
  {
   "cell_type": "code",
   "execution_count": 517,
   "metadata": {
    "collapsed": false
   },
   "outputs": [
    {
     "data": {
      "text/html": [
       "<div>\n",
       "<table border=\"1\" class=\"dataframe\">\n",
       "  <thead>\n",
       "    <tr style=\"text-align: right;\">\n",
       "      <th>cluster</th>\n",
       "      <th>Young, Healthy, and Curvy</th>\n",
       "      <th>Life-Experienced Ladies in Need of Zen</th>\n",
       "      <th>Borderline-Healthy Many-Time Mothers</th>\n",
       "      <th>Carefree, Stick-Thin Twenty-Somesomethings</th>\n",
       "      <th>Early-Thirties in Need of Lifestyle Change</th>\n",
       "      <th>Plus-Sized, Stressed, and Possibly Single</th>\n",
       "    </tr>\n",
       "  </thead>\n",
       "  <tbody>\n",
       "    <tr>\n",
       "      <th>class</th>\n",
       "      <td>0.283</td>\n",
       "      <td>0.615</td>\n",
       "      <td>0.394</td>\n",
       "      <td>0.048</td>\n",
       "      <td>0.661</td>\n",
       "      <td>0.536</td>\n",
       "    </tr>\n",
       "  </tbody>\n",
       "</table>\n",
       "</div>"
      ],
      "text/plain": [
       "cluster  Young, Healthy, and Curvy  Life-Experienced Ladies in Need of Zen  \\\n",
       "class                        0.283                                   0.615   \n",
       "\n",
       "cluster  Borderline-Healthy Many-Time Mothers  \\\n",
       "class                                   0.394   \n",
       "\n",
       "cluster  Carefree, Stick-Thin Twenty-Somesomethings  \\\n",
       "class                                         0.048   \n",
       "\n",
       "cluster  Early-Thirties in Need of Lifestyle Change  \\\n",
       "class                                         0.661   \n",
       "\n",
       "cluster  Plus-Sized, Stressed, and Possibly Single  \n",
       "class                                        0.536  "
      ]
     },
     "execution_count": 517,
     "metadata": {},
     "output_type": "execute_result"
    }
   ],
   "source": [
    "# Assign names/categories to each custer according to distinguishing characteristics\n",
    "diabetes = diabetes.rename(columns=({ 0 : 'Young, Healthy, and Curvy', 1: 'Life-Experienced Ladies in Need of Zen',\n",
    "                                               2 : 'Borderline-Healthy Many-Time Mothers', 3: 'Carefree, Stick-Thin Twenty-Somesomethings',\n",
    "                                              4 : 'Early-Thirties in Need of Lifestyle Change', 5: 'Plus-Sized, Stressed, and Possibly Single'}))\n",
    "diabetes.head()"
   ]
  },
  {
   "cell_type": "code",
   "execution_count": 511,
   "metadata": {
    "collapsed": false
   },
   "outputs": [
    {
     "data": {
      "image/png": "[encoded data removed]",
      "text/plain": [
       "<matplotlib.figure.Figure at 0x10e820110>"
      ]
     },
     "metadata": {},
     "output_type": "display_data"
    }
   ],
   "source": [
    "plt.title('Diabetes Diagnosis Rate by Cluster')\n",
    "sns.barplot(data=diabetes, ci=None, orient='h', order=diabetes.columns);"
   ]
  },
  {
   "cell_type": "code",
   "execution_count": 470,
   "metadata": {
    "collapsed": false
   },
   "outputs": [
    {
     "data": {
      "text/plain": [
       "3    146\n",
       "0    145\n",
       "2     99\n",
       "1     96\n",
       "4     59\n",
       "5     56\n",
       "Name: cluster, dtype: int64"
      ]
     },
     "execution_count": 470,
     "metadata": {},
     "output_type": "execute_result"
    }
   ],
   "source": [
    "cluster_sizes['cluster'].value_counts()"
   ]
  },
  {
   "cell_type": "code",
   "execution_count": 472,
   "metadata": {
    "collapsed": false
   },
   "outputs": [
    {
     "data": {
      "text/html": [
       "<div>\n",
       "<table border=\"1\" class=\"dataframe\">\n",
       "  <thead>\n",
       "    <tr style=\"text-align: right;\">\n",
       "      <th></th>\n",
       "      <th>3</th>\n",
       "      <th>0</th>\n",
       "      <th>2</th>\n",
       "      <th>1</th>\n",
       "      <th>4</th>\n",
       "      <th>5</th>\n",
       "    </tr>\n",
       "  </thead>\n",
       "  <tbody>\n",
       "    <tr>\n",
       "      <th>cluster</th>\n",
       "      <td>146</td>\n",
       "      <td>145</td>\n",
       "      <td>99</td>\n",
       "      <td>96</td>\n",
       "      <td>59</td>\n",
       "      <td>56</td>\n",
       "    </tr>\n",
       "  </tbody>\n",
       "</table>\n",
       "</div>"
      ],
      "text/plain": [
       "           3    0   2   1   4   5\n",
       "cluster  146  145  99  96  59  56"
      ]
     },
     "execution_count": 472,
     "metadata": {},
     "output_type": "execute_result"
    }
   ],
   "source": [
    "cluster_names = pd.DataFrame(data=[cluster_sizes['cluster'].value_counts()])\n",
    "cluster_names.head()"
   ]
  },
  {
   "cell_type": "code",
   "execution_count": 502,
   "metadata": {
    "collapsed": false
   },
   "outputs": [
    {
     "data": {
      "text/html": [
       "<div>\n",
       "<table border=\"1\" class=\"dataframe\">\n",
       "  <thead>\n",
       "    <tr style=\"text-align: right;\">\n",
       "      <th></th>\n",
       "      <th>Carefree, Stick-Thin Twenty-Somesomethings</th>\n",
       "      <th>Young, Healthy, and Curvy</th>\n",
       "      <th>Borderline-Healthy Many-time Mothers</th>\n",
       "      <th>Life-Experienced Ladies in Need of Zen</th>\n",
       "      <th>Early-Thirties in Need of Lifestyle Change</th>\n",
       "      <th>Plus-Sized, Stressed, and Possibly Single</th>\n",
       "    </tr>\n",
       "  </thead>\n",
       "  <tbody>\n",
       "    <tr>\n",
       "      <th>cluster</th>\n",
       "      <td>146</td>\n",
       "      <td>145</td>\n",
       "      <td>99</td>\n",
       "      <td>96</td>\n",
       "      <td>59</td>\n",
       "      <td>56</td>\n",
       "    </tr>\n",
       "  </tbody>\n",
       "</table>\n",
       "</div>"
      ],
      "text/plain": [
       "         Carefree, Stick-Thin Twenty-Somesomethings  \\\n",
       "cluster                                         146   \n",
       "\n",
       "         Young, Healthy, and Curvy  Borderline-Healthy Many-time Mothers  \\\n",
       "cluster                        145                                    99   \n",
       "\n",
       "         Life-Experienced Ladies in Need of Zen  \\\n",
       "cluster                                      96   \n",
       "\n",
       "         Early-Thirties in Need of Lifestyle Change  \\\n",
       "cluster                                          59   \n",
       "\n",
       "         Plus-Sized, Stressed, and Possibly Single  \n",
       "cluster                                         56  "
      ]
     },
     "execution_count": 502,
     "metadata": {},
     "output_type": "execute_result"
    }
   ],
   "source": [
    "# Assign names/categories to each custer according to distinguishing characteristics\n",
    "cluster_names = cluster_names.rename(columns=({ 0 : 'Young, Healthy, and Curvy', 1: 'Life-Experienced Ladies in Need of Zen',\n",
    "                                               2 : 'Borderline-Healthy Many-Time Mothers', 3: 'Carefree, Stick-Thin Twenty-Somesomethings',\n",
    "                                              4 : 'Early-Thirties in Need of Lifestyle Change', 5: 'Plus-Sized, Stressed, and Possibly Single'}))\n",
    "cluster_names.head()"
   ]
  },
  {
   "cell_type": "code",
   "execution_count": 503,
   "metadata": {
    "collapsed": false
   },
   "outputs": [
    {
     "data": {
      "image/png": "[encoded data removed]",
      "text/plain": [
       "<matplotlib.figure.Figure at 0x10bb71890>"
      ]
     },
     "metadata": {},
     "output_type": "display_data"
    }
   ],
   "source": [
    "# graph the clusters\n",
    "plt.title('Clusters from the Data')\n",
    "sns.barplot(data=cluster_names, ci=None, orient='h', order=cluster_names.columns);"
   ]
  },
  {
   "cell_type": "markdown",
   "metadata": {},
   "source": [
    "## 4) Run PCA on the dataset and describe your results"
   ]
  },
  {
   "cell_type": "markdown",
   "metadata": {},
   "source": [
    "- Speed: 132 microseconds per loop with data_dropped to transform to test data\n",
    "- Comments: With PCA, we went from seven to five features on the training set (remember: data_dropped does not include the serum_insulin feature). These five features explain approximately 88% of the variance."
   ]
  },
  {
   "cell_type": "code",
   "execution_count": 431,
   "metadata": {
    "collapsed": false
   },
   "outputs": [
    {
     "data": {
      "image/png": "[encoded data removed]",
      "text/plain": [
       "<matplotlib.figure.Figure at 0x10deda0d0>"
      ]
     },
     "metadata": {},
     "output_type": "display_data"
    }
   ],
   "source": [
    "# plot all the features to find n_components\n",
    "from sklearn.decomposition import PCA\n",
    "pca = PCA(n_components=7)\n",
    "pca.fit(X_train_std3)\n",
    "plt.plot(range(1,8), pca.explained_variance_ratio_);"
   ]
  },
  {
   "cell_type": "code",
   "execution_count": 519,
   "metadata": {
    "collapsed": false
   },
   "outputs": [],
   "source": [
    "# ^looks like n_components should be 5\n",
    "pca = PCA(n_components=5)"
   ]
  },
  {
   "cell_type": "code",
   "execution_count": 433,
   "metadata": {
    "collapsed": false
   },
   "outputs": [
    {
     "data": {
      "text/plain": [
       "PCA(copy=True, n_components=5, whiten=False)"
      ]
     },
     "execution_count": 433,
     "metadata": {},
     "output_type": "execute_result"
    }
   ],
   "source": [
    "pca = PCA(n_components=5)\n",
    "pca.fit(X_train_std3)"
   ]
  },
  {
   "cell_type": "code",
   "execution_count": 436,
   "metadata": {
    "collapsed": false
   },
   "outputs": [
    {
     "data": {
      "text/plain": [
       "array([ 0.30581227,  0.21727536,  0.14237808,  0.11554721,  0.10205748])"
      ]
     },
     "execution_count": 436,
     "metadata": {},
     "output_type": "execute_result"
    }
   ],
   "source": [
    "# first two components expain almost 90% of variance in the dataset\n",
    "pca.explained_variance_ratio_"
   ]
  },
  {
   "cell_type": "code",
   "execution_count": 435,
   "metadata": {
    "collapsed": false
   },
   "outputs": [
    {
     "data": {
      "text/plain": [
       "0.88307040388193248"
      ]
     },
     "execution_count": 435,
     "metadata": {},
     "output_type": "execute_result"
    }
   ],
   "source": [
    "sum(pca.explained_variance_ratio_)"
   ]
  },
  {
   "cell_type": "code",
   "execution_count": 437,
   "metadata": {
    "collapsed": false
   },
   "outputs": [],
   "source": [
    "# Training data --> PCA (transform)\n",
    "X_trainpca3 = pd.DataFrame(pca.transform(X_train_std3))"
   ]
  },
  {
   "cell_type": "code",
   "execution_count": 518,
   "metadata": {
    "collapsed": false
   },
   "outputs": [
    {
     "name": "stdout",
     "output_type": "stream",
     "text": [
      "The slowest run took 176.26 times longer than the fastest. This could mean that an intermediate result is being cached \n",
      "10000 loops, best of 3: 132 µs per loop\n"
     ]
    }
   ],
   "source": [
    "%%timeit\n",
    "# Test data --> PCA (transform)\n",
    "X_testpca3 = pd.DataFrame(pca.transform(X_test_std3))"
   ]
  },
  {
   "cell_type": "code",
   "execution_count": 439,
   "metadata": {
    "collapsed": false
   },
   "outputs": [
    {
     "data": {
      "text/html": [
       "<div>\n",
       "<table border=\"1\" class=\"dataframe\">\n",
       "  <thead>\n",
       "    <tr style=\"text-align: right;\">\n",
       "      <th></th>\n",
       "      <th>0</th>\n",
       "      <th>1</th>\n",
       "      <th>2</th>\n",
       "      <th>3</th>\n",
       "      <th>4</th>\n",
       "    </tr>\n",
       "  </thead>\n",
       "  <tbody>\n",
       "    <tr>\n",
       "      <th>0</th>\n",
       "      <td>-3.556</td>\n",
       "      <td>-0.377</td>\n",
       "      <td>0.153</td>\n",
       "      <td>-0.634</td>\n",
       "      <td>0.311</td>\n",
       "    </tr>\n",
       "    <tr>\n",
       "      <th>1</th>\n",
       "      <td>0.501</td>\n",
       "      <td>2.218</td>\n",
       "      <td>-0.701</td>\n",
       "      <td>0.249</td>\n",
       "      <td>0.854</td>\n",
       "    </tr>\n",
       "    <tr>\n",
       "      <th>2</th>\n",
       "      <td>0.693</td>\n",
       "      <td>0.410</td>\n",
       "      <td>-1.405</td>\n",
       "      <td>-0.673</td>\n",
       "      <td>-0.044</td>\n",
       "    </tr>\n",
       "    <tr>\n",
       "      <th>3</th>\n",
       "      <td>1.087</td>\n",
       "      <td>-0.908</td>\n",
       "      <td>1.196</td>\n",
       "      <td>0.544</td>\n",
       "      <td>0.639</td>\n",
       "    </tr>\n",
       "    <tr>\n",
       "      <th>4</th>\n",
       "      <td>0.883</td>\n",
       "      <td>0.160</td>\n",
       "      <td>-0.062</td>\n",
       "      <td>-0.522</td>\n",
       "      <td>-1.282</td>\n",
       "    </tr>\n",
       "  </tbody>\n",
       "</table>\n",
       "</div>"
      ],
      "text/plain": [
       "       0      1      2      3      4\n",
       "0 -3.556 -0.377  0.153 -0.634  0.311\n",
       "1  0.501  2.218 -0.701  0.249  0.854\n",
       "2  0.693  0.410 -1.405 -0.673 -0.044\n",
       "3  1.087 -0.908  1.196  0.544  0.639\n",
       "4  0.883  0.160 -0.062 -0.522 -1.282"
      ]
     },
     "execution_count": 439,
     "metadata": {},
     "output_type": "execute_result"
    }
   ],
   "source": [
    "X_trainpca3.head()"
   ]
  },
  {
   "cell_type": "markdown",
   "metadata": {},
   "source": [
    "## 5) Use the cluster outputs you got from running k-means as a new feature. Rerun your \"worst\" and \"best\" model from HW2, including this new feature along with your old features. Describe your results."
   ]
  },
  {
   "cell_type": "markdown",
   "metadata": {},
   "source": [
    "- Best model from HW2 based on accuracy: Logistic Regression with data_imputed\n",
    "    - Speed: 87.9 microsecs per loop\n",
    "    - Accuracy: 76.17% (Recall: 65.85%, F1: 60%)\n",
    "    - Comments: Using k-means added over 50 microsecs to the runtime, which makes sense since we essentially added an extra dimension. That said, it did not impact the accuracy positively nor negatively. I would be curious to see if re-tuning the model would yield different results.\n",
    "- Worst model from HW2 based on accuracy: Naive Bayes with data_imputed\n",
    "    - Speed: 146 microsecs per loop (this is a little less than double the runtime of the multinomial non-k-means model).\n",
    "    - Accuracy: 68.87% (Recall: 52%, F1: 52.25%)\n",
    "    - Comments: Admittedly, this is not a direct apples-to-apples comparison, but it was interesting that performance declined with the gaussian model even with k-means as I had expected accuracy at least to increase (but might mean that the clusters aren't well-formed)."
   ]
  },
  {
   "cell_type": "markdown",
   "metadata": {},
   "source": [
    "#### Logistic Regression with data_imputed - k-means"
   ]
  },
  {
   "cell_type": "code",
   "execution_count": 480,
   "metadata": {
    "collapsed": false
   },
   "outputs": [
    {
     "data": {
      "text/html": [
       "<div>\n",
       "<table border=\"1\" class=\"dataframe\">\n",
       "  <thead>\n",
       "    <tr style=\"text-align: right;\">\n",
       "      <th></th>\n",
       "      <th>0</th>\n",
       "      <th>1</th>\n",
       "      <th>2</th>\n",
       "      <th>3</th>\n",
       "      <th>4</th>\n",
       "      <th>5</th>\n",
       "      <th>6</th>\n",
       "      <th>7</th>\n",
       "      <th>cluster</th>\n",
       "    </tr>\n",
       "  </thead>\n",
       "  <tbody>\n",
       "    <tr>\n",
       "      <th>0</th>\n",
       "      <td>-0.846</td>\n",
       "      <td>-1.663</td>\n",
       "      <td>-1.996</td>\n",
       "      <td>-1.285</td>\n",
       "      <td>-0.746</td>\n",
       "      <td>-1.771</td>\n",
       "      <td>-0.456</td>\n",
       "      <td>-0.969</td>\n",
       "      <td>5</td>\n",
       "    </tr>\n",
       "    <tr>\n",
       "      <th>1</th>\n",
       "      <td>-1.135</td>\n",
       "      <td>0.425</td>\n",
       "      <td>-0.343</td>\n",
       "      <td>1.507</td>\n",
       "      <td>1.177</td>\n",
       "      <td>1.389</td>\n",
       "      <td>-0.329</td>\n",
       "      <td>-0.800</td>\n",
       "      <td>4</td>\n",
       "    </tr>\n",
       "    <tr>\n",
       "      <th>2</th>\n",
       "      <td>-0.267</td>\n",
       "      <td>-0.847</td>\n",
       "      <td>0.483</td>\n",
       "      <td>1.158</td>\n",
       "      <td>-0.204</td>\n",
       "      <td>0.667</td>\n",
       "      <td>-0.714</td>\n",
       "      <td>0.546</td>\n",
       "      <td>1</td>\n",
       "    </tr>\n",
       "    <tr>\n",
       "      <th>3</th>\n",
       "      <td>0.601</td>\n",
       "      <td>1.404</td>\n",
       "      <td>-0.343</td>\n",
       "      <td>-0.354</td>\n",
       "      <td>0.271</td>\n",
       "      <td>0.134</td>\n",
       "      <td>0.478</td>\n",
       "      <td>1.304</td>\n",
       "      <td>7</td>\n",
       "    </tr>\n",
       "    <tr>\n",
       "      <th>4</th>\n",
       "      <td>0.601</td>\n",
       "      <td>-0.488</td>\n",
       "      <td>1.310</td>\n",
       "      <td>-0.005</td>\n",
       "      <td>-0.204</td>\n",
       "      <td>0.595</td>\n",
       "      <td>0.770</td>\n",
       "      <td>-0.211</td>\n",
       "      <td>3</td>\n",
       "    </tr>\n",
       "  </tbody>\n",
       "</table>\n",
       "</div>"
      ],
      "text/plain": [
       "       0      1      2      3      4      5      6      7  cluster\n",
       "0 -0.846 -1.663 -1.996 -1.285 -0.746 -1.771 -0.456 -0.969        5\n",
       "1 -1.135  0.425 -0.343  1.507  1.177  1.389 -0.329 -0.800        4\n",
       "2 -0.267 -0.847  0.483  1.158 -0.204  0.667 -0.714  0.546        1\n",
       "3  0.601  1.404 -0.343 -0.354  0.271  0.134  0.478  1.304        7\n",
       "4  0.601 -0.488  1.310 -0.005 -0.204  0.595  0.770 -0.211        3"
      ]
     },
     "execution_count": 480,
     "metadata": {},
     "output_type": "execute_result"
    }
   ],
   "source": [
    "# add cluster labels to training set; make sure it is standardized and in a dataframe\n",
    "X_kmtrain11 = X_train1.copy()\n",
    "X_kmtrain11 = pd.DataFrame(scale.fit_transform(X_kmtrain11))\n",
    "X_kmtrain11['cluster'] = km1.labels_\n",
    "X_kmtrain11.head()"
   ]
  },
  {
   "cell_type": "code",
   "execution_count": 483,
   "metadata": {
    "collapsed": false
   },
   "outputs": [
    {
     "data": {
      "text/html": [
       "<div>\n",
       "<table border=\"1\" class=\"dataframe\">\n",
       "  <thead>\n",
       "    <tr style=\"text-align: right;\">\n",
       "      <th></th>\n",
       "      <th>0</th>\n",
       "      <th>1</th>\n",
       "      <th>2</th>\n",
       "      <th>3</th>\n",
       "      <th>4</th>\n",
       "      <th>5</th>\n",
       "      <th>6</th>\n",
       "      <th>7</th>\n",
       "      <th>cluster</th>\n",
       "    </tr>\n",
       "  </thead>\n",
       "  <tbody>\n",
       "    <tr>\n",
       "      <th>0</th>\n",
       "      <td>-0.854</td>\n",
       "      <td>-0.886</td>\n",
       "      <td>0.056</td>\n",
       "      <td>-0.863</td>\n",
       "      <td>-0.830</td>\n",
       "      <td>-0.832</td>\n",
       "      <td>0.608</td>\n",
       "      <td>0.317</td>\n",
       "      <td>5</td>\n",
       "    </tr>\n",
       "    <tr>\n",
       "      <th>1</th>\n",
       "      <td>-0.521</td>\n",
       "      <td>-0.721</td>\n",
       "      <td>-0.270</td>\n",
       "      <td>2.308</td>\n",
       "      <td>-1.055</td>\n",
       "      <td>1.306</td>\n",
       "      <td>0.620</td>\n",
       "      <td>-0.690</td>\n",
       "      <td>4</td>\n",
       "    </tr>\n",
       "    <tr>\n",
       "      <th>2</th>\n",
       "      <td>0.479</td>\n",
       "      <td>-2.570</td>\n",
       "      <td>-0.923</td>\n",
       "      <td>-0.045</td>\n",
       "      <td>-0.100</td>\n",
       "      <td>-0.964</td>\n",
       "      <td>0.348</td>\n",
       "      <td>0.317</td>\n",
       "      <td>5</td>\n",
       "    </tr>\n",
       "    <tr>\n",
       "      <th>3</th>\n",
       "      <td>-0.521</td>\n",
       "      <td>-0.556</td>\n",
       "      <td>0.138</td>\n",
       "      <td>-0.045</td>\n",
       "      <td>-0.100</td>\n",
       "      <td>-1.213</td>\n",
       "      <td>0.267</td>\n",
       "      <td>1.873</td>\n",
       "      <td>6</td>\n",
       "    </tr>\n",
       "    <tr>\n",
       "      <th>4</th>\n",
       "      <td>1.479</td>\n",
       "      <td>2.117</td>\n",
       "      <td>1.362</td>\n",
       "      <td>0.569</td>\n",
       "      <td>1.305</td>\n",
       "      <td>0.427</td>\n",
       "      <td>-0.147</td>\n",
       "      <td>0.409</td>\n",
       "      <td>6</td>\n",
       "    </tr>\n",
       "  </tbody>\n",
       "</table>\n",
       "</div>"
      ],
      "text/plain": [
       "       0      1      2      3      4      5      6      7  cluster\n",
       "0 -0.854 -0.886  0.056 -0.863 -0.830 -0.832  0.608  0.317        5\n",
       "1 -0.521 -0.721 -0.270  2.308 -1.055  1.306  0.620 -0.690        4\n",
       "2  0.479 -2.570 -0.923 -0.045 -0.100 -0.964  0.348  0.317        5\n",
       "3 -0.521 -0.556  0.138 -0.045 -0.100 -1.213  0.267  1.873        6\n",
       "4  1.479  2.117  1.362  0.569  1.305  0.427 -0.147  0.409        6"
      ]
     },
     "execution_count": 483,
     "metadata": {},
     "output_type": "execute_result"
    }
   ],
   "source": [
    "# add cluster labels to test set; make sure it is standardized and in a dataframe\n",
    "X_kmtest11 = X_test1.copy()\n",
    "X_kmtest11 = pd.DataFrame(scale.fit_transform(X_kmtest11))\n",
    "X_kmtest11['cluster'] = km1.predict(X_test_std1)\n",
    "X_kmtest11.head()"
   ]
  },
  {
   "cell_type": "code",
   "execution_count": 485,
   "metadata": {
    "collapsed": false
   },
   "outputs": [
    {
     "data": {
      "text/plain": [
       "LogisticRegression(C=1010.10102, class_weight=None, dual=False,\n",
       "          fit_intercept=True, intercept_scaling=1, max_iter=100,\n",
       "          multi_class='ovr', penalty='l1', random_state=None,\n",
       "          solver='liblinear', tol=0.0001, verbose=0)"
      ]
     },
     "execution_count": 485,
     "metadata": {},
     "output_type": "execute_result"
    }
   ],
   "source": [
    "# import and create classifier\n",
    "# use same parameters from best-performing model: 'C': 1010.1010199999999, 'class_weight': None, 'penalty': 'l1'\n",
    "from sklearn.linear_model import LogisticRegression\n",
    "lrkm1 = LogisticRegression(C= 1010.1010199999999, class_weight= None, penalty='l1')\n",
    "lrkm1.fit(X_kmtrain11, y_train1)"
   ]
  },
  {
   "cell_type": "code",
   "execution_count": 486,
   "metadata": {
    "collapsed": false
   },
   "outputs": [
    {
     "name": "stdout",
     "output_type": "stream",
     "text": [
      "The slowest run took 30.56 times longer than the fastest. This could mean that an intermediate result is being cached \n",
      "10000 loops, best of 3: 87.9 µs per loop\n"
     ]
    }
   ],
   "source": [
    "%timeit lrkm1.predict(X_kmtest11)"
   ]
  },
  {
   "cell_type": "code",
   "execution_count": 487,
   "metadata": {
    "collapsed": false
   },
   "outputs": [
    {
     "data": {
      "text/plain": [
       "0.76158940397350994"
      ]
     },
     "execution_count": 487,
     "metadata": {},
     "output_type": "execute_result"
    }
   ],
   "source": [
    "# accuracy\n",
    "lrkm1.score(X_kmtest11, y_test1)"
   ]
  },
  {
   "cell_type": "code",
   "execution_count": 488,
   "metadata": {
    "collapsed": false
   },
   "outputs": [
    {
     "data": {
      "text/plain": [
       "(0.55102040816326525, 0.65853658536585369, 0.59999999999999998, None)"
      ]
     },
     "execution_count": 488,
     "metadata": {},
     "output_type": "execute_result"
    }
   ],
   "source": [
    "# Precision / Recall / F1\n",
    "from sklearn.metrics import precision_recall_fscore_support\n",
    "\n",
    "pred11 = lrkm1.predict(X_kmtest11)\n",
    "precision_recall_fscore_support(pred11, y_test1, average='binary')   "
   ]
  },
  {
   "cell_type": "markdown",
   "metadata": {},
   "source": [
    "#### Naive Bayes with data_imputed - k-means"
   ]
  },
  {
   "cell_type": "code",
   "execution_count": 329,
   "metadata": {
    "collapsed": true
   },
   "outputs": [],
   "source": [
    "# Remember, I used the multinomial type; add labels\n",
    "SX_train1 = X_train1.copy()\n",
    "SX_train1['cluster'] = km1.labels_"
   ]
  },
  {
   "cell_type": "code",
   "execution_count": 330,
   "metadata": {
    "collapsed": false
   },
   "outputs": [
    {
     "data": {
      "text/html": [
       "<div>\n",
       "<table border=\"1\" class=\"dataframe\">\n",
       "  <thead>\n",
       "    <tr style=\"text-align: right;\">\n",
       "      <th></th>\n",
       "      <th>preg</th>\n",
       "      <th>pg_conc</th>\n",
       "      <th>diastolic_bp</th>\n",
       "      <th>skin</th>\n",
       "      <th>serum_insulin</th>\n",
       "      <th>bmi</th>\n",
       "      <th>diabetes_pf</th>\n",
       "      <th>age</th>\n",
       "      <th>cluster</th>\n",
       "    </tr>\n",
       "  </thead>\n",
       "  <tbody>\n",
       "    <tr>\n",
       "      <th>92</th>\n",
       "      <td>1</td>\n",
       "      <td>71.0</td>\n",
       "      <td>48.0</td>\n",
       "      <td>18.0</td>\n",
       "      <td>76.0</td>\n",
       "      <td>20.4</td>\n",
       "      <td>0.323</td>\n",
       "      <td>22</td>\n",
       "      <td>5</td>\n",
       "    </tr>\n",
       "    <tr>\n",
       "      <th>474</th>\n",
       "      <td>0</td>\n",
       "      <td>135.0</td>\n",
       "      <td>68.0</td>\n",
       "      <td>42.0</td>\n",
       "      <td>250.0</td>\n",
       "      <td>42.3</td>\n",
       "      <td>0.365</td>\n",
       "      <td>24</td>\n",
       "      <td>4</td>\n",
       "    </tr>\n",
       "    <tr>\n",
       "      <th>491</th>\n",
       "      <td>3</td>\n",
       "      <td>96.0</td>\n",
       "      <td>78.0</td>\n",
       "      <td>39.0</td>\n",
       "      <td>125.0</td>\n",
       "      <td>37.3</td>\n",
       "      <td>0.238</td>\n",
       "      <td>40</td>\n",
       "      <td>1</td>\n",
       "    </tr>\n",
       "    <tr>\n",
       "      <th>656</th>\n",
       "      <td>6</td>\n",
       "      <td>165.0</td>\n",
       "      <td>68.0</td>\n",
       "      <td>26.0</td>\n",
       "      <td>168.0</td>\n",
       "      <td>33.6</td>\n",
       "      <td>0.631</td>\n",
       "      <td>49</td>\n",
       "      <td>7</td>\n",
       "    </tr>\n",
       "    <tr>\n",
       "      <th>428</th>\n",
       "      <td>6</td>\n",
       "      <td>107.0</td>\n",
       "      <td>88.0</td>\n",
       "      <td>29.0</td>\n",
       "      <td>125.0</td>\n",
       "      <td>36.8</td>\n",
       "      <td>0.727</td>\n",
       "      <td>31</td>\n",
       "      <td>3</td>\n",
       "    </tr>\n",
       "  </tbody>\n",
       "</table>\n",
       "</div>"
      ],
      "text/plain": [
       "    preg pg_conc diastolic_bp  skin serum_insulin   bmi diabetes_pf age  \\\n",
       "92     1    71.0         48.0  18.0          76.0  20.4       0.323  22   \n",
       "474    0   135.0         68.0  42.0         250.0  42.3       0.365  24   \n",
       "491    3    96.0         78.0  39.0         125.0  37.3       0.238  40   \n",
       "656    6   165.0         68.0  26.0         168.0  33.6       0.631  49   \n",
       "428    6   107.0         88.0  29.0         125.0  36.8       0.727  31   \n",
       "\n",
       "    cluster  \n",
       "92        5  \n",
       "474       4  \n",
       "491       1  \n",
       "656       7  \n",
       "428       3  "
      ]
     },
     "execution_count": 330,
     "metadata": {},
     "output_type": "execute_result"
    }
   ],
   "source": [
    "# convert all to strings\n",
    "SX_train1 = SX_train1.astype(str)\n",
    "SX_train1.head()"
   ]
  },
  {
   "cell_type": "code",
   "execution_count": 334,
   "metadata": {
    "collapsed": false
   },
   "outputs": [
    {
     "data": {
      "text/plain": [
       "array([[0, 1],\n",
       "       [1, 0]])"
      ]
     },
     "execution_count": 334,
     "metadata": {},
     "output_type": "execute_result"
    }
   ],
   "source": [
    "from sklearn.feature_extraction.text import CountVectorizer\n",
    "# using pg_conc but also cluster (otherwise, I'll get the same results since NB assumes feature independence)\n",
    "vect = CountVectorizer(decode_error='ignore')\n",
    "vect.fit(SX_train1[['pg_conc', 'cluster']])\n",
    "vect_trans1again = vect.transform(SX_train1[['pg_conc', 'cluster']])\n",
    "vect_trans1again.toarray()"
   ]
  },
  {
   "cell_type": "code",
   "execution_count": 336,
   "metadata": {
    "collapsed": true
   },
   "outputs": [],
   "source": [
    "# trying gaussian NB instead since a 2x2 array ^ won't work\n",
    "from sklearn.naive_bayes import GaussianNB\n",
    "g_nb1 = GaussianNB()"
   ]
  },
  {
   "cell_type": "code",
   "execution_count": 337,
   "metadata": {
    "collapsed": false
   },
   "outputs": [
    {
     "data": {
      "text/html": [
       "<div>\n",
       "<table border=\"1\" class=\"dataframe\">\n",
       "  <thead>\n",
       "    <tr style=\"text-align: right;\">\n",
       "      <th></th>\n",
       "      <th>0</th>\n",
       "      <th>1</th>\n",
       "      <th>2</th>\n",
       "      <th>3</th>\n",
       "      <th>4</th>\n",
       "      <th>5</th>\n",
       "      <th>6</th>\n",
       "      <th>7</th>\n",
       "      <th>cluster</th>\n",
       "    </tr>\n",
       "  </thead>\n",
       "  <tbody>\n",
       "    <tr>\n",
       "      <th>0</th>\n",
       "      <td>-0.846</td>\n",
       "      <td>-1.663</td>\n",
       "      <td>-1.996</td>\n",
       "      <td>-1.285</td>\n",
       "      <td>-0.746</td>\n",
       "      <td>-1.771</td>\n",
       "      <td>-0.456</td>\n",
       "      <td>-0.969</td>\n",
       "      <td>5</td>\n",
       "    </tr>\n",
       "    <tr>\n",
       "      <th>1</th>\n",
       "      <td>-1.135</td>\n",
       "      <td>0.425</td>\n",
       "      <td>-0.343</td>\n",
       "      <td>1.507</td>\n",
       "      <td>1.177</td>\n",
       "      <td>1.389</td>\n",
       "      <td>-0.329</td>\n",
       "      <td>-0.800</td>\n",
       "      <td>4</td>\n",
       "    </tr>\n",
       "    <tr>\n",
       "      <th>2</th>\n",
       "      <td>-0.267</td>\n",
       "      <td>-0.847</td>\n",
       "      <td>0.483</td>\n",
       "      <td>1.158</td>\n",
       "      <td>-0.204</td>\n",
       "      <td>0.667</td>\n",
       "      <td>-0.714</td>\n",
       "      <td>0.546</td>\n",
       "      <td>1</td>\n",
       "    </tr>\n",
       "    <tr>\n",
       "      <th>3</th>\n",
       "      <td>0.601</td>\n",
       "      <td>1.404</td>\n",
       "      <td>-0.343</td>\n",
       "      <td>-0.354</td>\n",
       "      <td>0.271</td>\n",
       "      <td>0.134</td>\n",
       "      <td>0.478</td>\n",
       "      <td>1.304</td>\n",
       "      <td>7</td>\n",
       "    </tr>\n",
       "    <tr>\n",
       "      <th>4</th>\n",
       "      <td>0.601</td>\n",
       "      <td>-0.488</td>\n",
       "      <td>1.310</td>\n",
       "      <td>-0.005</td>\n",
       "      <td>-0.204</td>\n",
       "      <td>0.595</td>\n",
       "      <td>0.770</td>\n",
       "      <td>-0.211</td>\n",
       "      <td>3</td>\n",
       "    </tr>\n",
       "  </tbody>\n",
       "</table>\n",
       "</div>"
      ],
      "text/plain": [
       "       0      1      2      3      4      5      6      7  cluster\n",
       "0 -0.846 -1.663 -1.996 -1.285 -0.746 -1.771 -0.456 -0.969        5\n",
       "1 -1.135  0.425 -0.343  1.507  1.177  1.389 -0.329 -0.800        4\n",
       "2 -0.267 -0.847  0.483  1.158 -0.204  0.667 -0.714  0.546        1\n",
       "3  0.601  1.404 -0.343 -0.354  0.271  0.134  0.478  1.304        7\n",
       "4  0.601 -0.488  1.310 -0.005 -0.204  0.595  0.770 -0.211        3"
      ]
     },
     "execution_count": 337,
     "metadata": {},
     "output_type": "execute_result"
    }
   ],
   "source": [
    "# add cluster labels to training set; make sure it is standardized and in a dataframe\n",
    "X_kmtrain1 = X_train1.copy()\n",
    "X_kmtrain1 = pd.DataFrame(scale.fit_transform(X_kmtrain1))\n",
    "X_kmtrain1['cluster'] = km1.labels_\n",
    "X_kmtrain1.head()"
   ]
  },
  {
   "cell_type": "code",
   "execution_count": 339,
   "metadata": {
    "collapsed": false
   },
   "outputs": [
    {
     "data": {
      "text/html": [
       "<div>\n",
       "<table border=\"1\" class=\"dataframe\">\n",
       "  <thead>\n",
       "    <tr style=\"text-align: right;\">\n",
       "      <th></th>\n",
       "      <th>0</th>\n",
       "      <th>1</th>\n",
       "      <th>2</th>\n",
       "      <th>3</th>\n",
       "      <th>4</th>\n",
       "      <th>5</th>\n",
       "      <th>6</th>\n",
       "      <th>7</th>\n",
       "      <th>cluster</th>\n",
       "    </tr>\n",
       "  </thead>\n",
       "  <tbody>\n",
       "    <tr>\n",
       "      <th>0</th>\n",
       "      <td>-0.854</td>\n",
       "      <td>-0.886</td>\n",
       "      <td>0.056</td>\n",
       "      <td>-0.863</td>\n",
       "      <td>-0.830</td>\n",
       "      <td>-0.832</td>\n",
       "      <td>0.608</td>\n",
       "      <td>0.317</td>\n",
       "      <td>5</td>\n",
       "    </tr>\n",
       "    <tr>\n",
       "      <th>1</th>\n",
       "      <td>-0.521</td>\n",
       "      <td>-0.721</td>\n",
       "      <td>-0.270</td>\n",
       "      <td>2.308</td>\n",
       "      <td>-1.055</td>\n",
       "      <td>1.306</td>\n",
       "      <td>0.620</td>\n",
       "      <td>-0.690</td>\n",
       "      <td>4</td>\n",
       "    </tr>\n",
       "    <tr>\n",
       "      <th>2</th>\n",
       "      <td>0.479</td>\n",
       "      <td>-2.570</td>\n",
       "      <td>-0.923</td>\n",
       "      <td>-0.045</td>\n",
       "      <td>-0.100</td>\n",
       "      <td>-0.964</td>\n",
       "      <td>0.348</td>\n",
       "      <td>0.317</td>\n",
       "      <td>5</td>\n",
       "    </tr>\n",
       "    <tr>\n",
       "      <th>3</th>\n",
       "      <td>-0.521</td>\n",
       "      <td>-0.556</td>\n",
       "      <td>0.138</td>\n",
       "      <td>-0.045</td>\n",
       "      <td>-0.100</td>\n",
       "      <td>-1.213</td>\n",
       "      <td>0.267</td>\n",
       "      <td>1.873</td>\n",
       "      <td>6</td>\n",
       "    </tr>\n",
       "    <tr>\n",
       "      <th>4</th>\n",
       "      <td>1.479</td>\n",
       "      <td>2.117</td>\n",
       "      <td>1.362</td>\n",
       "      <td>0.569</td>\n",
       "      <td>1.305</td>\n",
       "      <td>0.427</td>\n",
       "      <td>-0.147</td>\n",
       "      <td>0.409</td>\n",
       "      <td>6</td>\n",
       "    </tr>\n",
       "  </tbody>\n",
       "</table>\n",
       "</div>"
      ],
      "text/plain": [
       "       0      1      2      3      4      5      6      7  cluster\n",
       "0 -0.854 -0.886  0.056 -0.863 -0.830 -0.832  0.608  0.317        5\n",
       "1 -0.521 -0.721 -0.270  2.308 -1.055  1.306  0.620 -0.690        4\n",
       "2  0.479 -2.570 -0.923 -0.045 -0.100 -0.964  0.348  0.317        5\n",
       "3 -0.521 -0.556  0.138 -0.045 -0.100 -1.213  0.267  1.873        6\n",
       "4  1.479  2.117  1.362  0.569  1.305  0.427 -0.147  0.409        6"
      ]
     },
     "execution_count": 339,
     "metadata": {},
     "output_type": "execute_result"
    }
   ],
   "source": [
    "# add cluster labels to test set; make sure it is standardized and in a dataframe\n",
    "X_kmtest1 = X_test1.copy()\n",
    "X_kmtest1 = pd.DataFrame(scale.fit_transform(X_kmtest1))\n",
    "X_kmtest1['cluster'] = km1.predict(X_test_std1)\n",
    "X_kmtest1.head()"
   ]
  },
  {
   "cell_type": "code",
   "execution_count": 340,
   "metadata": {
    "collapsed": false
   },
   "outputs": [
    {
     "data": {
      "text/plain": [
       "GaussianNB()"
      ]
     },
     "execution_count": 340,
     "metadata": {},
     "output_type": "execute_result"
    }
   ],
   "source": [
    "g_nb1.fit(X_kmtrain1, y_train1)"
   ]
  },
  {
   "cell_type": "code",
   "execution_count": 520,
   "metadata": {
    "collapsed": false
   },
   "outputs": [
    {
     "name": "stdout",
     "output_type": "stream",
     "text": [
      "The slowest run took 195.87 times longer than the fastest. This could mean that an intermediate result is being cached \n",
      "1000 loops, best of 3: 146 µs per loop\n"
     ]
    }
   ],
   "source": [
    "%timeit g_nb1.predict(X_kmtest1)"
   ]
  },
  {
   "cell_type": "code",
   "execution_count": 342,
   "metadata": {
    "collapsed": false
   },
   "outputs": [
    {
     "data": {
      "text/plain": [
       "0.6887417218543046"
      ]
     },
     "execution_count": 342,
     "metadata": {},
     "output_type": "execute_result"
    }
   ],
   "source": [
    "g_nb1.score(X_kmtest1, y_test1)"
   ]
  },
  {
   "cell_type": "code",
   "execution_count": 343,
   "metadata": {
    "collapsed": false
   },
   "outputs": [
    {
     "data": {
      "text/plain": [
       "(0.53061224489795922, 0.52000000000000002, 0.52525252525252519, None)"
      ]
     },
     "execution_count": 343,
     "metadata": {},
     "output_type": "execute_result"
    }
   ],
   "source": [
    "# Precision / Recall / F1\n",
    "\n",
    "pred1 = g_nb1.predict(X_kmtest1)\n",
    "precision_recall_fscore_support(pred1, y_test1, average='binary')"
   ]
  },
  {
   "cell_type": "markdown",
   "metadata": {},
   "source": [
    "## 6) Use the PCA outputs you got from running PCA above as your features. Rerun your \"worst\" and \"best\" model from HW2, with the PCA features instead of your old features. Describe your results."
   ]
  },
  {
   "cell_type": "markdown",
   "metadata": {},
   "source": [
    "- Best model from HW2 based on accuracy: Logistic Regression with data_imputed\n",
    "    - Speed: 52.6 microsecs per loop\n",
    "    - Accuracy: 73.5% (Recall: 60%, F1: 57.45%)\n",
    "    - Comments: This model took 20 microsecs longer to run, and encountered a small (~3%) drop in accuracy. I am surprised it took longer to run - I would have thought it would take a shorter time to run.\n",
    "- Worst model from HW2 based on accuracy: Naive Bayes with data_imputed\n",
    "    - Speed: 119 microsecs per loop\n",
    "    - Accuracy: 74.17% (Recall: 61.36%, F1: 58.6%)\n",
    "    - Comments: Compared against the k-means version, this one was faster (which makes sense since there aren't as many features) and was more accurate (that surprised me, but the assumed feature independence might account for that)"
   ]
  },
  {
   "cell_type": "markdown",
   "metadata": {},
   "source": [
    "#### Logistic Regression with data_imputed - pca"
   ]
  },
  {
   "cell_type": "code",
   "execution_count": 523,
   "metadata": {
    "collapsed": false
   },
   "outputs": [
    {
     "data": {
      "image/png": "[encoded data removed]",
      "text/plain": [
       "<matplotlib.figure.Figure at 0x10bc9b5d0>"
      ]
     },
     "metadata": {},
     "output_type": "display_data"
    }
   ],
   "source": [
    "# add PCA to data_imputed\n",
    "pca1 = PCA(n_components=8)\n",
    "pca1.fit(X_train_std1)\n",
    "plt.plot(range(1,9), pca1.explained_variance_ratio_);"
   ]
  },
  {
   "cell_type": "code",
   "execution_count": 524,
   "metadata": {
    "collapsed": false
   },
   "outputs": [
    {
     "data": {
      "text/plain": [
       "PCA(copy=True, n_components=7, whiten=True)"
      ]
     },
     "execution_count": 524,
     "metadata": {},
     "output_type": "execute_result"
    }
   ],
   "source": [
    "pca1 = PCA(n_components=7, whiten=True)\n",
    "pca1.fit(X_train_std1)"
   ]
  },
  {
   "cell_type": "code",
   "execution_count": 525,
   "metadata": {
    "collapsed": false
   },
   "outputs": [
    {
     "data": {
      "text/plain": [
       "array([ 0.28407653,  0.19436934,  0.14702505,  0.11330721,  0.09226792,\n",
       "        0.06676229,  0.05494834])"
      ]
     },
     "execution_count": 525,
     "metadata": {},
     "output_type": "execute_result"
    }
   ],
   "source": [
    "# first seven components expain over 95% of variance in the dataset\n",
    "pca1.explained_variance_ratio_"
   ]
  },
  {
   "cell_type": "code",
   "execution_count": 526,
   "metadata": {
    "collapsed": false
   },
   "outputs": [
    {
     "data": {
      "text/plain": [
       "0.95275667521928509"
      ]
     },
     "execution_count": 526,
     "metadata": {},
     "output_type": "execute_result"
    }
   ],
   "source": [
    "sum(pca1.explained_variance_ratio_)"
   ]
  },
  {
   "cell_type": "code",
   "execution_count": 495,
   "metadata": {
    "collapsed": true
   },
   "outputs": [],
   "source": [
    "# Training data --> PCA (transform)\n",
    "X_trainpca1 = pd.DataFrame(pca1.transform(X_train_std1))"
   ]
  },
  {
   "cell_type": "code",
   "execution_count": 496,
   "metadata": {
    "collapsed": true
   },
   "outputs": [],
   "source": [
    "# Test data --> PCA (transform)\n",
    "X_testpca1 = pd.DataFrame(pca1.transform(X_test_std1))"
   ]
  },
  {
   "cell_type": "code",
   "execution_count": 497,
   "metadata": {
    "collapsed": false
   },
   "outputs": [
    {
     "data": {
      "text/html": [
       "<div>\n",
       "<table border=\"1\" class=\"dataframe\">\n",
       "  <thead>\n",
       "    <tr style=\"text-align: right;\">\n",
       "      <th></th>\n",
       "      <th>0</th>\n",
       "      <th>1</th>\n",
       "      <th>2</th>\n",
       "      <th>3</th>\n",
       "      <th>4</th>\n",
       "      <th>5</th>\n",
       "      <th>6</th>\n",
       "    </tr>\n",
       "  </thead>\n",
       "  <tbody>\n",
       "    <tr>\n",
       "      <th>0</th>\n",
       "      <td>-0.879</td>\n",
       "      <td>-0.255</td>\n",
       "      <td>0.055</td>\n",
       "      <td>-0.836</td>\n",
       "      <td>-1.151</td>\n",
       "      <td>-0.249</td>\n",
       "      <td>1.119</td>\n",
       "    </tr>\n",
       "    <tr>\n",
       "      <th>1</th>\n",
       "      <td>0.331</td>\n",
       "      <td>1.424</td>\n",
       "      <td>1.911</td>\n",
       "      <td>-1.055</td>\n",
       "      <td>0.968</td>\n",
       "      <td>0.480</td>\n",
       "      <td>0.642</td>\n",
       "    </tr>\n",
       "    <tr>\n",
       "      <th>2</th>\n",
       "      <td>-1.050</td>\n",
       "      <td>-0.570</td>\n",
       "      <td>0.429</td>\n",
       "      <td>-1.406</td>\n",
       "      <td>1.100</td>\n",
       "      <td>-2.295</td>\n",
       "      <td>0.528</td>\n",
       "    </tr>\n",
       "    <tr>\n",
       "      <th>3</th>\n",
       "      <td>-0.121</td>\n",
       "      <td>-0.964</td>\n",
       "      <td>-0.254</td>\n",
       "      <td>-0.500</td>\n",
       "      <td>-0.380</td>\n",
       "      <td>-0.755</td>\n",
       "      <td>2.795</td>\n",
       "    </tr>\n",
       "    <tr>\n",
       "      <th>4</th>\n",
       "      <td>1.823</td>\n",
       "      <td>-0.517</td>\n",
       "      <td>-0.791</td>\n",
       "      <td>0.996</td>\n",
       "      <td>-0.150</td>\n",
       "      <td>0.404</td>\n",
       "      <td>-1.220</td>\n",
       "    </tr>\n",
       "  </tbody>\n",
       "</table>\n",
       "</div>"
      ],
      "text/plain": [
       "       0      1      2      3      4      5      6\n",
       "0 -0.879 -0.255  0.055 -0.836 -1.151 -0.249  1.119\n",
       "1  0.331  1.424  1.911 -1.055  0.968  0.480  0.642\n",
       "2 -1.050 -0.570  0.429 -1.406  1.100 -2.295  0.528\n",
       "3 -0.121 -0.964 -0.254 -0.500 -0.380 -0.755  2.795\n",
       "4  1.823 -0.517 -0.791  0.996 -0.150  0.404 -1.220"
      ]
     },
     "execution_count": 497,
     "metadata": {},
     "output_type": "execute_result"
    }
   ],
   "source": [
    "X_testpca1.head()"
   ]
  },
  {
   "cell_type": "code",
   "execution_count": 498,
   "metadata": {
    "collapsed": false
   },
   "outputs": [
    {
     "data": {
      "text/plain": [
       "LogisticRegression(C=1010.10102, class_weight=None, dual=False,\n",
       "          fit_intercept=True, intercept_scaling=1, max_iter=100,\n",
       "          multi_class='ovr', penalty='l1', random_state=None,\n",
       "          solver='liblinear', tol=0.0001, verbose=0)"
      ]
     },
     "execution_count": 498,
     "metadata": {},
     "output_type": "execute_result"
    }
   ],
   "source": [
    "# use same LR model as before\n",
    "lr1pca = LogisticRegression(C= 1010.1010199999999, class_weight= None, penalty='l1')\n",
    "lr1pca.fit(X_trainpca1, y_train1)"
   ]
  },
  {
   "cell_type": "code",
   "execution_count": 499,
   "metadata": {
    "collapsed": false
   },
   "outputs": [
    {
     "name": "stdout",
     "output_type": "stream",
     "text": [
      "The slowest run took 6.52 times longer than the fastest. This could mean that an intermediate result is being cached \n",
      "10000 loops, best of 3: 52.6 µs per loop\n"
     ]
    }
   ],
   "source": [
    "%timeit lr1pca.predict(X_testpca1)"
   ]
  },
  {
   "cell_type": "code",
   "execution_count": 500,
   "metadata": {
    "collapsed": false
   },
   "outputs": [
    {
     "data": {
      "text/plain": [
       "0.73509933774834435"
      ]
     },
     "execution_count": 500,
     "metadata": {},
     "output_type": "execute_result"
    }
   ],
   "source": [
    "# accuracy with pca\n",
    "lr1pca.score(X_testpca1, y_test1)"
   ]
  },
  {
   "cell_type": "code",
   "execution_count": 501,
   "metadata": {
    "collapsed": false
   },
   "outputs": [
    {
     "data": {
      "text/plain": [
       "(0.55102040816326525, 0.59999999999999998, 0.57446808510638292, None)"
      ]
     },
     "execution_count": 501,
     "metadata": {},
     "output_type": "execute_result"
    }
   ],
   "source": [
    "# Precision / Recall / F1 with pca\n",
    "\n",
    "pred1pca = lr1pca.predict(X_testpca1)\n",
    "precision_recall_fscore_support(pred1pca, y_test1, average='binary')  "
   ]
  },
  {
   "cell_type": "markdown",
   "metadata": {},
   "source": [
    "#### Naive Bayes with data_imputed - pca"
   ]
  },
  {
   "cell_type": "code",
   "execution_count": 378,
   "metadata": {
    "collapsed": false
   },
   "outputs": [
    {
     "data": {
      "image/png": "[encoded data removed]",
      "text/plain": [
       "<matplotlib.figure.Figure at 0x10bb18310>"
      ]
     },
     "metadata": {},
     "output_type": "display_data"
    }
   ],
   "source": [
    "# add PCA to data_imputed\n",
    "pca1 = PCA(n_components=8)\n",
    "pca1.fit(X_train_std1)\n",
    "plt.plot(range(1,9), pca1.explained_variance_ratio_);"
   ]
  },
  {
   "cell_type": "code",
   "execution_count": 416,
   "metadata": {
    "collapsed": false
   },
   "outputs": [
    {
     "data": {
      "text/plain": [
       "PCA(copy=True, n_components=6, whiten=True)"
      ]
     },
     "execution_count": 416,
     "metadata": {},
     "output_type": "execute_result"
    }
   ],
   "source": [
    "# above, it looks like 2 or 6 -- so I will try 6 this time\n",
    "pca1 = PCA(n_components=6, whiten=True)\n",
    "pca1.fit(X_train_std1)"
   ]
  },
  {
   "cell_type": "code",
   "execution_count": 417,
   "metadata": {
    "collapsed": false
   },
   "outputs": [
    {
     "data": {
      "text/plain": [
       "array([ 0.28407653,  0.19436934,  0.14702505,  0.11330721,  0.09226792,\n",
       "        0.06676229])"
      ]
     },
     "execution_count": 417,
     "metadata": {},
     "output_type": "execute_result"
    }
   ],
   "source": [
    "# first six components expain almost 90% of variance in the dataset\n",
    "pca1.explained_variance_ratio_"
   ]
  },
  {
   "cell_type": "code",
   "execution_count": 418,
   "metadata": {
    "collapsed": false
   },
   "outputs": [
    {
     "data": {
      "text/plain": [
       "0.89780833659754156"
      ]
     },
     "execution_count": 418,
     "metadata": {},
     "output_type": "execute_result"
    }
   ],
   "source": [
    "sum(pca1.explained_variance_ratio_)"
   ]
  },
  {
   "cell_type": "code",
   "execution_count": 419,
   "metadata": {
    "collapsed": true
   },
   "outputs": [],
   "source": [
    "# Training data --> PCA (transform)\n",
    "X_trainpca1 = pd.DataFrame(pca1.transform(X_train_std1))"
   ]
  },
  {
   "cell_type": "code",
   "execution_count": 420,
   "metadata": {
    "collapsed": true
   },
   "outputs": [],
   "source": [
    "# Test data --> PCA (transform)\n",
    "X_testpca1 = pd.DataFrame(pca1.transform(X_test_std1))"
   ]
  },
  {
   "cell_type": "code",
   "execution_count": 421,
   "metadata": {
    "collapsed": false
   },
   "outputs": [
    {
     "data": {
      "text/html": [
       "<div>\n",
       "<table border=\"1\" class=\"dataframe\">\n",
       "  <thead>\n",
       "    <tr style=\"text-align: right;\">\n",
       "      <th></th>\n",
       "      <th>0</th>\n",
       "      <th>1</th>\n",
       "      <th>2</th>\n",
       "      <th>3</th>\n",
       "      <th>4</th>\n",
       "      <th>5</th>\n",
       "    </tr>\n",
       "  </thead>\n",
       "  <tbody>\n",
       "    <tr>\n",
       "      <th>0</th>\n",
       "      <td>-2.406</td>\n",
       "      <td>-0.017</td>\n",
       "      <td>-0.400</td>\n",
       "      <td>-0.321</td>\n",
       "      <td>0.700</td>\n",
       "      <td>-0.367</td>\n",
       "    </tr>\n",
       "    <tr>\n",
       "      <th>1</th>\n",
       "      <td>0.652</td>\n",
       "      <td>1.842</td>\n",
       "      <td>0.220</td>\n",
       "      <td>0.986</td>\n",
       "      <td>0.928</td>\n",
       "      <td>-0.230</td>\n",
       "    </tr>\n",
       "    <tr>\n",
       "      <th>2</th>\n",
       "      <td>0.339</td>\n",
       "      <td>0.073</td>\n",
       "      <td>1.405</td>\n",
       "      <td>0.381</td>\n",
       "      <td>0.456</td>\n",
       "      <td>-0.726</td>\n",
       "    </tr>\n",
       "    <tr>\n",
       "      <th>3</th>\n",
       "      <td>0.768</td>\n",
       "      <td>-0.657</td>\n",
       "      <td>-1.096</td>\n",
       "      <td>-0.312</td>\n",
       "      <td>0.178</td>\n",
       "      <td>1.135</td>\n",
       "    </tr>\n",
       "    <tr>\n",
       "      <th>4</th>\n",
       "      <td>0.476</td>\n",
       "      <td>-0.081</td>\n",
       "      <td>0.716</td>\n",
       "      <td>-0.732</td>\n",
       "      <td>-1.066</td>\n",
       "      <td>-0.724</td>\n",
       "    </tr>\n",
       "  </tbody>\n",
       "</table>\n",
       "</div>"
      ],
      "text/plain": [
       "       0      1      2      3      4      5\n",
       "0 -2.406 -0.017 -0.400 -0.321  0.700 -0.367\n",
       "1  0.652  1.842  0.220  0.986  0.928 -0.230\n",
       "2  0.339  0.073  1.405  0.381  0.456 -0.726\n",
       "3  0.768 -0.657 -1.096 -0.312  0.178  1.135\n",
       "4  0.476 -0.081  0.716 -0.732 -1.066 -0.724"
      ]
     },
     "execution_count": 421,
     "metadata": {},
     "output_type": "execute_result"
    }
   ],
   "source": [
    "X_trainpca1.head()"
   ]
  },
  {
   "cell_type": "code",
   "execution_count": 532,
   "metadata": {
    "collapsed": false
   },
   "outputs": [
    {
     "data": {
      "text/plain": [
       "GaussianNB()"
      ]
     },
     "execution_count": 532,
     "metadata": {},
     "output_type": "execute_result"
    }
   ],
   "source": [
    "gpca_nb1 = GaussianNB()\n",
    "gpca_nb1.fit(X_trainpca1, y_train1)"
   ]
  },
  {
   "cell_type": "code",
   "execution_count": 533,
   "metadata": {
    "collapsed": false
   },
   "outputs": [
    {
     "name": "stdout",
     "output_type": "stream",
     "text": [
      "10000 loops, best of 3: 119 µs per loop\n"
     ]
    }
   ],
   "source": [
    "%timeit gpca_nb1.predict(X_testpca1)"
   ]
  },
  {
   "cell_type": "code",
   "execution_count": 424,
   "metadata": {
    "collapsed": false
   },
   "outputs": [
    {
     "data": {
      "text/plain": [
       "0.74172185430463577"
      ]
     },
     "execution_count": 424,
     "metadata": {},
     "output_type": "execute_result"
    }
   ],
   "source": [
    "# accuracy with pca\n",
    "gpca_nb1.score(X_testpca1, y_test1)"
   ]
  },
  {
   "cell_type": "code",
   "execution_count": 425,
   "metadata": {
    "collapsed": false
   },
   "outputs": [
    {
     "data": {
      "text/plain": [
       "(0.55102040816326525, 0.61363636363636365, 0.58064516129032251, None)"
      ]
     },
     "execution_count": 425,
     "metadata": {},
     "output_type": "execute_result"
    }
   ],
   "source": [
    "# Precision / Recall / F1 with pca\n",
    "\n",
    "pred1pca = gpca_nb1.predict(X_testpca1)\n",
    "precision_recall_fscore_support(pred1pca, y_test1, average='binary')  "
   ]
  },
  {
   "cell_type": "markdown",
   "metadata": {},
   "source": [
    "## 7) Give your conclusions on the use of k-Means and PCA on the Diabetes dataset"
   ]
  },
  {
   "cell_type": "markdown",
   "metadata": {},
   "source": [
    "Overall, there were many surprises. It is possible that the clusters I selected for data_imputed could have been better, as sometimes I second-guess finding the \"elbow.\" Non-well-formed clusters could have lowered the performance of the Gaussian Naive Bayes in terms of accuracy. For both Logistic Regression and Naive Bayes, clustering increased runtime, which makes sense since we were adding another dimension. PCA also yielded surprising results, boosting Naive Bayes' accuracy (possibly due to assumed feature independence) and slightly lowering Logistic Regression's. Ultimately, it made Logistic Regression somewhat slower to run. In both cases, it diminished the models' interpretibility."
   ]
  },
  {
   "cell_type": "code",
   "execution_count": null,
   "metadata": {
    "collapsed": true
   },
   "outputs": [],
   "source": []
  }
 ],
 "metadata": {
  "kernelspec": {
   "display_name": "Python 2",
   "language": "python",
   "name": "python2"
  },
  "language_info": {
   "codemirror_mode": {
    "name": "ipython",
    "version": 2
   },
   "file_extension": ".py",
   "mimetype": "text/x-python",
   "name": "python",
   "nbconvert_exporter": "python",
   "pygments_lexer": "ipython2",
   "version": "2.7.11"
  }
 },
 "nbformat": 4,
 "nbformat_minor": 0
}
