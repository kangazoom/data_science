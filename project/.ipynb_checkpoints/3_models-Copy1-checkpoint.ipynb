{
 "cells": [
  {
   "cell_type": "code",
   "execution_count": 1,
   "metadata": {
    "collapsed": true
   },
   "outputs": [],
   "source": [
    "# import necessary libraries to start\n",
    "import pandas as pd\n",
    "import numpy as np\n",
    "import matplotlib.pyplot as plt\n",
    "%matplotlib inline"
   ]
  },
  {
   "cell_type": "code",
   "execution_count": 2,
   "metadata": {
    "collapsed": false
   },
   "outputs": [],
   "source": [
    "from sk_modelcurves.learning_curve import draw_learning_curve"
   ]
  },
  {
   "cell_type": "markdown",
   "metadata": {},
   "source": [
    "<table>\n",
    "\t<tbody>\n",
    "\t\t<tr>\n",
    "\t\t\t<td><b>Column Name</b></td>\n",
    "\t\t\t<td><b>Description</b></td>\n",
    "\t\t</tr>\n",
    "\t\t<tr>\n",
    "\t\t\t<td>act_percent_took_exam</td>\n",
    "\t\t\t<td>Percentage of students who took the ACT exam (note: scores are not included due to lack of data &lt;50%)</td>\n",
    "\t\t</tr>\n",
    "                \t\t<tr>\n",
    "\t\t\t<td>all_crime</td>\n",
    "\t\t\t<td>Sum of major_crimes and violation_offenses</td>\n",
    "\t\t</tr>\n",
    "        \t\t<tr>\n",
    "\t\t\t<td>ap_exams_percent_scoring_3plus</td>\n",
    "\t\t\t<td>Percentage of students who scored over 3 on the AP exam (passing grade)</td>\n",
    "\t\t</tr>\n",
    "        \t\t<tr>\n",
    "\t\t\t<td>arts_percent</td>\n",
    "\t\t\t<td>Percentage of students who received an arts endorsement on their diploma</td>\n",
    "\t\t</tr>\n",
    "\t\t<tr>\n",
    "\t\t\t<td>asian_percent</td>\n",
    "\t\t\t<td>Percent of Asian students within school&#39;s population</td>\n",
    "\t\t</tr>\n",
    "        \t\t<tr>\n",
    "\t\t\t<td>avg_home_value_sqft</td>\n",
    "\t\t\t<td>Average price per square footage (condos and co-ops) in USD</td>\n",
    "\t\t</tr>\n",
    "\t\t<tr>\n",
    "\t\t\t<td>black_percent</td>\n",
    "\t\t\t<td>Percent of black students within school&#39;s population</td>\n",
    "\t\t</tr>\n",
    "\t\t<tr>\n",
    "\t\t\t<td>college_career_readiness_index</td>\n",
    "\t\t\t<td>\n",
    "\t\t\t<p>Percentage of students who have attained any of the following:</p>\n",
    "\n",
    "\t\t\t<p>- Scored 65+ on Algebra II or Math 2, Chemistry, or Physics&nbsp;Regents</p>\n",
    "\n",
    "\t\t\t<p>- Scored 3+ on any AP exam or 4+ on any IB exam</p>\n",
    "\n",
    "\t\t\t<p>- Earned a grade of &#39;C&#39; or higher on any college-credit bearing course</p>\n",
    "\n",
    "\t\t\t<p>- Passed any course certified by the DOE as being &quot;college and career ready&quot;</p>\n",
    "\n",
    "\t\t\t<p>- Earned a diploma with a CTE (&#39;Career and Technical Education&#39;) endorsement</p>\n",
    "\n",
    "\t\t\t<p>- Earned a diploma with an Arts endorsement</p>\n",
    "\n",
    "\t\t\t<p>- Passed an industry-recognized technical assesment</p>\n",
    "\t\t\t</td>\n",
    "\t\t</tr>\n",
    "\t\t<tr>\n",
    "\t\t\t<td>college_nys_private</td>\n",
    "\t\t\t<td>Enrollment rate into New York State private universities within six months of graduation</td>\n",
    "\t\t</tr>\n",
    "\t\t<tr>\n",
    "\t\t\t<td>college_nys_public</td>\n",
    "\t\t\t<td>Enrollment rate into New York State public universities within six months of graduation</td>\n",
    "\t\t</tr>\n",
    "\t\t<tr>\n",
    "\t\t\t<td>college_out_of_state</td>\n",
    "\t\t\t<td>Enrollment rate into out of state universities within six months of graduation</td>\n",
    "\t\t</tr>\n",
    "\t\t<tr>\n",
    "\t\t\t<td>college_readiness_index</td>\n",
    "\t\t\t<td>Percentage of students who meet CUNY&#39;s standards of readiness in math (score of 80+ on a math Regents, 480+ on SAT math, 20+ on ACT math, 40 on a CUNY assesment test math 2, or pass granted by the NY State Performance Standards Consortium) or English (score of 75+ on English Regents, 480+ on SAT verbal, 20+ on ACT English, or 70+ on reading and 56+ on writing on the CUNY assesment test)</td>\n",
    "\t\t</tr>\n",
    "        \t\t<tr>\n",
    "\t\t\t<td>cte_percent</td>\n",
    "\t\t\t<td>Percentage of students who graduate with a career technology endorsement on their diploma</td>\n",
    "\t\t</tr>\n",
    "\t\t<tr>\n",
    "\t\t\t<td>cuny_2yr</td>\n",
    "\t\t\t<td>Enrollment rate into 2-year CUNY (City University of New York) schools within six months of graduation</td>\n",
    "\t\t</tr>\n",
    "\t\t<tr>\n",
    "\t\t\t<td>cuny_4yr</td>\n",
    "\t\t\t<td>Enrollment rate into 4-year CUNY (City University of New York) schools within six months of graduation</td>\n",
    "\t\t</tr>\n",
    "\t\t<tr>\n",
    "\t\t\t<td>disability_percent</td>\n",
    "\t\t\t<td>Percent of students with disabilities within school&#39;s population</td>\n",
    "\t\t</tr>\n",
    "        \t\t<tr>\n",
    "\t\t\t<td>district_admin_code</td>\n",
    "\t\t\t<td>Administrative Department of Education district code (special identifier for special needs schools)</td>\n",
    "\t\t</tr>\n",
    "                       \t\t<tr>\n",
    "\t\t\t<td>dropouts_percent</td>\n",
    "\t\t\t<td>Percent of students from cohort who dropped out</td>\n",
    "\t\t</tr>\n",
    "\t\t<tr>\n",
    "\t\t\t<td>ell_percent</td>\n",
    "\t\t\t<td>Percent of English language learner students within school&#39;s population<br />\n",
    "\t\t\t(English is not their native language)</td>\n",
    "\t\t</tr>\n",
    "\n",
    "\t\t<tr>\n",
    "\t\t\t<td>enrollment</td>\n",
    "\t\t\t<td>Total student enrollment for school</td>\n",
    "\t\t</tr>\n",
    "\t\t<tr>\n",
    "\t\t\t<td>female_percent</td>\n",
    "\t\t\t<td>Percent of female students within school&#39;s population</td>\n",
    "\t\t</tr>\n",
    "\t\t<tr>\n",
    "\t\t\t<td>grade8_english</td>\n",
    "\t\t\t<td>Average Grade 8 English Proficiency (as determined by state exams)</td>\n",
    "\t\t</tr>\n",
    "\t\t<tr>\n",
    "\t\t\t<td>grade8_math</td>\n",
    "\t\t\t<td>Average Grade 8 Math Proficiency (as determined by state exams)</td>\n",
    "\t\t</tr>\n",
    "        \t\t<tr>\n",
    "\t\t\t<td>grade8_proficiency</td>\n",
    "\t\t\t<td>Sum of Average Grade 8 Math and Average Grade 8 English (as determined by state exams)</td>\n",
    "\t\t</tr>\n",
    "\t\t<tr>\n",
    "\t\t\t<td>graduation_rate</td>\n",
    "\t\t\t<td>Rate of students who graduated high school within four years</td>\n",
    "\t\t</tr>\n",
    "        \t\t<tr>\n",
    "\t\t\t<td>label</td>\n",
    "\t\t\t<td>1=School graduates students at a rate over the average NYC public high school graduation rate (within one standard deviation)\n",
    "            <br>0=School graduates students at a rate under the average public high school graduation rate (within one standard deviation)</td>\n",
    "\t\t</tr>\n",
    "\t\t<tr>\n",
    "\t\t\t<td>hispanic_percent</td>\n",
    "\t\t\t<td>Percent of hispanic students within school&#39;s population</td>\n",
    "\t\t</tr>\n",
    "        \t\t<tr>\n",
    "\t\t\t<td>major_crimes</td>\n",
    "\t\t\t<td>Aggregate of major crimes in a school's precinct (includes murder, rape, robbery, grand theft, and grand theft auto)</td>\n",
    "\t\t</tr>\n",
    "\t\t<tr>\n",
    "\t\t\t<td>male_percent</td>\n",
    "\t\t\t<td>Percent of male students within school&#39;s population</td>\n",
    "\t\t</tr>\n",
    "        \t\t<tr>\n",
    "\t\t\t<td>population_diversity</td>\n",
    "\t\t\t<td>Diversity feature created by summing the squares of white_percent, black_percent, hispanic_percent, and asian_percent; note that a higher number indicate a more homogenous population, while a smaller number represents a more diverse student body</td>\n",
    "\t\t</tr>\n",
    "\t\t<tr>\n",
    "\t\t\t<td>post-secondary_enroll_rate&nbsp;</td>\n",
    "\t\t\t<td>Rate of students who enrolled in post-secondary education within six months of graduation</td>\n",
    "\t\t</tr>\n",
    "\t\t<tr>\n",
    "\t\t\t<td>poverty_percent</td>\n",
    "\t\t\t<td>Percent of students within school&#39;s population who live in poverty (as determined by free lunch index, temporary housing, ratio of subsidiaries given)</td>\n",
    "\t\t</tr>\n",
    "        \t\t<tr>\n",
    "\t\t\t<td>principal_year_exp</td>\n",
    "\t\t\t<td>Years of experience current principal has had at school</td>\n",
    "\t\t</tr>\n",
    "\n",
    "        \t\t<tr>\n",
    "\t\t\t<td>regents_algebra</td>\n",
    "\t\t\t<td>Average score on integrated algebra Regents exam (passing score of 65 on any math exam is required for graduation)</td>\n",
    "\t\t</tr>\n",
    "\n",
    " \n",
    "\t\t<tr>\n",
    "\t\t\t<td>regents_english</td>\n",
    "\t\t\t<td>Average score on English Regents exam&nbsp;(passing score of 65 is required for graduation)</td>\n",
    "\t\t</tr>\n",
    "\n",
    "        \t\t<tr>\n",
    "\t\t\t<td>regents_history_global</td>\n",
    "\t\t\t<td>Average score on global history Regents exam (passing score of 65 on any history exam is required for graduation)</td>\n",
    "\t\t</tr>\n",
    "\n",
    "\n",
    "        <tr>\n",
    "        \t\t\t<td>regents_living_environ</td>\n",
    "\t\t\t<td>Average score on science living environment Regents exams (passing score of 65 on any science exam is required for graduation)</td>\n",
    "\t\t</tr>\n",
    "        \t\t<tr>\n",
    "\t\t\t<td>regents_overall</td>\n",
    "\t\t\t<td>Sum of all average reported Regents scores from each school (I created this)</td>\n",
    "\t\t</tr>\n",
    "  \n",
    "\t\t<tr>\n",
    "\t\t\t<td>sat_math</td>\n",
    "\t\t\t<td>Average score on SAT Math Exam (out of 800)</td>\n",
    "\t\t</tr>\n",
    "\t\t<tr>\n",
    "\t\t\t<td>sat_percent_took_exam</td>\n",
    "\t\t\t<td>Percentage of students who took the SAT exam</td>\n",
    "\t\t</tr>\n",
    "\t\t<tr>\n",
    "\t\t\t<td>sat_reading</td>\n",
    "\t\t\t<td>Average score on SAT Math Exam (out of 800)</td>\n",
    "\t\t</tr>\n",
    "\t\t<tr>\n",
    "\t\t\t<td>sat_score_overall</td>\n",
    "\t\t\t<td>Average score on SAT Math Exam (out of 2400)</td>\n",
    "\t\t</tr>\n",
    "\t\t<tr>\n",
    "\t\t\t<td>sat_writing</td>\n",
    "\t\t\t<td>Average score on SAT Math Exam (out of 800)</td>\n",
    "\t\t</tr>\n",
    "\n",
    "        \t\t<tr>\n",
    "\t\t\t<td>school_day_length</td>\n",
    "\t\t\t<td>Length of schoolday (in minutes). Created using start and end times.</td>\n",
    "\t\t</tr>\n",
    "        \t<tr>\n",
    "\t\t\t<td>school_desc</td>\n",
    "\t\t\t<td>Short description of school type</td>\n",
    "\t\t</tr>\n",
    "        \t<tr>\n",
    "\t\t\t<td>school_environment_survey</td>\n",
    "\t\t\t<td>Survey responses in percentage positive combined from students, teachers, and parents regarding school culture/environment</td>\n",
    "\t\t</tr>\n",
    "                \t<tr>\n",
    "\t\t\t<td>school_name</td>\n",
    "\t\t\t<td>Name of schools</td>\n",
    "\t\t</tr>\n",
    "        \t\t<tr>\n",
    "\t\t\t<td>self-contained_percent</td>\n",
    "\t\t\t<td>Percentage of students in a self-contained learning environment; typically, for special needs students</td>\n",
    "\t\t</tr>\n",
    "\t\t<tr>\n",
    "\t\t\t<td>student_attendance_rate</td>\n",
    "\t\t\t<td>Rate of student attendance throughout the year</td>\n",
    "\t\t</tr>\n",
    "\t\t<tr>\n",
    "\t\t\t<td>teacher_attendance</td>\n",
    "\t\t\t<td>Rate of teacher attendane throughout the year</td>\n",
    "\t\t</tr>\n",
    "        \t\t<tr>\n",
    "\t\t\t<td>violation_offenses</td>\n",
    "\t\t\t<td>Aggregate of violation offenses (includes harrassment complaints) within a school's precinct)</td>\n",
    "\t\t</tr>\n",
    "\t\t<tr>\n",
    "\t\t\t<td>vocational_prog</td>\n",
    "\t\t\t<td>Enrollment rate into vocational programs within six months of graduation</td>\n",
    "\t\t</tr>\n",
    "\t\t<tr>\n",
    "\t\t\t<td>white_percent</td>\n",
    "\t\t\t<td>Percent of white students within school&#39;s population</td>\n",
    "\t\t</tr>\n",
    "\t\t<tr>\n",
    "\t\t\t<td>zip_code</td>\n",
    "\t\t\t<td>School&#39;s zip code</td>\n",
    "\t\t</tr>\n",
    "\t</tbody>\n",
    "</table>\n",
    "\n",
    "\n"
   ]
  },
  {
   "cell_type": "code",
   "execution_count": 3,
   "metadata": {
    "collapsed": false
   },
   "outputs": [
    {
     "data": {
      "text/html": [
       "<div>\n",
       "<table border=\"1\" class=\"dataframe\">\n",
       "  <thead>\n",
       "    <tr style=\"text-align: right;\">\n",
       "      <th></th>\n",
       "      <th>female_percent</th>\n",
       "      <th>male_percent</th>\n",
       "      <th>poverty_percent</th>\n",
       "      <th>avg_home_value_sqft</th>\n",
       "      <th>district_admin_code</th>\n",
       "      <th>grade8_english</th>\n",
       "      <th>grade8_math</th>\n",
       "      <th>regents_algebra</th>\n",
       "      <th>regents_english</th>\n",
       "      <th>regents_history_global</th>\n",
       "      <th>...</th>\n",
       "      <th>dropouts_percent</th>\n",
       "      <th>major_crimes</th>\n",
       "      <th>violation_offenses</th>\n",
       "      <th>school_day_length</th>\n",
       "      <th>sat_score_overall</th>\n",
       "      <th>regents_score_overall</th>\n",
       "      <th>population_diversity</th>\n",
       "      <th>grade8_proficiency</th>\n",
       "      <th>all_crime</th>\n",
       "      <th>label</th>\n",
       "    </tr>\n",
       "    <tr>\n",
       "      <th>DBN</th>\n",
       "      <th></th>\n",
       "      <th></th>\n",
       "      <th></th>\n",
       "      <th></th>\n",
       "      <th></th>\n",
       "      <th></th>\n",
       "      <th></th>\n",
       "      <th></th>\n",
       "      <th></th>\n",
       "      <th></th>\n",
       "      <th></th>\n",
       "      <th></th>\n",
       "      <th></th>\n",
       "      <th></th>\n",
       "      <th></th>\n",
       "      <th></th>\n",
       "      <th></th>\n",
       "      <th></th>\n",
       "      <th></th>\n",
       "      <th></th>\n",
       "      <th></th>\n",
       "    </tr>\n",
       "  </thead>\n",
       "  <tbody>\n",
       "    <tr>\n",
       "      <th>1501M292</th>\n",
       "      <td>0.376471</td>\n",
       "      <td>0.623529</td>\n",
       "      <td>0.866667</td>\n",
       "      <td>1321.166667</td>\n",
       "      <td>1</td>\n",
       "      <td>2.18</td>\n",
       "      <td>2.06</td>\n",
       "      <td>64</td>\n",
       "      <td>66</td>\n",
       "      <td>53</td>\n",
       "      <td>...</td>\n",
       "      <td>0.095890</td>\n",
       "      <td>732</td>\n",
       "      <td>506</td>\n",
       "      <td>420</td>\n",
       "      <td>1197</td>\n",
       "      <td>238</td>\n",
       "      <td>0.414436</td>\n",
       "      <td>4.24</td>\n",
       "      <td>1238</td>\n",
       "      <td>0</td>\n",
       "    </tr>\n",
       "    <tr>\n",
       "      <th>1501M448</th>\n",
       "      <td>0.378289</td>\n",
       "      <td>0.621711</td>\n",
       "      <td>0.891447</td>\n",
       "      <td>1321.166667</td>\n",
       "      <td>1</td>\n",
       "      <td>2.27</td>\n",
       "      <td>2.37</td>\n",
       "      <td>64</td>\n",
       "      <td>69</td>\n",
       "      <td>67</td>\n",
       "      <td>...</td>\n",
       "      <td>0.097561</td>\n",
       "      <td>732</td>\n",
       "      <td>506</td>\n",
       "      <td>420</td>\n",
       "      <td>1144</td>\n",
       "      <td>268</td>\n",
       "      <td>0.326466</td>\n",
       "      <td>4.64</td>\n",
       "      <td>1238</td>\n",
       "      <td>0</td>\n",
       "    </tr>\n",
       "    <tr>\n",
       "      <th>1501M450</th>\n",
       "      <td>0.469970</td>\n",
       "      <td>0.530030</td>\n",
       "      <td>0.735736</td>\n",
       "      <td>1324.500000</td>\n",
       "      <td>1</td>\n",
       "      <td>2.66</td>\n",
       "      <td>2.63</td>\n",
       "      <td>65</td>\n",
       "      <td>75</td>\n",
       "      <td>64</td>\n",
       "      <td>...</td>\n",
       "      <td>0.034091</td>\n",
       "      <td>1331</td>\n",
       "      <td>584</td>\n",
       "      <td>420</td>\n",
       "      <td>1327</td>\n",
       "      <td>271</td>\n",
       "      <td>0.418853</td>\n",
       "      <td>5.29</td>\n",
       "      <td>1915</td>\n",
       "      <td>1</td>\n",
       "    </tr>\n",
       "    <tr>\n",
       "      <th>1501M509</th>\n",
       "      <td>0.567493</td>\n",
       "      <td>0.432507</td>\n",
       "      <td>0.845730</td>\n",
       "      <td>1321.166667</td>\n",
       "      <td>1</td>\n",
       "      <td>2.28</td>\n",
       "      <td>2.09</td>\n",
       "      <td>61</td>\n",
       "      <td>69</td>\n",
       "      <td>63</td>\n",
       "      <td>...</td>\n",
       "      <td>0.176471</td>\n",
       "      <td>732</td>\n",
       "      <td>506</td>\n",
       "      <td>450</td>\n",
       "      <td>1245</td>\n",
       "      <td>257</td>\n",
       "      <td>0.430484</td>\n",
       "      <td>4.37</td>\n",
       "      <td>1238</td>\n",
       "      <td>0</td>\n",
       "    </tr>\n",
       "    <tr>\n",
       "      <th>1501M539</th>\n",
       "      <td>0.515274</td>\n",
       "      <td>0.484726</td>\n",
       "      <td>0.273199</td>\n",
       "      <td>1321.166667</td>\n",
       "      <td>1</td>\n",
       "      <td>3.50</td>\n",
       "      <td>3.53</td>\n",
       "      <td>80</td>\n",
       "      <td>91</td>\n",
       "      <td>87</td>\n",
       "      <td>...</td>\n",
       "      <td>0.008197</td>\n",
       "      <td>732</td>\n",
       "      <td>506</td>\n",
       "      <td>465</td>\n",
       "      <td>1859</td>\n",
       "      <td>346</td>\n",
       "      <td>0.289293</td>\n",
       "      <td>7.03</td>\n",
       "      <td>1238</td>\n",
       "      <td>1</td>\n",
       "    </tr>\n",
       "  </tbody>\n",
       "</table>\n",
       "<p>5 rows × 51 columns</p>\n",
       "</div>"
      ],
      "text/plain": [
       "          female_percent  male_percent  poverty_percent  avg_home_value_sqft  \\\n",
       "DBN                                                                            \n",
       "1501M292        0.376471      0.623529         0.866667          1321.166667   \n",
       "1501M448        0.378289      0.621711         0.891447          1321.166667   \n",
       "1501M450        0.469970      0.530030         0.735736          1324.500000   \n",
       "1501M509        0.567493      0.432507         0.845730          1321.166667   \n",
       "1501M539        0.515274      0.484726         0.273199          1321.166667   \n",
       "\n",
       "          district_admin_code  grade8_english  grade8_math  regents_algebra  \\\n",
       "DBN                                                                           \n",
       "1501M292                    1            2.18         2.06               64   \n",
       "1501M448                    1            2.27         2.37               64   \n",
       "1501M450                    1            2.66         2.63               65   \n",
       "1501M509                    1            2.28         2.09               61   \n",
       "1501M539                    1            3.50         3.53               80   \n",
       "\n",
       "          regents_english  regents_history_global  ...    dropouts_percent  \\\n",
       "DBN                                                ...                       \n",
       "1501M292               66                      53  ...            0.095890   \n",
       "1501M448               69                      67  ...            0.097561   \n",
       "1501M450               75                      64  ...            0.034091   \n",
       "1501M509               69                      63  ...            0.176471   \n",
       "1501M539               91                      87  ...            0.008197   \n",
       "\n",
       "          major_crimes  violation_offenses  school_day_length  \\\n",
       "DBN                                                             \n",
       "1501M292           732                 506                420   \n",
       "1501M448           732                 506                420   \n",
       "1501M450          1331                 584                420   \n",
       "1501M509           732                 506                450   \n",
       "1501M539           732                 506                465   \n",
       "\n",
       "          sat_score_overall  regents_score_overall  population_diversity  \\\n",
       "DBN                                                                        \n",
       "1501M292               1197                    238              0.414436   \n",
       "1501M448               1144                    268              0.326466   \n",
       "1501M450               1327                    271              0.418853   \n",
       "1501M509               1245                    257              0.430484   \n",
       "1501M539               1859                    346              0.289293   \n",
       "\n",
       "          grade8_proficiency  all_crime  label  \n",
       "DBN                                             \n",
       "1501M292                4.24       1238      0  \n",
       "1501M448                4.64       1238      0  \n",
       "1501M450                5.29       1915      1  \n",
       "1501M509                4.37       1238      0  \n",
       "1501M539                7.03       1238      1  \n",
       "\n",
       "[5 rows x 51 columns]"
      ]
     },
     "execution_count": 3,
     "metadata": {},
     "output_type": "execute_result"
    }
   ],
   "source": [
    "# import data (exported from 2_data_cleaning_eda.ipynb)\n",
    "all_data = pd.read_csv('nyc_high_schools_complete_clean.csv', index_col=0)\n",
    "all_data.head()"
   ]
  },
  {
   "cell_type": "code",
   "execution_count": 4,
   "metadata": {
    "collapsed": false,
    "scrolled": true
   },
   "outputs": [
    {
     "data": {
      "text/plain": [
       "['female_percent',\n",
       " 'male_percent',\n",
       " 'poverty_percent',\n",
       " 'avg_home_value_sqft',\n",
       " 'district_admin_code',\n",
       " 'grade8_english',\n",
       " 'grade8_math',\n",
       " 'regents_algebra',\n",
       " 'regents_english',\n",
       " 'regents_history_global',\n",
       " 'regents_living_environ',\n",
       " 'sat_reading',\n",
       " 'sat_math',\n",
       " 'sat_writing',\n",
       " 'college_readiness_index',\n",
       " 'cuny_2yr',\n",
       " 'cuny_4yr',\n",
       " 'college_career_readiness_index',\n",
       " 'enrollment',\n",
       " 'graduation_rate',\n",
       " 'college_nys_private',\n",
       " 'college_nys_public',\n",
       " 'college_out_of_state',\n",
       " 'asian_percent',\n",
       " 'black_percent',\n",
       " 'ell_percent',\n",
       " 'hispanic_percent',\n",
       " 'self-contained_percent',\n",
       " 'disability_percent',\n",
       " 'white_percent',\n",
       " 'cte_percent',\n",
       " 'arts_percent',\n",
       " 'ap_exams_percent_scoring_3plus',\n",
       " 'act_percent_took_exam',\n",
       " 'sat_percent_took_exam',\n",
       " 'post-secondary_enroll_rate',\n",
       " 'student_attendance_rate',\n",
       " 'school_environment_survey',\n",
       " 'teacher_attendance',\n",
       " 'principal_year_exp',\n",
       " 'zip_code',\n",
       " 'dropouts_percent',\n",
       " 'major_crimes',\n",
       " 'violation_offenses',\n",
       " 'school_day_length',\n",
       " 'sat_score_overall',\n",
       " 'regents_score_overall',\n",
       " 'population_diversity',\n",
       " 'grade8_proficiency',\n",
       " 'all_crime',\n",
       " 'label']"
      ]
     },
     "execution_count": 4,
     "metadata": {},
     "output_type": "execute_result"
    }
   ],
   "source": [
    "list(all_data)"
   ]
  },
  {
   "cell_type": "code",
   "execution_count": 5,
   "metadata": {
    "collapsed": true
   },
   "outputs": [],
   "source": [
    "data = all_data.copy()"
   ]
  },
  {
   "cell_type": "code",
   "execution_count": 6,
   "metadata": {
    "collapsed": true
   },
   "outputs": [],
   "source": [
    "# Need to drop more features for fair evaluation:\n",
    "# graduation rates, college readiness index (since they are all tied to the model used to calculate the label)\n",
    "data = data.drop(['college_readiness_index', 'graduation_rate', 'college_career_readiness_index'], axis=1)"
   ]
  },
  {
   "cell_type": "code",
   "execution_count": 7,
   "metadata": {
    "collapsed": true
   },
   "outputs": [],
   "source": [
    "# also drop forward-facing features\n",
    "data = data.drop(['cuny_2yr', 'cuny_4yr', 'college_nys_private', 'college_nys_public',\n",
    "                 'college_out_of_state', 'post-secondary_enroll_rate'], axis=1)"
   ]
  },
  {
   "cell_type": "code",
   "execution_count": 8,
   "metadata": {
    "collapsed": true
   },
   "outputs": [],
   "source": [
    "# Really should drop any exam scores used to calculate the college readiness index (SAT scores, Regents scores, APs)\n",
    "# Nervous about results, so will create a separate dataframe for comparison\n",
    "data_noexam = data.drop(['regents_algebra', 'regents_english', 'regents_history_global',\n",
    "                        'regents_living_environ', 'sat_math', 'sat_reading',\n",
    "                        'sat_writing', 'ap_exams_percent_scoring_3plus', 'sat_score_overall', 'regents_score_overall'], axis=1)"
   ]
  },
  {
   "cell_type": "code",
   "execution_count": 9,
   "metadata": {
    "collapsed": false
   },
   "outputs": [],
   "source": [
    "# create a dataset with dummy categoricals for only zip\n",
    "data_zip = data_noexam.drop('district_admin_code', axis=1)"
   ]
  },
  {
   "cell_type": "code",
   "execution_count": 10,
   "metadata": {
    "collapsed": false
   },
   "outputs": [],
   "source": [
    "data_zip['zip_code'] = data_zip['zip_code'].astype(int)"
   ]
  },
  {
   "cell_type": "code",
   "execution_count": 11,
   "metadata": {
    "collapsed": false
   },
   "outputs": [],
   "source": [
    "data_zip['zip_code'] = data_zip['zip_code'].astype('category')"
   ]
  },
  {
   "cell_type": "code",
   "execution_count": 12,
   "metadata": {
    "collapsed": false
   },
   "outputs": [],
   "source": [
    "zip_code_dummy = pd.get_dummies(data_zip['zip_code'])"
   ]
  },
  {
   "cell_type": "code",
   "execution_count": 13,
   "metadata": {
    "collapsed": false
   },
   "outputs": [],
   "source": [
    "data_zip = pd.concat([data_zip, zip_code_dummy], axis=1)"
   ]
  },
  {
   "cell_type": "code",
   "execution_count": 14,
   "metadata": {
    "collapsed": false
   },
   "outputs": [
    {
     "data": {
      "text/html": [
       "<div>\n",
       "<table border=\"1\" class=\"dataframe\">\n",
       "  <thead>\n",
       "    <tr style=\"text-align: right;\">\n",
       "      <th></th>\n",
       "      <th>female_percent</th>\n",
       "      <th>male_percent</th>\n",
       "      <th>poverty_percent</th>\n",
       "      <th>avg_home_value_sqft</th>\n",
       "      <th>grade8_english</th>\n",
       "      <th>grade8_math</th>\n",
       "      <th>enrollment</th>\n",
       "      <th>asian_percent</th>\n",
       "      <th>black_percent</th>\n",
       "      <th>ell_percent</th>\n",
       "      <th>...</th>\n",
       "      <th>11419</th>\n",
       "      <th>11420</th>\n",
       "      <th>11423</th>\n",
       "      <th>11426</th>\n",
       "      <th>11427</th>\n",
       "      <th>11432</th>\n",
       "      <th>11433</th>\n",
       "      <th>11434</th>\n",
       "      <th>11691</th>\n",
       "      <th>11694</th>\n",
       "    </tr>\n",
       "    <tr>\n",
       "      <th>DBN</th>\n",
       "      <th></th>\n",
       "      <th></th>\n",
       "      <th></th>\n",
       "      <th></th>\n",
       "      <th></th>\n",
       "      <th></th>\n",
       "      <th></th>\n",
       "      <th></th>\n",
       "      <th></th>\n",
       "      <th></th>\n",
       "      <th></th>\n",
       "      <th></th>\n",
       "      <th></th>\n",
       "      <th></th>\n",
       "      <th></th>\n",
       "      <th></th>\n",
       "      <th></th>\n",
       "      <th></th>\n",
       "      <th></th>\n",
       "      <th></th>\n",
       "      <th></th>\n",
       "    </tr>\n",
       "  </thead>\n",
       "  <tbody>\n",
       "    <tr>\n",
       "      <th>1501M292</th>\n",
       "      <td>0.376471</td>\n",
       "      <td>0.623529</td>\n",
       "      <td>0.866667</td>\n",
       "      <td>1321.166667</td>\n",
       "      <td>2.18</td>\n",
       "      <td>2.06</td>\n",
       "      <td>255</td>\n",
       "      <td>0.132</td>\n",
       "      <td>0.244</td>\n",
       "      <td>0.127</td>\n",
       "      <td>...</td>\n",
       "      <td>0</td>\n",
       "      <td>0</td>\n",
       "      <td>0</td>\n",
       "      <td>0</td>\n",
       "      <td>0</td>\n",
       "      <td>0</td>\n",
       "      <td>0</td>\n",
       "      <td>0</td>\n",
       "      <td>0</td>\n",
       "      <td>0</td>\n",
       "    </tr>\n",
       "    <tr>\n",
       "      <th>1501M448</th>\n",
       "      <td>0.378289</td>\n",
       "      <td>0.621711</td>\n",
       "      <td>0.891447</td>\n",
       "      <td>1321.166667</td>\n",
       "      <td>2.27</td>\n",
       "      <td>2.37</td>\n",
       "      <td>304</td>\n",
       "      <td>0.299</td>\n",
       "      <td>0.250</td>\n",
       "      <td>0.194</td>\n",
       "      <td>...</td>\n",
       "      <td>0</td>\n",
       "      <td>0</td>\n",
       "      <td>0</td>\n",
       "      <td>0</td>\n",
       "      <td>0</td>\n",
       "      <td>0</td>\n",
       "      <td>0</td>\n",
       "      <td>0</td>\n",
       "      <td>0</td>\n",
       "      <td>0</td>\n",
       "    </tr>\n",
       "    <tr>\n",
       "      <th>1501M450</th>\n",
       "      <td>0.469970</td>\n",
       "      <td>0.530030</td>\n",
       "      <td>0.735736</td>\n",
       "      <td>1324.500000</td>\n",
       "      <td>2.66</td>\n",
       "      <td>2.63</td>\n",
       "      <td>666</td>\n",
       "      <td>0.094</td>\n",
       "      <td>0.221</td>\n",
       "      <td>0.018</td>\n",
       "      <td>...</td>\n",
       "      <td>0</td>\n",
       "      <td>0</td>\n",
       "      <td>0</td>\n",
       "      <td>0</td>\n",
       "      <td>0</td>\n",
       "      <td>0</td>\n",
       "      <td>0</td>\n",
       "      <td>0</td>\n",
       "      <td>0</td>\n",
       "      <td>0</td>\n",
       "    </tr>\n",
       "    <tr>\n",
       "      <th>1501M509</th>\n",
       "      <td>0.567493</td>\n",
       "      <td>0.432507</td>\n",
       "      <td>0.845730</td>\n",
       "      <td>1321.166667</td>\n",
       "      <td>2.28</td>\n",
       "      <td>2.09</td>\n",
       "      <td>363</td>\n",
       "      <td>0.058</td>\n",
       "      <td>0.399</td>\n",
       "      <td>0.091</td>\n",
       "      <td>...</td>\n",
       "      <td>0</td>\n",
       "      <td>0</td>\n",
       "      <td>0</td>\n",
       "      <td>0</td>\n",
       "      <td>0</td>\n",
       "      <td>0</td>\n",
       "      <td>0</td>\n",
       "      <td>0</td>\n",
       "      <td>0</td>\n",
       "      <td>0</td>\n",
       "    </tr>\n",
       "    <tr>\n",
       "      <th>1501M539</th>\n",
       "      <td>0.515274</td>\n",
       "      <td>0.484726</td>\n",
       "      <td>0.273199</td>\n",
       "      <td>1321.166667</td>\n",
       "      <td>3.50</td>\n",
       "      <td>3.53</td>\n",
       "      <td>1735</td>\n",
       "      <td>0.385</td>\n",
       "      <td>0.133</td>\n",
       "      <td>0.002</td>\n",
       "      <td>...</td>\n",
       "      <td>0</td>\n",
       "      <td>0</td>\n",
       "      <td>0</td>\n",
       "      <td>0</td>\n",
       "      <td>0</td>\n",
       "      <td>0</td>\n",
       "      <td>0</td>\n",
       "      <td>0</td>\n",
       "      <td>0</td>\n",
       "      <td>0</td>\n",
       "    </tr>\n",
       "  </tbody>\n",
       "</table>\n",
       "<p>5 rows × 151 columns</p>\n",
       "</div>"
      ],
      "text/plain": [
       "          female_percent  male_percent  poverty_percent  avg_home_value_sqft  \\\n",
       "DBN                                                                            \n",
       "1501M292        0.376471      0.623529         0.866667          1321.166667   \n",
       "1501M448        0.378289      0.621711         0.891447          1321.166667   \n",
       "1501M450        0.469970      0.530030         0.735736          1324.500000   \n",
       "1501M509        0.567493      0.432507         0.845730          1321.166667   \n",
       "1501M539        0.515274      0.484726         0.273199          1321.166667   \n",
       "\n",
       "          grade8_english  grade8_math  enrollment  asian_percent  \\\n",
       "DBN                                                                \n",
       "1501M292            2.18         2.06         255          0.132   \n",
       "1501M448            2.27         2.37         304          0.299   \n",
       "1501M450            2.66         2.63         666          0.094   \n",
       "1501M509            2.28         2.09         363          0.058   \n",
       "1501M539            3.50         3.53        1735          0.385   \n",
       "\n",
       "          black_percent  ell_percent  ...    11419  11420  11423  11426  \\\n",
       "DBN                                   ...                                 \n",
       "1501M292          0.244        0.127  ...        0      0      0      0   \n",
       "1501M448          0.250        0.194  ...        0      0      0      0   \n",
       "1501M450          0.221        0.018  ...        0      0      0      0   \n",
       "1501M509          0.399        0.091  ...        0      0      0      0   \n",
       "1501M539          0.133        0.002  ...        0      0      0      0   \n",
       "\n",
       "          11427  11432  11433  11434  11691  11694  \n",
       "DBN                                                 \n",
       "1501M292      0      0      0      0      0      0  \n",
       "1501M448      0      0      0      0      0      0  \n",
       "1501M450      0      0      0      0      0      0  \n",
       "1501M509      0      0      0      0      0      0  \n",
       "1501M539      0      0      0      0      0      0  \n",
       "\n",
       "[5 rows x 151 columns]"
      ]
     },
     "execution_count": 14,
     "metadata": {},
     "output_type": "execute_result"
    }
   ],
   "source": [
    "data_zip.head()"
   ]
  },
  {
   "cell_type": "code",
   "execution_count": 15,
   "metadata": {
    "collapsed": true
   },
   "outputs": [],
   "source": [
    "# create a dataset with dummy categoricals for only administrative district\n",
    "data_admin = data_noexam.drop('zip_code', axis=1)"
   ]
  },
  {
   "cell_type": "code",
   "execution_count": 16,
   "metadata": {
    "collapsed": false
   },
   "outputs": [],
   "source": [
    "dac_dummy = pd.get_dummies(data_admin['district_admin_code'])"
   ]
  },
  {
   "cell_type": "code",
   "execution_count": 17,
   "metadata": {
    "collapsed": true
   },
   "outputs": [],
   "source": [
    "data_admin = pd.concat([data_admin, dac_dummy], axis=1)"
   ]
  },
  {
   "cell_type": "code",
   "execution_count": 18,
   "metadata": {
    "collapsed": true
   },
   "outputs": [],
   "source": [
    "# make sure that the non-categorical dataframes don't have them\n",
    "data_noexam = data_noexam.drop(['zip_code', 'district_admin_code'], axis=1)\n",
    "data = data.drop(['zip_code', 'district_admin_code'], axis=1)"
   ]
  },
  {
   "cell_type": "code",
   "execution_count": 19,
   "metadata": {
    "collapsed": false
   },
   "outputs": [],
   "source": [
    "# create a dataset with only race/socioeconomic features\n",
    "data_rses = pd.DataFrame(data=[data['female_percent'], data['male_percent'], \n",
    "                              data['poverty_percent'], data['avg_home_value_sqft'],\n",
    "                              data['asian_percent'], data['black_percent'],\n",
    "                              data['ell_percent'], data['hispanic_percent'],\n",
    "                              data['self-contained_percent'], data['disability_percent'],\n",
    "                              data['white_percent'], data['population_diversity'],\n",
    "                              data['label']])"
   ]
  },
  {
   "cell_type": "code",
   "execution_count": 21,
   "metadata": {
    "collapsed": false
   },
   "outputs": [
    {
     "data": {
      "text/html": [
       "<div>\n",
       "<table border=\"1\" class=\"dataframe\">\n",
       "  <thead>\n",
       "    <tr style=\"text-align: right;\">\n",
       "      <th></th>\n",
       "      <th>female_percent</th>\n",
       "      <th>male_percent</th>\n",
       "      <th>poverty_percent</th>\n",
       "      <th>avg_home_value_sqft</th>\n",
       "      <th>asian_percent</th>\n",
       "      <th>black_percent</th>\n",
       "      <th>ell_percent</th>\n",
       "      <th>hispanic_percent</th>\n",
       "      <th>self-contained_percent</th>\n",
       "      <th>disability_percent</th>\n",
       "      <th>white_percent</th>\n",
       "      <th>population_diversity</th>\n",
       "      <th>label</th>\n",
       "    </tr>\n",
       "    <tr>\n",
       "      <th>DBN</th>\n",
       "      <th></th>\n",
       "      <th></th>\n",
       "      <th></th>\n",
       "      <th></th>\n",
       "      <th></th>\n",
       "      <th></th>\n",
       "      <th></th>\n",
       "      <th></th>\n",
       "      <th></th>\n",
       "      <th></th>\n",
       "      <th></th>\n",
       "      <th></th>\n",
       "      <th></th>\n",
       "    </tr>\n",
       "  </thead>\n",
       "  <tbody>\n",
       "    <tr>\n",
       "      <th>1501M292</th>\n",
       "      <td>0.376471</td>\n",
       "      <td>0.623529</td>\n",
       "      <td>0.866667</td>\n",
       "      <td>1321.166667</td>\n",
       "      <td>0.132</td>\n",
       "      <td>0.244</td>\n",
       "      <td>0.127</td>\n",
       "      <td>0.566</td>\n",
       "      <td>0.015</td>\n",
       "      <td>0.298</td>\n",
       "      <td>0.039</td>\n",
       "      <td>0.414436</td>\n",
       "      <td>0</td>\n",
       "    </tr>\n",
       "    <tr>\n",
       "      <th>1501M448</th>\n",
       "      <td>0.378289</td>\n",
       "      <td>0.621711</td>\n",
       "      <td>0.891447</td>\n",
       "      <td>1321.166667</td>\n",
       "      <td>0.299</td>\n",
       "      <td>0.250</td>\n",
       "      <td>0.194</td>\n",
       "      <td>0.411</td>\n",
       "      <td>0.003</td>\n",
       "      <td>0.220</td>\n",
       "      <td>0.033</td>\n",
       "      <td>0.326466</td>\n",
       "      <td>0</td>\n",
       "    </tr>\n",
       "    <tr>\n",
       "      <th>1501M450</th>\n",
       "      <td>0.469970</td>\n",
       "      <td>0.530030</td>\n",
       "      <td>0.735736</td>\n",
       "      <td>1324.500000</td>\n",
       "      <td>0.094</td>\n",
       "      <td>0.221</td>\n",
       "      <td>0.018</td>\n",
       "      <td>0.579</td>\n",
       "      <td>0.000</td>\n",
       "      <td>0.234</td>\n",
       "      <td>0.083</td>\n",
       "      <td>0.418853</td>\n",
       "      <td>1</td>\n",
       "    </tr>\n",
       "    <tr>\n",
       "      <th>1501M509</th>\n",
       "      <td>0.567493</td>\n",
       "      <td>0.432507</td>\n",
       "      <td>0.845730</td>\n",
       "      <td>1321.166667</td>\n",
       "      <td>0.058</td>\n",
       "      <td>0.399</td>\n",
       "      <td>0.091</td>\n",
       "      <td>0.512</td>\n",
       "      <td>0.146</td>\n",
       "      <td>0.284</td>\n",
       "      <td>0.025</td>\n",
       "      <td>0.430484</td>\n",
       "      <td>0</td>\n",
       "    </tr>\n",
       "    <tr>\n",
       "      <th>1501M539</th>\n",
       "      <td>0.515274</td>\n",
       "      <td>0.484726</td>\n",
       "      <td>0.273199</td>\n",
       "      <td>1321.166667</td>\n",
       "      <td>0.385</td>\n",
       "      <td>0.133</td>\n",
       "      <td>0.002</td>\n",
       "      <td>0.180</td>\n",
       "      <td>0.000</td>\n",
       "      <td>0.043</td>\n",
       "      <td>0.286</td>\n",
       "      <td>0.289293</td>\n",
       "      <td>1</td>\n",
       "    </tr>\n",
       "  </tbody>\n",
       "</table>\n",
       "</div>"
      ],
      "text/plain": [
       "          female_percent  male_percent  poverty_percent  avg_home_value_sqft  \\\n",
       "DBN                                                                            \n",
       "1501M292        0.376471      0.623529         0.866667          1321.166667   \n",
       "1501M448        0.378289      0.621711         0.891447          1321.166667   \n",
       "1501M450        0.469970      0.530030         0.735736          1324.500000   \n",
       "1501M509        0.567493      0.432507         0.845730          1321.166667   \n",
       "1501M539        0.515274      0.484726         0.273199          1321.166667   \n",
       "\n",
       "          asian_percent  black_percent  ell_percent  hispanic_percent  \\\n",
       "DBN                                                                     \n",
       "1501M292          0.132          0.244        0.127             0.566   \n",
       "1501M448          0.299          0.250        0.194             0.411   \n",
       "1501M450          0.094          0.221        0.018             0.579   \n",
       "1501M509          0.058          0.399        0.091             0.512   \n",
       "1501M539          0.385          0.133        0.002             0.180   \n",
       "\n",
       "          self-contained_percent  disability_percent  white_percent  \\\n",
       "DBN                                                                   \n",
       "1501M292                   0.015               0.298          0.039   \n",
       "1501M448                   0.003               0.220          0.033   \n",
       "1501M450                   0.000               0.234          0.083   \n",
       "1501M509                   0.146               0.284          0.025   \n",
       "1501M539                   0.000               0.043          0.286   \n",
       "\n",
       "          population_diversity  label  \n",
       "DBN                                    \n",
       "1501M292              0.414436      0  \n",
       "1501M448              0.326466      0  \n",
       "1501M450              0.418853      1  \n",
       "1501M509              0.430484      0  \n",
       "1501M539              0.289293      1  "
      ]
     },
     "execution_count": 21,
     "metadata": {},
     "output_type": "execute_result"
    }
   ],
   "source": [
    "data_rses = data_rses.transpose()\n",
    "data_rses.head()"
   ]
  },
  {
   "cell_type": "markdown",
   "metadata": {},
   "source": [
    "#### Data Setup"
   ]
  },
  {
   "cell_type": "code",
   "execution_count": 22,
   "metadata": {
    "collapsed": false
   },
   "outputs": [],
   "source": [
    "# Assign data to X and y (3x for each dataset I wish to test)\n",
    "# note that data has exams that feed into cri and hopefully is just for comparison\n",
    "y1 = data_noexam['label']\n",
    "y2 = data_admin['label']\n",
    "y3 = data_zip['label']\n",
    "y4 = data_rses['label']\n",
    "\n",
    "X1 = data_noexam.drop('label', axis=1)\n",
    "X2 = data_admin.drop('label', axis=1)\n",
    "X3 = data_zip.drop('label', axis=1)\n",
    "X4 = data_rses.drop('label', axis=1)"
   ]
  },
  {
   "cell_type": "code",
   "execution_count": 23,
   "metadata": {
    "collapsed": false
   },
   "outputs": [
    {
     "data": {
      "text/plain": [
       "29"
      ]
     },
     "execution_count": 23,
     "metadata": {},
     "output_type": "execute_result"
    }
   ],
   "source": [
    "len(X1.columns)"
   ]
  },
  {
   "cell_type": "code",
   "execution_count": 24,
   "metadata": {
    "collapsed": false
   },
   "outputs": [
    {
     "data": {
      "text/plain": [
       "62"
      ]
     },
     "execution_count": 24,
     "metadata": {},
     "output_type": "execute_result"
    }
   ],
   "source": [
    "len(X2.columns)"
   ]
  },
  {
   "cell_type": "code",
   "execution_count": 25,
   "metadata": {
    "collapsed": false
   },
   "outputs": [
    {
     "data": {
      "text/plain": [
       "150"
      ]
     },
     "execution_count": 25,
     "metadata": {},
     "output_type": "execute_result"
    }
   ],
   "source": [
    "len(X3.columns)"
   ]
  },
  {
   "cell_type": "code",
   "execution_count": 26,
   "metadata": {
    "collapsed": false
   },
   "outputs": [
    {
     "data": {
      "text/plain": [
       "12"
      ]
     },
     "execution_count": 26,
     "metadata": {},
     "output_type": "execute_result"
    }
   ],
   "source": [
    "len(X4.columns)"
   ]
  },
  {
   "cell_type": "code",
   "execution_count": 27,
   "metadata": {
    "collapsed": true
   },
   "outputs": [],
   "source": [
    "# break up the data into test and training sets:\n",
    "from sklearn.cross_validation import train_test_split\n",
    "X_train1, X_test1, y_train1, y_test1 = train_test_split(X1, y1, test_size=0.2, random_state=1)\n",
    "X_train2, X_test2, y_train2, y_test2 = train_test_split(X2, y2, test_size=0.2, random_state=1)\n",
    "X_train3, X_test3, y_train3, y_test3 = train_test_split(X3, y3, test_size=0.2, random_state=1)\n",
    "X_train4, X_test4, y_train4, y_test4 = train_test_split(X4, y4, test_size=0.2, random_state=1)"
   ]
  },
  {
   "cell_type": "code",
   "execution_count": 28,
   "metadata": {
    "collapsed": true
   },
   "outputs": [],
   "source": [
    "# 20% test / 80% train / 10 cross validation iterations \n",
    "from sklearn.cross_validation import ShuffleSplit\n",
    "cv1 = ShuffleSplit(X_train1.shape[0], n_iter=10, test_size=0.2, random_state=0)\n",
    "cv2 = ShuffleSplit(X_train2.shape[0], n_iter=10, test_size=0.2, random_state=0)\n",
    "cv3 = ShuffleSplit(X_train3.shape[0], n_iter=10, test_size=0.2, random_state=0)\n",
    "cv4 = ShuffleSplit(X_train4.shape[0], n_iter=10, test_size=0.2, random_state=0)"
   ]
  },
  {
   "cell_type": "code",
   "execution_count": 29,
   "metadata": {
    "collapsed": false
   },
   "outputs": [],
   "source": [
    "# standardization for models that use euclidian distances\n",
    "from sklearn.preprocessing import StandardScaler\n",
    "scale1 = StandardScaler()\n",
    "scale2 = StandardScaler()\n",
    "scale3 = StandardScaler()\n",
    "scale4 = StandardScaler()\n",
    "\n",
    "# transform training features\n",
    "X_train_std1 = scale1.fit_transform(X_train1)\n",
    "# transform the testing features in the same way\n",
    "X_test_std1 = scale1.transform(X_test1)\n",
    "\n",
    "X_train_std2 = scale2.fit_transform(X_train2)\n",
    "X_test_std2 = scale2.transform(X_test2)\n",
    "\n",
    "X_train_std3 = scale3.fit_transform(X_train3)\n",
    "X_test_std3 = scale3.transform(X_test3)\n",
    "\n",
    "X_train_std4 = scale4.fit_transform(X_train4)\n",
    "X_test_std4 = scale4.transform(X_test4)"
   ]
  },
  {
   "cell_type": "markdown",
   "metadata": {},
   "source": [
    "#### MINIMUM BENCHMARK"
   ]
  },
  {
   "cell_type": "code",
   "execution_count": 30,
   "metadata": {
    "collapsed": true
   },
   "outputs": [],
   "source": [
    "from sklearn.dummy import DummyClassifier"
   ]
  },
  {
   "cell_type": "code",
   "execution_count": 31,
   "metadata": {
    "collapsed": false
   },
   "outputs": [
    {
     "data": {
      "text/plain": [
       "DummyClassifier(constant=None, random_state=1, strategy='stratified')"
      ]
     },
     "execution_count": 31,
     "metadata": {},
     "output_type": "execute_result"
    }
   ],
   "source": [
    "from sklearn.cross_validation import cross_val_score\n",
    "\n",
    "# a dummy classifier that always guesses the most-frequent (schools graduating college-ready students under the nyc avg grad rate)\n",
    "# data\n",
    "dc1 = DummyClassifier(strategy='stratified', random_state=1)\n",
    "dc1.fit(X_train_std1, y_train1)"
   ]
  },
  {
   "cell_type": "code",
   "execution_count": 32,
   "metadata": {
    "collapsed": false
   },
   "outputs": [
    {
     "name": "stdout",
     "output_type": "stream",
     "text": [
      "1000 loops, best of 3: 223 µs per loop\n"
     ]
    }
   ],
   "source": [
    "%timeit dc1.fit(X_train_std1, y_train1)"
   ]
  },
  {
   "cell_type": "code",
   "execution_count": 33,
   "metadata": {
    "collapsed": false
   },
   "outputs": [
    {
     "name": "stdout",
     "output_type": "stream",
     "text": [
      "             precision    recall  f1-score   support\n",
      "\n",
      "          0       0.87      0.90      0.89       167\n",
      "          1       0.27      0.21      0.24        28\n",
      "\n",
      "avg / total       0.79      0.81      0.80       195\n",
      "\n"
     ]
    }
   ],
   "source": [
    "from sklearn.metrics import classification_report\n",
    "print classification_report(dc1.predict(X_test_std1), y_test1)"
   ]
  },
  {
   "cell_type": "code",
   "execution_count": 34,
   "metadata": {
    "collapsed": false
   },
   "outputs": [
    {
     "data": {
      "text/plain": [
       "0.80512820512820515"
      ]
     },
     "execution_count": 34,
     "metadata": {},
     "output_type": "execute_result"
    }
   ],
   "source": [
    "from sklearn.metrics import accuracy_score\n",
    "\n",
    "accuracy_score(dc1.predict(X_test_std1), y_test1)"
   ]
  },
  {
   "cell_type": "code",
   "execution_count": 35,
   "metadata": {
    "collapsed": false
   },
   "outputs": [
    {
     "data": {
      "text/plain": [
       "DummyClassifier(constant=None, random_state=1, strategy='stratified')"
      ]
     },
     "execution_count": 35,
     "metadata": {},
     "output_type": "execute_result"
    }
   ],
   "source": [
    "# data_noexam\n",
    "dc2 = DummyClassifier(strategy='stratified', random_state=1)\n",
    "dc2.fit(X_train_std2, y_train2)"
   ]
  },
  {
   "cell_type": "code",
   "execution_count": 36,
   "metadata": {
    "collapsed": false
   },
   "outputs": [
    {
     "name": "stdout",
     "output_type": "stream",
     "text": [
      "1000 loops, best of 3: 236 µs per loop\n"
     ]
    }
   ],
   "source": [
    "%timeit dc2.fit(X_train_std2, y_train2)"
   ]
  },
  {
   "cell_type": "code",
   "execution_count": 37,
   "metadata": {
    "collapsed": false
   },
   "outputs": [
    {
     "name": "stdout",
     "output_type": "stream",
     "text": [
      "             precision    recall  f1-score   support\n",
      "\n",
      "          0       0.87      0.90      0.89       167\n",
      "          1       0.27      0.21      0.24        28\n",
      "\n",
      "avg / total       0.79      0.81      0.80       195\n",
      "\n"
     ]
    }
   ],
   "source": [
    "print classification_report(dc2.predict(X_test_std2), y_test2)"
   ]
  },
  {
   "cell_type": "code",
   "execution_count": 38,
   "metadata": {
    "collapsed": false
   },
   "outputs": [
    {
     "data": {
      "text/plain": [
       "0.80512820512820515"
      ]
     },
     "execution_count": 38,
     "metadata": {},
     "output_type": "execute_result"
    }
   ],
   "source": [
    "accuracy_score(dc2.predict(X_test_std2), y_test2)"
   ]
  },
  {
   "cell_type": "code",
   "execution_count": 39,
   "metadata": {
    "collapsed": false
   },
   "outputs": [
    {
     "data": {
      "text/plain": [
       "DummyClassifier(constant=None, random_state=1, strategy='stratified')"
      ]
     },
     "execution_count": 39,
     "metadata": {},
     "output_type": "execute_result"
    }
   ],
   "source": [
    "# data_admin\n",
    "dc3 = DummyClassifier(strategy='stratified', random_state=1)\n",
    "dc3.fit(X_train_std3, y_train3)"
   ]
  },
  {
   "cell_type": "code",
   "execution_count": 40,
   "metadata": {
    "collapsed": false
   },
   "outputs": [
    {
     "name": "stdout",
     "output_type": "stream",
     "text": [
      "1000 loops, best of 3: 221 µs per loop\n"
     ]
    }
   ],
   "source": [
    "%timeit dc3.fit(X_train_std3, y_train3)"
   ]
  },
  {
   "cell_type": "code",
   "execution_count": 41,
   "metadata": {
    "collapsed": false
   },
   "outputs": [
    {
     "name": "stdout",
     "output_type": "stream",
     "text": [
      "             precision    recall  f1-score   support\n",
      "\n",
      "          0       0.87      0.90      0.89       167\n",
      "          1       0.27      0.21      0.24        28\n",
      "\n",
      "avg / total       0.79      0.81      0.80       195\n",
      "\n"
     ]
    }
   ],
   "source": [
    "print classification_report(dc3.predict(X_test_std3), y_test3)"
   ]
  },
  {
   "cell_type": "code",
   "execution_count": 42,
   "metadata": {
    "collapsed": false
   },
   "outputs": [
    {
     "data": {
      "text/plain": [
       "0.80512820512820515"
      ]
     },
     "execution_count": 42,
     "metadata": {},
     "output_type": "execute_result"
    }
   ],
   "source": [
    "accuracy_score(dc3.predict(X_test_std3), y_test3)"
   ]
  },
  {
   "cell_type": "code",
   "execution_count": 43,
   "metadata": {
    "collapsed": false
   },
   "outputs": [
    {
     "data": {
      "text/plain": [
       "DummyClassifier(constant=None, random_state=1, strategy='stratified')"
      ]
     },
     "execution_count": 43,
     "metadata": {},
     "output_type": "execute_result"
    }
   ],
   "source": [
    "# data_zip\n",
    "dc4 = DummyClassifier(strategy='stratified', random_state=1)\n",
    "dc4.fit(X_train_std4, y_train4)"
   ]
  },
  {
   "cell_type": "code",
   "execution_count": 44,
   "metadata": {
    "collapsed": false
   },
   "outputs": [
    {
     "name": "stdout",
     "output_type": "stream",
     "text": [
      "1000 loops, best of 3: 241 µs per loop\n"
     ]
    }
   ],
   "source": [
    "%timeit dc4.fit(X_train_std4, y_train4)"
   ]
  },
  {
   "cell_type": "code",
   "execution_count": 45,
   "metadata": {
    "collapsed": false
   },
   "outputs": [
    {
     "name": "stdout",
     "output_type": "stream",
     "text": [
      "             precision    recall  f1-score   support\n",
      "\n",
      "        0.0       0.87      0.90      0.89       167\n",
      "        1.0       0.27      0.21      0.24        28\n",
      "\n",
      "avg / total       0.79      0.81      0.80       195\n",
      "\n"
     ]
    }
   ],
   "source": [
    "print classification_report(dc4.predict(X_test_std4), y_test4)"
   ]
  },
  {
   "cell_type": "code",
   "execution_count": 46,
   "metadata": {
    "collapsed": false
   },
   "outputs": [
    {
     "data": {
      "text/plain": [
       "0.80512820512820515"
      ]
     },
     "execution_count": 46,
     "metadata": {},
     "output_type": "execute_result"
    }
   ],
   "source": [
    "accuracy_score(dc4.predict(X_test_std4), y_test4)"
   ]
  },
  {
   "cell_type": "markdown",
   "metadata": {},
   "source": [
    "#### RANDOM FOREST"
   ]
  },
  {
   "cell_type": "code",
   "execution_count": 47,
   "metadata": {
    "collapsed": true
   },
   "outputs": [],
   "source": [
    "# import and create random forest\n",
    "from sklearn.ensemble import RandomForestClassifier\n",
    "rfmodel = RandomForestClassifier()"
   ]
  },
  {
   "cell_type": "code",
   "execution_count": 48,
   "metadata": {
    "collapsed": false
   },
   "outputs": [],
   "source": [
    "# find best params - first for data_noexam\n",
    "from sklearn.grid_search import GridSearchCV\n",
    "parameters = {'n_estimators': range(1, 201, 5)}\n",
    "clfrf1 = GridSearchCV(rfmodel, parameters, cv=cv1)"
   ]
  },
  {
   "cell_type": "code",
   "execution_count": 49,
   "metadata": {
    "collapsed": false
   },
   "outputs": [
    {
     "data": {
      "text/plain": [
       "{'n_estimators': 36}"
      ]
     },
     "execution_count": 49,
     "metadata": {},
     "output_type": "execute_result"
    }
   ],
   "source": [
    "# this is for data_noexam\n",
    "clfrf1.fit(X_train1, y_train1)\n",
    "clfrf1.best_params_"
   ]
  },
  {
   "cell_type": "code",
   "execution_count": 50,
   "metadata": {
    "collapsed": false
   },
   "outputs": [
    {
     "data": {
      "text/plain": [
       "{'n_estimators': 61}"
      ]
     },
     "execution_count": 50,
     "metadata": {},
     "output_type": "execute_result"
    }
   ],
   "source": [
    "# this is for data_admin\n",
    "clfrf2 = GridSearchCV(rfmodel, parameters, cv=cv2)\n",
    "clfrf2.fit(X_train2, y_train2)\n",
    "clfrf2.best_params_"
   ]
  },
  {
   "cell_type": "code",
   "execution_count": 51,
   "metadata": {
    "collapsed": false
   },
   "outputs": [
    {
     "data": {
      "text/plain": [
       "{'n_estimators': 71}"
      ]
     },
     "execution_count": 51,
     "metadata": {},
     "output_type": "execute_result"
    }
   ],
   "source": [
    "# this is for data_zip\n",
    "clfrf3 = GridSearchCV(rfmodel, parameters, cv=cv3)\n",
    "clfrf3.fit(X_train3, y_train3)\n",
    "clfrf3.best_params_"
   ]
  },
  {
   "cell_type": "code",
   "execution_count": 52,
   "metadata": {
    "collapsed": false
   },
   "outputs": [
    {
     "data": {
      "text/plain": [
       "{'n_estimators': 131}"
      ]
     },
     "execution_count": 52,
     "metadata": {},
     "output_type": "execute_result"
    }
   ],
   "source": [
    "# this is for data_rses\n",
    "clfrf4 = GridSearchCV(rfmodel, parameters, cv=cv4)\n",
    "clfrf4.fit(X_train4, y_train4)\n",
    "clfrf4.best_params_"
   ]
  },
  {
   "cell_type": "code",
   "execution_count": 53,
   "metadata": {
    "collapsed": false
   },
   "outputs": [
    {
     "data": {
      "text/plain": [
       "0.9538461538461539"
      ]
     },
     "execution_count": 53,
     "metadata": {},
     "output_type": "execute_result"
    }
   ],
   "source": [
    "# top cv score for data_noexam\n",
    "clfrf1.best_score_"
   ]
  },
  {
   "cell_type": "code",
   "execution_count": 54,
   "metadata": {
    "collapsed": false
   },
   "outputs": [
    {
     "data": {
      "text/plain": [
       "0.9538461538461539"
      ]
     },
     "execution_count": 54,
     "metadata": {},
     "output_type": "execute_result"
    }
   ],
   "source": [
    "# top cv score for data_admin\n",
    "clfrf2.best_score_"
   ]
  },
  {
   "cell_type": "code",
   "execution_count": 55,
   "metadata": {
    "collapsed": false
   },
   "outputs": [
    {
     "data": {
      "text/plain": [
       "0.9538461538461539"
      ]
     },
     "execution_count": 55,
     "metadata": {},
     "output_type": "execute_result"
    }
   ],
   "source": [
    "# top cv score for data_zip\n",
    "clfrf3.best_score_"
   ]
  },
  {
   "cell_type": "code",
   "execution_count": 56,
   "metadata": {
    "collapsed": false
   },
   "outputs": [
    {
     "data": {
      "text/plain": [
       "0.92884615384615388"
      ]
     },
     "execution_count": 56,
     "metadata": {},
     "output_type": "execute_result"
    }
   ],
   "source": [
    "# top cv score for data_rses\n",
    "clfrf4.best_score_"
   ]
  },
  {
   "cell_type": "code",
   "execution_count": 57,
   "metadata": {
    "collapsed": true
   },
   "outputs": [],
   "source": [
    "best_rf1 = clfrf1.best_estimator_"
   ]
  },
  {
   "cell_type": "code",
   "execution_count": 58,
   "metadata": {
    "collapsed": true
   },
   "outputs": [],
   "source": [
    "best_rf2 = clfrf2.best_estimator_"
   ]
  },
  {
   "cell_type": "code",
   "execution_count": 59,
   "metadata": {
    "collapsed": true
   },
   "outputs": [],
   "source": [
    "best_rf3 = clfrf3.best_estimator_"
   ]
  },
  {
   "cell_type": "code",
   "execution_count": 60,
   "metadata": {
    "collapsed": true
   },
   "outputs": [],
   "source": [
    "best_rf4 = clfrf4.best_estimator_"
   ]
  },
  {
   "cell_type": "code",
   "execution_count": 61,
   "metadata": {
    "collapsed": false
   },
   "outputs": [
    {
     "name": "stdout",
     "output_type": "stream",
     "text": [
      "CV accuracy [ 0.75409836  0.88        0.78787879], Average accuracy 0.807325716178\n"
     ]
    }
   ],
   "source": [
    "# Evaluate the Random Forest model using cross-validation for data_noexam\n",
    "from sklearn.cross_validation import cross_val_score\n",
    "\n",
    "scores1 = cross_val_score(rfmodel, X_train1, y_train1, scoring='f1')\n",
    "print('CV accuracy {}, Average accuracy {}'.format(scores1, scores1.mean()))"
   ]
  },
  {
   "cell_type": "code",
   "execution_count": 62,
   "metadata": {
    "collapsed": false
   },
   "outputs": [
    {
     "name": "stdout",
     "output_type": "stream",
     "text": [
      "CV accuracy [ 0.72413793  0.85714286  0.76923077], Average accuracy 0.783503852469\n"
     ]
    }
   ],
   "source": [
    "#^ for data_admin\n",
    "scores2 = cross_val_score(rfmodel, X_train2, y_train2, scoring='f1')\n",
    "print('CV accuracy {}, Average accuracy {}'.format(scores2, scores2.mean()))"
   ]
  },
  {
   "cell_type": "code",
   "execution_count": 63,
   "metadata": {
    "collapsed": false
   },
   "outputs": [
    {
     "name": "stdout",
     "output_type": "stream",
     "text": [
      "CV accuracy [ 0.65384615  0.84507042  0.81355932], Average accuracy 0.770825299472\n"
     ]
    }
   ],
   "source": [
    "#^ for data_zip\n",
    "scores3 = cross_val_score(rfmodel, X_train3, y_train3, scoring='f1')\n",
    "print('CV accuracy {}, Average accuracy {}'.format(scores3, scores3.mean()))"
   ]
  },
  {
   "cell_type": "code",
   "execution_count": 64,
   "metadata": {
    "collapsed": false
   },
   "outputs": [
    {
     "name": "stdout",
     "output_type": "stream",
     "text": [
      "CV accuracy [ 0.60377358  0.64705882  0.73015873], Average accuracy 0.660330379531\n"
     ]
    }
   ],
   "source": [
    "#^ for data_rses\n",
    "scores4 = cross_val_score(rfmodel, X_train4, y_train4, scoring='f1')\n",
    "print('CV accuracy {}, Average accuracy {}'.format(scores4, scores4.mean()))"
   ]
  },
  {
   "cell_type": "code",
   "execution_count": 65,
   "metadata": {
    "collapsed": false
   },
   "outputs": [
    {
     "data": {
      "text/plain": [
       "0.96923076923076923"
      ]
     },
     "execution_count": 65,
     "metadata": {},
     "output_type": "execute_result"
    }
   ],
   "source": [
    "# check accuracy with test set - data_noexam\n",
    "best_rf1.score(X_test1, y_test1)"
   ]
  },
  {
   "cell_type": "code",
   "execution_count": 66,
   "metadata": {
    "collapsed": false
   },
   "outputs": [
    {
     "data": {
      "text/plain": [
       "(0.81818181818181823, 0.90000000000000002, 0.85714285714285721, None)"
      ]
     },
     "execution_count": 66,
     "metadata": {},
     "output_type": "execute_result"
    }
   ],
   "source": [
    "# Precision / Recall / F1\n",
    "from sklearn.metrics import precision_recall_fscore_support\n",
    "\n",
    "predrf1 = clfrf1.predict(X_test1)\n",
    "precision_recall_fscore_support(predrf1, y_test1, average='binary') "
   ]
  },
  {
   "cell_type": "code",
   "execution_count": 67,
   "metadata": {
    "collapsed": false
   },
   "outputs": [
    {
     "data": {
      "text/plain": [
       "0.96410256410256412"
      ]
     },
     "execution_count": 67,
     "metadata": {},
     "output_type": "execute_result"
    }
   ],
   "source": [
    "# check accuracy with test set - data_admin\n",
    "best_rf2.score(X_test2, y_test2)"
   ]
  },
  {
   "cell_type": "code",
   "execution_count": 68,
   "metadata": {
    "collapsed": false
   },
   "outputs": [
    {
     "data": {
      "text/plain": [
       "(0.81818181818181823, 0.8571428571428571, 0.83720930232558144, None)"
      ]
     },
     "execution_count": 68,
     "metadata": {},
     "output_type": "execute_result"
    }
   ],
   "source": [
    "# Precision / Recall / F1\n",
    "\n",
    "predrf2 = clfrf2.predict(X_test2)\n",
    "precision_recall_fscore_support(predrf2, y_test2, average='binary') "
   ]
  },
  {
   "cell_type": "code",
   "execution_count": 69,
   "metadata": {
    "collapsed": false
   },
   "outputs": [
    {
     "data": {
      "text/plain": [
       "0.96410256410256412"
      ]
     },
     "execution_count": 69,
     "metadata": {},
     "output_type": "execute_result"
    }
   ],
   "source": [
    "# check accuracy with test set - data_zip\n",
    "best_rf3.score(X_test3, y_test3)"
   ]
  },
  {
   "cell_type": "code",
   "execution_count": 70,
   "metadata": {
    "collapsed": false
   },
   "outputs": [
    {
     "data": {
      "text/plain": [
       "(0.81818181818181823, 0.8571428571428571, 0.83720930232558144, None)"
      ]
     },
     "execution_count": 70,
     "metadata": {},
     "output_type": "execute_result"
    }
   ],
   "source": [
    "# Precision / Recall / F1\n",
    "\n",
    "predrf3 = clfrf3.predict(X_test3)\n",
    "precision_recall_fscore_support(predrf3, y_test3, average='binary') "
   ]
  },
  {
   "cell_type": "code",
   "execution_count": 71,
   "metadata": {
    "collapsed": false
   },
   "outputs": [
    {
     "data": {
      "text/plain": [
       "0.93846153846153846"
      ]
     },
     "execution_count": 71,
     "metadata": {},
     "output_type": "execute_result"
    }
   ],
   "source": [
    "# check accuracy with test set - data_rses\n",
    "best_rf4.score(X_test4, y_test4)"
   ]
  },
  {
   "cell_type": "code",
   "execution_count": 72,
   "metadata": {
    "collapsed": false
   },
   "outputs": [
    {
     "data": {
      "text/plain": [
       "(0.63636363636363635, 0.77777777777777779, 0.70000000000000007, None)"
      ]
     },
     "execution_count": 72,
     "metadata": {},
     "output_type": "execute_result"
    }
   ],
   "source": [
    "# Precision / Recall / F1\n",
    "\n",
    "predrf4 = clfrf4.predict(X_test4)\n",
    "precision_recall_fscore_support(predrf4, y_test4, average='binary') "
   ]
  },
  {
   "cell_type": "code",
   "execution_count": 73,
   "metadata": {
    "collapsed": false
   },
   "outputs": [
    {
     "name": "stdout",
     "output_type": "stream",
     "text": [
      "100 loops, best of 3: 4.84 ms per loop\n"
     ]
    }
   ],
   "source": [
    "# timing - data_noexam\n",
    "%timeit best_rf1.predict(X_test1)"
   ]
  },
  {
   "cell_type": "code",
   "execution_count": 74,
   "metadata": {
    "collapsed": false
   },
   "outputs": [
    {
     "name": "stdout",
     "output_type": "stream",
     "text": [
      "100 loops, best of 3: 7.84 ms per loop\n"
     ]
    }
   ],
   "source": [
    "# timing - data_admin\n",
    "%timeit best_rf2.predict(X_test2)"
   ]
  },
  {
   "cell_type": "code",
   "execution_count": 75,
   "metadata": {
    "collapsed": false
   },
   "outputs": [
    {
     "name": "stdout",
     "output_type": "stream",
     "text": [
      "100 loops, best of 3: 12.3 ms per loop\n"
     ]
    }
   ],
   "source": [
    "# timing - data_zip\n",
    "%timeit best_rf3.predict(X_test3)"
   ]
  },
  {
   "cell_type": "code",
   "execution_count": 76,
   "metadata": {
    "collapsed": false
   },
   "outputs": [
    {
     "name": "stdout",
     "output_type": "stream",
     "text": [
      "10 loops, best of 3: 15.5 ms per loop\n"
     ]
    }
   ],
   "source": [
    "# timing - data_rses\n",
    "%timeit best_rf4.predict(X_test4)"
   ]
  },
  {
   "cell_type": "code",
   "execution_count": 77,
   "metadata": {
    "collapsed": false
   },
   "outputs": [
    {
     "data": {
      "image/png": "[encoded data removed]",
      "text/plain": [
       "<matplotlib.figure.Figure at 0x1069a0650>"
      ]
     },
     "metadata": {},
     "output_type": "display_data"
    }
   ],
   "source": [
    "draw_learning_curve(best_rf2, X_train1, y_train1, estimator_titles=['Learning Curve for RF - data'], \n",
    "                    cv=cv2, scoring='f1')\n",
    "plt.title('Learning Curve for RF - data');"
   ]
  },
  {
   "cell_type": "code",
   "execution_count": 78,
   "metadata": {
    "collapsed": false
   },
   "outputs": [
    {
     "name": "stderr",
     "output_type": "stream",
     "text": [
      "/Users/hopper/anaconda/lib/python2.7/site-packages/sklearn/metrics/classification.py:958: UndefinedMetricWarning: F-score is ill-defined and being set to 0.0 due to no predicted samples.\n",
      "  'precision', 'predicted', average, warn_for)\n"
     ]
    },
    {
     "data": {
      "image/png": "[encoded data removed]",
      "text/plain": [
       "<matplotlib.figure.Figure at 0x10bddd6d0>"
      ]
     },
     "metadata": {},
     "output_type": "display_data"
    }
   ],
   "source": [
    "draw_learning_curve(best_rf2, X_train2, y_train2, estimator_titles=['Learning Curve for RF - data_noexam'], \n",
    "                    cv=cv2, scoring='f1')\n",
    "plt.title('Learning Curve for RF - data_noexam');"
   ]
  },
  {
   "cell_type": "code",
   "execution_count": 79,
   "metadata": {
    "collapsed": false
   },
   "outputs": [
    {
     "data": {
      "image/png": "[encoded data removed]",
      "text/plain": [
       "<matplotlib.figure.Figure at 0x10d151450>"
      ]
     },
     "metadata": {},
     "output_type": "display_data"
    }
   ],
   "source": [
    "draw_learning_curve(best_rf3, X_train3, y_train3, estimator_titles=['Learning Curve for RF - data_admin'], \n",
    "                    cv=cv2, scoring='f1')\n",
    "plt.title('Learning Curve for RF - data_admin');"
   ]
  },
  {
   "cell_type": "code",
   "execution_count": 80,
   "metadata": {
    "collapsed": false
   },
   "outputs": [
    {
     "data": {
      "image/png": "[encoded data removed]",
      "text/plain": [
       "<matplotlib.figure.Figure at 0x10d5337d0>"
      ]
     },
     "metadata": {},
     "output_type": "display_data"
    }
   ],
   "source": [
    "draw_learning_curve(best_rf4, X_train4, y_train4, estimator_titles=['Learning Curve for RF - data_zip'], \n",
    "                    cv=cv2, scoring='f1')\n",
    "plt.title('Learning Curve for RF - data_zip');"
   ]
  },
  {
   "cell_type": "code",
   "execution_count": 81,
   "metadata": {
    "collapsed": false
   },
   "outputs": [
    {
     "data": {
      "text/html": [
       "<div>\n",
       "<table border=\"1\" class=\"dataframe\">\n",
       "  <thead>\n",
       "    <tr style=\"text-align: right;\">\n",
       "      <th></th>\n",
       "      <th>Features</th>\n",
       "      <th>Importance Score</th>\n",
       "    </tr>\n",
       "  </thead>\n",
       "  <tbody>\n",
       "    <tr>\n",
       "      <th>5</th>\n",
       "      <td>grade8_math</td>\n",
       "      <td>0.165306</td>\n",
       "    </tr>\n",
       "    <tr>\n",
       "      <th>27</th>\n",
       "      <td>grade8_proficiency</td>\n",
       "      <td>0.149042</td>\n",
       "    </tr>\n",
       "    <tr>\n",
       "      <th>22</th>\n",
       "      <td>dropouts_percent</td>\n",
       "      <td>0.130687</td>\n",
       "    </tr>\n",
       "    <tr>\n",
       "      <th>4</th>\n",
       "      <td>grade8_english</td>\n",
       "      <td>0.120277</td>\n",
       "    </tr>\n",
       "    <tr>\n",
       "      <th>17</th>\n",
       "      <td>sat_percent_took_exam</td>\n",
       "      <td>0.054035</td>\n",
       "    </tr>\n",
       "    <tr>\n",
       "      <th>18</th>\n",
       "      <td>student_attendance_rate</td>\n",
       "      <td>0.048658</td>\n",
       "    </tr>\n",
       "    <tr>\n",
       "      <th>16</th>\n",
       "      <td>act_percent_took_exam</td>\n",
       "      <td>0.044308</td>\n",
       "    </tr>\n",
       "    <tr>\n",
       "      <th>7</th>\n",
       "      <td>asian_percent</td>\n",
       "      <td>0.031790</td>\n",
       "    </tr>\n",
       "    <tr>\n",
       "      <th>12</th>\n",
       "      <td>disability_percent</td>\n",
       "      <td>0.030344</td>\n",
       "    </tr>\n",
       "    <tr>\n",
       "      <th>13</th>\n",
       "      <td>white_percent</td>\n",
       "      <td>0.022283</td>\n",
       "    </tr>\n",
       "    <tr>\n",
       "      <th>2</th>\n",
       "      <td>poverty_percent</td>\n",
       "      <td>0.020991</td>\n",
       "    </tr>\n",
       "    <tr>\n",
       "      <th>9</th>\n",
       "      <td>ell_percent</td>\n",
       "      <td>0.019489</td>\n",
       "    </tr>\n",
       "    <tr>\n",
       "      <th>8</th>\n",
       "      <td>black_percent</td>\n",
       "      <td>0.017337</td>\n",
       "    </tr>\n",
       "    <tr>\n",
       "      <th>11</th>\n",
       "      <td>self-contained_percent</td>\n",
       "      <td>0.016799</td>\n",
       "    </tr>\n",
       "    <tr>\n",
       "      <th>19</th>\n",
       "      <td>school_environment_survey</td>\n",
       "      <td>0.011994</td>\n",
       "    </tr>\n",
       "    <tr>\n",
       "      <th>6</th>\n",
       "      <td>enrollment</td>\n",
       "      <td>0.011633</td>\n",
       "    </tr>\n",
       "    <tr>\n",
       "      <th>10</th>\n",
       "      <td>hispanic_percent</td>\n",
       "      <td>0.011279</td>\n",
       "    </tr>\n",
       "    <tr>\n",
       "      <th>3</th>\n",
       "      <td>avg_home_value_sqft</td>\n",
       "      <td>0.010591</td>\n",
       "    </tr>\n",
       "    <tr>\n",
       "      <th>24</th>\n",
       "      <td>violation_offenses</td>\n",
       "      <td>0.010244</td>\n",
       "    </tr>\n",
       "    <tr>\n",
       "      <th>21</th>\n",
       "      <td>principal_year_exp</td>\n",
       "      <td>0.009992</td>\n",
       "    </tr>\n",
       "  </tbody>\n",
       "</table>\n",
       "</div>"
      ],
      "text/plain": [
       "                     Features  Importance Score\n",
       "5                 grade8_math          0.165306\n",
       "27         grade8_proficiency          0.149042\n",
       "22           dropouts_percent          0.130687\n",
       "4              grade8_english          0.120277\n",
       "17      sat_percent_took_exam          0.054035\n",
       "18    student_attendance_rate          0.048658\n",
       "16      act_percent_took_exam          0.044308\n",
       "7               asian_percent          0.031790\n",
       "12         disability_percent          0.030344\n",
       "13              white_percent          0.022283\n",
       "2             poverty_percent          0.020991\n",
       "9                 ell_percent          0.019489\n",
       "8               black_percent          0.017337\n",
       "11     self-contained_percent          0.016799\n",
       "19  school_environment_survey          0.011994\n",
       "6                  enrollment          0.011633\n",
       "10           hispanic_percent          0.011279\n",
       "3         avg_home_value_sqft          0.010591\n",
       "24         violation_offenses          0.010244\n",
       "21         principal_year_exp          0.009992"
      ]
     },
     "execution_count": 81,
     "metadata": {},
     "output_type": "execute_result"
    }
   ],
   "source": [
    "# Use RF to find most important features - data (will likely be test-heavy)\n",
    "features1 = X1.columns\n",
    "feature_importances1 = best_rf1.feature_importances_\n",
    "features_df1 = pd.DataFrame({'Features': features1, 'Importance Score': feature_importances1})\n",
    "features_df1.sort_values('Importance Score', inplace=True, ascending=False)\n",
    "\n",
    "features_df1.head(20)"
   ]
  },
  {
   "cell_type": "code",
   "execution_count": 82,
   "metadata": {
    "collapsed": false
   },
   "outputs": [
    {
     "data": {
      "text/html": [
       "<div>\n",
       "<table border=\"1\" class=\"dataframe\">\n",
       "  <thead>\n",
       "    <tr style=\"text-align: right;\">\n",
       "      <th></th>\n",
       "      <th>Features</th>\n",
       "      <th>Importance Score</th>\n",
       "    </tr>\n",
       "  </thead>\n",
       "  <tbody>\n",
       "    <tr>\n",
       "      <th>6</th>\n",
       "      <td>grade8_math</td>\n",
       "      <td>0.154821</td>\n",
       "    </tr>\n",
       "    <tr>\n",
       "      <th>28</th>\n",
       "      <td>grade8_proficiency</td>\n",
       "      <td>0.131859</td>\n",
       "    </tr>\n",
       "    <tr>\n",
       "      <th>5</th>\n",
       "      <td>grade8_english</td>\n",
       "      <td>0.086804</td>\n",
       "    </tr>\n",
       "    <tr>\n",
       "      <th>23</th>\n",
       "      <td>dropouts_percent</td>\n",
       "      <td>0.081912</td>\n",
       "    </tr>\n",
       "    <tr>\n",
       "      <th>18</th>\n",
       "      <td>sat_percent_took_exam</td>\n",
       "      <td>0.066384</td>\n",
       "    </tr>\n",
       "    <tr>\n",
       "      <th>19</th>\n",
       "      <td>student_attendance_rate</td>\n",
       "      <td>0.058118</td>\n",
       "    </tr>\n",
       "    <tr>\n",
       "      <th>10</th>\n",
       "      <td>ell_percent</td>\n",
       "      <td>0.049662</td>\n",
       "    </tr>\n",
       "    <tr>\n",
       "      <th>13</th>\n",
       "      <td>disability_percent</td>\n",
       "      <td>0.045814</td>\n",
       "    </tr>\n",
       "    <tr>\n",
       "      <th>8</th>\n",
       "      <td>asian_percent</td>\n",
       "      <td>0.037861</td>\n",
       "    </tr>\n",
       "    <tr>\n",
       "      <th>17</th>\n",
       "      <td>act_percent_took_exam</td>\n",
       "      <td>0.035713</td>\n",
       "    </tr>\n",
       "    <tr>\n",
       "      <th>2</th>\n",
       "      <td>poverty_percent</td>\n",
       "      <td>0.027731</td>\n",
       "    </tr>\n",
       "    <tr>\n",
       "      <th>14</th>\n",
       "      <td>white_percent</td>\n",
       "      <td>0.023836</td>\n",
       "    </tr>\n",
       "    <tr>\n",
       "      <th>27</th>\n",
       "      <td>population_diversity</td>\n",
       "      <td>0.021841</td>\n",
       "    </tr>\n",
       "    <tr>\n",
       "      <th>7</th>\n",
       "      <td>enrollment</td>\n",
       "      <td>0.017575</td>\n",
       "    </tr>\n",
       "    <tr>\n",
       "      <th>9</th>\n",
       "      <td>black_percent</td>\n",
       "      <td>0.014737</td>\n",
       "    </tr>\n",
       "    <tr>\n",
       "      <th>11</th>\n",
       "      <td>hispanic_percent</td>\n",
       "      <td>0.012797</td>\n",
       "    </tr>\n",
       "    <tr>\n",
       "      <th>12</th>\n",
       "      <td>self-contained_percent</td>\n",
       "      <td>0.012668</td>\n",
       "    </tr>\n",
       "    <tr>\n",
       "      <th>25</th>\n",
       "      <td>violation_offenses</td>\n",
       "      <td>0.012451</td>\n",
       "    </tr>\n",
       "    <tr>\n",
       "      <th>20</th>\n",
       "      <td>school_environment_survey</td>\n",
       "      <td>0.011934</td>\n",
       "    </tr>\n",
       "    <tr>\n",
       "      <th>1</th>\n",
       "      <td>male_percent</td>\n",
       "      <td>0.010846</td>\n",
       "    </tr>\n",
       "  </tbody>\n",
       "</table>\n",
       "</div>"
      ],
      "text/plain": [
       "                     Features  Importance Score\n",
       "6                 grade8_math          0.154821\n",
       "28         grade8_proficiency          0.131859\n",
       "5              grade8_english          0.086804\n",
       "23           dropouts_percent          0.081912\n",
       "18      sat_percent_took_exam          0.066384\n",
       "19    student_attendance_rate          0.058118\n",
       "10                ell_percent          0.049662\n",
       "13         disability_percent          0.045814\n",
       "8               asian_percent          0.037861\n",
       "17      act_percent_took_exam          0.035713\n",
       "2             poverty_percent          0.027731\n",
       "14              white_percent          0.023836\n",
       "27       population_diversity          0.021841\n",
       "7                  enrollment          0.017575\n",
       "9               black_percent          0.014737\n",
       "11           hispanic_percent          0.012797\n",
       "12     self-contained_percent          0.012668\n",
       "25         violation_offenses          0.012451\n",
       "20  school_environment_survey          0.011934\n",
       "1                male_percent          0.010846"
      ]
     },
     "execution_count": 82,
     "metadata": {},
     "output_type": "execute_result"
    }
   ],
   "source": [
    "# Use RF to find most important features - data_noexam (will hopefully find interesting factors here)\n",
    "features2 = X2.columns\n",
    "feature_importances2 = best_rf2.feature_importances_\n",
    "features_df2 = pd.DataFrame({'Features': features2, 'Importance Score': feature_importances2})\n",
    "features_df2.sort_values('Importance Score', inplace=True, ascending=False)\n",
    "\n",
    "features_df2.head(20)"
   ]
  },
  {
   "cell_type": "code",
   "execution_count": 83,
   "metadata": {
    "collapsed": false
   },
   "outputs": [
    {
     "data": {
      "text/html": [
       "<div>\n",
       "<table border=\"1\" class=\"dataframe\">\n",
       "  <thead>\n",
       "    <tr style=\"text-align: right;\">\n",
       "      <th></th>\n",
       "      <th>Features</th>\n",
       "      <th>Importance Score</th>\n",
       "    </tr>\n",
       "  </thead>\n",
       "  <tbody>\n",
       "    <tr>\n",
       "      <th>28</th>\n",
       "      <td>grade8_proficiency</td>\n",
       "      <td>0.130036</td>\n",
       "    </tr>\n",
       "    <tr>\n",
       "      <th>4</th>\n",
       "      <td>grade8_english</td>\n",
       "      <td>0.109413</td>\n",
       "    </tr>\n",
       "    <tr>\n",
       "      <th>17</th>\n",
       "      <td>sat_percent_took_exam</td>\n",
       "      <td>0.105040</td>\n",
       "    </tr>\n",
       "    <tr>\n",
       "      <th>5</th>\n",
       "      <td>grade8_math</td>\n",
       "      <td>0.080432</td>\n",
       "    </tr>\n",
       "    <tr>\n",
       "      <th>23</th>\n",
       "      <td>dropouts_percent</td>\n",
       "      <td>0.062927</td>\n",
       "    </tr>\n",
       "    <tr>\n",
       "      <th>18</th>\n",
       "      <td>student_attendance_rate</td>\n",
       "      <td>0.060887</td>\n",
       "    </tr>\n",
       "    <tr>\n",
       "      <th>16</th>\n",
       "      <td>act_percent_took_exam</td>\n",
       "      <td>0.056290</td>\n",
       "    </tr>\n",
       "    <tr>\n",
       "      <th>9</th>\n",
       "      <td>ell_percent</td>\n",
       "      <td>0.035052</td>\n",
       "    </tr>\n",
       "    <tr>\n",
       "      <th>2</th>\n",
       "      <td>poverty_percent</td>\n",
       "      <td>0.034233</td>\n",
       "    </tr>\n",
       "    <tr>\n",
       "      <th>13</th>\n",
       "      <td>white_percent</td>\n",
       "      <td>0.028834</td>\n",
       "    </tr>\n",
       "    <tr>\n",
       "      <th>7</th>\n",
       "      <td>asian_percent</td>\n",
       "      <td>0.028786</td>\n",
       "    </tr>\n",
       "    <tr>\n",
       "      <th>10</th>\n",
       "      <td>hispanic_percent</td>\n",
       "      <td>0.025161</td>\n",
       "    </tr>\n",
       "    <tr>\n",
       "      <th>11</th>\n",
       "      <td>self-contained_percent</td>\n",
       "      <td>0.024671</td>\n",
       "    </tr>\n",
       "    <tr>\n",
       "      <th>12</th>\n",
       "      <td>disability_percent</td>\n",
       "      <td>0.023401</td>\n",
       "    </tr>\n",
       "    <tr>\n",
       "      <th>8</th>\n",
       "      <td>black_percent</td>\n",
       "      <td>0.020126</td>\n",
       "    </tr>\n",
       "    <tr>\n",
       "      <th>19</th>\n",
       "      <td>school_environment_survey</td>\n",
       "      <td>0.017290</td>\n",
       "    </tr>\n",
       "    <tr>\n",
       "      <th>27</th>\n",
       "      <td>population_diversity</td>\n",
       "      <td>0.017115</td>\n",
       "    </tr>\n",
       "    <tr>\n",
       "      <th>6</th>\n",
       "      <td>enrollment</td>\n",
       "      <td>0.012779</td>\n",
       "    </tr>\n",
       "    <tr>\n",
       "      <th>29</th>\n",
       "      <td>all_crime</td>\n",
       "      <td>0.011855</td>\n",
       "    </tr>\n",
       "    <tr>\n",
       "      <th>25</th>\n",
       "      <td>violation_offenses</td>\n",
       "      <td>0.011476</td>\n",
       "    </tr>\n",
       "  </tbody>\n",
       "</table>\n",
       "</div>"
      ],
      "text/plain": [
       "                     Features  Importance Score\n",
       "28         grade8_proficiency          0.130036\n",
       "4              grade8_english          0.109413\n",
       "17      sat_percent_took_exam          0.105040\n",
       "5                 grade8_math          0.080432\n",
       "23           dropouts_percent          0.062927\n",
       "18    student_attendance_rate          0.060887\n",
       "16      act_percent_took_exam          0.056290\n",
       "9                 ell_percent          0.035052\n",
       "2             poverty_percent          0.034233\n",
       "13              white_percent          0.028834\n",
       "7               asian_percent          0.028786\n",
       "10           hispanic_percent          0.025161\n",
       "11     self-contained_percent          0.024671\n",
       "12         disability_percent          0.023401\n",
       "8               black_percent          0.020126\n",
       "19  school_environment_survey          0.017290\n",
       "27       population_diversity          0.017115\n",
       "6                  enrollment          0.012779\n",
       "29                  all_crime          0.011855\n",
       "25         violation_offenses          0.011476"
      ]
     },
     "execution_count": 83,
     "metadata": {},
     "output_type": "execute_result"
    }
   ],
   "source": [
    "# Use RF to find most important features - data_admin\n",
    "features3 = X3.columns\n",
    "feature_importances3 = best_rf3.feature_importances_\n",
    "features_df3 = pd.DataFrame({'Features': features3, 'Importance Score': feature_importances3})\n",
    "features_df3.sort_values('Importance Score', inplace=True, ascending=False)\n",
    "\n",
    "features_df3.head(20)"
   ]
  },
  {
   "cell_type": "code",
   "execution_count": 84,
   "metadata": {
    "collapsed": false
   },
   "outputs": [
    {
     "data": {
      "text/html": [
       "<div>\n",
       "<table border=\"1\" class=\"dataframe\">\n",
       "  <thead>\n",
       "    <tr style=\"text-align: right;\">\n",
       "      <th></th>\n",
       "      <th>Features</th>\n",
       "      <th>Importance Score</th>\n",
       "    </tr>\n",
       "  </thead>\n",
       "  <tbody>\n",
       "    <tr>\n",
       "      <th>6</th>\n",
       "      <td>ell_percent</td>\n",
       "      <td>0.176850</td>\n",
       "    </tr>\n",
       "    <tr>\n",
       "      <th>4</th>\n",
       "      <td>asian_percent</td>\n",
       "      <td>0.149522</td>\n",
       "    </tr>\n",
       "    <tr>\n",
       "      <th>9</th>\n",
       "      <td>disability_percent</td>\n",
       "      <td>0.133236</td>\n",
       "    </tr>\n",
       "    <tr>\n",
       "      <th>2</th>\n",
       "      <td>poverty_percent</td>\n",
       "      <td>0.110065</td>\n",
       "    </tr>\n",
       "    <tr>\n",
       "      <th>10</th>\n",
       "      <td>white_percent</td>\n",
       "      <td>0.088712</td>\n",
       "    </tr>\n",
       "    <tr>\n",
       "      <th>8</th>\n",
       "      <td>self-contained_percent</td>\n",
       "      <td>0.055668</td>\n",
       "    </tr>\n",
       "    <tr>\n",
       "      <th>7</th>\n",
       "      <td>hispanic_percent</td>\n",
       "      <td>0.054882</td>\n",
       "    </tr>\n",
       "    <tr>\n",
       "      <th>5</th>\n",
       "      <td>black_percent</td>\n",
       "      <td>0.054255</td>\n",
       "    </tr>\n",
       "    <tr>\n",
       "      <th>11</th>\n",
       "      <td>population_diversity</td>\n",
       "      <td>0.051276</td>\n",
       "    </tr>\n",
       "    <tr>\n",
       "      <th>1</th>\n",
       "      <td>male_percent</td>\n",
       "      <td>0.043400</td>\n",
       "    </tr>\n",
       "    <tr>\n",
       "      <th>3</th>\n",
       "      <td>avg_home_value_sqft</td>\n",
       "      <td>0.041653</td>\n",
       "    </tr>\n",
       "    <tr>\n",
       "      <th>0</th>\n",
       "      <td>female_percent</td>\n",
       "      <td>0.040481</td>\n",
       "    </tr>\n",
       "  </tbody>\n",
       "</table>\n",
       "</div>"
      ],
      "text/plain": [
       "                  Features  Importance Score\n",
       "6              ell_percent          0.176850\n",
       "4            asian_percent          0.149522\n",
       "9       disability_percent          0.133236\n",
       "2          poverty_percent          0.110065\n",
       "10           white_percent          0.088712\n",
       "8   self-contained_percent          0.055668\n",
       "7         hispanic_percent          0.054882\n",
       "5            black_percent          0.054255\n",
       "11    population_diversity          0.051276\n",
       "1             male_percent          0.043400\n",
       "3      avg_home_value_sqft          0.041653\n",
       "0           female_percent          0.040481"
      ]
     },
     "execution_count": 84,
     "metadata": {},
     "output_type": "execute_result"
    }
   ],
   "source": [
    "# Use RF to find most important features - data_zip\n",
    "features4 = X4.columns\n",
    "feature_importances4 = best_rf4.feature_importances_\n",
    "features_df4 = pd.DataFrame({'Features': features4, 'Importance Score': feature_importances4})\n",
    "features_df4.sort_values('Importance Score', inplace=True, ascending=False)\n",
    "\n",
    "features_df4.head(20)"
   ]
  },
  {
   "cell_type": "markdown",
   "metadata": {},
   "source": [
    "#### LOGISTIC REGRESSION"
   ]
  },
  {
   "cell_type": "code",
   "execution_count": 85,
   "metadata": {
    "collapsed": true
   },
   "outputs": [],
   "source": [
    "# import and create logistic regresstion\n",
    "from sklearn.linear_model import LogisticRegression\n",
    "logreg = LogisticRegression()"
   ]
  },
  {
   "cell_type": "code",
   "execution_count": 86,
   "metadata": {
    "collapsed": false
   },
   "outputs": [
    {
     "data": {
      "text/plain": [
       "GridSearchCV(cv=ShuffleSplit(780, n_iter=10, test_size=0.2, random_state=0),\n",
       "       error_score='raise',\n",
       "       estimator=LogisticRegression(C=1.0, class_weight=None, dual=False, fit_intercept=True,\n",
       "          intercept_scaling=1, max_iter=100, multi_class='ovr',\n",
       "          penalty='l2', random_state=None, solver='liblinear', tol=0.0001,\n",
       "          verbose=0),\n",
       "       fit_params={}, iid=True, loss_func=None, n_jobs=1,\n",
       "       param_grid={'penalty': ['l1', 'l2'], 'C': array([  1.00000e-05,   1.01010e+03, ...,   9.89899e+04,   1.00000e+05]), 'class_weight': ['auto', None]},\n",
       "       pre_dispatch='2*n_jobs', refit=True, score_func=None, scoring=None,\n",
       "       verbose=0)"
      ]
     },
     "execution_count": 86,
     "metadata": {},
     "output_type": "execute_result"
    }
   ],
   "source": [
    "# tune params for data_noexam\n",
    "parameterslr = {'C': np.linspace(1e-5, 1e5, 100), 'class_weight':['auto', None], 'penalty': ['l1', 'l2']} \n",
    "clflr1 = GridSearchCV(logreg, parameterslr, cv=cv1)\n",
    "clflr1.fit(X_train_std1, y_train1)"
   ]
  },
  {
   "cell_type": "code",
   "execution_count": 87,
   "metadata": {
    "collapsed": false
   },
   "outputs": [
    {
     "data": {
      "text/plain": [
       "GridSearchCV(cv=ShuffleSplit(780, n_iter=10, test_size=0.2, random_state=0),\n",
       "       error_score='raise',\n",
       "       estimator=LogisticRegression(C=1.0, class_weight=None, dual=False, fit_intercept=True,\n",
       "          intercept_scaling=1, max_iter=100, multi_class='ovr',\n",
       "          penalty='l2', random_state=None, solver='liblinear', tol=0.0001,\n",
       "          verbose=0),\n",
       "       fit_params={}, iid=True, loss_func=None, n_jobs=1,\n",
       "       param_grid={'penalty': ['l1', 'l2'], 'C': array([  1.00000e-05,   1.01010e+03, ...,   9.89899e+04,   1.00000e+05]), 'class_weight': ['auto', None]},\n",
       "       pre_dispatch='2*n_jobs', refit=True, score_func=None, scoring=None,\n",
       "       verbose=0)"
      ]
     },
     "execution_count": 87,
     "metadata": {},
     "output_type": "execute_result"
    }
   ],
   "source": [
    "# tune params via gridsearch --> for data_rses\n",
    "parameterslr = {'C': np.linspace(1e-5, 1e5, 100), 'class_weight':['auto', None], 'penalty': ['l1', 'l2']} \n",
    "clflr4 = GridSearchCV(logreg, parameterslr, cv=cv4)\n",
    "clflr4.fit(X_train_std4, y_train4)"
   ]
  },
  {
   "cell_type": "code",
   "execution_count": 88,
   "metadata": {
    "collapsed": false
   },
   "outputs": [
    {
     "data": {
      "text/plain": [
       "{'C': 2020.2020299999999, 'class_weight': None, 'penalty': 'l1'}"
      ]
     },
     "execution_count": 88,
     "metadata": {},
     "output_type": "execute_result"
    }
   ],
   "source": [
    "# best params for data_noexam\n",
    "clflr1.best_params_"
   ]
  },
  {
   "cell_type": "code",
   "execution_count": 89,
   "metadata": {
    "collapsed": false
   },
   "outputs": [
    {
     "data": {
      "text/plain": [
       "{'C': 1010.1010199999999, 'class_weight': None, 'penalty': 'l1'}"
      ]
     },
     "execution_count": 89,
     "metadata": {},
     "output_type": "execute_result"
    }
   ],
   "source": [
    "# best params for data_rses\n",
    "clflr4.best_params_"
   ]
  },
  {
   "cell_type": "code",
   "execution_count": 90,
   "metadata": {
    "collapsed": false
   },
   "outputs": [
    {
     "data": {
      "text/plain": [
       "0.94294871794871793"
      ]
     },
     "execution_count": 90,
     "metadata": {},
     "output_type": "execute_result"
    }
   ],
   "source": [
    "clflr1.best_score_"
   ]
  },
  {
   "cell_type": "code",
   "execution_count": 91,
   "metadata": {
    "collapsed": false
   },
   "outputs": [
    {
     "data": {
      "text/plain": [
       "0.93141025641025643"
      ]
     },
     "execution_count": 91,
     "metadata": {},
     "output_type": "execute_result"
    }
   ],
   "source": [
    "clflr4.best_score_"
   ]
  },
  {
   "cell_type": "code",
   "execution_count": 92,
   "metadata": {
    "collapsed": true
   },
   "outputs": [],
   "source": [
    "best_lr1 = clflr1.best_estimator_"
   ]
  },
  {
   "cell_type": "code",
   "execution_count": 93,
   "metadata": {
    "collapsed": false
   },
   "outputs": [],
   "source": [
    "best_lr4 = clflr4.best_estimator_"
   ]
  },
  {
   "cell_type": "code",
   "execution_count": 94,
   "metadata": {
    "collapsed": false
   },
   "outputs": [
    {
     "name": "stdout",
     "output_type": "stream",
     "text": [
      "CV accuracy [ 0.77966102  0.85714286  0.86567164], Average accuracy 0.834158505294\n"
     ]
    }
   ],
   "source": [
    "# Evaluate the LR model using cross-validation (for data_noexam)\n",
    "from sklearn.cross_validation import cross_val_score\n",
    "\n",
    "scoreslr1 = cross_val_score(logreg, X_train_std1, y_train1, scoring='f1')\n",
    "print('CV accuracy {}, Average accuracy {}'.format(scoreslr1, scoreslr1.mean()))"
   ]
  },
  {
   "cell_type": "code",
   "execution_count": 95,
   "metadata": {
    "collapsed": false
   },
   "outputs": [
    {
     "name": "stdout",
     "output_type": "stream",
     "text": [
      "CV accuracy [ 0.71428571  0.75757576  0.72131148], Average accuracy 0.73105764909\n"
     ]
    }
   ],
   "source": [
    "# Evaluate the LR model using cross-validation (for data_rses)\n",
    "\n",
    "scoreslr4 = cross_val_score(logreg, X_train_std4, y_train4, scoring='f1')\n",
    "print('CV accuracy {}, Average accuracy {}'.format(scoreslr4, scoreslr4.mean()))"
   ]
  },
  {
   "cell_type": "code",
   "execution_count": 96,
   "metadata": {
    "collapsed": false
   },
   "outputs": [
    {
     "data": {
      "text/plain": [
       "0.96410256410256412"
      ]
     },
     "execution_count": 96,
     "metadata": {},
     "output_type": "execute_result"
    }
   ],
   "source": [
    "# check accuracy with test set - data_noexam\n",
    "best_lr1.score(X_test_std1, y_test1)"
   ]
  },
  {
   "cell_type": "code",
   "execution_count": 97,
   "metadata": {
    "collapsed": false
   },
   "outputs": [
    {
     "data": {
      "text/plain": [
       "0.93333333333333335"
      ]
     },
     "execution_count": 97,
     "metadata": {},
     "output_type": "execute_result"
    }
   ],
   "source": [
    "# check accuracy with test set - data_rses\n",
    "best_lr4.score(X_test_std4, y_test4)"
   ]
  },
  {
   "cell_type": "code",
   "execution_count": 98,
   "metadata": {
    "collapsed": false
   },
   "outputs": [
    {
     "data": {
      "text/plain": [
       "(0.81818181818181823, 0.8571428571428571, 0.83720930232558144, None)"
      ]
     },
     "execution_count": 98,
     "metadata": {},
     "output_type": "execute_result"
    }
   ],
   "source": [
    "# Precision / Recall / F1 - data_noexam\n",
    "\n",
    "predlr1 = clflr1.predict(X_test_std1)\n",
    "precision_recall_fscore_support(predlr1, y_test1, average='binary') "
   ]
  },
  {
   "cell_type": "code",
   "execution_count": 99,
   "metadata": {
    "collapsed": false
   },
   "outputs": [
    {
     "data": {
      "text/plain": [
       "(0.59090909090909094, 0.76470588235294112, 0.66666666666666674, None)"
      ]
     },
     "execution_count": 99,
     "metadata": {},
     "output_type": "execute_result"
    }
   ],
   "source": [
    "# Precision / Recall / F1 - data_rses\n",
    "\n",
    "predlr4 = clflr4.predict(X_test_std4)\n",
    "precision_recall_fscore_support(predlr4, y_test4, average='binary') "
   ]
  },
  {
   "cell_type": "code",
   "execution_count": 100,
   "metadata": {
    "collapsed": false
   },
   "outputs": [
    {
     "name": "stdout",
     "output_type": "stream",
     "text": [
      "10000 loops, best of 3: 69.5 µs per loop\n"
     ]
    }
   ],
   "source": [
    "%timeit best_lr1.predict(X_test_std1)"
   ]
  },
  {
   "cell_type": "code",
   "execution_count": 101,
   "metadata": {
    "collapsed": false
   },
   "outputs": [
    {
     "name": "stdout",
     "output_type": "stream",
     "text": [
      "The slowest run took 4.79 times longer than the fastest. This could mean that an intermediate result is being cached \n",
      "10000 loops, best of 3: 65.3 µs per loop\n"
     ]
    }
   ],
   "source": [
    "%timeit best_lr4.predict(X_test_std4)"
   ]
  },
  {
   "cell_type": "code",
   "execution_count": 102,
   "metadata": {
    "collapsed": false
   },
   "outputs": [
    {
     "data": {
      "image/png": "[encoded data removed]",
      "text/plain": [
       "<matplotlib.figure.Figure at 0x10de47ad0>"
      ]
     },
     "metadata": {},
     "output_type": "display_data"
    }
   ],
   "source": [
    "draw_learning_curve(best_lr1, X_train_std1, y_train1, estimator_titles=['Learning Curve for LR - data_noexam'], \n",
    "                    cv=cv2, scoring='f1')\n",
    "plt.title('Learning Curve for LR - data_noexam');"
   ]
  },
  {
   "cell_type": "code",
   "execution_count": 103,
   "metadata": {
    "collapsed": false
   },
   "outputs": [
    {
     "data": {
      "image/png": "[encoded data removed]",
      "text/plain": [
       "<matplotlib.figure.Figure at 0x10de47f50>"
      ]
     },
     "metadata": {},
     "output_type": "display_data"
    }
   ],
   "source": [
    "draw_learning_curve(best_lr4, X_train_std4, y_train4, estimator_titles=['Learning Curve for LR - data_rses'], \n",
    "                    cv=cv2, scoring='f1')\n",
    "plt.title('Learning Curve for LR - data_rses');"
   ]
  },
  {
   "cell_type": "code",
   "execution_count": 143,
   "metadata": {
    "collapsed": false
   },
   "outputs": [
    {
     "data": {
      "text/html": [
       "<div>\n",
       "<table border=\"1\" class=\"dataframe\">\n",
       "  <thead>\n",
       "    <tr style=\"text-align: right;\">\n",
       "      <th></th>\n",
       "      <th>coefficients</th>\n",
       "      <th>features</th>\n",
       "    </tr>\n",
       "  </thead>\n",
       "  <tbody>\n",
       "    <tr>\n",
       "      <th>18</th>\n",
       "      <td>1.537</td>\n",
       "      <td>student_attendance_rate</td>\n",
       "    </tr>\n",
       "    <tr>\n",
       "      <th>5</th>\n",
       "      <td>1.322</td>\n",
       "      <td>grade8_math</td>\n",
       "    </tr>\n",
       "    <tr>\n",
       "      <th>27</th>\n",
       "      <td>0.997</td>\n",
       "      <td>grade8_proficiency</td>\n",
       "    </tr>\n",
       "    <tr>\n",
       "      <th>24</th>\n",
       "      <td>0.927</td>\n",
       "      <td>violation_offenses</td>\n",
       "    </tr>\n",
       "    <tr>\n",
       "      <th>9</th>\n",
       "      <td>0.917</td>\n",
       "      <td>ell_percent</td>\n",
       "    </tr>\n",
       "    <tr>\n",
       "      <th>17</th>\n",
       "      <td>0.914</td>\n",
       "      <td>sat_percent_took_exam</td>\n",
       "    </tr>\n",
       "    <tr>\n",
       "      <th>25</th>\n",
       "      <td>0.685</td>\n",
       "      <td>school_day_length</td>\n",
       "    </tr>\n",
       "    <tr>\n",
       "      <th>2</th>\n",
       "      <td>0.590</td>\n",
       "      <td>poverty_percent</td>\n",
       "    </tr>\n",
       "    <tr>\n",
       "      <th>6</th>\n",
       "      <td>0.520</td>\n",
       "      <td>enrollment</td>\n",
       "    </tr>\n",
       "    <tr>\n",
       "      <th>12</th>\n",
       "      <td>0.496</td>\n",
       "      <td>disability_percent</td>\n",
       "    </tr>\n",
       "    <tr>\n",
       "      <th>19</th>\n",
       "      <td>0.455</td>\n",
       "      <td>school_environment_survey</td>\n",
       "    </tr>\n",
       "    <tr>\n",
       "      <th>3</th>\n",
       "      <td>0.436</td>\n",
       "      <td>avg_home_value_sqft</td>\n",
       "    </tr>\n",
       "    <tr>\n",
       "      <th>1</th>\n",
       "      <td>0.386</td>\n",
       "      <td>male_percent</td>\n",
       "    </tr>\n",
       "    <tr>\n",
       "      <th>4</th>\n",
       "      <td>0.350</td>\n",
       "      <td>grade8_english</td>\n",
       "    </tr>\n",
       "    <tr>\n",
       "      <th>21</th>\n",
       "      <td>0.039</td>\n",
       "      <td>principal_year_exp</td>\n",
       "    </tr>\n",
       "    <tr>\n",
       "      <th>28</th>\n",
       "      <td>0.020</td>\n",
       "      <td>all_crime</td>\n",
       "    </tr>\n",
       "    <tr>\n",
       "      <th>20</th>\n",
       "      <td>0.008</td>\n",
       "      <td>teacher_attendance</td>\n",
       "    </tr>\n",
       "    <tr>\n",
       "      <th>16</th>\n",
       "      <td>-0.040</td>\n",
       "      <td>act_percent_took_exam</td>\n",
       "    </tr>\n",
       "    <tr>\n",
       "      <th>0</th>\n",
       "      <td>-0.167</td>\n",
       "      <td>female_percent</td>\n",
       "    </tr>\n",
       "    <tr>\n",
       "      <th>14</th>\n",
       "      <td>-0.224</td>\n",
       "      <td>cte_percent</td>\n",
       "    </tr>\n",
       "    <tr>\n",
       "      <th>15</th>\n",
       "      <td>-0.302</td>\n",
       "      <td>arts_percent</td>\n",
       "    </tr>\n",
       "    <tr>\n",
       "      <th>23</th>\n",
       "      <td>-0.476</td>\n",
       "      <td>major_crimes</td>\n",
       "    </tr>\n",
       "    <tr>\n",
       "      <th>26</th>\n",
       "      <td>-1.351</td>\n",
       "      <td>population_diversity</td>\n",
       "    </tr>\n",
       "    <tr>\n",
       "      <th>11</th>\n",
       "      <td>-1.356</td>\n",
       "      <td>self-contained_percent</td>\n",
       "    </tr>\n",
       "    <tr>\n",
       "      <th>13</th>\n",
       "      <td>-1.779</td>\n",
       "      <td>white_percent</td>\n",
       "    </tr>\n",
       "    <tr>\n",
       "      <th>7</th>\n",
       "      <td>-1.996</td>\n",
       "      <td>asian_percent</td>\n",
       "    </tr>\n",
       "    <tr>\n",
       "      <th>8</th>\n",
       "      <td>-3.197</td>\n",
       "      <td>black_percent</td>\n",
       "    </tr>\n",
       "    <tr>\n",
       "      <th>10</th>\n",
       "      <td>-3.255</td>\n",
       "      <td>hispanic_percent</td>\n",
       "    </tr>\n",
       "    <tr>\n",
       "      <th>22</th>\n",
       "      <td>-3.774</td>\n",
       "      <td>dropouts_percent</td>\n",
       "    </tr>\n",
       "  </tbody>\n",
       "</table>\n",
       "</div>"
      ],
      "text/plain": [
       "    coefficients                   features\n",
       "18         1.537    student_attendance_rate\n",
       "5          1.322                grade8_math\n",
       "27         0.997         grade8_proficiency\n",
       "24         0.927         violation_offenses\n",
       "9          0.917                ell_percent\n",
       "17         0.914      sat_percent_took_exam\n",
       "25         0.685          school_day_length\n",
       "2          0.590            poverty_percent\n",
       "6          0.520                 enrollment\n",
       "12         0.496         disability_percent\n",
       "19         0.455  school_environment_survey\n",
       "3          0.436        avg_home_value_sqft\n",
       "1          0.386               male_percent\n",
       "4          0.350             grade8_english\n",
       "21         0.039         principal_year_exp\n",
       "28         0.020                  all_crime\n",
       "20         0.008         teacher_attendance\n",
       "16        -0.040      act_percent_took_exam\n",
       "0         -0.167             female_percent\n",
       "14        -0.224                cte_percent\n",
       "15        -0.302               arts_percent\n",
       "23        -0.476               major_crimes\n",
       "26        -1.351       population_diversity\n",
       "11        -1.356     self-contained_percent\n",
       "13        -1.779              white_percent\n",
       "7         -1.996              asian_percent\n",
       "8         -3.197              black_percent\n",
       "10        -3.255           hispanic_percent\n",
       "22        -3.774           dropouts_percent"
      ]
     },
     "execution_count": 143,
     "metadata": {},
     "output_type": "execute_result"
    }
   ],
   "source": [
    "# farther from zero --> more important\n",
    "# data_noexam\n",
    "pd.DataFrame({'features': X_train1.columns, 'coefficients': best_lr1.coef_[0]}).sort_values(by='coefficients', ascending=False)"
   ]
  },
  {
   "cell_type": "code",
   "execution_count": 105,
   "metadata": {
    "collapsed": false
   },
   "outputs": [
    {
     "data": {
      "text/html": [
       "<div>\n",
       "<table border=\"1\" class=\"dataframe\">\n",
       "  <thead>\n",
       "    <tr style=\"text-align: right;\">\n",
       "      <th></th>\n",
       "      <th>coefficients</th>\n",
       "      <th>features</th>\n",
       "    </tr>\n",
       "  </thead>\n",
       "  <tbody>\n",
       "    <tr>\n",
       "      <th>0</th>\n",
       "      <td>-0.086181</td>\n",
       "      <td>female_percent</td>\n",
       "    </tr>\n",
       "    <tr>\n",
       "      <th>1</th>\n",
       "      <td>0.060963</td>\n",
       "      <td>male_percent</td>\n",
       "    </tr>\n",
       "    <tr>\n",
       "      <th>2</th>\n",
       "      <td>-0.129189</td>\n",
       "      <td>poverty_percent</td>\n",
       "    </tr>\n",
       "    <tr>\n",
       "      <th>3</th>\n",
       "      <td>0.119394</td>\n",
       "      <td>avg_home_value_sqft</td>\n",
       "    </tr>\n",
       "    <tr>\n",
       "      <th>4</th>\n",
       "      <td>0.484080</td>\n",
       "      <td>asian_percent</td>\n",
       "    </tr>\n",
       "    <tr>\n",
       "      <th>5</th>\n",
       "      <td>-1.030009</td>\n",
       "      <td>black_percent</td>\n",
       "    </tr>\n",
       "    <tr>\n",
       "      <th>6</th>\n",
       "      <td>-1.526021</td>\n",
       "      <td>ell_percent</td>\n",
       "    </tr>\n",
       "    <tr>\n",
       "      <th>7</th>\n",
       "      <td>-0.623306</td>\n",
       "      <td>hispanic_percent</td>\n",
       "    </tr>\n",
       "    <tr>\n",
       "      <th>8</th>\n",
       "      <td>-1.281524</td>\n",
       "      <td>self-contained_percent</td>\n",
       "    </tr>\n",
       "    <tr>\n",
       "      <th>9</th>\n",
       "      <td>-1.579741</td>\n",
       "      <td>disability_percent</td>\n",
       "    </tr>\n",
       "    <tr>\n",
       "      <th>10</th>\n",
       "      <td>-0.066821</td>\n",
       "      <td>white_percent</td>\n",
       "    </tr>\n",
       "    <tr>\n",
       "      <th>11</th>\n",
       "      <td>-0.045985</td>\n",
       "      <td>population_diversity</td>\n",
       "    </tr>\n",
       "  </tbody>\n",
       "</table>\n",
       "</div>"
      ],
      "text/plain": [
       "    coefficients                features\n",
       "0      -0.086181          female_percent\n",
       "1       0.060963            male_percent\n",
       "2      -0.129189         poverty_percent\n",
       "3       0.119394     avg_home_value_sqft\n",
       "4       0.484080           asian_percent\n",
       "5      -1.030009           black_percent\n",
       "6      -1.526021             ell_percent\n",
       "7      -0.623306        hispanic_percent\n",
       "8      -1.281524  self-contained_percent\n",
       "9      -1.579741      disability_percent\n",
       "10     -0.066821           white_percent\n",
       "11     -0.045985    population_diversity"
      ]
     },
     "execution_count": 105,
     "metadata": {},
     "output_type": "execute_result"
    }
   ],
   "source": [
    "# farther from zero --> more important\n",
    "# data_rses\n",
    "pd.DataFrame({'features': X_train4.columns, 'coefficients': best_lr4.coef_[0]})"
   ]
  },
  {
   "cell_type": "markdown",
   "metadata": {},
   "source": [
    "#### SVM"
   ]
  },
  {
   "cell_type": "code",
   "execution_count": 106,
   "metadata": {
    "collapsed": true
   },
   "outputs": [],
   "source": [
    "# import and create svm\n",
    "#from sklearn.svm import SVC\n",
    "#svm = SVC()"
   ]
  },
  {
   "cell_type": "code",
   "execution_count": 107,
   "metadata": {
    "collapsed": true
   },
   "outputs": [],
   "source": [
    "# data_noexam\n",
    "#parameters_svm = {'C': np.linspace(.001, 10, 10), 'kernel': ['poly', 'rbf'],\n",
    "#         'degree': range(1,4), 'gamma': np.linspace(.001, 10, 10)}\n",
    "#clfsvm1 = GridSearchCV(svm, parameters_svm, cv=cv1, n_jobs=-1)\n",
    "#clfsvm1.fit(X_train1, y_train1)"
   ]
  },
  {
   "cell_type": "code",
   "execution_count": 108,
   "metadata": {
    "collapsed": false
   },
   "outputs": [],
   "source": [
    "#clfsvm4 = GridSearchCV(svm, parameters_svm, cv=cv4, n_jobs=-1)\n",
    "#clfsvm4.fit(X_train4, y_train4)"
   ]
  },
  {
   "cell_type": "code",
   "execution_count": 109,
   "metadata": {
    "collapsed": true
   },
   "outputs": [],
   "source": [
    "#clfsvm1.best_params_"
   ]
  },
  {
   "cell_type": "code",
   "execution_count": 110,
   "metadata": {
    "collapsed": true
   },
   "outputs": [],
   "source": [
    "#best_svm4 = clfsvm4.best_estimator_"
   ]
  },
  {
   "cell_type": "code",
   "execution_count": 111,
   "metadata": {
    "collapsed": true
   },
   "outputs": [],
   "source": [
    "#best_svm1.score(X_test1, y_test1)"
   ]
  },
  {
   "cell_type": "code",
   "execution_count": 112,
   "metadata": {
    "collapsed": false
   },
   "outputs": [],
   "source": [
    "# Precision / Recall / F1 - data\n",
    "\n",
    "#print classification_report(best_svm1.predict(X_test1), y_test1)"
   ]
  },
  {
   "cell_type": "code",
   "execution_count": 113,
   "metadata": {
    "collapsed": true
   },
   "outputs": [],
   "source": [
    "#best_svm4.score(X_test4, y_test4)"
   ]
  },
  {
   "cell_type": "code",
   "execution_count": 114,
   "metadata": {
    "collapsed": true
   },
   "outputs": [],
   "source": [
    "# Precision / Recall / F1 - data\n",
    "#\n",
    "#print classification_report(best_svm4.predict(X_test4), y_test4)"
   ]
  },
  {
   "cell_type": "code",
   "execution_count": 115,
   "metadata": {
    "collapsed": true
   },
   "outputs": [],
   "source": [
    "#%timeit best_svm1.predict(X_test1)"
   ]
  },
  {
   "cell_type": "code",
   "execution_count": 116,
   "metadata": {
    "collapsed": true
   },
   "outputs": [],
   "source": [
    "#%timeit best_svm4.predict(X_test4)"
   ]
  },
  {
   "cell_type": "code",
   "execution_count": 117,
   "metadata": {
    "collapsed": true
   },
   "outputs": [],
   "source": [
    "# not sure if this really illustrates what is happening above -- can we use learning curves for svm?\n",
    "#draw_learning_curve(best_svm4, X_train_std4, y_train4, estimator_titles=['Learning Curve for SVM - data_rses'], \n",
    "#                    cv=cv4, scoring='f1')\n",
    "#plt.title('Learning Curve for SVM - data_rses');"
   ]
  },
  {
   "cell_type": "markdown",
   "metadata": {
    "collapsed": true
   },
   "source": [
    "#### k-means"
   ]
  },
  {
   "cell_type": "code",
   "execution_count": 118,
   "metadata": {
    "collapsed": false
   },
   "outputs": [
    {
     "data": {
      "image/png": "[encoded data removed]",
      "text/plain": [
       "<matplotlib.figure.Figure at 0x10de47e50>"
      ]
     },
     "metadata": {},
     "output_type": "display_data"
    }
   ],
   "source": [
    "from sklearn.cluster import KMeans\n",
    "\n",
    "# look at inertia plot (how close together are the points in the clusters) -- no_noexam\n",
    "x11 = []\n",
    "y11 = []\n",
    "for n in range(1,20):\n",
    "    km11 = KMeans(n_clusters=n)\n",
    "    km11.fit(X_train_std1)\n",
    "    x11.append(n)\n",
    "    y11.append(km11.inertia_)\n",
    "plt.plot(x11, y11);"
   ]
  },
  {
   "cell_type": "code",
   "execution_count": 119,
   "metadata": {
    "collapsed": false
   },
   "outputs": [
    {
     "data": {
      "image/png": "[encoded data removed]",
      "text/plain": [
       "<matplotlib.figure.Figure at 0x10d6a99d0>"
      ]
     },
     "metadata": {},
     "output_type": "display_data"
    }
   ],
   "source": [
    "from sklearn.metrics import silhouette_score\n",
    "\n",
    "# look at silhouette plot (density and separation of each cluster) -- data_noexam\n",
    "x11 = []\n",
    "y11 = []\n",
    "for n in range(2,20):\n",
    "    km11 = KMeans(n_clusters=n)\n",
    "    centers = km11.fit_predict(X_train_std1)\n",
    "    x11.append(n)\n",
    "    y11.append(silhouette_score(X_train_std1, centers))\n",
    "plt.plot(x11, y11);"
   ]
  },
  {
   "cell_type": "code",
   "execution_count": 120,
   "metadata": {
    "collapsed": false
   },
   "outputs": [
    {
     "name": "stdout",
     "output_type": "stream",
     "text": [
      "1 loops, best of 3: 231 ms per loop\n"
     ]
    }
   ],
   "source": [
    "%%timeit\n",
    "# I'm going to choose k=4\n",
    "km1 = KMeans(n_clusters=4, n_init=20)\n",
    "cluster_labels1 = km1.fit_predict(X_train_std1)"
   ]
  },
  {
   "cell_type": "code",
   "execution_count": 121,
   "metadata": {
    "collapsed": false
   },
   "outputs": [],
   "source": [
    "km1 = KMeans(n_clusters=4, n_init=20)\n",
    "cluster_labels1 = km1.fit_predict(X_train_std1)"
   ]
  },
  {
   "cell_type": "code",
   "execution_count": 122,
   "metadata": {
    "collapsed": false
   },
   "outputs": [
    {
     "name": "stdout",
     "output_type": "stream",
     "text": [
      "DATA_IMPUTED:\n",
      "Inertia score: 16223.9644815 \n",
      "Silhouette score: 0.115786576724\n"
     ]
    }
   ],
   "source": [
    "print 'DATA_IMPUTED:\\nInertia score: {} \\nSilhouette score: {}'.format(km1.inertia_, silhouette_score(X_train_std1, cluster_labels1))"
   ]
  },
  {
   "cell_type": "code",
   "execution_count": 123,
   "metadata": {
    "collapsed": false
   },
   "outputs": [
    {
     "data": {
      "text/html": [
       "<div>\n",
       "<table border=\"1\" class=\"dataframe\">\n",
       "  <thead>\n",
       "    <tr style=\"text-align: right;\">\n",
       "      <th></th>\n",
       "      <th>0</th>\n",
       "      <th>1</th>\n",
       "      <th>2</th>\n",
       "      <th>3</th>\n",
       "    </tr>\n",
       "  </thead>\n",
       "  <tbody>\n",
       "    <tr>\n",
       "      <th>female_percent</th>\n",
       "      <td>0.472</td>\n",
       "      <td>0.435</td>\n",
       "      <td>0.531</td>\n",
       "      <td>0.532</td>\n",
       "    </tr>\n",
       "    <tr>\n",
       "      <th>male_percent</th>\n",
       "      <td>0.528</td>\n",
       "      <td>0.565</td>\n",
       "      <td>0.469</td>\n",
       "      <td>0.468</td>\n",
       "    </tr>\n",
       "    <tr>\n",
       "      <th>poverty_percent</th>\n",
       "      <td>0.946</td>\n",
       "      <td>0.867</td>\n",
       "      <td>0.822</td>\n",
       "      <td>0.531</td>\n",
       "    </tr>\n",
       "    <tr>\n",
       "      <th>avg_home_value_sqft</th>\n",
       "      <td>420.117</td>\n",
       "      <td>385.978</td>\n",
       "      <td>515.952</td>\n",
       "      <td>583.631</td>\n",
       "    </tr>\n",
       "    <tr>\n",
       "      <th>grade8_english</th>\n",
       "      <td>1.845</td>\n",
       "      <td>2.219</td>\n",
       "      <td>2.469</td>\n",
       "      <td>3.128</td>\n",
       "    </tr>\n",
       "    <tr>\n",
       "      <th>grade8_math</th>\n",
       "      <td>2.112</td>\n",
       "      <td>2.100</td>\n",
       "      <td>2.375</td>\n",
       "      <td>3.054</td>\n",
       "    </tr>\n",
       "    <tr>\n",
       "      <th>enrollment</th>\n",
       "      <td>385.818</td>\n",
       "      <td>481.699</td>\n",
       "      <td>599.564</td>\n",
       "      <td>1473.037</td>\n",
       "    </tr>\n",
       "    <tr>\n",
       "      <th>asian_percent</th>\n",
       "      <td>0.171</td>\n",
       "      <td>0.033</td>\n",
       "      <td>0.079</td>\n",
       "      <td>0.282</td>\n",
       "    </tr>\n",
       "    <tr>\n",
       "      <th>black_percent</th>\n",
       "      <td>0.083</td>\n",
       "      <td>0.477</td>\n",
       "      <td>0.396</td>\n",
       "      <td>0.127</td>\n",
       "    </tr>\n",
       "    <tr>\n",
       "      <th>ell_percent</th>\n",
       "      <td>0.819</td>\n",
       "      <td>0.117</td>\n",
       "      <td>0.070</td>\n",
       "      <td>0.031</td>\n",
       "    </tr>\n",
       "    <tr>\n",
       "      <th>hispanic_percent</th>\n",
       "      <td>0.687</td>\n",
       "      <td>0.451</td>\n",
       "      <td>0.450</td>\n",
       "      <td>0.234</td>\n",
       "    </tr>\n",
       "    <tr>\n",
       "      <th>self-contained_percent</th>\n",
       "      <td>0.009</td>\n",
       "      <td>0.094</td>\n",
       "      <td>0.034</td>\n",
       "      <td>0.020</td>\n",
       "    </tr>\n",
       "    <tr>\n",
       "      <th>disability_percent</th>\n",
       "      <td>0.039</td>\n",
       "      <td>0.252</td>\n",
       "      <td>0.174</td>\n",
       "      <td>0.109</td>\n",
       "    </tr>\n",
       "    <tr>\n",
       "      <th>white_percent</th>\n",
       "      <td>0.053</td>\n",
       "      <td>0.027</td>\n",
       "      <td>0.053</td>\n",
       "      <td>0.329</td>\n",
       "    </tr>\n",
       "    <tr>\n",
       "      <th>cte_percent</th>\n",
       "      <td>0.032</td>\n",
       "      <td>0.021</td>\n",
       "      <td>0.034</td>\n",
       "      <td>0.026</td>\n",
       "    </tr>\n",
       "    <tr>\n",
       "      <th>arts_percent</th>\n",
       "      <td>0.021</td>\n",
       "      <td>0.008</td>\n",
       "      <td>0.031</td>\n",
       "      <td>0.050</td>\n",
       "    </tr>\n",
       "    <tr>\n",
       "      <th>act_percent_took_exam</th>\n",
       "      <td>0.064</td>\n",
       "      <td>0.038</td>\n",
       "      <td>0.088</td>\n",
       "      <td>0.227</td>\n",
       "    </tr>\n",
       "    <tr>\n",
       "      <th>sat_percent_took_exam</th>\n",
       "      <td>0.569</td>\n",
       "      <td>0.481</td>\n",
       "      <td>0.704</td>\n",
       "      <td>0.828</td>\n",
       "    </tr>\n",
       "    <tr>\n",
       "      <th>student_attendance_rate</th>\n",
       "      <td>0.885</td>\n",
       "      <td>0.818</td>\n",
       "      <td>0.895</td>\n",
       "      <td>0.938</td>\n",
       "    </tr>\n",
       "    <tr>\n",
       "      <th>school_environment_survey</th>\n",
       "      <td>0.885</td>\n",
       "      <td>0.812</td>\n",
       "      <td>0.852</td>\n",
       "      <td>0.876</td>\n",
       "    </tr>\n",
       "    <tr>\n",
       "      <th>teacher_attendance</th>\n",
       "      <td>0.972</td>\n",
       "      <td>0.961</td>\n",
       "      <td>0.968</td>\n",
       "      <td>0.968</td>\n",
       "    </tr>\n",
       "    <tr>\n",
       "      <th>principal_year_exp</th>\n",
       "      <td>4.727</td>\n",
       "      <td>4.461</td>\n",
       "      <td>5.062</td>\n",
       "      <td>5.355</td>\n",
       "    </tr>\n",
       "    <tr>\n",
       "      <th>dropouts_percent</th>\n",
       "      <td>0.102</td>\n",
       "      <td>0.142</td>\n",
       "      <td>0.062</td>\n",
       "      <td>0.022</td>\n",
       "    </tr>\n",
       "    <tr>\n",
       "      <th>major_crimes</th>\n",
       "      <td>1772.795</td>\n",
       "      <td>1713.769</td>\n",
       "      <td>1482.761</td>\n",
       "      <td>1333.402</td>\n",
       "    </tr>\n",
       "    <tr>\n",
       "      <th>violation_offenses</th>\n",
       "      <td>947.909</td>\n",
       "      <td>1008.803</td>\n",
       "      <td>851.812</td>\n",
       "      <td>743.729</td>\n",
       "    </tr>\n",
       "    <tr>\n",
       "      <th>school_day_length</th>\n",
       "      <td>428.727</td>\n",
       "      <td>424.368</td>\n",
       "      <td>421.139</td>\n",
       "      <td>412.243</td>\n",
       "    </tr>\n",
       "    <tr>\n",
       "      <th>population_diversity</th>\n",
       "      <td>0.639</td>\n",
       "      <td>0.565</td>\n",
       "      <td>0.514</td>\n",
       "      <td>0.369</td>\n",
       "    </tr>\n",
       "    <tr>\n",
       "      <th>grade8_proficiency</th>\n",
       "      <td>3.957</td>\n",
       "      <td>4.320</td>\n",
       "      <td>4.844</td>\n",
       "      <td>6.182</td>\n",
       "    </tr>\n",
       "    <tr>\n",
       "      <th>all_crime</th>\n",
       "      <td>2720.705</td>\n",
       "      <td>2722.572</td>\n",
       "      <td>2334.573</td>\n",
       "      <td>2077.131</td>\n",
       "    </tr>\n",
       "  </tbody>\n",
       "</table>\n",
       "</div>"
      ],
      "text/plain": [
       "                                 0        1        2        3\n",
       "female_percent               0.472    0.435    0.531    0.532\n",
       "male_percent                 0.528    0.565    0.469    0.468\n",
       "poverty_percent              0.946    0.867    0.822    0.531\n",
       "avg_home_value_sqft        420.117  385.978  515.952  583.631\n",
       "grade8_english               1.845    2.219    2.469    3.128\n",
       "grade8_math                  2.112    2.100    2.375    3.054\n",
       "enrollment                 385.818  481.699  599.564 1473.037\n",
       "asian_percent                0.171    0.033    0.079    0.282\n",
       "black_percent                0.083    0.477    0.396    0.127\n",
       "ell_percent                  0.819    0.117    0.070    0.031\n",
       "hispanic_percent             0.687    0.451    0.450    0.234\n",
       "self-contained_percent       0.009    0.094    0.034    0.020\n",
       "disability_percent           0.039    0.252    0.174    0.109\n",
       "white_percent                0.053    0.027    0.053    0.329\n",
       "cte_percent                  0.032    0.021    0.034    0.026\n",
       "arts_percent                 0.021    0.008    0.031    0.050\n",
       "act_percent_took_exam        0.064    0.038    0.088    0.227\n",
       "sat_percent_took_exam        0.569    0.481    0.704    0.828\n",
       "student_attendance_rate      0.885    0.818    0.895    0.938\n",
       "school_environment_survey    0.885    0.812    0.852    0.876\n",
       "teacher_attendance           0.972    0.961    0.968    0.968\n",
       "principal_year_exp           4.727    4.461    5.062    5.355\n",
       "dropouts_percent             0.102    0.142    0.062    0.022\n",
       "major_crimes              1772.795 1713.769 1482.761 1333.402\n",
       "violation_offenses         947.909 1008.803  851.812  743.729\n",
       "school_day_length          428.727  424.368  421.139  412.243\n",
       "population_diversity         0.639    0.565    0.514    0.369\n",
       "grade8_proficiency           3.957    4.320    4.844    6.182\n",
       "all_crime                 2720.705 2722.572 2334.573 2077.131"
      ]
     },
     "execution_count": 123,
     "metadata": {},
     "output_type": "execute_result"
    }
   ],
   "source": [
    "# check cluster centers for each cluster -- for data_noexam \n",
    "pd.set_option('display.float_format', lambda x: '%.3f' % x)\n",
    "columns = {str(x): scale1.inverse_transform(km1.cluster_centers_[x]) for x in range(0,len(km1.cluster_centers_))}\n",
    "pd.DataFrame(columns, index=X_train1.columns)"
   ]
  },
  {
   "cell_type": "code",
   "execution_count": 142,
   "metadata": {
    "collapsed": false
   },
   "outputs": [
    {
     "data": {
      "text/html": [
       "<div>\n",
       "<table border=\"1\" class=\"dataframe\">\n",
       "  <thead>\n",
       "    <tr style=\"text-align: right;\">\n",
       "      <th>DBN</th>\n",
       "      <th>1419K404</th>\n",
       "      <th>1512X684</th>\n",
       "      <th>1409X329</th>\n",
       "      <th>1510X342</th>\n",
       "      <th>1428Q470</th>\n",
       "      <th>1502M551</th>\n",
       "      <th>1407X527</th>\n",
       "      <th>1519K502</th>\n",
       "      <th>1524Q560</th>\n",
       "      <th>1511X418</th>\n",
       "      <th>...</th>\n",
       "      <th>1484M888</th>\n",
       "      <th>1424Q455</th>\n",
       "      <th>1409X276</th>\n",
       "      <th>1412X278</th>\n",
       "      <th>1429Q283</th>\n",
       "      <th>1416K393</th>\n",
       "      <th>1503M415</th>\n",
       "      <th>1429Q492</th>\n",
       "      <th>1513K439</th>\n",
       "      <th>1502M425</th>\n",
       "    </tr>\n",
       "  </thead>\n",
       "  <tbody>\n",
       "    <tr>\n",
       "      <th>label</th>\n",
       "      <td>0.000</td>\n",
       "      <td>0.000</td>\n",
       "      <td>0.000</td>\n",
       "      <td>0.000</td>\n",
       "      <td>0.000</td>\n",
       "      <td>0.000</td>\n",
       "      <td>0.000</td>\n",
       "      <td>0.000</td>\n",
       "      <td>0.000</td>\n",
       "      <td>0.000</td>\n",
       "      <td>...</td>\n",
       "      <td>1.000</td>\n",
       "      <td>0.000</td>\n",
       "      <td>0.000</td>\n",
       "      <td>0.000</td>\n",
       "      <td>0.000</td>\n",
       "      <td>0.000</td>\n",
       "      <td>0.000</td>\n",
       "      <td>0.000</td>\n",
       "      <td>1.000</td>\n",
       "      <td>0.000</td>\n",
       "    </tr>\n",
       "    <tr>\n",
       "      <th>Unnamed 0</th>\n",
       "      <td>nan</td>\n",
       "      <td>nan</td>\n",
       "      <td>nan</td>\n",
       "      <td>nan</td>\n",
       "      <td>nan</td>\n",
       "      <td>nan</td>\n",
       "      <td>nan</td>\n",
       "      <td>nan</td>\n",
       "      <td>nan</td>\n",
       "      <td>nan</td>\n",
       "      <td>...</td>\n",
       "      <td>nan</td>\n",
       "      <td>nan</td>\n",
       "      <td>nan</td>\n",
       "      <td>nan</td>\n",
       "      <td>nan</td>\n",
       "      <td>nan</td>\n",
       "      <td>nan</td>\n",
       "      <td>nan</td>\n",
       "      <td>nan</td>\n",
       "      <td>nan</td>\n",
       "    </tr>\n",
       "  </tbody>\n",
       "</table>\n",
       "<p>2 rows × 780 columns</p>\n",
       "</div>"
      ],
      "text/plain": [
       "DBN        1419K404  1512X684  1409X329  1510X342  1428Q470  1502M551  \\\n",
       "label         0.000     0.000     0.000     0.000     0.000     0.000   \n",
       "Unnamed 0       nan       nan       nan       nan       nan       nan   \n",
       "\n",
       "DBN        1407X527  1519K502  1524Q560  1511X418    ...     1484M888  \\\n",
       "label         0.000     0.000     0.000     0.000    ...        1.000   \n",
       "Unnamed 0       nan       nan       nan       nan    ...          nan   \n",
       "\n",
       "DBN        1424Q455  1409X276  1412X278  1429Q283  1416K393  1503M415  \\\n",
       "label         0.000     0.000     0.000     0.000     0.000     0.000   \n",
       "Unnamed 0       nan       nan       nan       nan       nan       nan   \n",
       "\n",
       "DBN        1429Q492  1513K439  1502M425  \n",
       "label         0.000     1.000     0.000  \n",
       "Unnamed 0       nan       nan       nan  \n",
       "\n",
       "[2 rows x 780 columns]"
      ]
     },
     "execution_count": 142,
     "metadata": {},
     "output_type": "execute_result"
    }
   ],
   "source": [
    "# Check cluster sizes\n",
    "cluster_sizes = pd.DataFrame(data=[y_train1, cluster_labels1])\n",
    "cluster_sizes"
   ]
  },
  {
   "cell_type": "code",
   "execution_count": 125,
   "metadata": {
    "collapsed": true
   },
   "outputs": [],
   "source": [
    "cluster_sizes = cluster_sizes.transpose()"
   ]
  },
  {
   "cell_type": "code",
   "execution_count": 126,
   "metadata": {
    "collapsed": false
   },
   "outputs": [
    {
     "data": {
      "text/html": [
       "<div>\n",
       "<table border=\"1\" class=\"dataframe\">\n",
       "  <thead>\n",
       "    <tr style=\"text-align: right;\">\n",
       "      <th></th>\n",
       "      <th>label</th>\n",
       "      <th>Unnamed 0</th>\n",
       "    </tr>\n",
       "    <tr>\n",
       "      <th>DBN</th>\n",
       "      <th></th>\n",
       "      <th></th>\n",
       "    </tr>\n",
       "  </thead>\n",
       "  <tbody>\n",
       "    <tr>\n",
       "      <th>1419K404</th>\n",
       "      <td>0.000</td>\n",
       "      <td>nan</td>\n",
       "    </tr>\n",
       "    <tr>\n",
       "      <th>1512X684</th>\n",
       "      <td>0.000</td>\n",
       "      <td>nan</td>\n",
       "    </tr>\n",
       "    <tr>\n",
       "      <th>1409X329</th>\n",
       "      <td>0.000</td>\n",
       "      <td>nan</td>\n",
       "    </tr>\n",
       "    <tr>\n",
       "      <th>1510X342</th>\n",
       "      <td>0.000</td>\n",
       "      <td>nan</td>\n",
       "    </tr>\n",
       "    <tr>\n",
       "      <th>1428Q470</th>\n",
       "      <td>0.000</td>\n",
       "      <td>nan</td>\n",
       "    </tr>\n",
       "  </tbody>\n",
       "</table>\n",
       "</div>"
      ],
      "text/plain": [
       "          label  Unnamed 0\n",
       "DBN                       \n",
       "1419K404  0.000        nan\n",
       "1512X684  0.000        nan\n",
       "1409X329  0.000        nan\n",
       "1510X342  0.000        nan\n",
       "1428Q470  0.000        nan"
      ]
     },
     "execution_count": 126,
     "metadata": {},
     "output_type": "execute_result"
    }
   ],
   "source": [
    "cluster_sizes.head()"
   ]
  },
  {
   "cell_type": "code",
   "execution_count": 127,
   "metadata": {
    "collapsed": true
   },
   "outputs": [],
   "source": [
    "cluster_sizes['label'] = cluster_sizes['label'].astype(int)"
   ]
  },
  {
   "cell_type": "code",
   "execution_count": 128,
   "metadata": {
    "collapsed": false
   },
   "outputs": [
    {
     "name": "stdout",
     "output_type": "stream",
     "text": [
      "<class 'pandas.core.frame.DataFrame'>\n",
      "Index: 780 entries, 1419K404 to 1502M425\n",
      "Data columns (total 2 columns):\n",
      "label        780 non-null int64\n",
      "Unnamed 0    0 non-null float64\n",
      "dtypes: float64(1), int64(1)\n",
      "memory usage: 18.3+ KB\n"
     ]
    }
   ],
   "source": [
    "cluster_sizes.info()"
   ]
  },
  {
   "cell_type": "code",
   "execution_count": 130,
   "metadata": {
    "collapsed": false
   },
   "outputs": [
    {
     "data": {
      "text/html": [
       "<div>\n",
       "<table border=\"1\" class=\"dataframe\">\n",
       "  <thead>\n",
       "    <tr style=\"text-align: right;\">\n",
       "      <th></th>\n",
       "      <th>0</th>\n",
       "      <th>1</th>\n",
       "      <th>2</th>\n",
       "      <th>3</th>\n",
       "      <th>4</th>\n",
       "      <th>5</th>\n",
       "      <th>6</th>\n",
       "      <th>7</th>\n",
       "      <th>8</th>\n",
       "      <th>9</th>\n",
       "      <th>...</th>\n",
       "      <th>20</th>\n",
       "      <th>21</th>\n",
       "      <th>22</th>\n",
       "      <th>23</th>\n",
       "      <th>24</th>\n",
       "      <th>25</th>\n",
       "      <th>26</th>\n",
       "      <th>27</th>\n",
       "      <th>28</th>\n",
       "      <th>cluster</th>\n",
       "    </tr>\n",
       "  </thead>\n",
       "  <tbody>\n",
       "    <tr>\n",
       "      <th>0</th>\n",
       "      <td>1.352</td>\n",
       "      <td>-1.352</td>\n",
       "      <td>-0.084</td>\n",
       "      <td>-0.686</td>\n",
       "      <td>0.385</td>\n",
       "      <td>-0.440</td>\n",
       "      <td>-0.311</td>\n",
       "      <td>-0.594</td>\n",
       "      <td>1.311</td>\n",
       "      <td>-0.564</td>\n",
       "      <td>...</td>\n",
       "      <td>-0.409</td>\n",
       "      <td>-0.276</td>\n",
       "      <td>0.228</td>\n",
       "      <td>3.921</td>\n",
       "      <td>2.782</td>\n",
       "      <td>-0.055</td>\n",
       "      <td>0.427</td>\n",
       "      <td>-0.034</td>\n",
       "      <td>3.702</td>\n",
       "      <td>1</td>\n",
       "    </tr>\n",
       "    <tr>\n",
       "      <th>1</th>\n",
       "      <td>-0.866</td>\n",
       "      <td>0.866</td>\n",
       "      <td>0.304</td>\n",
       "      <td>-0.258</td>\n",
       "      <td>-0.645</td>\n",
       "      <td>-0.623</td>\n",
       "      <td>-0.209</td>\n",
       "      <td>-0.622</td>\n",
       "      <td>0.828</td>\n",
       "      <td>-0.483</td>\n",
       "      <td>...</td>\n",
       "      <td>-0.873</td>\n",
       "      <td>-0.943</td>\n",
       "      <td>-0.070</td>\n",
       "      <td>-0.897</td>\n",
       "      <td>-1.489</td>\n",
       "      <td>-0.055</td>\n",
       "      <td>-0.115</td>\n",
       "      <td>-0.646</td>\n",
       "      <td>-1.184</td>\n",
       "      <td>1</td>\n",
       "    </tr>\n",
       "    <tr>\n",
       "      <th>2</th>\n",
       "      <td>0.834</td>\n",
       "      <td>-0.834</td>\n",
       "      <td>1.222</td>\n",
       "      <td>-0.909</td>\n",
       "      <td>-0.594</td>\n",
       "      <td>-0.770</td>\n",
       "      <td>-0.412</td>\n",
       "      <td>-0.596</td>\n",
       "      <td>-0.219</td>\n",
       "      <td>0.603</td>\n",
       "      <td>...</td>\n",
       "      <td>-1.431</td>\n",
       "      <td>-0.769</td>\n",
       "      <td>2.907</td>\n",
       "      <td>1.048</td>\n",
       "      <td>1.260</td>\n",
       "      <td>-0.920</td>\n",
       "      <td>0.084</td>\n",
       "      <td>-0.696</td>\n",
       "      <td>1.194</td>\n",
       "      <td>1</td>\n",
       "    </tr>\n",
       "    <tr>\n",
       "      <th>3</th>\n",
       "      <td>-0.082</td>\n",
       "      <td>0.082</td>\n",
       "      <td>1.031</td>\n",
       "      <td>-0.258</td>\n",
       "      <td>-1.268</td>\n",
       "      <td>-0.648</td>\n",
       "      <td>-0.131</td>\n",
       "      <td>-0.679</td>\n",
       "      <td>-1.448</td>\n",
       "      <td>2.920</td>\n",
       "      <td>...</td>\n",
       "      <td>0.892</td>\n",
       "      <td>-0.450</td>\n",
       "      <td>0.089</td>\n",
       "      <td>0.786</td>\n",
       "      <td>0.722</td>\n",
       "      <td>1.503</td>\n",
       "      <td>2.904</td>\n",
       "      <td>-0.972</td>\n",
       "      <td>0.807</td>\n",
       "      <td>0</td>\n",
       "    </tr>\n",
       "    <tr>\n",
       "      <th>4</th>\n",
       "      <td>-0.001</td>\n",
       "      <td>0.001</td>\n",
       "      <td>0.146</td>\n",
       "      <td>-0.258</td>\n",
       "      <td>-0.839</td>\n",
       "      <td>-0.506</td>\n",
       "      <td>-0.793</td>\n",
       "      <td>1.802</td>\n",
       "      <td>-0.102</td>\n",
       "      <td>0.771</td>\n",
       "      <td>...</td>\n",
       "      <td>-2.174</td>\n",
       "      <td>-0.740</td>\n",
       "      <td>5.402</td>\n",
       "      <td>-0.113</td>\n",
       "      <td>-0.134</td>\n",
       "      <td>-0.055</td>\n",
       "      <td>-1.316</td>\n",
       "      <td>-0.683</td>\n",
       "      <td>-0.128</td>\n",
       "      <td>1</td>\n",
       "    </tr>\n",
       "  </tbody>\n",
       "</table>\n",
       "<p>5 rows × 30 columns</p>\n",
       "</div>"
      ],
      "text/plain": [
       "       0      1      2      3      4      5      6      7      8      9  \\\n",
       "0  1.352 -1.352 -0.084 -0.686  0.385 -0.440 -0.311 -0.594  1.311 -0.564   \n",
       "1 -0.866  0.866  0.304 -0.258 -0.645 -0.623 -0.209 -0.622  0.828 -0.483   \n",
       "2  0.834 -0.834  1.222 -0.909 -0.594 -0.770 -0.412 -0.596 -0.219  0.603   \n",
       "3 -0.082  0.082  1.031 -0.258 -1.268 -0.648 -0.131 -0.679 -1.448  2.920   \n",
       "4 -0.001  0.001  0.146 -0.258 -0.839 -0.506 -0.793  1.802 -0.102  0.771   \n",
       "\n",
       "    ...        20     21     22     23     24     25     26     27     28  \\\n",
       "0   ...    -0.409 -0.276  0.228  3.921  2.782 -0.055  0.427 -0.034  3.702   \n",
       "1   ...    -0.873 -0.943 -0.070 -0.897 -1.489 -0.055 -0.115 -0.646 -1.184   \n",
       "2   ...    -1.431 -0.769  2.907  1.048  1.260 -0.920  0.084 -0.696  1.194   \n",
       "3   ...     0.892 -0.450  0.089  0.786  0.722  1.503  2.904 -0.972  0.807   \n",
       "4   ...    -2.174 -0.740  5.402 -0.113 -0.134 -0.055 -1.316 -0.683 -0.128   \n",
       "\n",
       "   cluster  \n",
       "0        1  \n",
       "1        1  \n",
       "2        1  \n",
       "3        0  \n",
       "4        1  \n",
       "\n",
       "[5 rows x 30 columns]"
      ]
     },
     "execution_count": 130,
     "metadata": {},
     "output_type": "execute_result"
    }
   ],
   "source": [
    "X_kmtrain11 = X_train1.copy()\n",
    "X_kmtrain11 = pd.DataFrame(scale1.fit_transform(X_kmtrain11))\n",
    "X_kmtrain11['cluster'] = km1.labels_\n",
    "X_kmtrain11.head()"
   ]
  },
  {
   "cell_type": "code",
   "execution_count": 131,
   "metadata": {
    "collapsed": false
   },
   "outputs": [
    {
     "data": {
      "text/html": [
       "<div>\n",
       "<table border=\"1\" class=\"dataframe\">\n",
       "  <thead>\n",
       "    <tr style=\"text-align: right;\">\n",
       "      <th></th>\n",
       "      <th>0</th>\n",
       "      <th>1</th>\n",
       "      <th>2</th>\n",
       "      <th>3</th>\n",
       "      <th>4</th>\n",
       "      <th>5</th>\n",
       "      <th>6</th>\n",
       "      <th>7</th>\n",
       "      <th>8</th>\n",
       "      <th>9</th>\n",
       "      <th>...</th>\n",
       "      <th>20</th>\n",
       "      <th>21</th>\n",
       "      <th>22</th>\n",
       "      <th>23</th>\n",
       "      <th>24</th>\n",
       "      <th>25</th>\n",
       "      <th>26</th>\n",
       "      <th>27</th>\n",
       "      <th>28</th>\n",
       "      <th>cluster</th>\n",
       "    </tr>\n",
       "  </thead>\n",
       "  <tbody>\n",
       "    <tr>\n",
       "      <th>0</th>\n",
       "      <td>-1.375</td>\n",
       "      <td>1.375</td>\n",
       "      <td>-0.766</td>\n",
       "      <td>-0.666</td>\n",
       "      <td>-0.154</td>\n",
       "      <td>-0.470</td>\n",
       "      <td>0.113</td>\n",
       "      <td>-0.223</td>\n",
       "      <td>-0.180</td>\n",
       "      <td>-0.536</td>\n",
       "      <td>...</td>\n",
       "      <td>-0.765</td>\n",
       "      <td>0.578</td>\n",
       "      <td>0.018</td>\n",
       "      <td>0.032</td>\n",
       "      <td>2.478</td>\n",
       "      <td>-0.109</td>\n",
       "      <td>-1.322</td>\n",
       "      <td>-0.317</td>\n",
       "      <td>0.980</td>\n",
       "      <td>1</td>\n",
       "    </tr>\n",
       "    <tr>\n",
       "      <th>1</th>\n",
       "      <td>-0.119</td>\n",
       "      <td>0.119</td>\n",
       "      <td>1.291</td>\n",
       "      <td>-0.336</td>\n",
       "      <td>-0.709</td>\n",
       "      <td>-0.775</td>\n",
       "      <td>-0.129</td>\n",
       "      <td>-0.638</td>\n",
       "      <td>-0.312</td>\n",
       "      <td>-0.175</td>\n",
       "      <td>...</td>\n",
       "      <td>1.722</td>\n",
       "      <td>1.996</td>\n",
       "      <td>0.854</td>\n",
       "      <td>-0.390</td>\n",
       "      <td>0.084</td>\n",
       "      <td>-2.397</td>\n",
       "      <td>0.295</td>\n",
       "      <td>-0.757</td>\n",
       "      <td>-0.229</td>\n",
       "      <td>1</td>\n",
       "    </tr>\n",
       "    <tr>\n",
       "      <th>2</th>\n",
       "      <td>-1.407</td>\n",
       "      <td>1.407</td>\n",
       "      <td>-2.652</td>\n",
       "      <td>-0.336</td>\n",
       "      <td>0.450</td>\n",
       "      <td>-0.218</td>\n",
       "      <td>-0.671</td>\n",
       "      <td>0.065</td>\n",
       "      <td>-0.682</td>\n",
       "      <td>-0.540</td>\n",
       "      <td>...</td>\n",
       "      <td>1.531</td>\n",
       "      <td>-0.058</td>\n",
       "      <td>-0.156</td>\n",
       "      <td>-0.726</td>\n",
       "      <td>-1.255</td>\n",
       "      <td>-0.491</td>\n",
       "      <td>-1.400</td>\n",
       "      <td>0.120</td>\n",
       "      <td>-0.972</td>\n",
       "      <td>2</td>\n",
       "    </tr>\n",
       "    <tr>\n",
       "      <th>3</th>\n",
       "      <td>1.033</td>\n",
       "      <td>-1.033</td>\n",
       "      <td>0.163</td>\n",
       "      <td>3.741</td>\n",
       "      <td>-0.055</td>\n",
       "      <td>-0.279</td>\n",
       "      <td>-0.692</td>\n",
       "      <td>-0.567</td>\n",
       "      <td>-0.378</td>\n",
       "      <td>-0.432</td>\n",
       "      <td>...</td>\n",
       "      <td>1.627</td>\n",
       "      <td>0.578</td>\n",
       "      <td>-0.745</td>\n",
       "      <td>0.763</td>\n",
       "      <td>-0.552</td>\n",
       "      <td>-0.109</td>\n",
       "      <td>-0.142</td>\n",
       "      <td>-0.170</td>\n",
       "      <td>0.298</td>\n",
       "      <td>2</td>\n",
       "    </tr>\n",
       "    <tr>\n",
       "      <th>4</th>\n",
       "      <td>-0.076</td>\n",
       "      <td>0.076</td>\n",
       "      <td>0.335</td>\n",
       "      <td>-0.336</td>\n",
       "      <td>-0.447</td>\n",
       "      <td>-0.646</td>\n",
       "      <td>0.054</td>\n",
       "      <td>-0.585</td>\n",
       "      <td>0.335</td>\n",
       "      <td>0.230</td>\n",
       "      <td>...</td>\n",
       "      <td>0.287</td>\n",
       "      <td>0.405</td>\n",
       "      <td>2.156</td>\n",
       "      <td>-0.047</td>\n",
       "      <td>0.128</td>\n",
       "      <td>1.035</td>\n",
       "      <td>-0.321</td>\n",
       "      <td>-0.557</td>\n",
       "      <td>0.018</td>\n",
       "      <td>1</td>\n",
       "    </tr>\n",
       "  </tbody>\n",
       "</table>\n",
       "<p>5 rows × 30 columns</p>\n",
       "</div>"
      ],
      "text/plain": [
       "       0      1      2      3      4      5      6      7      8      9  \\\n",
       "0 -1.375  1.375 -0.766 -0.666 -0.154 -0.470  0.113 -0.223 -0.180 -0.536   \n",
       "1 -0.119  0.119  1.291 -0.336 -0.709 -0.775 -0.129 -0.638 -0.312 -0.175   \n",
       "2 -1.407  1.407 -2.652 -0.336  0.450 -0.218 -0.671  0.065 -0.682 -0.540   \n",
       "3  1.033 -1.033  0.163  3.741 -0.055 -0.279 -0.692 -0.567 -0.378 -0.432   \n",
       "4 -0.076  0.076  0.335 -0.336 -0.447 -0.646  0.054 -0.585  0.335  0.230   \n",
       "\n",
       "    ...        20     21     22     23     24     25     26     27     28  \\\n",
       "0   ...    -0.765  0.578  0.018  0.032  2.478 -0.109 -1.322 -0.317  0.980   \n",
       "1   ...     1.722  1.996  0.854 -0.390  0.084 -2.397  0.295 -0.757 -0.229   \n",
       "2   ...     1.531 -0.058 -0.156 -0.726 -1.255 -0.491 -1.400  0.120 -0.972   \n",
       "3   ...     1.627  0.578 -0.745  0.763 -0.552 -0.109 -0.142 -0.170  0.298   \n",
       "4   ...     0.287  0.405  2.156 -0.047  0.128  1.035 -0.321 -0.557  0.018   \n",
       "\n",
       "   cluster  \n",
       "0        1  \n",
       "1        1  \n",
       "2        2  \n",
       "3        2  \n",
       "4        1  \n",
       "\n",
       "[5 rows x 30 columns]"
      ]
     },
     "execution_count": 131,
     "metadata": {},
     "output_type": "execute_result"
    }
   ],
   "source": [
    "# add cluster labels to test set; make sure it is standardized and in a dataframe\n",
    "X_kmtest11 = X_test1.copy()\n",
    "X_kmtest11 = pd.DataFrame(scale1.fit_transform(X_kmtest11))\n",
    "X_kmtest11['cluster'] = km1.predict(X_test_std1)\n",
    "X_kmtest11.head()"
   ]
  },
  {
   "cell_type": "code",
   "execution_count": 133,
   "metadata": {
    "collapsed": false
   },
   "outputs": [
    {
     "data": {
      "text/plain": [
       "{'n_estimators': 46}"
      ]
     },
     "execution_count": 133,
     "metadata": {},
     "output_type": "execute_result"
    }
   ],
   "source": [
    "clfrf1.fit(X_kmtrain11, y_train1)\n",
    "clfrf1.best_params_"
   ]
  },
  {
   "cell_type": "code",
   "execution_count": 134,
   "metadata": {
    "collapsed": false
   },
   "outputs": [
    {
     "data": {
      "text/plain": [
       "0.95448717948717954"
      ]
     },
     "execution_count": 134,
     "metadata": {},
     "output_type": "execute_result"
    }
   ],
   "source": [
    "clfrf1.best_score_"
   ]
  },
  {
   "cell_type": "code",
   "execution_count": 135,
   "metadata": {
    "collapsed": true
   },
   "outputs": [],
   "source": [
    "best_rf1 = clfrf1.best_estimator_"
   ]
  },
  {
   "cell_type": "code",
   "execution_count": 139,
   "metadata": {
    "collapsed": false
   },
   "outputs": [
    {
     "name": "stdout",
     "output_type": "stream",
     "text": [
      "CV accuracy [ 0.75        0.86486486  0.84375   ], Average accuracy 0.819538288288\n"
     ]
    }
   ],
   "source": [
    "scores1 = cross_val_score(rfmodel, X_kmtrain11, y_train1, scoring='f1')\n",
    "print('CV accuracy {}, Average accuracy {}'.format(scores1, scores1.mean()))"
   ]
  },
  {
   "cell_type": "code",
   "execution_count": 140,
   "metadata": {
    "collapsed": false
   },
   "outputs": [
    {
     "data": {
      "text/plain": [
       "0.96410256410256412"
      ]
     },
     "execution_count": 140,
     "metadata": {},
     "output_type": "execute_result"
    }
   ],
   "source": [
    "best_rf1.score(X_kmtest11, y_test1)"
   ]
  },
  {
   "cell_type": "code",
   "execution_count": 141,
   "metadata": {
    "collapsed": false
   },
   "outputs": [
    {
     "data": {
      "text/plain": [
       "(0.86363636363636365, 0.82608695652173914, 0.84444444444444444, None)"
      ]
     },
     "execution_count": 141,
     "metadata": {},
     "output_type": "execute_result"
    }
   ],
   "source": [
    "predrf1 = clfrf1.predict(X_kmtest11)\n",
    "precision_recall_fscore_support(predrf1, y_test1, average='binary') "
   ]
  },
  {
   "cell_type": "code",
   "execution_count": null,
   "metadata": {
    "collapsed": true
   },
   "outputs": [],
   "source": []
  }
 ],
 "metadata": {
  "kernelspec": {
   "display_name": "Python 2",
   "language": "python",
   "name": "python2"
  },
  "language_info": {
   "codemirror_mode": {
    "name": "ipython",
    "version": 2
   },
   "file_extension": ".py",
   "mimetype": "text/x-python",
   "name": "python",
   "nbconvert_exporter": "python",
   "pygments_lexer": "ipython2",
   "version": "2.7.11"
  }
 },
 "nbformat": 4,
 "nbformat_minor": 0
}
