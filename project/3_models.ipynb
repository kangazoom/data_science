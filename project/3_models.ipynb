{
 "cells": [
  {
   "cell_type": "code",
   "execution_count": 1,
   "metadata": {
    "collapsed": true
   },
   "outputs": [],
   "source": [
    "# import necessary libraries to start\n",
    "import pandas as pd\n",
    "import numpy as np\n",
    "import matplotlib.pyplot as plt\n",
    "%matplotlib inline\n",
    "\n",
    "import seaborn as sns"
   ]
  },
  {
   "cell_type": "code",
   "execution_count": 2,
   "metadata": {
    "collapsed": false
   },
   "outputs": [
    {
     "data": {
      "text/html": [
       "<div>\n",
       "<table border=\"1\" class=\"dataframe\">\n",
       "  <thead>\n",
       "    <tr style=\"text-align: right;\">\n",
       "      <th></th>\n",
       "      <th>female_percent</th>\n",
       "      <th>male_percent</th>\n",
       "      <th>poverty_percent</th>\n",
       "      <th>avg_home_value_sqft</th>\n",
       "      <th>district_admin_code</th>\n",
       "      <th>grade8_english</th>\n",
       "      <th>grade8_math</th>\n",
       "      <th>regents_algebra</th>\n",
       "      <th>regents_english</th>\n",
       "      <th>regents_history_global</th>\n",
       "      <th>...</th>\n",
       "      <th>dropouts_percent</th>\n",
       "      <th>major_crimes</th>\n",
       "      <th>violation_offenses</th>\n",
       "      <th>school_day_length</th>\n",
       "      <th>sat_score_overall</th>\n",
       "      <th>regents_score_overall</th>\n",
       "      <th>population_diversity</th>\n",
       "      <th>grade8_proficiency</th>\n",
       "      <th>all_crime</th>\n",
       "      <th>label</th>\n",
       "    </tr>\n",
       "    <tr>\n",
       "      <th>DBN</th>\n",
       "      <th></th>\n",
       "      <th></th>\n",
       "      <th></th>\n",
       "      <th></th>\n",
       "      <th></th>\n",
       "      <th></th>\n",
       "      <th></th>\n",
       "      <th></th>\n",
       "      <th></th>\n",
       "      <th></th>\n",
       "      <th></th>\n",
       "      <th></th>\n",
       "      <th></th>\n",
       "      <th></th>\n",
       "      <th></th>\n",
       "      <th></th>\n",
       "      <th></th>\n",
       "      <th></th>\n",
       "      <th></th>\n",
       "      <th></th>\n",
       "      <th></th>\n",
       "    </tr>\n",
       "  </thead>\n",
       "  <tbody>\n",
       "    <tr>\n",
       "      <th>1501M292</th>\n",
       "      <td>0.376471</td>\n",
       "      <td>0.623529</td>\n",
       "      <td>0.866667</td>\n",
       "      <td>1321.166667</td>\n",
       "      <td>1</td>\n",
       "      <td>2.18</td>\n",
       "      <td>2.06</td>\n",
       "      <td>64</td>\n",
       "      <td>66</td>\n",
       "      <td>53</td>\n",
       "      <td>...</td>\n",
       "      <td>0.095890</td>\n",
       "      <td>732</td>\n",
       "      <td>506</td>\n",
       "      <td>420</td>\n",
       "      <td>1197</td>\n",
       "      <td>238</td>\n",
       "      <td>0.398837</td>\n",
       "      <td>4.24</td>\n",
       "      <td>1238</td>\n",
       "      <td>0</td>\n",
       "    </tr>\n",
       "    <tr>\n",
       "      <th>1501M448</th>\n",
       "      <td>0.378289</td>\n",
       "      <td>0.621711</td>\n",
       "      <td>0.891447</td>\n",
       "      <td>1321.166667</td>\n",
       "      <td>1</td>\n",
       "      <td>2.27</td>\n",
       "      <td>2.37</td>\n",
       "      <td>64</td>\n",
       "      <td>69</td>\n",
       "      <td>67</td>\n",
       "      <td>...</td>\n",
       "      <td>0.097561</td>\n",
       "      <td>732</td>\n",
       "      <td>506</td>\n",
       "      <td>420</td>\n",
       "      <td>1144</td>\n",
       "      <td>268</td>\n",
       "      <td>0.321911</td>\n",
       "      <td>4.64</td>\n",
       "      <td>1238</td>\n",
       "      <td>0</td>\n",
       "    </tr>\n",
       "    <tr>\n",
       "      <th>1501M450</th>\n",
       "      <td>0.469970</td>\n",
       "      <td>0.530030</td>\n",
       "      <td>0.735736</td>\n",
       "      <td>1324.500000</td>\n",
       "      <td>1</td>\n",
       "      <td>2.66</td>\n",
       "      <td>2.63</td>\n",
       "      <td>65</td>\n",
       "      <td>75</td>\n",
       "      <td>64</td>\n",
       "      <td>...</td>\n",
       "      <td>0.034091</td>\n",
       "      <td>1331</td>\n",
       "      <td>584</td>\n",
       "      <td>420</td>\n",
       "      <td>1327</td>\n",
       "      <td>271</td>\n",
       "      <td>0.399807</td>\n",
       "      <td>5.29</td>\n",
       "      <td>1915</td>\n",
       "      <td>1</td>\n",
       "    </tr>\n",
       "    <tr>\n",
       "      <th>1501M509</th>\n",
       "      <td>0.567493</td>\n",
       "      <td>0.432507</td>\n",
       "      <td>0.845730</td>\n",
       "      <td>1321.166667</td>\n",
       "      <td>1</td>\n",
       "      <td>2.28</td>\n",
       "      <td>2.09</td>\n",
       "      <td>61</td>\n",
       "      <td>69</td>\n",
       "      <td>63</td>\n",
       "      <td>...</td>\n",
       "      <td>0.176471</td>\n",
       "      <td>732</td>\n",
       "      <td>506</td>\n",
       "      <td>450</td>\n",
       "      <td>1245</td>\n",
       "      <td>257</td>\n",
       "      <td>0.425334</td>\n",
       "      <td>4.37</td>\n",
       "      <td>1238</td>\n",
       "      <td>0</td>\n",
       "    </tr>\n",
       "    <tr>\n",
       "      <th>1501M539</th>\n",
       "      <td>0.515274</td>\n",
       "      <td>0.484726</td>\n",
       "      <td>0.273199</td>\n",
       "      <td>1321.166667</td>\n",
       "      <td>1</td>\n",
       "      <td>3.50</td>\n",
       "      <td>3.53</td>\n",
       "      <td>80</td>\n",
       "      <td>91</td>\n",
       "      <td>87</td>\n",
       "      <td>...</td>\n",
       "      <td>0.008197</td>\n",
       "      <td>732</td>\n",
       "      <td>506</td>\n",
       "      <td>465</td>\n",
       "      <td>1859</td>\n",
       "      <td>346</td>\n",
       "      <td>0.280110</td>\n",
       "      <td>7.03</td>\n",
       "      <td>1238</td>\n",
       "      <td>1</td>\n",
       "    </tr>\n",
       "  </tbody>\n",
       "</table>\n",
       "<p>5 rows × 51 columns</p>\n",
       "</div>"
      ],
      "text/plain": [
       "          female_percent  male_percent  poverty_percent  avg_home_value_sqft  \\\n",
       "DBN                                                                            \n",
       "1501M292        0.376471      0.623529         0.866667          1321.166667   \n",
       "1501M448        0.378289      0.621711         0.891447          1321.166667   \n",
       "1501M450        0.469970      0.530030         0.735736          1324.500000   \n",
       "1501M509        0.567493      0.432507         0.845730          1321.166667   \n",
       "1501M539        0.515274      0.484726         0.273199          1321.166667   \n",
       "\n",
       "          district_admin_code  grade8_english  grade8_math  regents_algebra  \\\n",
       "DBN                                                                           \n",
       "1501M292                    1            2.18         2.06               64   \n",
       "1501M448                    1            2.27         2.37               64   \n",
       "1501M450                    1            2.66         2.63               65   \n",
       "1501M509                    1            2.28         2.09               61   \n",
       "1501M539                    1            3.50         3.53               80   \n",
       "\n",
       "          regents_english  regents_history_global  ...    dropouts_percent  \\\n",
       "DBN                                                ...                       \n",
       "1501M292               66                      53  ...            0.095890   \n",
       "1501M448               69                      67  ...            0.097561   \n",
       "1501M450               75                      64  ...            0.034091   \n",
       "1501M509               69                      63  ...            0.176471   \n",
       "1501M539               91                      87  ...            0.008197   \n",
       "\n",
       "          major_crimes  violation_offenses  school_day_length  \\\n",
       "DBN                                                             \n",
       "1501M292           732                 506                420   \n",
       "1501M448           732                 506                420   \n",
       "1501M450          1331                 584                420   \n",
       "1501M509           732                 506                450   \n",
       "1501M539           732                 506                465   \n",
       "\n",
       "          sat_score_overall  regents_score_overall  population_diversity  \\\n",
       "DBN                                                                        \n",
       "1501M292               1197                    238              0.398837   \n",
       "1501M448               1144                    268              0.321911   \n",
       "1501M450               1327                    271              0.399807   \n",
       "1501M509               1245                    257              0.425334   \n",
       "1501M539               1859                    346              0.280110   \n",
       "\n",
       "          grade8_proficiency  all_crime  label  \n",
       "DBN                                             \n",
       "1501M292                4.24       1238      0  \n",
       "1501M448                4.64       1238      0  \n",
       "1501M450                5.29       1915      1  \n",
       "1501M509                4.37       1238      0  \n",
       "1501M539                7.03       1238      1  \n",
       "\n",
       "[5 rows x 51 columns]"
      ]
     },
     "execution_count": 2,
     "metadata": {},
     "output_type": "execute_result"
    }
   ],
   "source": [
    "# import data (exported from 2_data_cleaning_eda.ipynb)\n",
    "all_data = pd.read_csv('nyc_high_schools_complete_clean.csv', index_col=0)\n",
    "all_data.head()"
   ]
  },
  {
   "cell_type": "code",
   "execution_count": 3,
   "metadata": {
    "collapsed": false
   },
   "outputs": [
    {
     "data": {
      "text/plain": [
       "['female_percent',\n",
       " 'male_percent',\n",
       " 'poverty_percent',\n",
       " 'avg_home_value_sqft',\n",
       " 'district_admin_code',\n",
       " 'grade8_english',\n",
       " 'grade8_math',\n",
       " 'regents_algebra',\n",
       " 'regents_english',\n",
       " 'regents_history_global',\n",
       " 'regents_living_environ',\n",
       " 'sat_reading',\n",
       " 'sat_math',\n",
       " 'sat_writing',\n",
       " 'college_readiness_index',\n",
       " 'cuny_2yr',\n",
       " 'cuny_4yr',\n",
       " 'college_career_readiness_index',\n",
       " 'enrollment',\n",
       " 'graduation_rate',\n",
       " 'college_nys_private',\n",
       " 'college_nys_public',\n",
       " 'college_out_of_state',\n",
       " 'asian_percent',\n",
       " 'black_percent',\n",
       " 'ell_percent',\n",
       " 'hispanic_percent',\n",
       " 'self-contained_percent',\n",
       " 'disability_percent',\n",
       " 'white_percent',\n",
       " 'cte_percent',\n",
       " 'arts_percent',\n",
       " 'ap_exams_percent_scoring_3plus',\n",
       " 'act_percent_took_exam',\n",
       " 'sat_percent_took_exam',\n",
       " 'post-secondary_enroll_rate',\n",
       " 'student_attendance_rate',\n",
       " 'school_environment_survey',\n",
       " 'teacher_attendance',\n",
       " 'principal_year_exp',\n",
       " 'zip_code',\n",
       " 'dropouts_percent',\n",
       " 'major_crimes',\n",
       " 'violation_offenses',\n",
       " 'school_day_length',\n",
       " 'sat_score_overall',\n",
       " 'regents_score_overall',\n",
       " 'population_diversity',\n",
       " 'grade8_proficiency',\n",
       " 'all_crime',\n",
       " 'label']"
      ]
     },
     "execution_count": 3,
     "metadata": {},
     "output_type": "execute_result"
    }
   ],
   "source": [
    "list(all_data)"
   ]
  },
  {
   "cell_type": "code",
   "execution_count": 4,
   "metadata": {
    "collapsed": true
   },
   "outputs": [],
   "source": [
    "data = all_data.copy()"
   ]
  },
  {
   "cell_type": "code",
   "execution_count": 5,
   "metadata": {
    "collapsed": true
   },
   "outputs": [],
   "source": [
    "# Need to drop more features for fair evaluation:\n",
    "# graduation rates, college readiness index (since they are all tied to the model used to calculate the label)\n",
    "data = data.drop(['college_readiness_index', 'graduation_rate', 'college_career_readiness_index'], axis=1)"
   ]
  },
  {
   "cell_type": "code",
   "execution_count": 6,
   "metadata": {
    "collapsed": true
   },
   "outputs": [],
   "source": [
    "# Really should drop any exam scores used to calculate the college readiness index (SAT scores, Regents scores, APs)\n",
    "# Nervous about results, so will create a separate dataframe for comparison\n",
    "data_noexam = data.drop(['regents_algebra', 'regents_english', 'regents_history_global',\n",
    "                        'regents_living_environ', 'sat_math', 'sat_reading',\n",
    "                        'sat_writing', 'ap_exams_percent_scoring_3plus', 'sat_score_overall', 'regents_score_overall'], axis=1)"
   ]
  },
  {
   "cell_type": "code",
   "execution_count": 7,
   "metadata": {
    "collapsed": false
   },
   "outputs": [],
   "source": [
    "# create a dataset with dummy categoricals for only zip\n",
    "data_zip = data_noexam.drop('district_admin_code', axis=1)"
   ]
  },
  {
   "cell_type": "code",
   "execution_count": 8,
   "metadata": {
    "collapsed": false
   },
   "outputs": [],
   "source": [
    "data_zip['zip_code'] = data_zip['zip_code'].astype(int)"
   ]
  },
  {
   "cell_type": "code",
   "execution_count": 9,
   "metadata": {
    "collapsed": false
   },
   "outputs": [],
   "source": [
    "data_zip['zip_code'] = data_zip['zip_code'].astype('category')"
   ]
  },
  {
   "cell_type": "code",
   "execution_count": 10,
   "metadata": {
    "collapsed": false
   },
   "outputs": [],
   "source": [
    "zip_code_dummy = pd.get_dummies(data_zip['zip_code'])"
   ]
  },
  {
   "cell_type": "code",
   "execution_count": 11,
   "metadata": {
    "collapsed": false
   },
   "outputs": [],
   "source": [
    "data_zip = pd.concat([data_zip, zip_code_dummy], axis=1)"
   ]
  },
  {
   "cell_type": "code",
   "execution_count": 12,
   "metadata": {
    "collapsed": false
   },
   "outputs": [
    {
     "data": {
      "text/html": [
       "<div>\n",
       "<table border=\"1\" class=\"dataframe\">\n",
       "  <thead>\n",
       "    <tr style=\"text-align: right;\">\n",
       "      <th></th>\n",
       "      <th>female_percent</th>\n",
       "      <th>male_percent</th>\n",
       "      <th>poverty_percent</th>\n",
       "      <th>avg_home_value_sqft</th>\n",
       "      <th>grade8_english</th>\n",
       "      <th>grade8_math</th>\n",
       "      <th>cuny_2yr</th>\n",
       "      <th>cuny_4yr</th>\n",
       "      <th>enrollment</th>\n",
       "      <th>college_nys_private</th>\n",
       "      <th>...</th>\n",
       "      <th>11419</th>\n",
       "      <th>11420</th>\n",
       "      <th>11423</th>\n",
       "      <th>11426</th>\n",
       "      <th>11427</th>\n",
       "      <th>11432</th>\n",
       "      <th>11433</th>\n",
       "      <th>11434</th>\n",
       "      <th>11691</th>\n",
       "      <th>11694</th>\n",
       "    </tr>\n",
       "    <tr>\n",
       "      <th>DBN</th>\n",
       "      <th></th>\n",
       "      <th></th>\n",
       "      <th></th>\n",
       "      <th></th>\n",
       "      <th></th>\n",
       "      <th></th>\n",
       "      <th></th>\n",
       "      <th></th>\n",
       "      <th></th>\n",
       "      <th></th>\n",
       "      <th></th>\n",
       "      <th></th>\n",
       "      <th></th>\n",
       "      <th></th>\n",
       "      <th></th>\n",
       "      <th></th>\n",
       "      <th></th>\n",
       "      <th></th>\n",
       "      <th></th>\n",
       "      <th></th>\n",
       "      <th></th>\n",
       "    </tr>\n",
       "  </thead>\n",
       "  <tbody>\n",
       "    <tr>\n",
       "      <th>1501M292</th>\n",
       "      <td>0.376471</td>\n",
       "      <td>0.623529</td>\n",
       "      <td>0.866667</td>\n",
       "      <td>1321.166667</td>\n",
       "      <td>2.18</td>\n",
       "      <td>2.06</td>\n",
       "      <td>0.131</td>\n",
       "      <td>0.066</td>\n",
       "      <td>255</td>\n",
       "      <td>0.000</td>\n",
       "      <td>...</td>\n",
       "      <td>0</td>\n",
       "      <td>0</td>\n",
       "      <td>0</td>\n",
       "      <td>0</td>\n",
       "      <td>0</td>\n",
       "      <td>0</td>\n",
       "      <td>0</td>\n",
       "      <td>0</td>\n",
       "      <td>0</td>\n",
       "      <td>0</td>\n",
       "    </tr>\n",
       "    <tr>\n",
       "      <th>1501M448</th>\n",
       "      <td>0.378289</td>\n",
       "      <td>0.621711</td>\n",
       "      <td>0.891447</td>\n",
       "      <td>1321.166667</td>\n",
       "      <td>2.27</td>\n",
       "      <td>2.37</td>\n",
       "      <td>0.197</td>\n",
       "      <td>0.169</td>\n",
       "      <td>304</td>\n",
       "      <td>0.042</td>\n",
       "      <td>...</td>\n",
       "      <td>0</td>\n",
       "      <td>0</td>\n",
       "      <td>0</td>\n",
       "      <td>0</td>\n",
       "      <td>0</td>\n",
       "      <td>0</td>\n",
       "      <td>0</td>\n",
       "      <td>0</td>\n",
       "      <td>0</td>\n",
       "      <td>0</td>\n",
       "    </tr>\n",
       "    <tr>\n",
       "      <th>1501M450</th>\n",
       "      <td>0.469970</td>\n",
       "      <td>0.530030</td>\n",
       "      <td>0.735736</td>\n",
       "      <td>1324.500000</td>\n",
       "      <td>2.66</td>\n",
       "      <td>2.63</td>\n",
       "      <td>0.111</td>\n",
       "      <td>0.144</td>\n",
       "      <td>666</td>\n",
       "      <td>0.189</td>\n",
       "      <td>...</td>\n",
       "      <td>0</td>\n",
       "      <td>0</td>\n",
       "      <td>0</td>\n",
       "      <td>0</td>\n",
       "      <td>0</td>\n",
       "      <td>0</td>\n",
       "      <td>0</td>\n",
       "      <td>0</td>\n",
       "      <td>0</td>\n",
       "      <td>0</td>\n",
       "    </tr>\n",
       "    <tr>\n",
       "      <th>1501M509</th>\n",
       "      <td>0.567493</td>\n",
       "      <td>0.432507</td>\n",
       "      <td>0.845730</td>\n",
       "      <td>1321.166667</td>\n",
       "      <td>2.28</td>\n",
       "      <td>2.09</td>\n",
       "      <td>0.100</td>\n",
       "      <td>0.083</td>\n",
       "      <td>363</td>\n",
       "      <td>0.017</td>\n",
       "      <td>...</td>\n",
       "      <td>0</td>\n",
       "      <td>0</td>\n",
       "      <td>0</td>\n",
       "      <td>0</td>\n",
       "      <td>0</td>\n",
       "      <td>0</td>\n",
       "      <td>0</td>\n",
       "      <td>0</td>\n",
       "      <td>0</td>\n",
       "      <td>0</td>\n",
       "    </tr>\n",
       "    <tr>\n",
       "      <th>1501M539</th>\n",
       "      <td>0.515274</td>\n",
       "      <td>0.484726</td>\n",
       "      <td>0.273199</td>\n",
       "      <td>1321.166667</td>\n",
       "      <td>3.50</td>\n",
       "      <td>3.53</td>\n",
       "      <td>0.044</td>\n",
       "      <td>0.168</td>\n",
       "      <td>1735</td>\n",
       "      <td>0.248</td>\n",
       "      <td>...</td>\n",
       "      <td>0</td>\n",
       "      <td>0</td>\n",
       "      <td>0</td>\n",
       "      <td>0</td>\n",
       "      <td>0</td>\n",
       "      <td>0</td>\n",
       "      <td>0</td>\n",
       "      <td>0</td>\n",
       "      <td>0</td>\n",
       "      <td>0</td>\n",
       "    </tr>\n",
       "  </tbody>\n",
       "</table>\n",
       "<p>5 rows × 157 columns</p>\n",
       "</div>"
      ],
      "text/plain": [
       "          female_percent  male_percent  poverty_percent  avg_home_value_sqft  \\\n",
       "DBN                                                                            \n",
       "1501M292        0.376471      0.623529         0.866667          1321.166667   \n",
       "1501M448        0.378289      0.621711         0.891447          1321.166667   \n",
       "1501M450        0.469970      0.530030         0.735736          1324.500000   \n",
       "1501M509        0.567493      0.432507         0.845730          1321.166667   \n",
       "1501M539        0.515274      0.484726         0.273199          1321.166667   \n",
       "\n",
       "          grade8_english  grade8_math  cuny_2yr  cuny_4yr  enrollment  \\\n",
       "DBN                                                                     \n",
       "1501M292            2.18         2.06     0.131     0.066         255   \n",
       "1501M448            2.27         2.37     0.197     0.169         304   \n",
       "1501M450            2.66         2.63     0.111     0.144         666   \n",
       "1501M509            2.28         2.09     0.100     0.083         363   \n",
       "1501M539            3.50         3.53     0.044     0.168        1735   \n",
       "\n",
       "          college_nys_private  ...    11419  11420  11423  11426  11427  \\\n",
       "DBN                            ...                                        \n",
       "1501M292                0.000  ...        0      0      0      0      0   \n",
       "1501M448                0.042  ...        0      0      0      0      0   \n",
       "1501M450                0.189  ...        0      0      0      0      0   \n",
       "1501M509                0.017  ...        0      0      0      0      0   \n",
       "1501M539                0.248  ...        0      0      0      0      0   \n",
       "\n",
       "          11432  11433  11434  11691  11694  \n",
       "DBN                                          \n",
       "1501M292      0      0      0      0      0  \n",
       "1501M448      0      0      0      0      0  \n",
       "1501M450      0      0      0      0      0  \n",
       "1501M509      0      0      0      0      0  \n",
       "1501M539      0      0      0      0      0  \n",
       "\n",
       "[5 rows x 157 columns]"
      ]
     },
     "execution_count": 12,
     "metadata": {},
     "output_type": "execute_result"
    }
   ],
   "source": [
    "data_zip.head()"
   ]
  },
  {
   "cell_type": "code",
   "execution_count": 13,
   "metadata": {
    "collapsed": true
   },
   "outputs": [],
   "source": [
    "# create a dataset with dummy categoricals for only administrative district\n",
    "data_admin = data_noexam.drop('zip_code', axis=1)"
   ]
  },
  {
   "cell_type": "code",
   "execution_count": 14,
   "metadata": {
    "collapsed": false
   },
   "outputs": [],
   "source": [
    "dac_dummy = pd.get_dummies(data_admin['district_admin_code'])"
   ]
  },
  {
   "cell_type": "code",
   "execution_count": 15,
   "metadata": {
    "collapsed": true
   },
   "outputs": [],
   "source": [
    "data_admin = pd.concat([data_admin, dac_dummy], axis=1)"
   ]
  },
  {
   "cell_type": "code",
   "execution_count": 16,
   "metadata": {
    "collapsed": true
   },
   "outputs": [],
   "source": [
    "# make sure that the non-categorical dataframes don't have them\n",
    "data_noexam = data_noexam.drop(['zip_code', 'district_admin_code'], axis=1)\n",
    "data = data.drop(['zip_code', 'district_admin_code'], axis=1)"
   ]
  },
  {
   "cell_type": "markdown",
   "metadata": {},
   "source": [
    "#### MINIMUM BENCHMARK"
   ]
  },
  {
   "cell_type": "code",
   "execution_count": 17,
   "metadata": {
    "collapsed": false
   },
   "outputs": [
    {
     "data": {
      "text/plain": [
       "0    0.870769\n",
       "Name: label, dtype: float64"
      ]
     },
     "execution_count": 17,
     "metadata": {},
     "output_type": "execute_result"
    }
   ],
   "source": [
    "# Count of high schools with cri above nyc's average grad rate (within one standard deviation) \n",
    "# divided by amount of rows to determine benchmark for minimum performance\n",
    "data_noexam['label'].value_counts().head(1) / len(data_noexam['label'])"
   ]
  },
  {
   "cell_type": "code",
   "execution_count": 18,
   "metadata": {
    "collapsed": false
   },
   "outputs": [
    {
     "data": {
      "image/png": "[encoded data removed]",
      "text/plain": [
       "<matplotlib.figure.Figure at 0x10ad30f90>"
      ]
     },
     "metadata": {},
     "output_type": "display_data"
    }
   ],
   "source": [
    "# visualization of the above\n",
    "data_noexam['label'].value_counts().plot(title='CRIs that outpace NYC average grad rate (within one standard dev)', subplots=True, kind='pie', autopct='%.2f%%', colors=['LightBlue', 'Salmon'], \n",
    "                                      fontsize=20, labels=['0 - Schools with CRI below NYC average grad rate', '1 - Schools with CRI above NYC average grad rate'], figsize=(6,6));"
   ]
  },
  {
   "cell_type": "markdown",
   "metadata": {},
   "source": [
    "#### RANDOM FOREST"
   ]
  },
  {
   "cell_type": "code",
   "execution_count": 19,
   "metadata": {
    "collapsed": false
   },
   "outputs": [],
   "source": [
    "# Assign data to X and y (3x for each dataset I wish to test)\n",
    "# note that data has exams that feed into cri and hopefully is just for comparison\n",
    "y1 = data['label']\n",
    "y2 = data_noexam['label']\n",
    "y3 = data_admin['label']\n",
    "y4 = data_zip['label']\n",
    "\n",
    "X1 = data.drop('label', axis=1)\n",
    "X2 = data_noexam.drop('label', axis=1)\n",
    "X3 = data_admin.drop('label', axis=1)\n",
    "X4 = data_zip.drop('label', axis=1)"
   ]
  },
  {
   "cell_type": "code",
   "execution_count": 20,
   "metadata": {
    "collapsed": true
   },
   "outputs": [],
   "source": [
    "# break up the data into test and training sets:\n",
    "from sklearn.cross_validation import train_test_split\n",
    "X_train1, X_test1, y_train1, y_test1 = train_test_split(X1, y1, test_size=0.2, random_state=1)\n",
    "X_train2, X_test2, y_train2, y_test2 = train_test_split(X2, y2, test_size=0.2, random_state=1)\n",
    "X_train3, X_test3, y_train3, y_test3 = train_test_split(X3, y3, test_size=0.2, random_state=1)\n",
    "X_train4, X_test4, y_train4, y_test4 = train_test_split(X4, y4, test_size=0.2, random_state=1)"
   ]
  },
  {
   "cell_type": "code",
   "execution_count": 21,
   "metadata": {
    "collapsed": true
   },
   "outputs": [],
   "source": [
    "# 20% test / 80% train / 10 cross validation iterations \n",
    "from sklearn.cross_validation import ShuffleSplit\n",
    "cv1 = ShuffleSplit(X_train1.shape[0], n_iter=10, test_size=0.2, random_state=0)\n",
    "cv2 = ShuffleSplit(X_train2.shape[0], n_iter=10, test_size=0.2, random_state=0)\n",
    "cv3 = ShuffleSplit(X_train3.shape[0], n_iter=10, test_size=0.2, random_state=0)\n",
    "cv4 = ShuffleSplit(X_train4.shape[0], n_iter=10, test_size=0.2, random_state=0)"
   ]
  },
  {
   "cell_type": "code",
   "execution_count": 22,
   "metadata": {
    "collapsed": true
   },
   "outputs": [],
   "source": [
    "# standardization for models that use euclidian distances\n",
    "from sklearn.preprocessing import StandardScaler\n",
    "stdsc = StandardScaler()\n",
    "# transform training features\n",
    "X_train_std1 = stdsc.fit_transform(X_train1)\n",
    "# transform the testing features in the same way\n",
    "X_test_std1 = stdsc.transform(X_test1)\n",
    "\n",
    "X_train_std2 = stdsc.fit_transform(X_train2)\n",
    "X_test_std2 = stdsc.transform(X_test2)\n",
    "\n",
    "X_train_std3 = stdsc.fit_transform(X_train3)\n",
    "X_test_std3 = stdsc.transform(X_test3)\n",
    "\n",
    "X_train_std4 = stdsc.fit_transform(X_train4)\n",
    "X_test_std4 = stdsc.transform(X_test4)"
   ]
  },
  {
   "cell_type": "code",
   "execution_count": 23,
   "metadata": {
    "collapsed": true
   },
   "outputs": [],
   "source": [
    "# import and create random forest\n",
    "from sklearn.ensemble import RandomForestClassifier\n",
    "rfmodel = RandomForestClassifier()"
   ]
  },
  {
   "cell_type": "code",
   "execution_count": 24,
   "metadata": {
    "collapsed": false
   },
   "outputs": [],
   "source": [
    "# find best params - first for all_data\n",
    "from sklearn.grid_search import GridSearchCV\n",
    "parameters = {'n_estimators': range(1, 101, 5)}\n",
    "clfrf1 = GridSearchCV(rfmodel, parameters, cv=cv1)"
   ]
  },
  {
   "cell_type": "code",
   "execution_count": 25,
   "metadata": {
    "collapsed": false
   },
   "outputs": [
    {
     "data": {
      "text/plain": [
       "{'n_estimators': 71}"
      ]
     },
     "execution_count": 25,
     "metadata": {},
     "output_type": "execute_result"
    }
   ],
   "source": [
    "# this is for data -- df with exams; hopefully can be discarded later; will likely perform best\n",
    "clfrf1.fit(X_train1, y_train1)\n",
    "clfrf1.best_params_"
   ]
  },
  {
   "cell_type": "code",
   "execution_count": 26,
   "metadata": {
    "collapsed": false
   },
   "outputs": [
    {
     "data": {
      "text/plain": [
       "{'n_estimators': 11}"
      ]
     },
     "execution_count": 26,
     "metadata": {},
     "output_type": "execute_result"
    }
   ],
   "source": [
    "# this is for data_noexam -- likely the second-best performing and main model, unless one of the geo ones outperform it\n",
    "clfrf2 = GridSearchCV(rfmodel, parameters, cv=cv2)\n",
    "clfrf2.fit(X_train2, y_train2)\n",
    "clfrf2.best_params_"
   ]
  },
  {
   "cell_type": "code",
   "execution_count": 27,
   "metadata": {
    "collapsed": false
   },
   "outputs": [
    {
     "data": {
      "text/plain": [
       "{'n_estimators': 61}"
      ]
     },
     "execution_count": 27,
     "metadata": {},
     "output_type": "execute_result"
    }
   ],
   "source": [
    "# this is for data_admin\n",
    "clfrf3 = GridSearchCV(rfmodel, parameters, cv=cv3)\n",
    "clfrf3.fit(X_train3, y_train3)\n",
    "clfrf3.best_params_"
   ]
  },
  {
   "cell_type": "code",
   "execution_count": 28,
   "metadata": {
    "collapsed": false
   },
   "outputs": [
    {
     "data": {
      "text/plain": [
       "{'n_estimators': 41}"
      ]
     },
     "execution_count": 28,
     "metadata": {},
     "output_type": "execute_result"
    }
   ],
   "source": [
    "# this is for data_zip\n",
    "clfrf4 = GridSearchCV(rfmodel, parameters, cv=cv4)\n",
    "clfrf4.fit(X_train4, y_train4)\n",
    "clfrf4.best_params_"
   ]
  },
  {
   "cell_type": "code",
   "execution_count": 29,
   "metadata": {
    "collapsed": false
   },
   "outputs": [
    {
     "data": {
      "text/plain": [
       "0.96025641025641029"
      ]
     },
     "execution_count": 29,
     "metadata": {},
     "output_type": "execute_result"
    }
   ],
   "source": [
    "# top cv score for data\n",
    "clfrf1.best_score_"
   ]
  },
  {
   "cell_type": "code",
   "execution_count": 30,
   "metadata": {
    "collapsed": false
   },
   "outputs": [
    {
     "data": {
      "text/plain": [
       "0.95256410256410251"
      ]
     },
     "execution_count": 30,
     "metadata": {},
     "output_type": "execute_result"
    }
   ],
   "source": [
    "# top cv score for data_noexam\n",
    "clfrf2.best_score_"
   ]
  },
  {
   "cell_type": "code",
   "execution_count": 31,
   "metadata": {
    "collapsed": false
   },
   "outputs": [
    {
     "data": {
      "text/plain": [
       "0.95192307692307687"
      ]
     },
     "execution_count": 31,
     "metadata": {},
     "output_type": "execute_result"
    }
   ],
   "source": [
    "# top cv score for data_admin\n",
    "clfrf3.best_score_"
   ]
  },
  {
   "cell_type": "code",
   "execution_count": 32,
   "metadata": {
    "collapsed": false
   },
   "outputs": [
    {
     "data": {
      "text/plain": [
       "0.95320512820512826"
      ]
     },
     "execution_count": 32,
     "metadata": {},
     "output_type": "execute_result"
    }
   ],
   "source": [
    "# top cv score for data_zip\n",
    "clfrf4.best_score_"
   ]
  },
  {
   "cell_type": "code",
   "execution_count": 33,
   "metadata": {
    "collapsed": true
   },
   "outputs": [],
   "source": [
    "best_rf1 = clfrf1.best_estimator_"
   ]
  },
  {
   "cell_type": "code",
   "execution_count": 34,
   "metadata": {
    "collapsed": true
   },
   "outputs": [],
   "source": [
    "best_rf2 = clfrf2.best_estimator_"
   ]
  },
  {
   "cell_type": "code",
   "execution_count": 35,
   "metadata": {
    "collapsed": true
   },
   "outputs": [],
   "source": [
    "best_rf3 = clfrf3.best_estimator_"
   ]
  },
  {
   "cell_type": "code",
   "execution_count": 36,
   "metadata": {
    "collapsed": true
   },
   "outputs": [],
   "source": [
    "best_rf4 = clfrf4.best_estimator_"
   ]
  },
  {
   "cell_type": "code",
   "execution_count": 37,
   "metadata": {
    "collapsed": false
   },
   "outputs": [
    {
     "name": "stdout",
     "output_type": "stream",
     "text": [
      "CV accuracy [ 0.94252874  0.96153846  0.96525097], Average accuracy 0.956439387474\n"
     ]
    }
   ],
   "source": [
    "# Evaluate the Random Forest model using cross-validation (for data)\n",
    "from sklearn.cross_validation import cross_val_score\n",
    "\n",
    "scores1 = cross_val_score(rfmodel, X_train1, y_train1, scoring='accuracy')\n",
    "print('CV accuracy {}, Average accuracy {}'.format(scores1, scores1.mean()))"
   ]
  },
  {
   "cell_type": "code",
   "execution_count": 38,
   "metadata": {
    "collapsed": false
   },
   "outputs": [
    {
     "name": "stdout",
     "output_type": "stream",
     "text": [
      "CV accuracy [ 0.93869732  0.95769231  0.96138996], Average accuracy 0.952593195697\n"
     ]
    }
   ],
   "source": [
    "#^ for data_noexam\n",
    "scores2 = cross_val_score(rfmodel, X_train2, y_train2, scoring='accuracy')\n",
    "print('CV accuracy {}, Average accuracy {}'.format(scores2, scores2.mean()))"
   ]
  },
  {
   "cell_type": "code",
   "execution_count": 39,
   "metadata": {
    "collapsed": false
   },
   "outputs": [
    {
     "name": "stdout",
     "output_type": "stream",
     "text": [
      "CV accuracy [ 0.94252874  0.96153846  0.95366795], Average accuracy 0.952578383613\n"
     ]
    }
   ],
   "source": [
    "#^ for data_admin\n",
    "scores3 = cross_val_score(rfmodel, X_train3, y_train3, scoring='accuracy')\n",
    "print('CV accuracy {}, Average accuracy {}'.format(scores3, scores3.mean()))"
   ]
  },
  {
   "cell_type": "code",
   "execution_count": 40,
   "metadata": {
    "collapsed": false
   },
   "outputs": [
    {
     "name": "stdout",
     "output_type": "stream",
     "text": [
      "CV accuracy [ 0.95019157  0.95384615  0.95366795], Average accuracy 0.952568559465\n"
     ]
    }
   ],
   "source": [
    "#^ for data_zip\n",
    "scores4 = cross_val_score(rfmodel, X_train4, y_train4, scoring='accuracy')\n",
    "print('CV accuracy {}, Average accuracy {}'.format(scores4, scores4.mean()))"
   ]
  },
  {
   "cell_type": "code",
   "execution_count": 41,
   "metadata": {
    "collapsed": false
   },
   "outputs": [
    {
     "data": {
      "text/plain": [
       "0.9538461538461539"
      ]
     },
     "execution_count": 41,
     "metadata": {},
     "output_type": "execute_result"
    }
   ],
   "source": [
    "# check accuracy with test set - data\n",
    "best_rf1.score(X_test1, y_test1)"
   ]
  },
  {
   "cell_type": "code",
   "execution_count": 42,
   "metadata": {
    "collapsed": false
   },
   "outputs": [
    {
     "data": {
      "text/plain": [
       "(0.77272727272727271, 0.80952380952380953, 0.79069767441860461, None)"
      ]
     },
     "execution_count": 42,
     "metadata": {},
     "output_type": "execute_result"
    }
   ],
   "source": [
    "# Precision / Recall / F1\n",
    "from sklearn.metrics import precision_recall_fscore_support\n",
    "\n",
    "predrf1 = clfrf1.predict(X_test1)\n",
    "precision_recall_fscore_support(predrf1, y_test1, average='binary') "
   ]
  },
  {
   "cell_type": "code",
   "execution_count": 43,
   "metadata": {
    "collapsed": false
   },
   "outputs": [
    {
     "data": {
      "text/plain": [
       "0.95897435897435901"
      ]
     },
     "execution_count": 43,
     "metadata": {},
     "output_type": "execute_result"
    }
   ],
   "source": [
    "# check accuracy with test set - data_noexam\n",
    "best_rf2.score(X_test2, y_test2)"
   ]
  },
  {
   "cell_type": "code",
   "execution_count": 44,
   "metadata": {
    "collapsed": false
   },
   "outputs": [
    {
     "data": {
      "text/plain": [
       "(0.77272727272727271, 0.84999999999999998, 0.80952380952380953, None)"
      ]
     },
     "execution_count": 44,
     "metadata": {},
     "output_type": "execute_result"
    }
   ],
   "source": [
    "# Precision / Recall / F1\n",
    "\n",
    "predrf2 = clfrf2.predict(X_test2)\n",
    "precision_recall_fscore_support(predrf2, y_test2, average='binary') "
   ]
  },
  {
   "cell_type": "code",
   "execution_count": 45,
   "metadata": {
    "collapsed": false
   },
   "outputs": [
    {
     "data": {
      "text/plain": [
       "0.95897435897435901"
      ]
     },
     "execution_count": 45,
     "metadata": {},
     "output_type": "execute_result"
    }
   ],
   "source": [
    "# check accuracy with test set - data_admin\n",
    "best_rf3.score(X_test3, y_test3)"
   ]
  },
  {
   "cell_type": "code",
   "execution_count": 46,
   "metadata": {
    "collapsed": false
   },
   "outputs": [
    {
     "data": {
      "text/plain": [
       "(0.77272727272727271, 0.84999999999999998, 0.80952380952380953, None)"
      ]
     },
     "execution_count": 46,
     "metadata": {},
     "output_type": "execute_result"
    }
   ],
   "source": [
    "# Precision / Recall / F1\n",
    "\n",
    "predrf3 = clfrf3.predict(X_test3)\n",
    "precision_recall_fscore_support(predrf3, y_test3, average='binary') "
   ]
  },
  {
   "cell_type": "code",
   "execution_count": 47,
   "metadata": {
    "collapsed": false
   },
   "outputs": [
    {
     "data": {
      "text/plain": [
       "0.97435897435897434"
      ]
     },
     "execution_count": 47,
     "metadata": {},
     "output_type": "execute_result"
    }
   ],
   "source": [
    "# check accuracy with test set - data_zip\n",
    "best_rf4.score(X_test4, y_test4)"
   ]
  },
  {
   "cell_type": "code",
   "execution_count": 48,
   "metadata": {
    "collapsed": false
   },
   "outputs": [
    {
     "data": {
      "text/plain": [
       "(0.86363636363636365, 0.90476190476190477, 0.88372093023255816, None)"
      ]
     },
     "execution_count": 48,
     "metadata": {},
     "output_type": "execute_result"
    }
   ],
   "source": [
    "# Precision / Recall / F1\n",
    "\n",
    "predrf4 = clfrf4.predict(X_test4)\n",
    "precision_recall_fscore_support(predrf4, y_test4, average='binary') "
   ]
  },
  {
   "cell_type": "code",
   "execution_count": 49,
   "metadata": {
    "collapsed": false
   },
   "outputs": [
    {
     "name": "stdout",
     "output_type": "stream",
     "text": [
      "100 loops, best of 3: 5.89 ms per loop\n"
     ]
    }
   ],
   "source": [
    "# timing - data\n",
    "%timeit best_rf1.predict(X_test1)"
   ]
  },
  {
   "cell_type": "code",
   "execution_count": 50,
   "metadata": {
    "collapsed": false
   },
   "outputs": [
    {
     "name": "stdout",
     "output_type": "stream",
     "text": [
      "1000 loops, best of 3: 1.19 ms per loop\n"
     ]
    }
   ],
   "source": [
    "# timing - data_noexam\n",
    "%timeit best_rf2.predict(X_test2)"
   ]
  },
  {
   "cell_type": "code",
   "execution_count": 51,
   "metadata": {
    "collapsed": false
   },
   "outputs": [
    {
     "name": "stdout",
     "output_type": "stream",
     "text": [
      "100 loops, best of 3: 5.43 ms per loop\n"
     ]
    }
   ],
   "source": [
    "# timing - data_admin\n",
    "%timeit best_rf3.predict(X_test3)"
   ]
  },
  {
   "cell_type": "code",
   "execution_count": 52,
   "metadata": {
    "collapsed": false
   },
   "outputs": [
    {
     "name": "stdout",
     "output_type": "stream",
     "text": [
      "100 loops, best of 3: 5.58 ms per loop\n"
     ]
    }
   ],
   "source": [
    "# timing - data_zip\n",
    "%timeit best_rf4.predict(X_test4)"
   ]
  },
  {
   "cell_type": "code",
   "execution_count": 53,
   "metadata": {
    "collapsed": false
   },
   "outputs": [
    {
     "data": {
      "text/plain": [
       "(array([ 62, 202, 343, 483, 624]),\n",
       " array([[ 1.        ,  1.        ,  0.98387097,  1.        ,  1.        ,\n",
       "          1.        ,  1.        ,  1.        ,  1.        ,  1.        ],\n",
       "        [ 1.        ,  1.        ,  1.        ,  1.        ,  0.9950495 ,\n",
       "          0.9950495 ,  1.        ,  1.        ,  1.        ,  1.        ],\n",
       "        [ 0.99708455,  1.        ,  0.99708455,  1.        ,  0.9941691 ,\n",
       "          0.9941691 ,  1.        ,  1.        ,  0.9941691 ,  0.99708455],\n",
       "        [ 0.99792961,  0.99792961,  0.99792961,  0.99585921,  0.99792961,\n",
       "          0.99792961,  1.        ,  0.99792961,  0.99792961,  0.99792961],\n",
       "        [ 0.99839744,  0.99839744,  1.        ,  0.99839744,  0.99519231,\n",
       "          0.99839744,  0.99519231,  0.99679487,  0.99679487,  1.        ]]),\n",
       " array([[ 0.92307692,  0.91025641,  0.90384615,  0.8974359 ,  0.93589744,\n",
       "          0.93589744,  0.91025641,  0.93589744,  0.95512821,  0.91025641],\n",
       "        [ 0.92948718,  0.92948718,  0.92948718,  0.96153846,  0.97435897,\n",
       "          0.95512821,  0.91666667,  0.92948718,  0.95512821,  0.94230769],\n",
       "        [ 0.94871795,  0.93589744,  0.93589744,  0.93589744,  0.97435897,\n",
       "          0.96153846,  0.91666667,  0.94871795,  0.97435897,  0.94871795],\n",
       "        [ 0.92307692,  0.92948718,  0.92307692,  0.94230769,  0.95512821,\n",
       "          0.93589744,  0.91666667,  0.95512821,  0.95512821,  0.94871795],\n",
       "        [ 0.94871795,  0.97435897,  0.93589744,  0.95512821,  0.98076923,\n",
       "          0.95512821,  0.94230769,  0.95512821,  0.95512821,  0.94871795]]))"
      ]
     },
     "execution_count": 53,
     "metadata": {},
     "output_type": "execute_result"
    }
   ],
   "source": [
    "# get ready to plot learning curves for random forests\n",
    "from sklearn.learning_curve import learning_curve\n",
    "title = 'title'\n",
    "learning_curve(best_rf2, X_train2, y_train2, cv=cv2)"
   ]
  },
  {
   "cell_type": "code",
   "execution_count": 54,
   "metadata": {
    "collapsed": true
   },
   "outputs": [],
   "source": [
    "def plot_learning_curve(estimator, title, X2, y2, ylim=None, cv=None,\n",
    "                       train_sizes=np.linspace(.2,1.0,10), n_jobs=1):\n",
    "    \"\"\"Create a learning curve to help\n",
    "    us determine if we are overfitting\n",
    "    or underfitting.\n",
    "    \n",
    "    Parameters\n",
    "    ----------\n",
    "    estimator (variable name) : our ML algorithm we want to plot\n",
    "\n",
    "    title (string) : title for our chart\n",
    "\n",
    "    X3 : our training dataframe\n",
    "\n",
    "    y3 : our training labels\n",
    "\n",
    "    ylim (tuple): min, max of the score, ie % accuracy\n",
    "\n",
    "    cv3 (variable name) : pass through for our CV strategy\n",
    "    \n",
    "    train_sizes (list-like) : the increments of % of our training data to use\n",
    "    \"\"\"\n",
    "    \n",
    "    plt.figure()\n",
    "    plt.title(title)\n",
    "    if ylim is not None:\n",
    "        plt.ylim(*ylim)\n",
    "    \n",
    "    plt.xlabel(\"Number of training examples used\")\n",
    "    plt.ylabel(\"Accuracy\")\n",
    "    train_sizes, train_scores, test_scores = learning_curve(\n",
    "        estimator, X3, y3, cv=cv3, n_jobs=n_jobs, train_sizes=train_sizes)\n",
    "    train_scores_mean = np.mean(train_scores, axis=1)\n",
    "    train_scores_std = np.std(train_scores, axis=1)\n",
    "    test_scores_mean = np.mean(test_scores, axis=1)\n",
    "    test_scores_std = np.std(test_scores, axis=1)\n",
    "    plt.grid()\n",
    "\n",
    "    plt.fill_between(train_sizes, train_scores_mean - train_scores_std,\n",
    "                     train_scores_mean + train_scores_std, alpha=0.1,\n",
    "                     color=\"r\")\n",
    "    plt.fill_between(train_sizes, test_scores_mean - test_scores_std,\n",
    "                     test_scores_mean + test_scores_std, alpha=0.1, color=\"g\")\n",
    "    plt.plot(train_sizes, train_scores_mean, 'o-', color=\"r\",\n",
    "             label=\"Training score\")\n",
    "    plt.plot(train_sizes, test_scores_mean, 'o-', color=\"g\",\n",
    "             label=\"Cross-validation score\")\n",
    "\n",
    "    plt.legend(loc=\"best\")\n",
    "    return plt"
   ]
  },
  {
   "cell_type": "code",
   "execution_count": 55,
   "metadata": {
    "collapsed": false
   },
   "outputs": [
    {
     "data": {
      "image/png": "[encoded data removed]",
      "text/plain": [
       "<matplotlib.figure.Figure at 0x10c40aad0>"
      ]
     },
     "metadata": {},
     "output_type": "display_data"
    }
   ],
   "source": [
    "plot_learning_curve(best_rf2, 'Learning Curve for Random Forests (data_noexam)', X_train2, y_train2, cv=cv2);"
   ]
  },
  {
   "cell_type": "code",
   "execution_count": 56,
   "metadata": {
    "collapsed": false
   },
   "outputs": [
    {
     "data": {
      "text/plain": [
       "(array([ 62, 202, 343, 483, 624]),\n",
       " array([[ 1.        ,  1.        ,  1.        ,  1.        ,  1.        ,\n",
       "          1.        ,  1.        ,  1.        ,  1.        ,  1.        ],\n",
       "        [ 1.        ,  1.        ,  1.        ,  1.        ,  1.        ,\n",
       "          1.        ,  1.        ,  1.        ,  1.        ,  1.        ],\n",
       "        [ 1.        ,  0.99708455,  1.        ,  1.        ,  1.        ,\n",
       "          1.        ,  1.        ,  1.        ,  1.        ,  1.        ],\n",
       "        [ 1.        ,  1.        ,  1.        ,  1.        ,  1.        ,\n",
       "          1.        ,  1.        ,  1.        ,  1.        ,  1.        ],\n",
       "        [ 1.        ,  1.        ,  1.        ,  1.        ,  1.        ,\n",
       "          1.        ,  1.        ,  1.        ,  1.        ,  1.        ]]),\n",
       " array([[ 0.93589744,  0.93589744,  0.92307692,  0.91666667,  0.94871795,\n",
       "          0.95512821,  0.92307692,  0.92948718,  0.94230769,  0.88461538],\n",
       "        [ 0.94230769,  0.92948718,  0.92948718,  0.95512821,  0.96794872,\n",
       "          0.95512821,  0.91666667,  0.92948718,  0.98076923,  0.96153846],\n",
       "        [ 0.92948718,  0.94230769,  0.92948718,  0.95512821,  0.96794872,\n",
       "          0.96153846,  0.92307692,  0.94871795,  0.98076923,  0.96153846],\n",
       "        [ 0.93589744,  0.92948718,  0.92948718,  0.95512821,  0.97435897,\n",
       "          0.95512821,  0.91025641,  0.94230769,  0.96794872,  0.96794872],\n",
       "        [ 0.94230769,  0.94230769,  0.92307692,  0.95512821,  0.96794872,\n",
       "          0.95512821,  0.91666667,  0.95512821,  0.96794872,  0.96153846]]))"
      ]
     },
     "execution_count": 56,
     "metadata": {},
     "output_type": "execute_result"
    }
   ],
   "source": [
    "from sklearn.learning_curve import learning_curve\n",
    "title = 'title'\n",
    "learning_curve(best_rf3, X_train3, y_train3, cv=cv3)"
   ]
  },
  {
   "cell_type": "code",
   "execution_count": 57,
   "metadata": {
    "collapsed": true
   },
   "outputs": [],
   "source": [
    "def plot_learning_curve(estimator, title, X3, y3, ylim=None, cv=None,\n",
    "                       train_sizes=np.linspace(.2,1.0,10), n_jobs=1):\n",
    "    \"\"\"Create a learning curve to help\n",
    "    us determine if we are overfitting\n",
    "    or underfitting.\n",
    "    \n",
    "    Parameters\n",
    "    ----------\n",
    "    estimator (variable name) : our ML algorithm we want to plot\n",
    "\n",
    "    title (string) : title for our chart\n",
    "\n",
    "    X3 : our training dataframe\n",
    "\n",
    "    y3 : our training labels\n",
    "\n",
    "    ylim (tuple): min, max of the score, ie % accuracy\n",
    "\n",
    "    cv3 (variable name) : pass through for our CV strategy\n",
    "    \n",
    "    train_sizes (list-like) : the increments of % of our training data to use\n",
    "    \"\"\"\n",
    "    \n",
    "    plt.figure()\n",
    "    plt.title(title)\n",
    "    if ylim is not None:\n",
    "        plt.ylim(*ylim)\n",
    "    \n",
    "    plt.xlabel(\"Number of training examples used\")\n",
    "    plt.ylabel(\"Accuracy\")\n",
    "    train_sizes, train_scores, test_scores = learning_curve(\n",
    "        estimator, X3, y3, cv=cv3, n_jobs=n_jobs, train_sizes=train_sizes)\n",
    "    train_scores_mean = np.mean(train_scores, axis=1)\n",
    "    train_scores_std = np.std(train_scores, axis=1)\n",
    "    test_scores_mean = np.mean(test_scores, axis=1)\n",
    "    test_scores_std = np.std(test_scores, axis=1)\n",
    "    plt.grid()\n",
    "\n",
    "    plt.fill_between(train_sizes, train_scores_mean - train_scores_std,\n",
    "                     train_scores_mean + train_scores_std, alpha=0.1,\n",
    "                     color=\"r\")\n",
    "    plt.fill_between(train_sizes, test_scores_mean - test_scores_std,\n",
    "                     test_scores_mean + test_scores_std, alpha=0.1, color=\"g\")\n",
    "    plt.plot(train_sizes, train_scores_mean, 'o-', color=\"r\",\n",
    "             label=\"Training score\")\n",
    "    plt.plot(train_sizes, test_scores_mean, 'o-', color=\"g\",\n",
    "             label=\"Cross-validation score\")\n",
    "\n",
    "    plt.legend(loc=\"best\")\n",
    "    return plt"
   ]
  },
  {
   "cell_type": "code",
   "execution_count": 58,
   "metadata": {
    "collapsed": false
   },
   "outputs": [
    {
     "data": {
      "image/png": "[encoded data removed]",
      "text/plain": [
       "<matplotlib.figure.Figure at 0x10c74dfd0>"
      ]
     },
     "metadata": {},
     "output_type": "display_data"
    }
   ],
   "source": [
    "plot_learning_curve(best_rf3, 'Learning Curve for Random Forests (data_admin)', X_train3, y_train3, cv=cv3);"
   ]
  },
  {
   "cell_type": "code",
   "execution_count": 59,
   "metadata": {
    "collapsed": false
   },
   "outputs": [
    {
     "data": {
      "text/plain": [
       "(array([ 62, 202, 343, 483, 624]),\n",
       " array([[ 1.        ,  1.        ,  1.        ,  1.        ,  1.        ,\n",
       "          1.        ,  1.        ,  1.        ,  1.        ,  1.        ],\n",
       "        [ 1.        ,  1.        ,  1.        ,  1.        ,  1.        ,\n",
       "          1.        ,  1.        ,  1.        ,  1.        ,  1.        ],\n",
       "        [ 1.        ,  1.        ,  1.        ,  1.        ,  1.        ,\n",
       "          1.        ,  0.99708455,  1.        ,  1.        ,  1.        ],\n",
       "        [ 1.        ,  0.99792961,  1.        ,  1.        ,  1.        ,\n",
       "          1.        ,  1.        ,  1.        ,  1.        ,  1.        ],\n",
       "        [ 1.        ,  0.99679487,  1.        ,  1.        ,  1.        ,\n",
       "          1.        ,  1.        ,  1.        ,  0.99839744,  1.        ]]),\n",
       " array([[ 0.92948718,  0.92948718,  0.91025641,  0.92307692,  0.95512821,\n",
       "          0.94871795,  0.91666667,  0.93589744,  0.93589744,  0.88461538],\n",
       "        [ 0.93589744,  0.91666667,  0.94230769,  0.95512821,  0.97435897,\n",
       "          0.92948718,  0.91666667,  0.94230769,  0.97435897,  0.94230769],\n",
       "        [ 0.92307692,  0.93589744,  0.92948718,  0.95512821,  0.95512821,\n",
       "          0.96794872,  0.92307692,  0.94871795,  0.96794872,  0.96153846],\n",
       "        [ 0.92948718,  0.94230769,  0.93589744,  0.95512821,  0.96794872,\n",
       "          0.94871795,  0.90384615,  0.96153846,  0.97435897,  0.96153846],\n",
       "        [ 0.93589744,  0.94230769,  0.93589744,  0.94230769,  0.98076923,\n",
       "          0.94871795,  0.93589744,  0.94871795,  0.96794872,  0.96794872]]))"
      ]
     },
     "execution_count": 59,
     "metadata": {},
     "output_type": "execute_result"
    }
   ],
   "source": [
    "from sklearn.learning_curve import learning_curve\n",
    "title = 'title'\n",
    "learning_curve(best_rf4, X_train4, y_train4, cv=cv4)"
   ]
  },
  {
   "cell_type": "code",
   "execution_count": 60,
   "metadata": {
    "collapsed": true
   },
   "outputs": [],
   "source": [
    "def plot_learning_curve(estimator, title, X4, y4, ylim=None, cv=None,\n",
    "                       train_sizes=np.linspace(.2,1.0,10), n_jobs=1):\n",
    "    \"\"\"Create a learning curve to help\n",
    "    us determine if we are overfitting\n",
    "    or underfitting.\n",
    "    \n",
    "    Parameters\n",
    "    ----------\n",
    "    estimator (variable name) : our ML algorithm we want to plot\n",
    "\n",
    "    title (string) : title for our chart\n",
    "\n",
    "    X3 : our training dataframe\n",
    "\n",
    "    y3 : our training labels\n",
    "\n",
    "    ylim (tuple): min, max of the score, ie % accuracy\n",
    "\n",
    "    cv3 (variable name) : pass through for our CV strategy\n",
    "    \n",
    "    train_sizes (list-like) : the increments of % of our training data to use\n",
    "    \"\"\"\n",
    "    \n",
    "    plt.figure()\n",
    "    plt.title(title)\n",
    "    if ylim is not None:\n",
    "        plt.ylim(*ylim)\n",
    "    \n",
    "    plt.xlabel(\"Number of training examples used\")\n",
    "    plt.ylabel(\"Accuracy\")\n",
    "    train_sizes, train_scores, test_scores = learning_curve(\n",
    "        estimator, X3, y3, cv=cv3, n_jobs=n_jobs, train_sizes=train_sizes)\n",
    "    train_scores_mean = np.mean(train_scores, axis=1)\n",
    "    train_scores_std = np.std(train_scores, axis=1)\n",
    "    test_scores_mean = np.mean(test_scores, axis=1)\n",
    "    test_scores_std = np.std(test_scores, axis=1)\n",
    "    plt.grid()\n",
    "\n",
    "    plt.fill_between(train_sizes, train_scores_mean - train_scores_std,\n",
    "                     train_scores_mean + train_scores_std, alpha=0.1,\n",
    "                     color=\"r\")\n",
    "    plt.fill_between(train_sizes, test_scores_mean - test_scores_std,\n",
    "                     test_scores_mean + test_scores_std, alpha=0.1, color=\"g\")\n",
    "    plt.plot(train_sizes, train_scores_mean, 'o-', color=\"r\",\n",
    "             label=\"Training score\")\n",
    "    plt.plot(train_sizes, test_scores_mean, 'o-', color=\"g\",\n",
    "             label=\"Cross-validation score\")\n",
    "\n",
    "    plt.legend(loc=\"best\")\n",
    "    return plt"
   ]
  },
  {
   "cell_type": "code",
   "execution_count": 61,
   "metadata": {
    "collapsed": false
   },
   "outputs": [
    {
     "data": {
      "image/png": "[encoded data removed]",
      "text/plain": [
       "<matplotlib.figure.Figure at 0x10d182a10>"
      ]
     },
     "metadata": {},
     "output_type": "display_data"
    }
   ],
   "source": [
    "plot_learning_curve(best_rf4, 'Learning Curve for Random Forests (data_zip)', X_train4, y_train4, cv=cv4);"
   ]
  },
  {
   "cell_type": "code",
   "execution_count": 62,
   "metadata": {
    "collapsed": false
   },
   "outputs": [
    {
     "data": {
      "text/html": [
       "<div>\n",
       "<table border=\"1\" class=\"dataframe\">\n",
       "  <thead>\n",
       "    <tr style=\"text-align: right;\">\n",
       "      <th></th>\n",
       "      <th>Features</th>\n",
       "      <th>Importance Score</th>\n",
       "    </tr>\n",
       "  </thead>\n",
       "  <tbody>\n",
       "    <tr>\n",
       "      <th>40</th>\n",
       "      <td>sat_score_overall</td>\n",
       "      <td>0.142050</td>\n",
       "    </tr>\n",
       "    <tr>\n",
       "      <th>11</th>\n",
       "      <td>sat_math</td>\n",
       "      <td>0.113417</td>\n",
       "    </tr>\n",
       "    <tr>\n",
       "      <th>43</th>\n",
       "      <td>grade8_proficiency</td>\n",
       "      <td>0.085858</td>\n",
       "    </tr>\n",
       "    <tr>\n",
       "      <th>10</th>\n",
       "      <td>sat_reading</td>\n",
       "      <td>0.065461</td>\n",
       "    </tr>\n",
       "    <tr>\n",
       "      <th>4</th>\n",
       "      <td>grade8_english</td>\n",
       "      <td>0.058595</td>\n",
       "    </tr>\n",
       "    <tr>\n",
       "      <th>41</th>\n",
       "      <td>regents_score_overall</td>\n",
       "      <td>0.057297</td>\n",
       "    </tr>\n",
       "    <tr>\n",
       "      <th>5</th>\n",
       "      <td>grade8_math</td>\n",
       "      <td>0.054357</td>\n",
       "    </tr>\n",
       "    <tr>\n",
       "      <th>31</th>\n",
       "      <td>post-secondary_enroll_rate</td>\n",
       "      <td>0.052903</td>\n",
       "    </tr>\n",
       "    <tr>\n",
       "      <th>12</th>\n",
       "      <td>sat_writing</td>\n",
       "      <td>0.051505</td>\n",
       "    </tr>\n",
       "    <tr>\n",
       "      <th>32</th>\n",
       "      <td>student_attendance_rate</td>\n",
       "      <td>0.032953</td>\n",
       "    </tr>\n",
       "    <tr>\n",
       "      <th>36</th>\n",
       "      <td>dropouts_percent</td>\n",
       "      <td>0.028826</td>\n",
       "    </tr>\n",
       "    <tr>\n",
       "      <th>8</th>\n",
       "      <td>regents_history_global</td>\n",
       "      <td>0.028007</td>\n",
       "    </tr>\n",
       "    <tr>\n",
       "      <th>30</th>\n",
       "      <td>sat_percent_took_exam</td>\n",
       "      <td>0.024323</td>\n",
       "    </tr>\n",
       "    <tr>\n",
       "      <th>7</th>\n",
       "      <td>regents_english</td>\n",
       "      <td>0.020622</td>\n",
       "    </tr>\n",
       "    <tr>\n",
       "      <th>28</th>\n",
       "      <td>ap_exams_percent_scoring_3plus</td>\n",
       "      <td>0.014821</td>\n",
       "    </tr>\n",
       "    <tr>\n",
       "      <th>19</th>\n",
       "      <td>asian_percent</td>\n",
       "      <td>0.013443</td>\n",
       "    </tr>\n",
       "    <tr>\n",
       "      <th>17</th>\n",
       "      <td>college_nys_public</td>\n",
       "      <td>0.011081</td>\n",
       "    </tr>\n",
       "    <tr>\n",
       "      <th>16</th>\n",
       "      <td>college_nys_private</td>\n",
       "      <td>0.010517</td>\n",
       "    </tr>\n",
       "    <tr>\n",
       "      <th>18</th>\n",
       "      <td>college_out_of_state</td>\n",
       "      <td>0.009089</td>\n",
       "    </tr>\n",
       "    <tr>\n",
       "      <th>24</th>\n",
       "      <td>disability_percent</td>\n",
       "      <td>0.008996</td>\n",
       "    </tr>\n",
       "  </tbody>\n",
       "</table>\n",
       "</div>"
      ],
      "text/plain": [
       "                          Features  Importance Score\n",
       "40               sat_score_overall          0.142050\n",
       "11                        sat_math          0.113417\n",
       "43              grade8_proficiency          0.085858\n",
       "10                     sat_reading          0.065461\n",
       "4                   grade8_english          0.058595\n",
       "41           regents_score_overall          0.057297\n",
       "5                      grade8_math          0.054357\n",
       "31      post-secondary_enroll_rate          0.052903\n",
       "12                     sat_writing          0.051505\n",
       "32         student_attendance_rate          0.032953\n",
       "36                dropouts_percent          0.028826\n",
       "8           regents_history_global          0.028007\n",
       "30           sat_percent_took_exam          0.024323\n",
       "7                  regents_english          0.020622\n",
       "28  ap_exams_percent_scoring_3plus          0.014821\n",
       "19                   asian_percent          0.013443\n",
       "17              college_nys_public          0.011081\n",
       "16             college_nys_private          0.010517\n",
       "18            college_out_of_state          0.009089\n",
       "24              disability_percent          0.008996"
      ]
     },
     "execution_count": 62,
     "metadata": {},
     "output_type": "execute_result"
    }
   ],
   "source": [
    "# Use RF to find most important features - data (will likely be test-heavy)\n",
    "features = X1.columns\n",
    "feature_importances = best_rf1.feature_importances_\n",
    "features_df = pd.DataFrame({'Features': features, 'Importance Score': feature_importances})\n",
    "features_df.sort_values('Importance Score', inplace=True, ascending=False)\n",
    "\n",
    "features_df.head(20)"
   ]
  },
  {
   "cell_type": "code",
   "execution_count": 63,
   "metadata": {
    "collapsed": false
   },
   "outputs": [
    {
     "data": {
      "text/html": [
       "<div>\n",
       "<table border=\"1\" class=\"dataframe\">\n",
       "  <thead>\n",
       "    <tr style=\"text-align: right;\">\n",
       "      <th></th>\n",
       "      <th>Features</th>\n",
       "      <th>Importance Score</th>\n",
       "    </tr>\n",
       "  </thead>\n",
       "  <tbody>\n",
       "    <tr>\n",
       "      <th>4</th>\n",
       "      <td>grade8_english</td>\n",
       "      <td>0.154855</td>\n",
       "    </tr>\n",
       "    <tr>\n",
       "      <th>28</th>\n",
       "      <td>dropouts_percent</td>\n",
       "      <td>0.116998</td>\n",
       "    </tr>\n",
       "    <tr>\n",
       "      <th>5</th>\n",
       "      <td>grade8_math</td>\n",
       "      <td>0.108643</td>\n",
       "    </tr>\n",
       "    <tr>\n",
       "      <th>24</th>\n",
       "      <td>student_attendance_rate</td>\n",
       "      <td>0.102605</td>\n",
       "    </tr>\n",
       "    <tr>\n",
       "      <th>33</th>\n",
       "      <td>grade8_proficiency</td>\n",
       "      <td>0.096839</td>\n",
       "    </tr>\n",
       "    <tr>\n",
       "      <th>23</th>\n",
       "      <td>post-secondary_enroll_rate</td>\n",
       "      <td>0.059962</td>\n",
       "    </tr>\n",
       "    <tr>\n",
       "      <th>7</th>\n",
       "      <td>cuny_4yr</td>\n",
       "      <td>0.043111</td>\n",
       "    </tr>\n",
       "    <tr>\n",
       "      <th>22</th>\n",
       "      <td>sat_percent_took_exam</td>\n",
       "      <td>0.037006</td>\n",
       "    </tr>\n",
       "    <tr>\n",
       "      <th>9</th>\n",
       "      <td>college_nys_private</td>\n",
       "      <td>0.025561</td>\n",
       "    </tr>\n",
       "    <tr>\n",
       "      <th>12</th>\n",
       "      <td>asian_percent</td>\n",
       "      <td>0.022963</td>\n",
       "    </tr>\n",
       "    <tr>\n",
       "      <th>21</th>\n",
       "      <td>act_percent_took_exam</td>\n",
       "      <td>0.022491</td>\n",
       "    </tr>\n",
       "    <tr>\n",
       "      <th>32</th>\n",
       "      <td>population_diversity</td>\n",
       "      <td>0.022011</td>\n",
       "    </tr>\n",
       "    <tr>\n",
       "      <th>2</th>\n",
       "      <td>poverty_percent</td>\n",
       "      <td>0.019970</td>\n",
       "    </tr>\n",
       "    <tr>\n",
       "      <th>18</th>\n",
       "      <td>white_percent</td>\n",
       "      <td>0.013664</td>\n",
       "    </tr>\n",
       "    <tr>\n",
       "      <th>11</th>\n",
       "      <td>college_out_of_state</td>\n",
       "      <td>0.013422</td>\n",
       "    </tr>\n",
       "    <tr>\n",
       "      <th>16</th>\n",
       "      <td>self-contained_percent</td>\n",
       "      <td>0.012589</td>\n",
       "    </tr>\n",
       "    <tr>\n",
       "      <th>6</th>\n",
       "      <td>cuny_2yr</td>\n",
       "      <td>0.011752</td>\n",
       "    </tr>\n",
       "    <tr>\n",
       "      <th>3</th>\n",
       "      <td>avg_home_value_sqft</td>\n",
       "      <td>0.011330</td>\n",
       "    </tr>\n",
       "    <tr>\n",
       "      <th>10</th>\n",
       "      <td>college_nys_public</td>\n",
       "      <td>0.010813</td>\n",
       "    </tr>\n",
       "    <tr>\n",
       "      <th>13</th>\n",
       "      <td>black_percent</td>\n",
       "      <td>0.010709</td>\n",
       "    </tr>\n",
       "  </tbody>\n",
       "</table>\n",
       "</div>"
      ],
      "text/plain": [
       "                      Features  Importance Score\n",
       "4               grade8_english          0.154855\n",
       "28            dropouts_percent          0.116998\n",
       "5                  grade8_math          0.108643\n",
       "24     student_attendance_rate          0.102605\n",
       "33          grade8_proficiency          0.096839\n",
       "23  post-secondary_enroll_rate          0.059962\n",
       "7                     cuny_4yr          0.043111\n",
       "22       sat_percent_took_exam          0.037006\n",
       "9          college_nys_private          0.025561\n",
       "12               asian_percent          0.022963\n",
       "21       act_percent_took_exam          0.022491\n",
       "32        population_diversity          0.022011\n",
       "2              poverty_percent          0.019970\n",
       "18               white_percent          0.013664\n",
       "11        college_out_of_state          0.013422\n",
       "16      self-contained_percent          0.012589\n",
       "6                     cuny_2yr          0.011752\n",
       "3          avg_home_value_sqft          0.011330\n",
       "10          college_nys_public          0.010813\n",
       "13               black_percent          0.010709"
      ]
     },
     "execution_count": 63,
     "metadata": {},
     "output_type": "execute_result"
    }
   ],
   "source": [
    "# Use RF to find most important features - data_noexam (will hopefully find interesting factors here)\n",
    "features = X2.columns\n",
    "feature_importances = best_rf2.feature_importances_\n",
    "features_df = pd.DataFrame({'Features': features, 'Importance Score': feature_importances})\n",
    "features_df.sort_values('Importance Score', inplace=True, ascending=False)\n",
    "\n",
    "features_df.head(20)"
   ]
  },
  {
   "cell_type": "code",
   "execution_count": 64,
   "metadata": {
    "collapsed": false
   },
   "outputs": [
    {
     "data": {
      "text/html": [
       "<div>\n",
       "<table border=\"1\" class=\"dataframe\">\n",
       "  <thead>\n",
       "    <tr style=\"text-align: right;\">\n",
       "      <th></th>\n",
       "      <th>Features</th>\n",
       "      <th>Importance Score</th>\n",
       "    </tr>\n",
       "  </thead>\n",
       "  <tbody>\n",
       "    <tr>\n",
       "      <th>6</th>\n",
       "      <td>grade8_math</td>\n",
       "      <td>0.120872</td>\n",
       "    </tr>\n",
       "    <tr>\n",
       "      <th>34</th>\n",
       "      <td>grade8_proficiency</td>\n",
       "      <td>0.108906</td>\n",
       "    </tr>\n",
       "    <tr>\n",
       "      <th>24</th>\n",
       "      <td>post-secondary_enroll_rate</td>\n",
       "      <td>0.108257</td>\n",
       "    </tr>\n",
       "    <tr>\n",
       "      <th>5</th>\n",
       "      <td>grade8_english</td>\n",
       "      <td>0.089204</td>\n",
       "    </tr>\n",
       "    <tr>\n",
       "      <th>25</th>\n",
       "      <td>student_attendance_rate</td>\n",
       "      <td>0.069549</td>\n",
       "    </tr>\n",
       "    <tr>\n",
       "      <th>23</th>\n",
       "      <td>sat_percent_took_exam</td>\n",
       "      <td>0.062166</td>\n",
       "    </tr>\n",
       "    <tr>\n",
       "      <th>29</th>\n",
       "      <td>dropouts_percent</td>\n",
       "      <td>0.059359</td>\n",
       "    </tr>\n",
       "    <tr>\n",
       "      <th>13</th>\n",
       "      <td>asian_percent</td>\n",
       "      <td>0.035366</td>\n",
       "    </tr>\n",
       "    <tr>\n",
       "      <th>12</th>\n",
       "      <td>college_out_of_state</td>\n",
       "      <td>0.025948</td>\n",
       "    </tr>\n",
       "    <tr>\n",
       "      <th>15</th>\n",
       "      <td>ell_percent</td>\n",
       "      <td>0.025395</td>\n",
       "    </tr>\n",
       "    <tr>\n",
       "      <th>8</th>\n",
       "      <td>cuny_4yr</td>\n",
       "      <td>0.022607</td>\n",
       "    </tr>\n",
       "    <tr>\n",
       "      <th>18</th>\n",
       "      <td>disability_percent</td>\n",
       "      <td>0.020056</td>\n",
       "    </tr>\n",
       "    <tr>\n",
       "      <th>2</th>\n",
       "      <td>poverty_percent</td>\n",
       "      <td>0.019756</td>\n",
       "    </tr>\n",
       "    <tr>\n",
       "      <th>11</th>\n",
       "      <td>college_nys_public</td>\n",
       "      <td>0.019712</td>\n",
       "    </tr>\n",
       "    <tr>\n",
       "      <th>7</th>\n",
       "      <td>cuny_2yr</td>\n",
       "      <td>0.017507</td>\n",
       "    </tr>\n",
       "    <tr>\n",
       "      <th>33</th>\n",
       "      <td>population_diversity</td>\n",
       "      <td>0.016380</td>\n",
       "    </tr>\n",
       "    <tr>\n",
       "      <th>10</th>\n",
       "      <td>college_nys_private</td>\n",
       "      <td>0.016380</td>\n",
       "    </tr>\n",
       "    <tr>\n",
       "      <th>14</th>\n",
       "      <td>black_percent</td>\n",
       "      <td>0.015321</td>\n",
       "    </tr>\n",
       "    <tr>\n",
       "      <th>22</th>\n",
       "      <td>act_percent_took_exam</td>\n",
       "      <td>0.014468</td>\n",
       "    </tr>\n",
       "    <tr>\n",
       "      <th>16</th>\n",
       "      <td>hispanic_percent</td>\n",
       "      <td>0.011866</td>\n",
       "    </tr>\n",
       "  </tbody>\n",
       "</table>\n",
       "</div>"
      ],
      "text/plain": [
       "                      Features  Importance Score\n",
       "6                  grade8_math          0.120872\n",
       "34          grade8_proficiency          0.108906\n",
       "24  post-secondary_enroll_rate          0.108257\n",
       "5               grade8_english          0.089204\n",
       "25     student_attendance_rate          0.069549\n",
       "23       sat_percent_took_exam          0.062166\n",
       "29            dropouts_percent          0.059359\n",
       "13               asian_percent          0.035366\n",
       "12        college_out_of_state          0.025948\n",
       "15                 ell_percent          0.025395\n",
       "8                     cuny_4yr          0.022607\n",
       "18          disability_percent          0.020056\n",
       "2              poverty_percent          0.019756\n",
       "11          college_nys_public          0.019712\n",
       "7                     cuny_2yr          0.017507\n",
       "33        population_diversity          0.016380\n",
       "10         college_nys_private          0.016380\n",
       "14               black_percent          0.015321\n",
       "22       act_percent_took_exam          0.014468\n",
       "16            hispanic_percent          0.011866"
      ]
     },
     "execution_count": 64,
     "metadata": {},
     "output_type": "execute_result"
    }
   ],
   "source": [
    "# Use RF to find most important features - data_admin\n",
    "features = X3.columns\n",
    "feature_importances = best_rf3.feature_importances_\n",
    "features_df = pd.DataFrame({'Features': features, 'Importance Score': feature_importances})\n",
    "features_df.sort_values('Importance Score', inplace=True, ascending=False)\n",
    "\n",
    "features_df.head(20)"
   ]
  },
  {
   "cell_type": "code",
   "execution_count": 65,
   "metadata": {
    "collapsed": false
   },
   "outputs": [
    {
     "data": {
      "text/html": [
       "<div>\n",
       "<table border=\"1\" class=\"dataframe\">\n",
       "  <thead>\n",
       "    <tr style=\"text-align: right;\">\n",
       "      <th></th>\n",
       "      <th>Features</th>\n",
       "      <th>Importance Score</th>\n",
       "    </tr>\n",
       "  </thead>\n",
       "  <tbody>\n",
       "    <tr>\n",
       "      <th>5</th>\n",
       "      <td>grade8_math</td>\n",
       "      <td>0.134057</td>\n",
       "    </tr>\n",
       "    <tr>\n",
       "      <th>23</th>\n",
       "      <td>post-secondary_enroll_rate</td>\n",
       "      <td>0.101403</td>\n",
       "    </tr>\n",
       "    <tr>\n",
       "      <th>24</th>\n",
       "      <td>student_attendance_rate</td>\n",
       "      <td>0.081329</td>\n",
       "    </tr>\n",
       "    <tr>\n",
       "      <th>4</th>\n",
       "      <td>grade8_english</td>\n",
       "      <td>0.075364</td>\n",
       "    </tr>\n",
       "    <tr>\n",
       "      <th>34</th>\n",
       "      <td>grade8_proficiency</td>\n",
       "      <td>0.073986</td>\n",
       "    </tr>\n",
       "    <tr>\n",
       "      <th>22</th>\n",
       "      <td>sat_percent_took_exam</td>\n",
       "      <td>0.070655</td>\n",
       "    </tr>\n",
       "    <tr>\n",
       "      <th>29</th>\n",
       "      <td>dropouts_percent</td>\n",
       "      <td>0.050090</td>\n",
       "    </tr>\n",
       "    <tr>\n",
       "      <th>14</th>\n",
       "      <td>ell_percent</td>\n",
       "      <td>0.035500</td>\n",
       "    </tr>\n",
       "    <tr>\n",
       "      <th>9</th>\n",
       "      <td>college_nys_private</td>\n",
       "      <td>0.033554</td>\n",
       "    </tr>\n",
       "    <tr>\n",
       "      <th>21</th>\n",
       "      <td>act_percent_took_exam</td>\n",
       "      <td>0.026755</td>\n",
       "    </tr>\n",
       "    <tr>\n",
       "      <th>2</th>\n",
       "      <td>poverty_percent</td>\n",
       "      <td>0.024994</td>\n",
       "    </tr>\n",
       "    <tr>\n",
       "      <th>12</th>\n",
       "      <td>asian_percent</td>\n",
       "      <td>0.021392</td>\n",
       "    </tr>\n",
       "    <tr>\n",
       "      <th>16</th>\n",
       "      <td>self-contained_percent</td>\n",
       "      <td>0.019547</td>\n",
       "    </tr>\n",
       "    <tr>\n",
       "      <th>10</th>\n",
       "      <td>college_nys_public</td>\n",
       "      <td>0.017824</td>\n",
       "    </tr>\n",
       "    <tr>\n",
       "      <th>17</th>\n",
       "      <td>disability_percent</td>\n",
       "      <td>0.016636</td>\n",
       "    </tr>\n",
       "    <tr>\n",
       "      <th>18</th>\n",
       "      <td>white_percent</td>\n",
       "      <td>0.016571</td>\n",
       "    </tr>\n",
       "    <tr>\n",
       "      <th>11</th>\n",
       "      <td>college_out_of_state</td>\n",
       "      <td>0.015682</td>\n",
       "    </tr>\n",
       "    <tr>\n",
       "      <th>7</th>\n",
       "      <td>cuny_4yr</td>\n",
       "      <td>0.015192</td>\n",
       "    </tr>\n",
       "    <tr>\n",
       "      <th>13</th>\n",
       "      <td>black_percent</td>\n",
       "      <td>0.011494</td>\n",
       "    </tr>\n",
       "    <tr>\n",
       "      <th>8</th>\n",
       "      <td>enrollment</td>\n",
       "      <td>0.011412</td>\n",
       "    </tr>\n",
       "  </tbody>\n",
       "</table>\n",
       "</div>"
      ],
      "text/plain": [
       "                      Features  Importance Score\n",
       "5                  grade8_math          0.134057\n",
       "23  post-secondary_enroll_rate          0.101403\n",
       "24     student_attendance_rate          0.081329\n",
       "4               grade8_english          0.075364\n",
       "34          grade8_proficiency          0.073986\n",
       "22       sat_percent_took_exam          0.070655\n",
       "29            dropouts_percent          0.050090\n",
       "14                 ell_percent          0.035500\n",
       "9          college_nys_private          0.033554\n",
       "21       act_percent_took_exam          0.026755\n",
       "2              poverty_percent          0.024994\n",
       "12               asian_percent          0.021392\n",
       "16      self-contained_percent          0.019547\n",
       "10          college_nys_public          0.017824\n",
       "17          disability_percent          0.016636\n",
       "18               white_percent          0.016571\n",
       "11        college_out_of_state          0.015682\n",
       "7                     cuny_4yr          0.015192\n",
       "13               black_percent          0.011494\n",
       "8                   enrollment          0.011412"
      ]
     },
     "execution_count": 65,
     "metadata": {},
     "output_type": "execute_result"
    }
   ],
   "source": [
    "# Use RF to find most important features - data_zip\n",
    "features = X4.columns\n",
    "feature_importances = best_rf4.feature_importances_\n",
    "features_df = pd.DataFrame({'Features': features, 'Importance Score': feature_importances})\n",
    "features_df.sort_values('Importance Score', inplace=True, ascending=False)\n",
    "\n",
    "features_df.head(20)"
   ]
  },
  {
   "cell_type": "markdown",
   "metadata": {},
   "source": [
    "#### LOGISTIC REGRESSION AND SVM"
   ]
  },
  {
   "cell_type": "code",
   "execution_count": 66,
   "metadata": {
    "collapsed": true
   },
   "outputs": [],
   "source": [
    "# import and create logistic regresstion\n",
    "from sklearn.linear_model import LogisticRegression\n",
    "logreg = LogisticRegression()"
   ]
  },
  {
   "cell_type": "code",
   "execution_count": 67,
   "metadata": {
    "collapsed": true
   },
   "outputs": [],
   "source": [
    "# import and create svm\n",
    "from sklearn.svm import SVC\n",
    "svm = SVC()"
   ]
  },
  {
   "cell_type": "code",
   "execution_count": 68,
   "metadata": {
    "collapsed": true
   },
   "outputs": [],
   "source": [
    "# tried svm --> data_noexam (FROZE IPYTHON SEVERAL TIMES)\n",
    "#parameters_svm = {'C': np.linspace(.001, 10, 10), 'kernel': ['poly', 'rbf'],\n",
    "#         'degree': range(1,4), 'gamma': np.linspace(.001, 10, 10)}\n",
    "#clfsvm2 = GridSearchCV(svm, parameters_svm, cv=cv2, n_jobs=-1)\n",
    "#clfsvm2.fit(X_train2, y_train2)"
   ]
  },
  {
   "cell_type": "code",
   "execution_count": 69,
   "metadata": {
    "collapsed": false
   },
   "outputs": [],
   "source": [
    "# tune params via gridsearch --> for data_noexam (FROZE IPYTHON SEVERAL TIMES)\n",
    "#parameterslr = {'C': np.linspace(1e-5, 1e5, 100), 'class_weight':['auto', None], 'penalty': ['l1', 'l2']} \n",
    "#clflr2 = GridSearchCV(logreg, parameterslr, cv=cv2)\n",
    "#clflr2.fit(X_train_std2, y_train2)"
   ]
  },
  {
   "cell_type": "markdown",
   "metadata": {
    "collapsed": true
   },
   "source": [
    "#### k-means"
   ]
  },
  {
   "cell_type": "code",
   "execution_count": 70,
   "metadata": {
    "collapsed": false
   },
   "outputs": [
    {
     "data": {
      "image/png": "[encoded data removed]",
      "text/plain": [
       "<matplotlib.figure.Figure at 0x10e2b0050>"
      ]
     },
     "metadata": {},
     "output_type": "display_data"
    }
   ],
   "source": [
    "from sklearn.cluster import KMeans\n",
    "\n",
    "# look at inertia plot (how close together are the points in the clusters) -- no_noexam\n",
    "x = []\n",
    "y = []\n",
    "for n in range(1,20):\n",
    "    km22 = KMeans(n_clusters=n)\n",
    "    km22.fit(X_train_std2)\n",
    "    x.append(n)\n",
    "    y.append(km22.inertia_)\n",
    "plt.plot(x, y);"
   ]
  },
  {
   "cell_type": "code",
   "execution_count": 71,
   "metadata": {
    "collapsed": false
   },
   "outputs": [
    {
     "data": {
      "image/png": "[encoded data removed]",
      "text/plain": [
       "<matplotlib.figure.Figure at 0x10e588c90>"
      ]
     },
     "metadata": {},
     "output_type": "display_data"
    }
   ],
   "source": [
    "from sklearn.metrics import silhouette_score\n",
    "\n",
    "# look at silhouette plot (density and separation of each cluster) -- data_noexam\n",
    "x = []\n",
    "y = []\n",
    "for n in range(2,20):\n",
    "    km22 = KMeans(n_clusters=n)\n",
    "    centers = km22.fit_predict(X_train_std2)\n",
    "    x.append(n)\n",
    "    y.append(silhouette_score(X_train_std2, centers))\n",
    "plt.plot(x, y);"
   ]
  },
  {
   "cell_type": "code",
   "execution_count": 72,
   "metadata": {
    "collapsed": false
   },
   "outputs": [
    {
     "name": "stdout",
     "output_type": "stream",
     "text": [
      "1 loops, best of 3: 228 ms per loop\n"
     ]
    }
   ],
   "source": [
    "%%timeit\n",
    "# I'm going to choose k=5\n",
    "km2 = KMeans(n_clusters=5, n_init=20)\n",
    "cluster_labels2 = km2.fit_predict(X_train_std2)"
   ]
  },
  {
   "cell_type": "code",
   "execution_count": 73,
   "metadata": {
    "collapsed": true
   },
   "outputs": [],
   "source": [
    "km2 = KMeans(n_clusters=5, n_init=20)\n",
    "cluster_labels2 = km2.fit_predict(X_train_std2)"
   ]
  },
  {
   "cell_type": "code",
   "execution_count": 74,
   "metadata": {
    "collapsed": false
   },
   "outputs": [
    {
     "name": "stdout",
     "output_type": "stream",
     "text": [
      "DATA_IMPUTED:\n",
      "Inertia score: 18541.7854089 \n",
      "Silhouette score: 0.0947898386888\n"
     ]
    }
   ],
   "source": [
    "print 'DATA_IMPUTED:\\nInertia score: {} \\nSilhouette score: {}'.format(km2.inertia_, silhouette_score(X_train_std2, cluster_labels2))"
   ]
  },
  {
   "cell_type": "code",
   "execution_count": 75,
   "metadata": {
    "collapsed": false
   },
   "outputs": [
    {
     "data": {
      "image/png": "[encoded data removed]",
      "text/plain": [
       "<matplotlib.figure.Figure at 0x10d40c050>"
      ]
     },
     "metadata": {},
     "output_type": "display_data"
    }
   ],
   "source": [
    "# look at inertia plot (how close together are the points in the clusters) -- data_admin\n",
    "x = []\n",
    "y = []\n",
    "for n in range(1,20):\n",
    "    km33 = KMeans(n_clusters=n)\n",
    "    km33.fit(X_train_std3)\n",
    "    x.append(n)\n",
    "    y.append(km33.inertia_)\n",
    "plt.plot(x, y);"
   ]
  },
  {
   "cell_type": "code",
   "execution_count": 76,
   "metadata": {
    "collapsed": false
   },
   "outputs": [
    {
     "data": {
      "image/png": "[encoded data removed]",
      "text/plain": [
       "<matplotlib.figure.Figure at 0x10c741d50>"
      ]
     },
     "metadata": {},
     "output_type": "display_data"
    }
   ],
   "source": [
    "# look at silhouette plot (density and separation of each cluster) -- data_admin\n",
    "x = []\n",
    "y = []\n",
    "for n in range(2,20):\n",
    "    km33 = KMeans(n_clusters=n)\n",
    "    centers = km33.fit_predict(X_train_std3)\n",
    "    x.append(n)\n",
    "    y.append(silhouette_score(X_train_std3, centers))\n",
    "plt.plot(x, y);"
   ]
  },
  {
   "cell_type": "code",
   "execution_count": 77,
   "metadata": {
    "collapsed": false
   },
   "outputs": [
    {
     "name": "stdout",
     "output_type": "stream",
     "text": [
      "1 loops, best of 3: 312 ms per loop\n"
     ]
    }
   ],
   "source": [
    "%%timeit\n",
    "# I'm going to choose k=5\n",
    "km3 = KMeans(n_clusters=12, n_init=20)\n",
    "cluster_labels3 = km3.fit_predict(X_train_std3)"
   ]
  },
  {
   "cell_type": "code",
   "execution_count": 78,
   "metadata": {
    "collapsed": true
   },
   "outputs": [],
   "source": [
    "km3 = KMeans(n_clusters=12, n_init=20)\n",
    "cluster_labels3 = km3.fit_predict(X_train_std3)"
   ]
  },
  {
   "cell_type": "code",
   "execution_count": 79,
   "metadata": {
    "collapsed": false
   },
   "outputs": [
    {
     "name": "stdout",
     "output_type": "stream",
     "text": [
      "DATA_FENGINEERED:\n",
      "Inertia score: 36916.9701286 \n",
      "Silhouette score: 0.105808205468\n"
     ]
    }
   ],
   "source": [
    "print 'DATA_FENGINEERED:\\nInertia score: {} \\nSilhouette score: {}'.format(km3.inertia_, silhouette_score(X_train_std3, cluster_labels3))"
   ]
  },
  {
   "cell_type": "code",
   "execution_count": 80,
   "metadata": {
    "collapsed": false
   },
   "outputs": [
    {
     "data": {
      "image/png": "[encoded data removed]",
      "text/plain": [
       "<matplotlib.figure.Figure at 0x10c684c10>"
      ]
     },
     "metadata": {},
     "output_type": "display_data"
    }
   ],
   "source": [
    "# look at inertia plot (how close together are the points in the clusters) -- data_zip\n",
    "x = []\n",
    "y = []\n",
    "for n in range(1,20):\n",
    "    km44 = KMeans(n_clusters=n)\n",
    "    km44.fit(X_train_std4)\n",
    "    x.append(n)\n",
    "    y.append(km44.inertia_)\n",
    "plt.plot(x, y);"
   ]
  },
  {
   "cell_type": "code",
   "execution_count": 81,
   "metadata": {
    "collapsed": false
   },
   "outputs": [
    {
     "name": "stderr",
     "output_type": "stream",
     "text": [
      "/Users/hopper/anaconda/lib/python2.7/site-packages/numpy/core/_methods.py:59: RuntimeWarning: Mean of empty slice.\n",
      "  warnings.warn(\"Mean of empty slice.\", RuntimeWarning)\n"
     ]
    },
    {
     "data": {
      "image/png": "[encoded data removed]",
      "text/plain": [
       "<matplotlib.figure.Figure at 0x10b6f5090>"
      ]
     },
     "metadata": {},
     "output_type": "display_data"
    }
   ],
   "source": [
    "# look at silhouette plot (density and separation of each cluster) -- data_zip\n",
    "x = []\n",
    "y = []\n",
    "for n in range(2,20):\n",
    "    km44 = KMeans(n_clusters=n)\n",
    "    centers = km44.fit_predict(X_train_std4)\n",
    "    x.append(n)\n",
    "    y.append(silhouette_score(X_train_std4, centers))\n",
    "plt.plot(x, y);"
   ]
  },
  {
   "cell_type": "code",
   "execution_count": 82,
   "metadata": {
    "collapsed": false
   },
   "outputs": [
    {
     "name": "stdout",
     "output_type": "stream",
     "text": [
      "1 loops, best of 3: 267 ms per loop\n"
     ]
    }
   ],
   "source": [
    "%%timeit\n",
    "# I'm going to choose k=10\n",
    "km4 = KMeans(n_clusters=6, n_init=20)\n",
    "cluster_labels4 = km4.fit_predict(X_train_std4)"
   ]
  },
  {
   "cell_type": "code",
   "execution_count": 83,
   "metadata": {
    "collapsed": true
   },
   "outputs": [],
   "source": [
    "km4 = KMeans(n_clusters=6, n_init=20)\n",
    "cluster_labels4 = km4.fit_predict(X_train_std4)"
   ]
  },
  {
   "cell_type": "code",
   "execution_count": 84,
   "metadata": {
    "collapsed": false
   },
   "outputs": [
    {
     "name": "stdout",
     "output_type": "stream",
     "text": [
      "DATA_DROPPED:\n",
      "Inertia score: 109910.910294 \n",
      "Silhouette score: 0.03065223933\n"
     ]
    }
   ],
   "source": [
    "print 'DATA_DROPPED:\\nInertia score: {} \\nSilhouette score: {}'.format(km4.inertia_, silhouette_score(X_train_std4, cluster_labels4))"
   ]
  },
  {
   "cell_type": "code",
   "execution_count": 85,
   "metadata": {
    "collapsed": false
   },
   "outputs": [
    {
     "data": {
      "text/plain": [
       "array([[-0.01622666,  0.01623006,  0.22123635,  0.11719462, -0.204404  ,\n",
       "        -0.2849204 ,  0.09670143, -0.18504043, -0.24635651, -0.16165889,\n",
       "        -0.00611054, -0.19405737, -0.31711181,  0.30475516, -0.22507829,\n",
       "         0.01651564, -0.12529671,  0.1789855 , -0.29974442, -0.01909084,\n",
       "         0.00460472, -0.21248229, -0.05351707, -0.13189843, -0.01374613,\n",
       "        -0.11567863,  0.10446339, -0.05334193, -0.14023126, -0.23566794,\n",
       "        -0.27173008,  0.02059284,  0.12127077, -0.25001045, -0.26389487],\n",
       "       [ 0.49578341, -0.49578006, -2.28565928,  0.96699763,  2.76195213,\n",
       "         2.73917446, -1.36538957,  0.87692895,  0.64397138,  2.02465112,\n",
       "         1.30051976,  2.88616522,  1.71904619, -0.99849767, -0.62271888,\n",
       "        -1.10004977, -0.89054578, -1.54438024,  2.05498537, -0.11503743,\n",
       "         0.61931328,  1.89943796,  1.41842342,  1.84166825,  1.36487225,\n",
       "         0.99981151,  0.39109632,  0.13524409, -1.11920011, -0.25212754,\n",
       "        -0.45414049, -0.18426901, -0.8189372 ,  2.80344614, -0.34698067],\n",
       "       [-0.39223994,  0.3922434 ,  0.41459145, -0.39603532, -0.60556153,\n",
       "        -0.66536258, -0.27163746, -0.66587325, -0.22034331, -0.46971501,\n",
       "        -0.50306003, -0.40538008, -0.44703044,  0.29750549,  0.01914182,\n",
       "         0.20026305,  0.96114523,  0.88095648, -0.42490286, -0.05528364,\n",
       "        -0.12765158, -0.4219275 , -0.90554433, -0.98023617, -1.03650857,\n",
       "        -0.51064115, -0.52310953, -0.08159893,  1.02598596,  0.5544529 ,\n",
       "         0.62695917,  0.06454844,  0.26984391, -0.64818746,  0.61598159],\n",
       "       [ 0.39067247, -0.39068483, -0.51659535,  0.01964444,  0.74236989,\n",
       "         0.73315952,  0.32916078,  0.97968782,  0.6472309 ,  0.40017006,\n",
       "         0.4093624 ,  0.19244558,  0.51898455, -0.36577528, -0.38647252,\n",
       "        -0.23822259, -0.43519668, -0.50268856,  0.5670504 ,  0.12261947,\n",
       "        -0.02126029,  0.42862012,  0.85458974,  0.98289483,  0.80839855,\n",
       "         0.35499165,  0.13996004,  0.17020989, -0.67378677, -0.22044373,\n",
       "        -0.12483009, -0.12919329, -0.5297276 ,  0.7519249 , -0.19567707],\n",
       "       [-0.13465827,  0.1346617 ,  0.8840112 , -0.16456068, -1.51333262,\n",
       "        -0.59397513,  0.67566827, -0.3248866 , -0.35917225, -0.35325679,\n",
       "        -0.62333102, -0.50775266,  0.54896883, -1.12716107,  3.70157114,\n",
       "         1.04261977, -0.8027858 , -1.73286004, -0.21392343,  0.03821665,\n",
       "        -0.02517578, -0.17358003, -0.29748524, -0.32127299,  0.23330039,\n",
       "         0.73832332,  0.64068944, -0.03637876,  0.17051462,  0.34527105,\n",
       "         0.12767377,  0.24722638,  0.78626186, -1.06680315,  0.27964145]])"
      ]
     },
     "execution_count": 85,
     "metadata": {},
     "output_type": "execute_result"
    }
   ],
   "source": [
    "km2.cluster_centers_"
   ]
  },
  {
   "cell_type": "code",
   "execution_count": 87,
   "metadata": {
    "collapsed": false
   },
   "outputs": [
    {
     "ename": "ValueError",
     "evalue": "operands could not be broadcast together with shapes (5,35) (156,) (5,35) ",
     "output_type": "error",
     "traceback": [
      "\u001b[0;31m---------------------------------------------------------------------------\u001b[0m",
      "\u001b[0;31mValueError\u001b[0m                                Traceback (most recent call last)",
      "\u001b[0;32m<ipython-input-87-54db346bcc49>\u001b[0m in \u001b[0;36m<module>\u001b[0;34m()\u001b[0m\n\u001b[0;32m----> 1\u001b[0;31m \u001b[0mstdsc\u001b[0m\u001b[0;34m.\u001b[0m\u001b[0minverse_transform\u001b[0m\u001b[0;34m(\u001b[0m\u001b[0mkm2\u001b[0m\u001b[0;34m.\u001b[0m\u001b[0mcluster_centers_\u001b[0m\u001b[0;34m)\u001b[0m\u001b[0;34m\u001b[0m\u001b[0m\n\u001b[0m",
      "\u001b[0;32m/Users/hopper/anaconda/lib/python2.7/site-packages/sklearn/preprocessing/data.pyc\u001b[0m in \u001b[0;36minverse_transform\u001b[0;34m(self, X, copy)\u001b[0m\n\u001b[1;32m    424\u001b[0m                 \u001b[0mX\u001b[0m \u001b[0;34m=\u001b[0m \u001b[0mX\u001b[0m\u001b[0;34m.\u001b[0m\u001b[0mcopy\u001b[0m\u001b[0;34m(\u001b[0m\u001b[0;34m)\u001b[0m\u001b[0;34m\u001b[0m\u001b[0m\n\u001b[1;32m    425\u001b[0m             \u001b[0;32mif\u001b[0m \u001b[0mself\u001b[0m\u001b[0;34m.\u001b[0m\u001b[0mwith_std\u001b[0m\u001b[0;34m:\u001b[0m\u001b[0;34m\u001b[0m\u001b[0m\n\u001b[0;32m--> 426\u001b[0;31m                 \u001b[0mX\u001b[0m \u001b[0;34m*=\u001b[0m \u001b[0mself\u001b[0m\u001b[0;34m.\u001b[0m\u001b[0mstd_\u001b[0m\u001b[0;34m\u001b[0m\u001b[0m\n\u001b[0m\u001b[1;32m    427\u001b[0m             \u001b[0;32mif\u001b[0m \u001b[0mself\u001b[0m\u001b[0;34m.\u001b[0m\u001b[0mwith_mean\u001b[0m\u001b[0;34m:\u001b[0m\u001b[0;34m\u001b[0m\u001b[0m\n\u001b[1;32m    428\u001b[0m                 \u001b[0mX\u001b[0m \u001b[0;34m+=\u001b[0m \u001b[0mself\u001b[0m\u001b[0;34m.\u001b[0m\u001b[0mmean_\u001b[0m\u001b[0;34m\u001b[0m\u001b[0m\n",
      "\u001b[0;31mValueError\u001b[0m: operands could not be broadcast together with shapes (5,35) (156,) (5,35) "
     ]
    }
   ],
   "source": [
    "stdsc.inverse_transform(km2.cluster_centers_)"
   ]
  },
  {
   "cell_type": "code",
   "execution_count": 89,
   "metadata": {
    "collapsed": false
   },
   "outputs": [
    {
     "ename": "ValueError",
     "evalue": "operands could not be broadcast together with shapes (35,) (156,) (35,) ",
     "output_type": "error",
     "traceback": [
      "\u001b[0;31m---------------------------------------------------------------------------\u001b[0m",
      "\u001b[0;31mValueError\u001b[0m                                Traceback (most recent call last)",
      "\u001b[0;32m<ipython-input-89-ef3a71f951a3>\u001b[0m in \u001b[0;36m<module>\u001b[0;34m()\u001b[0m\n\u001b[1;32m      1\u001b[0m \u001b[0;31m# check cluster centers for each cluster -- for data_noexam\u001b[0m\u001b[0;34m\u001b[0m\u001b[0;34m\u001b[0m\u001b[0m\n\u001b[1;32m      2\u001b[0m \u001b[0mpd\u001b[0m\u001b[0;34m.\u001b[0m\u001b[0mset_option\u001b[0m\u001b[0;34m(\u001b[0m\u001b[0;34m'display.float_format'\u001b[0m\u001b[0;34m,\u001b[0m \u001b[0;32mlambda\u001b[0m \u001b[0mx\u001b[0m\u001b[0;34m:\u001b[0m \u001b[0;34m'%.3f'\u001b[0m \u001b[0;34m%\u001b[0m \u001b[0mx\u001b[0m\u001b[0;34m)\u001b[0m\u001b[0;34m\u001b[0m\u001b[0m\n\u001b[0;32m----> 3\u001b[0;31m \u001b[0mcolumns\u001b[0m \u001b[0;34m=\u001b[0m \u001b[0;34m{\u001b[0m\u001b[0mstr\u001b[0m\u001b[0;34m(\u001b[0m\u001b[0mx\u001b[0m\u001b[0;34m)\u001b[0m\u001b[0;34m:\u001b[0m \u001b[0mstdsc\u001b[0m\u001b[0;34m.\u001b[0m\u001b[0minverse_transform\u001b[0m\u001b[0;34m(\u001b[0m\u001b[0mkm2\u001b[0m\u001b[0;34m.\u001b[0m\u001b[0mcluster_centers_\u001b[0m\u001b[0;34m[\u001b[0m\u001b[0mx\u001b[0m\u001b[0;34m]\u001b[0m\u001b[0;34m)\u001b[0m \u001b[0;32mfor\u001b[0m \u001b[0mx\u001b[0m \u001b[0;32min\u001b[0m \u001b[0mrange\u001b[0m\u001b[0;34m(\u001b[0m\u001b[0;36m0\u001b[0m\u001b[0;34m,\u001b[0m\u001b[0mlen\u001b[0m\u001b[0;34m(\u001b[0m\u001b[0mkm2\u001b[0m\u001b[0;34m.\u001b[0m\u001b[0mcluster_centers_\u001b[0m\u001b[0;34m)\u001b[0m\u001b[0;34m)\u001b[0m\u001b[0;34m}\u001b[0m\u001b[0;34m\u001b[0m\u001b[0m\n\u001b[0m\u001b[1;32m      4\u001b[0m \u001b[0mpd\u001b[0m\u001b[0;34m.\u001b[0m\u001b[0mDataFrame\u001b[0m\u001b[0;34m(\u001b[0m\u001b[0mcolumns\u001b[0m\u001b[0;34m,\u001b[0m \u001b[0mindex\u001b[0m\u001b[0;34m=\u001b[0m\u001b[0mX_train2\u001b[0m\u001b[0;34m.\u001b[0m\u001b[0mcolumns\u001b[0m\u001b[0;34m)\u001b[0m\u001b[0;34m\u001b[0m\u001b[0m\n",
      "\u001b[0;32m<ipython-input-89-ef3a71f951a3>\u001b[0m in \u001b[0;36m<dictcomp>\u001b[0;34m((x,))\u001b[0m\n\u001b[1;32m      1\u001b[0m \u001b[0;31m# check cluster centers for each cluster -- for data_noexam\u001b[0m\u001b[0;34m\u001b[0m\u001b[0;34m\u001b[0m\u001b[0m\n\u001b[1;32m      2\u001b[0m \u001b[0mpd\u001b[0m\u001b[0;34m.\u001b[0m\u001b[0mset_option\u001b[0m\u001b[0;34m(\u001b[0m\u001b[0;34m'display.float_format'\u001b[0m\u001b[0;34m,\u001b[0m \u001b[0;32mlambda\u001b[0m \u001b[0mx\u001b[0m\u001b[0;34m:\u001b[0m \u001b[0;34m'%.3f'\u001b[0m \u001b[0;34m%\u001b[0m \u001b[0mx\u001b[0m\u001b[0;34m)\u001b[0m\u001b[0;34m\u001b[0m\u001b[0m\n\u001b[0;32m----> 3\u001b[0;31m \u001b[0mcolumns\u001b[0m \u001b[0;34m=\u001b[0m \u001b[0;34m{\u001b[0m\u001b[0mstr\u001b[0m\u001b[0;34m(\u001b[0m\u001b[0mx\u001b[0m\u001b[0;34m)\u001b[0m\u001b[0;34m:\u001b[0m \u001b[0mstdsc\u001b[0m\u001b[0;34m.\u001b[0m\u001b[0minverse_transform\u001b[0m\u001b[0;34m(\u001b[0m\u001b[0mkm2\u001b[0m\u001b[0;34m.\u001b[0m\u001b[0mcluster_centers_\u001b[0m\u001b[0;34m[\u001b[0m\u001b[0mx\u001b[0m\u001b[0;34m]\u001b[0m\u001b[0;34m)\u001b[0m \u001b[0;32mfor\u001b[0m \u001b[0mx\u001b[0m \u001b[0;32min\u001b[0m \u001b[0mrange\u001b[0m\u001b[0;34m(\u001b[0m\u001b[0;36m0\u001b[0m\u001b[0;34m,\u001b[0m\u001b[0mlen\u001b[0m\u001b[0;34m(\u001b[0m\u001b[0mkm2\u001b[0m\u001b[0;34m.\u001b[0m\u001b[0mcluster_centers_\u001b[0m\u001b[0;34m)\u001b[0m\u001b[0;34m)\u001b[0m\u001b[0;34m}\u001b[0m\u001b[0;34m\u001b[0m\u001b[0m\n\u001b[0m\u001b[1;32m      4\u001b[0m \u001b[0mpd\u001b[0m\u001b[0;34m.\u001b[0m\u001b[0mDataFrame\u001b[0m\u001b[0;34m(\u001b[0m\u001b[0mcolumns\u001b[0m\u001b[0;34m,\u001b[0m \u001b[0mindex\u001b[0m\u001b[0;34m=\u001b[0m\u001b[0mX_train2\u001b[0m\u001b[0;34m.\u001b[0m\u001b[0mcolumns\u001b[0m\u001b[0;34m)\u001b[0m\u001b[0;34m\u001b[0m\u001b[0m\n",
      "\u001b[0;32m/Users/hopper/anaconda/lib/python2.7/site-packages/sklearn/preprocessing/data.pyc\u001b[0m in \u001b[0;36minverse_transform\u001b[0;34m(self, X, copy)\u001b[0m\n\u001b[1;32m    424\u001b[0m                 \u001b[0mX\u001b[0m \u001b[0;34m=\u001b[0m \u001b[0mX\u001b[0m\u001b[0;34m.\u001b[0m\u001b[0mcopy\u001b[0m\u001b[0;34m(\u001b[0m\u001b[0;34m)\u001b[0m\u001b[0;34m\u001b[0m\u001b[0m\n\u001b[1;32m    425\u001b[0m             \u001b[0;32mif\u001b[0m \u001b[0mself\u001b[0m\u001b[0;34m.\u001b[0m\u001b[0mwith_std\u001b[0m\u001b[0;34m:\u001b[0m\u001b[0;34m\u001b[0m\u001b[0m\n\u001b[0;32m--> 426\u001b[0;31m                 \u001b[0mX\u001b[0m \u001b[0;34m*=\u001b[0m \u001b[0mself\u001b[0m\u001b[0;34m.\u001b[0m\u001b[0mstd_\u001b[0m\u001b[0;34m\u001b[0m\u001b[0m\n\u001b[0m\u001b[1;32m    427\u001b[0m             \u001b[0;32mif\u001b[0m \u001b[0mself\u001b[0m\u001b[0;34m.\u001b[0m\u001b[0mwith_mean\u001b[0m\u001b[0;34m:\u001b[0m\u001b[0;34m\u001b[0m\u001b[0m\n\u001b[1;32m    428\u001b[0m                 \u001b[0mX\u001b[0m \u001b[0;34m+=\u001b[0m \u001b[0mself\u001b[0m\u001b[0;34m.\u001b[0m\u001b[0mmean_\u001b[0m\u001b[0;34m\u001b[0m\u001b[0m\n",
      "\u001b[0;31mValueError\u001b[0m: operands could not be broadcast together with shapes (35,) (156,) (35,) "
     ]
    }
   ],
   "source": [
    "# check cluster centers for each cluster -- for data_noexam \n",
    "pd.set_option('display.float_format', lambda x: '%.3f' % x)\n",
    "columns = {str(x): stdsc.inverse_transform(km2.cluster_centers_[x]) for x in range(0,len(km2.cluster_centers_))}\n",
    "pd.DataFrame(columns, index=X_train2.columns)"
   ]
  },
  {
   "cell_type": "markdown",
   "metadata": {
    "collapsed": true
   },
   "source": [
    "#### TO DO :"
   ]
  },
  {
   "cell_type": "markdown",
   "metadata": {},
   "source": [
    "- Figure out why inverse_transform isn't working \n",
    "- Finish clustering work (if possible)\n",
    "- Possibly select most important features from RF and apply those to LR so I can use at least one other supervised model (right now LR and SVM won't run on even my smallest dataset, possibly due to high number of features)\n",
    "- More visuals"
   ]
  },
  {
   "cell_type": "code",
   "execution_count": null,
   "metadata": {
    "collapsed": true
   },
   "outputs": [],
   "source": []
  }
 ],
 "metadata": {
  "kernelspec": {
   "display_name": "Python 2",
   "language": "python",
   "name": "python2"
  },
  "language_info": {
   "codemirror_mode": {
    "name": "ipython",
    "version": 2
   },
   "file_extension": ".py",
   "mimetype": "text/x-python",
   "name": "python",
   "nbconvert_exporter": "python",
   "pygments_lexer": "ipython2",
   "version": "2.7.11"
  }
 },
 "nbformat": 4,
 "nbformat_minor": 0
}
