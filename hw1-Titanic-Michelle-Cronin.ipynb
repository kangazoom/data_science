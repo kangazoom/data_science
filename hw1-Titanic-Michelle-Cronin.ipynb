{
 "cells": [
  {
   "cell_type": "markdown",
   "metadata": {},
   "source": [
    "Michelle Cronin\n",
    "<br><br>\n",
    "General Assembly - Data Science\n",
    "<br><br>\n",
    "Homework 1 - Titanic\n",
    "<br><br>\n",
    "January 11, 2016"
   ]
  },
  {
   "cell_type": "code",
   "execution_count": 402,
   "metadata": {
    "collapsed": true
   },
   "outputs": [],
   "source": [
    "#import necessary libraries to start\n",
    "import matplotlib.pyplot as plt\n",
    "import pandas as pd\n",
    "import numpy as np\n",
    "import sys\n",
    "import matplotlib\n",
    "%matplotlib inline"
   ]
  },
  {
   "cell_type": "code",
   "execution_count": 70,
   "metadata": {
    "collapsed": false
   },
   "outputs": [],
   "source": [
    "#import data\n",
    "data = pd.read_csv(\"titanic_dropna.csv\", sep=\",\")\n",
    "#create a copy in case of mistakes\n",
    "datacopy = data.copy()"
   ]
  },
  {
   "cell_type": "markdown",
   "metadata": {},
   "source": [
    "<h2>1) What do you notice about the data? Any issues?</h2>"
   ]
  },
  {
   "cell_type": "markdown",
   "metadata": {},
   "source": [
    "<ul>\n",
    "    <li>The data already had descriptive headers</li>\n",
    "    <li>The data has 712 rows and 12 columns</li>\n",
    "    <li>Each passenger was given a passenger ID number\n",
    "    <li>Married women are given two names:  their married and maiden names</li>\n",
    "    <li>Whether or not a person survived is represented by 1 (survived) or 0 (did not survive)--so integers instead of strings</li>\n",
    "    <li>2 float and 5 int columns; the other 5 are strings\n",
    "    <li>Some tickets have non-numeric characters before a series of 5-6 digits; unclear why\n",
    "    <li>Issue: \"Fare\" is not in standard currency ending at the hundredths place; decimal places go on too long\n",
    "    <li>Issue: Weird to me that \"Age\" is represented as a float instead of an int (later became clear for infants)\n",
    "    <li>Issue: The \"Cabin\" column still has missing data</li>\n",
    "    <li>Issue: Some of the data isn't clear to me - I'm not sure what the following represents:  \"SibSp,\" \"Parch,\" the letters in \"Ticket,\" and the letters in \"Embarked\"--so I looked these up (\"SibSp\" for number of siblings or spouses, \"Parch\" for parents or children, and \"Embarked\" for city)</li> \n",
    "</ul>"
   ]
  },
  {
   "cell_type": "code",
   "execution_count": 71,
   "metadata": {
    "collapsed": false
   },
   "outputs": [
    {
     "data": {
      "text/html": [
       "<div>\n",
       "<table border=\"1\" class=\"dataframe\">\n",
       "  <thead>\n",
       "    <tr style=\"text-align: right;\">\n",
       "      <th></th>\n",
       "      <th>PassengerId</th>\n",
       "      <th>Survived</th>\n",
       "      <th>Pclass</th>\n",
       "      <th>Name</th>\n",
       "      <th>Sex</th>\n",
       "      <th>Age</th>\n",
       "      <th>SibSp</th>\n",
       "      <th>Parch</th>\n",
       "      <th>Ticket</th>\n",
       "      <th>Fare</th>\n",
       "      <th>Cabin</th>\n",
       "      <th>Embarked</th>\n",
       "    </tr>\n",
       "  </thead>\n",
       "  <tbody>\n",
       "    <tr>\n",
       "      <th>0</th>\n",
       "      <td>1</td>\n",
       "      <td>0</td>\n",
       "      <td>3</td>\n",
       "      <td>Braund, Mr. Owen Harris</td>\n",
       "      <td>male</td>\n",
       "      <td>22</td>\n",
       "      <td>1</td>\n",
       "      <td>0</td>\n",
       "      <td>A/5 21171</td>\n",
       "      <td>7.2500</td>\n",
       "      <td>NaN</td>\n",
       "      <td>S</td>\n",
       "    </tr>\n",
       "    <tr>\n",
       "      <th>1</th>\n",
       "      <td>2</td>\n",
       "      <td>1</td>\n",
       "      <td>1</td>\n",
       "      <td>Cumings, Mrs. John Bradley (Florence Briggs Th...</td>\n",
       "      <td>female</td>\n",
       "      <td>38</td>\n",
       "      <td>1</td>\n",
       "      <td>0</td>\n",
       "      <td>PC 17599</td>\n",
       "      <td>71.2833</td>\n",
       "      <td>C85</td>\n",
       "      <td>C</td>\n",
       "    </tr>\n",
       "    <tr>\n",
       "      <th>2</th>\n",
       "      <td>3</td>\n",
       "      <td>1</td>\n",
       "      <td>3</td>\n",
       "      <td>Heikkinen, Miss. Laina</td>\n",
       "      <td>female</td>\n",
       "      <td>26</td>\n",
       "      <td>0</td>\n",
       "      <td>0</td>\n",
       "      <td>STON/O2. 3101282</td>\n",
       "      <td>7.9250</td>\n",
       "      <td>NaN</td>\n",
       "      <td>S</td>\n",
       "    </tr>\n",
       "    <tr>\n",
       "      <th>3</th>\n",
       "      <td>4</td>\n",
       "      <td>1</td>\n",
       "      <td>1</td>\n",
       "      <td>Futrelle, Mrs. Jacques Heath (Lily May Peel)</td>\n",
       "      <td>female</td>\n",
       "      <td>35</td>\n",
       "      <td>1</td>\n",
       "      <td>0</td>\n",
       "      <td>113803</td>\n",
       "      <td>53.1000</td>\n",
       "      <td>C123</td>\n",
       "      <td>S</td>\n",
       "    </tr>\n",
       "    <tr>\n",
       "      <th>4</th>\n",
       "      <td>5</td>\n",
       "      <td>0</td>\n",
       "      <td>3</td>\n",
       "      <td>Allen, Mr. William Henry</td>\n",
       "      <td>male</td>\n",
       "      <td>35</td>\n",
       "      <td>0</td>\n",
       "      <td>0</td>\n",
       "      <td>373450</td>\n",
       "      <td>8.0500</td>\n",
       "      <td>NaN</td>\n",
       "      <td>S</td>\n",
       "    </tr>\n",
       "  </tbody>\n",
       "</table>\n",
       "</div>"
      ],
      "text/plain": [
       "   PassengerId  Survived  Pclass  \\\n",
       "0            1         0       3   \n",
       "1            2         1       1   \n",
       "2            3         1       3   \n",
       "3            4         1       1   \n",
       "4            5         0       3   \n",
       "\n",
       "                                                Name     Sex  Age  SibSp  \\\n",
       "0                            Braund, Mr. Owen Harris    male   22      1   \n",
       "1  Cumings, Mrs. John Bradley (Florence Briggs Th...  female   38      1   \n",
       "2                             Heikkinen, Miss. Laina  female   26      0   \n",
       "3       Futrelle, Mrs. Jacques Heath (Lily May Peel)  female   35      1   \n",
       "4                           Allen, Mr. William Henry    male   35      0   \n",
       "\n",
       "   Parch            Ticket     Fare Cabin Embarked  \n",
       "0      0         A/5 21171   7.2500   NaN        S  \n",
       "1      0          PC 17599  71.2833   C85        C  \n",
       "2      0  STON/O2. 3101282   7.9250   NaN        S  \n",
       "3      0            113803  53.1000  C123        S  \n",
       "4      0            373450   8.0500   NaN        S  "
      ]
     },
     "execution_count": 71,
     "metadata": {},
     "output_type": "execute_result"
    }
   ],
   "source": [
    "# Initial exploratory data is in lines below\n",
    "data.head()"
   ]
  },
  {
   "cell_type": "code",
   "execution_count": 72,
   "metadata": {
    "collapsed": false
   },
   "outputs": [
    {
     "data": {
      "text/html": [
       "<div>\n",
       "<table border=\"1\" class=\"dataframe\">\n",
       "  <thead>\n",
       "    <tr style=\"text-align: right;\">\n",
       "      <th></th>\n",
       "      <th>PassengerId</th>\n",
       "      <th>Survived</th>\n",
       "      <th>Pclass</th>\n",
       "      <th>Name</th>\n",
       "      <th>Sex</th>\n",
       "      <th>Age</th>\n",
       "      <th>SibSp</th>\n",
       "      <th>Parch</th>\n",
       "      <th>Ticket</th>\n",
       "      <th>Fare</th>\n",
       "      <th>Cabin</th>\n",
       "      <th>Embarked</th>\n",
       "    </tr>\n",
       "  </thead>\n",
       "  <tbody>\n",
       "    <tr>\n",
       "      <th>707</th>\n",
       "      <td>886</td>\n",
       "      <td>0</td>\n",
       "      <td>3</td>\n",
       "      <td>Rice, Mrs. William (Margaret Norton)</td>\n",
       "      <td>female</td>\n",
       "      <td>39</td>\n",
       "      <td>0</td>\n",
       "      <td>5</td>\n",
       "      <td>382652</td>\n",
       "      <td>29.125</td>\n",
       "      <td>NaN</td>\n",
       "      <td>Q</td>\n",
       "    </tr>\n",
       "    <tr>\n",
       "      <th>708</th>\n",
       "      <td>887</td>\n",
       "      <td>0</td>\n",
       "      <td>2</td>\n",
       "      <td>Montvila, Rev. Juozas</td>\n",
       "      <td>male</td>\n",
       "      <td>27</td>\n",
       "      <td>0</td>\n",
       "      <td>0</td>\n",
       "      <td>211536</td>\n",
       "      <td>13.000</td>\n",
       "      <td>NaN</td>\n",
       "      <td>S</td>\n",
       "    </tr>\n",
       "    <tr>\n",
       "      <th>709</th>\n",
       "      <td>888</td>\n",
       "      <td>1</td>\n",
       "      <td>1</td>\n",
       "      <td>Graham, Miss. Margaret Edith</td>\n",
       "      <td>female</td>\n",
       "      <td>19</td>\n",
       "      <td>0</td>\n",
       "      <td>0</td>\n",
       "      <td>112053</td>\n",
       "      <td>30.000</td>\n",
       "      <td>B42</td>\n",
       "      <td>S</td>\n",
       "    </tr>\n",
       "    <tr>\n",
       "      <th>710</th>\n",
       "      <td>890</td>\n",
       "      <td>1</td>\n",
       "      <td>1</td>\n",
       "      <td>Behr, Mr. Karl Howell</td>\n",
       "      <td>male</td>\n",
       "      <td>26</td>\n",
       "      <td>0</td>\n",
       "      <td>0</td>\n",
       "      <td>111369</td>\n",
       "      <td>30.000</td>\n",
       "      <td>C148</td>\n",
       "      <td>C</td>\n",
       "    </tr>\n",
       "    <tr>\n",
       "      <th>711</th>\n",
       "      <td>891</td>\n",
       "      <td>0</td>\n",
       "      <td>3</td>\n",
       "      <td>Dooley, Mr. Patrick</td>\n",
       "      <td>male</td>\n",
       "      <td>32</td>\n",
       "      <td>0</td>\n",
       "      <td>0</td>\n",
       "      <td>370376</td>\n",
       "      <td>7.750</td>\n",
       "      <td>NaN</td>\n",
       "      <td>Q</td>\n",
       "    </tr>\n",
       "  </tbody>\n",
       "</table>\n",
       "</div>"
      ],
      "text/plain": [
       "     PassengerId  Survived  Pclass                                  Name  \\\n",
       "707          886         0       3  Rice, Mrs. William (Margaret Norton)   \n",
       "708          887         0       2                 Montvila, Rev. Juozas   \n",
       "709          888         1       1          Graham, Miss. Margaret Edith   \n",
       "710          890         1       1                 Behr, Mr. Karl Howell   \n",
       "711          891         0       3                   Dooley, Mr. Patrick   \n",
       "\n",
       "        Sex  Age  SibSp  Parch  Ticket    Fare Cabin Embarked  \n",
       "707  female   39      0      5  382652  29.125   NaN        Q  \n",
       "708    male   27      0      0  211536  13.000   NaN        S  \n",
       "709  female   19      0      0  112053  30.000   B42        S  \n",
       "710    male   26      0      0  111369  30.000  C148        C  \n",
       "711    male   32      0      0  370376   7.750   NaN        Q  "
      ]
     },
     "execution_count": 72,
     "metadata": {},
     "output_type": "execute_result"
    }
   ],
   "source": [
    "data.tail()"
   ]
  },
  {
   "cell_type": "code",
   "execution_count": 73,
   "metadata": {
    "collapsed": false
   },
   "outputs": [
    {
     "data": {
      "text/plain": [
       "(712, 12)"
      ]
     },
     "execution_count": 73,
     "metadata": {},
     "output_type": "execute_result"
    }
   ],
   "source": [
    "data.shape"
   ]
  },
  {
   "cell_type": "code",
   "execution_count": 74,
   "metadata": {
    "collapsed": false
   },
   "outputs": [
    {
     "data": {
      "text/plain": [
       "PassengerId      int64\n",
       "Survived         int64\n",
       "Pclass           int64\n",
       "Name            object\n",
       "Sex             object\n",
       "Age            float64\n",
       "SibSp            int64\n",
       "Parch            int64\n",
       "Ticket          object\n",
       "Fare           float64\n",
       "Cabin           object\n",
       "Embarked        object\n",
       "dtype: object"
      ]
     },
     "execution_count": 74,
     "metadata": {},
     "output_type": "execute_result"
    }
   ],
   "source": [
    "data.dtypes"
   ]
  },
  {
   "cell_type": "code",
   "execution_count": 75,
   "metadata": {
    "collapsed": false
   },
   "outputs": [
    {
     "name": "stdout",
     "output_type": "stream",
     "text": [
      "<class 'pandas.core.frame.DataFrame'>\n",
      "Int64Index: 712 entries, 0 to 711\n",
      "Data columns (total 12 columns):\n",
      "PassengerId    712 non-null int64\n",
      "Survived       712 non-null int64\n",
      "Pclass         712 non-null int64\n",
      "Name           712 non-null object\n",
      "Sex            712 non-null object\n",
      "Age            712 non-null float64\n",
      "SibSp          712 non-null int64\n",
      "Parch          712 non-null int64\n",
      "Ticket         712 non-null object\n",
      "Fare           712 non-null float64\n",
      "Cabin          183 non-null object\n",
      "Embarked       712 non-null object\n",
      "dtypes: float64(2), int64(5), object(5)\n",
      "memory usage: 72.3+ KB\n"
     ]
    }
   ],
   "source": [
    "data.info()"
   ]
  },
  {
   "cell_type": "code",
   "execution_count": 76,
   "metadata": {
    "collapsed": false
   },
   "outputs": [
    {
     "data": {
      "text/html": [
       "<div>\n",
       "<table border=\"1\" class=\"dataframe\">\n",
       "  <thead>\n",
       "    <tr style=\"text-align: right;\">\n",
       "      <th></th>\n",
       "      <th>PassengerId</th>\n",
       "      <th>Survived</th>\n",
       "      <th>Pclass</th>\n",
       "      <th>Age</th>\n",
       "      <th>SibSp</th>\n",
       "      <th>Parch</th>\n",
       "      <th>Fare</th>\n",
       "    </tr>\n",
       "  </thead>\n",
       "  <tbody>\n",
       "    <tr>\n",
       "      <th>count</th>\n",
       "      <td>712.000000</td>\n",
       "      <td>712.000000</td>\n",
       "      <td>712.000000</td>\n",
       "      <td>712.000000</td>\n",
       "      <td>712.000000</td>\n",
       "      <td>712.000000</td>\n",
       "      <td>712.000000</td>\n",
       "    </tr>\n",
       "    <tr>\n",
       "      <th>mean</th>\n",
       "      <td>448.589888</td>\n",
       "      <td>0.404494</td>\n",
       "      <td>2.240169</td>\n",
       "      <td>29.642093</td>\n",
       "      <td>0.514045</td>\n",
       "      <td>0.432584</td>\n",
       "      <td>34.567251</td>\n",
       "    </tr>\n",
       "    <tr>\n",
       "      <th>std</th>\n",
       "      <td>258.683191</td>\n",
       "      <td>0.491139</td>\n",
       "      <td>0.836854</td>\n",
       "      <td>14.492933</td>\n",
       "      <td>0.930692</td>\n",
       "      <td>0.854181</td>\n",
       "      <td>52.938648</td>\n",
       "    </tr>\n",
       "    <tr>\n",
       "      <th>min</th>\n",
       "      <td>1.000000</td>\n",
       "      <td>0.000000</td>\n",
       "      <td>1.000000</td>\n",
       "      <td>0.420000</td>\n",
       "      <td>0.000000</td>\n",
       "      <td>0.000000</td>\n",
       "      <td>0.000000</td>\n",
       "    </tr>\n",
       "    <tr>\n",
       "      <th>25%</th>\n",
       "      <td>222.750000</td>\n",
       "      <td>0.000000</td>\n",
       "      <td>1.000000</td>\n",
       "      <td>20.000000</td>\n",
       "      <td>0.000000</td>\n",
       "      <td>0.000000</td>\n",
       "      <td>8.050000</td>\n",
       "    </tr>\n",
       "    <tr>\n",
       "      <th>50%</th>\n",
       "      <td>445.000000</td>\n",
       "      <td>0.000000</td>\n",
       "      <td>2.000000</td>\n",
       "      <td>28.000000</td>\n",
       "      <td>0.000000</td>\n",
       "      <td>0.000000</td>\n",
       "      <td>15.645850</td>\n",
       "    </tr>\n",
       "    <tr>\n",
       "      <th>75%</th>\n",
       "      <td>677.250000</td>\n",
       "      <td>1.000000</td>\n",
       "      <td>3.000000</td>\n",
       "      <td>38.000000</td>\n",
       "      <td>1.000000</td>\n",
       "      <td>1.000000</td>\n",
       "      <td>33.000000</td>\n",
       "    </tr>\n",
       "    <tr>\n",
       "      <th>max</th>\n",
       "      <td>891.000000</td>\n",
       "      <td>1.000000</td>\n",
       "      <td>3.000000</td>\n",
       "      <td>80.000000</td>\n",
       "      <td>5.000000</td>\n",
       "      <td>6.000000</td>\n",
       "      <td>512.329200</td>\n",
       "    </tr>\n",
       "  </tbody>\n",
       "</table>\n",
       "</div>"
      ],
      "text/plain": [
       "       PassengerId    Survived      Pclass         Age       SibSp  \\\n",
       "count   712.000000  712.000000  712.000000  712.000000  712.000000   \n",
       "mean    448.589888    0.404494    2.240169   29.642093    0.514045   \n",
       "std     258.683191    0.491139    0.836854   14.492933    0.930692   \n",
       "min       1.000000    0.000000    1.000000    0.420000    0.000000   \n",
       "25%     222.750000    0.000000    1.000000   20.000000    0.000000   \n",
       "50%     445.000000    0.000000    2.000000   28.000000    0.000000   \n",
       "75%     677.250000    1.000000    3.000000   38.000000    1.000000   \n",
       "max     891.000000    1.000000    3.000000   80.000000    5.000000   \n",
       "\n",
       "            Parch        Fare  \n",
       "count  712.000000  712.000000  \n",
       "mean     0.432584   34.567251  \n",
       "std      0.854181   52.938648  \n",
       "min      0.000000    0.000000  \n",
       "25%      0.000000    8.050000  \n",
       "50%      0.000000   15.645850  \n",
       "75%      1.000000   33.000000  \n",
       "max      6.000000  512.329200  "
      ]
     },
     "execution_count": 76,
     "metadata": {},
     "output_type": "execute_result"
    }
   ],
   "source": [
    "data.describe()"
   ]
  },
  {
   "cell_type": "code",
   "execution_count": 526,
   "metadata": {
    "collapsed": false
   },
   "outputs": [
    {
     "ename": "ValueError",
     "evalue": "labels ['Cabin'] not contained in axis",
     "output_type": "error",
     "traceback": [
      "\u001b[0;31m---------------------------------------------------------------------------\u001b[0m",
      "\u001b[0;31mValueError\u001b[0m                                Traceback (most recent call last)",
      "\u001b[0;32m<ipython-input-526-3884f3cc6a58>\u001b[0m in \u001b[0;36m<module>\u001b[0;34m()\u001b[0m\n\u001b[1;32m      1\u001b[0m \u001b[0;31m#drop \"Cabin\" column since it has almost 75% missing values; error message probably because I did it twice\u001b[0m\u001b[0;34m\u001b[0m\u001b[0;34m\u001b[0m\u001b[0m\n\u001b[0;32m----> 2\u001b[0;31m \u001b[0mdata\u001b[0m\u001b[0;34m.\u001b[0m\u001b[0mdrop\u001b[0m\u001b[0;34m(\u001b[0m\u001b[0;34m[\u001b[0m\u001b[0;34m\"Cabin\"\u001b[0m\u001b[0;34m]\u001b[0m\u001b[0;34m,\u001b[0m \u001b[0minplace\u001b[0m\u001b[0;34m=\u001b[0m\u001b[0mTrue\u001b[0m\u001b[0;34m,\u001b[0m \u001b[0maxis\u001b[0m\u001b[0;34m=\u001b[0m\u001b[0;36m1\u001b[0m\u001b[0;34m)\u001b[0m\u001b[0;34m\u001b[0m\u001b[0m\n\u001b[0m",
      "\u001b[0;32m/Users/hopper/anaconda/lib/python2.7/site-packages/pandas/core/generic.pyc\u001b[0m in \u001b[0;36mdrop\u001b[0;34m(self, labels, axis, level, inplace, errors)\u001b[0m\n\u001b[1;32m   1615\u001b[0m                 \u001b[0mnew_axis\u001b[0m \u001b[0;34m=\u001b[0m \u001b[0maxis\u001b[0m\u001b[0;34m.\u001b[0m\u001b[0mdrop\u001b[0m\u001b[0;34m(\u001b[0m\u001b[0mlabels\u001b[0m\u001b[0;34m,\u001b[0m \u001b[0mlevel\u001b[0m\u001b[0;34m=\u001b[0m\u001b[0mlevel\u001b[0m\u001b[0;34m,\u001b[0m \u001b[0merrors\u001b[0m\u001b[0;34m=\u001b[0m\u001b[0merrors\u001b[0m\u001b[0;34m)\u001b[0m\u001b[0;34m\u001b[0m\u001b[0m\n\u001b[1;32m   1616\u001b[0m             \u001b[0;32melse\u001b[0m\u001b[0;34m:\u001b[0m\u001b[0;34m\u001b[0m\u001b[0m\n\u001b[0;32m-> 1617\u001b[0;31m                 \u001b[0mnew_axis\u001b[0m \u001b[0;34m=\u001b[0m \u001b[0maxis\u001b[0m\u001b[0;34m.\u001b[0m\u001b[0mdrop\u001b[0m\u001b[0;34m(\u001b[0m\u001b[0mlabels\u001b[0m\u001b[0;34m,\u001b[0m \u001b[0merrors\u001b[0m\u001b[0;34m=\u001b[0m\u001b[0merrors\u001b[0m\u001b[0;34m)\u001b[0m\u001b[0;34m\u001b[0m\u001b[0m\n\u001b[0m\u001b[1;32m   1618\u001b[0m             \u001b[0mdropped\u001b[0m \u001b[0;34m=\u001b[0m \u001b[0mself\u001b[0m\u001b[0;34m.\u001b[0m\u001b[0mreindex\u001b[0m\u001b[0;34m(\u001b[0m\u001b[0;34m**\u001b[0m\u001b[0;34m{\u001b[0m\u001b[0maxis_name\u001b[0m\u001b[0;34m:\u001b[0m \u001b[0mnew_axis\u001b[0m\u001b[0;34m}\u001b[0m\u001b[0;34m)\u001b[0m\u001b[0;34m\u001b[0m\u001b[0m\n\u001b[1;32m   1619\u001b[0m             \u001b[0;32mtry\u001b[0m\u001b[0;34m:\u001b[0m\u001b[0;34m\u001b[0m\u001b[0m\n",
      "\u001b[0;32m/Users/hopper/anaconda/lib/python2.7/site-packages/pandas/core/index.pyc\u001b[0m in \u001b[0;36mdrop\u001b[0;34m(self, labels, errors)\u001b[0m\n\u001b[1;32m   2801\u001b[0m         \u001b[0;32mif\u001b[0m \u001b[0mmask\u001b[0m\u001b[0;34m.\u001b[0m\u001b[0many\u001b[0m\u001b[0;34m(\u001b[0m\u001b[0;34m)\u001b[0m\u001b[0;34m:\u001b[0m\u001b[0;34m\u001b[0m\u001b[0m\n\u001b[1;32m   2802\u001b[0m             \u001b[0;32mif\u001b[0m \u001b[0merrors\u001b[0m \u001b[0;34m!=\u001b[0m \u001b[0;34m'ignore'\u001b[0m\u001b[0;34m:\u001b[0m\u001b[0;34m\u001b[0m\u001b[0m\n\u001b[0;32m-> 2803\u001b[0;31m                 \u001b[0;32mraise\u001b[0m \u001b[0mValueError\u001b[0m\u001b[0;34m(\u001b[0m\u001b[0;34m'labels %s not contained in axis'\u001b[0m \u001b[0;34m%\u001b[0m \u001b[0mlabels\u001b[0m\u001b[0;34m[\u001b[0m\u001b[0mmask\u001b[0m\u001b[0;34m]\u001b[0m\u001b[0;34m)\u001b[0m\u001b[0;34m\u001b[0m\u001b[0m\n\u001b[0m\u001b[1;32m   2804\u001b[0m             \u001b[0mindexer\u001b[0m \u001b[0;34m=\u001b[0m \u001b[0mindexer\u001b[0m\u001b[0;34m[\u001b[0m\u001b[0;34m~\u001b[0m\u001b[0mmask\u001b[0m\u001b[0;34m]\u001b[0m\u001b[0;34m\u001b[0m\u001b[0m\n\u001b[1;32m   2805\u001b[0m         \u001b[0;32mreturn\u001b[0m \u001b[0mself\u001b[0m\u001b[0;34m.\u001b[0m\u001b[0mdelete\u001b[0m\u001b[0;34m(\u001b[0m\u001b[0mindexer\u001b[0m\u001b[0;34m)\u001b[0m\u001b[0;34m\u001b[0m\u001b[0m\n",
      "\u001b[0;31mValueError\u001b[0m: labels ['Cabin'] not contained in axis"
     ]
    }
   ],
   "source": [
    "#drop \"Cabin\" column since it has almost 75% missing values; error message probably because I did it twice\n",
    "data.drop([\"Cabin\"], inplace=True, axis=1)"
   ]
  },
  {
   "cell_type": "code",
   "execution_count": 90,
   "metadata": {
    "collapsed": false
   },
   "outputs": [
    {
     "data": {
      "text/html": [
       "<div>\n",
       "<table border=\"1\" class=\"dataframe\">\n",
       "  <thead>\n",
       "    <tr style=\"text-align: right;\">\n",
       "      <th></th>\n",
       "      <th>PassengerId</th>\n",
       "      <th>Survived</th>\n",
       "      <th>Pclass</th>\n",
       "      <th>Name</th>\n",
       "      <th>Sex</th>\n",
       "      <th>Age</th>\n",
       "      <th>SibSp</th>\n",
       "      <th>Parch</th>\n",
       "      <th>Ticket</th>\n",
       "      <th>Fare</th>\n",
       "      <th>Embarked</th>\n",
       "    </tr>\n",
       "  </thead>\n",
       "  <tbody>\n",
       "    <tr>\n",
       "      <th>0</th>\n",
       "      <td>1</td>\n",
       "      <td>0</td>\n",
       "      <td>3</td>\n",
       "      <td>Braund, Mr. Owen Harris</td>\n",
       "      <td>male</td>\n",
       "      <td>22</td>\n",
       "      <td>1</td>\n",
       "      <td>0</td>\n",
       "      <td>A/5 21171</td>\n",
       "      <td>7.2500</td>\n",
       "      <td>S</td>\n",
       "    </tr>\n",
       "    <tr>\n",
       "      <th>1</th>\n",
       "      <td>2</td>\n",
       "      <td>1</td>\n",
       "      <td>1</td>\n",
       "      <td>Cumings, Mrs. John Bradley (Florence Briggs Th...</td>\n",
       "      <td>female</td>\n",
       "      <td>38</td>\n",
       "      <td>1</td>\n",
       "      <td>0</td>\n",
       "      <td>PC 17599</td>\n",
       "      <td>71.2833</td>\n",
       "      <td>C</td>\n",
       "    </tr>\n",
       "    <tr>\n",
       "      <th>2</th>\n",
       "      <td>3</td>\n",
       "      <td>1</td>\n",
       "      <td>3</td>\n",
       "      <td>Heikkinen, Miss. Laina</td>\n",
       "      <td>female</td>\n",
       "      <td>26</td>\n",
       "      <td>0</td>\n",
       "      <td>0</td>\n",
       "      <td>STON/O2. 3101282</td>\n",
       "      <td>7.9250</td>\n",
       "      <td>S</td>\n",
       "    </tr>\n",
       "    <tr>\n",
       "      <th>3</th>\n",
       "      <td>4</td>\n",
       "      <td>1</td>\n",
       "      <td>1</td>\n",
       "      <td>Futrelle, Mrs. Jacques Heath (Lily May Peel)</td>\n",
       "      <td>female</td>\n",
       "      <td>35</td>\n",
       "      <td>1</td>\n",
       "      <td>0</td>\n",
       "      <td>113803</td>\n",
       "      <td>53.1000</td>\n",
       "      <td>S</td>\n",
       "    </tr>\n",
       "    <tr>\n",
       "      <th>4</th>\n",
       "      <td>5</td>\n",
       "      <td>0</td>\n",
       "      <td>3</td>\n",
       "      <td>Allen, Mr. William Henry</td>\n",
       "      <td>male</td>\n",
       "      <td>35</td>\n",
       "      <td>0</td>\n",
       "      <td>0</td>\n",
       "      <td>373450</td>\n",
       "      <td>8.0500</td>\n",
       "      <td>S</td>\n",
       "    </tr>\n",
       "  </tbody>\n",
       "</table>\n",
       "</div>"
      ],
      "text/plain": [
       "   PassengerId  Survived  Pclass  \\\n",
       "0            1         0       3   \n",
       "1            2         1       1   \n",
       "2            3         1       3   \n",
       "3            4         1       1   \n",
       "4            5         0       3   \n",
       "\n",
       "                                                Name     Sex  Age  SibSp  \\\n",
       "0                            Braund, Mr. Owen Harris    male   22      1   \n",
       "1  Cumings, Mrs. John Bradley (Florence Briggs Th...  female   38      1   \n",
       "2                             Heikkinen, Miss. Laina  female   26      0   \n",
       "3       Futrelle, Mrs. Jacques Heath (Lily May Peel)  female   35      1   \n",
       "4                           Allen, Mr. William Henry    male   35      0   \n",
       "\n",
       "   Parch            Ticket     Fare Embarked  \n",
       "0      0         A/5 21171   7.2500        S  \n",
       "1      0          PC 17599  71.2833        C  \n",
       "2      0  STON/O2. 3101282   7.9250        S  \n",
       "3      0            113803  53.1000        S  \n",
       "4      0            373450   8.0500        S  "
      ]
     },
     "execution_count": 90,
     "metadata": {},
     "output_type": "execute_result"
    }
   ],
   "source": [
    "#Confirm \"Cabin\" column has been successfully dropped\n",
    "data.head()"
   ]
  },
  {
   "cell_type": "markdown",
   "metadata": {},
   "source": [
    "<h2>2) What is the overall survival rate?</h2>"
   ]
  },
  {
   "cell_type": "markdown",
   "metadata": {},
   "source": [
    "To find the overall survival rate, I knew that I needed to divide the number of survivors by the total number of passengers. I also knew that this result needed to match the mean (.4044494) from the \"Survived\" column when I had called data.describe() during the initial exploratory stage.\n",
    "<br><br>\n",
    "One thing I noticed about the data is that under the \"Survived\" column, survivors are represented by 1, while non-surivors are represented by 0. Therefore, I realized that I could find the total number of survivors by summing all of the numbers (or ones) in the \"Survived\" column. The total number of survivors came to 288.\n",
    "<br><br>\n",
    "To find the total number of passengers, I used count. However, I also knew that the number of passengers needed to match the number of rows. The total number of passengers came to 712.\n",
    "<br><br>\n",
    "After dividing the 288 by 712 and multiplying by 100 to get a percentage, I arrived at a <b>40.45%</b> survival rate. This number matches the target mean from the exploratory stage above."
   ]
  },
  {
   "cell_type": "code",
   "execution_count": 349,
   "metadata": {
    "collapsed": false
   },
   "outputs": [
    {
     "data": {
      "image/png": "[encoded data removed]",
      "text/plain": [
       "<matplotlib.figure.Figure at 0x103c7f950>"
      ]
     },
     "metadata": {},
     "output_type": "display_data"
    }
   ],
   "source": [
    "surv_df.plot(kind=\"bar\", y=[\"Total Passengers\", \"Survived\"]);"
   ]
  },
  {
   "cell_type": "code",
   "execution_count": 79,
   "metadata": {
    "collapsed": false
   },
   "outputs": [
    {
     "data": {
      "text/plain": [
       "288"
      ]
     },
     "execution_count": 79,
     "metadata": {},
     "output_type": "execute_result"
    }
   ],
   "source": [
    "# Find number of survivors\n",
    "surv_sum = data[\"Survived\"].sum(axis=0)\n",
    "surv_sum"
   ]
  },
  {
   "cell_type": "code",
   "execution_count": 80,
   "metadata": {
    "collapsed": false
   },
   "outputs": [
    {
     "data": {
      "text/plain": [
       "712"
      ]
     },
     "execution_count": 80,
     "metadata": {},
     "output_type": "execute_result"
    }
   ],
   "source": [
    "# Find total number of passengers (should be 712!)\n",
    "passengers_count = len(data[\"Survived\"])\n",
    "passengers_count"
   ]
  },
  {
   "cell_type": "code",
   "execution_count": 81,
   "metadata": {
    "collapsed": false
   },
   "outputs": [
    {
     "name": "stdout",
     "output_type": "stream",
     "text": [
      "The overall survivor rate is 40.45%\n"
     ]
    }
   ],
   "source": [
    "# Divide number of survivors by total number of passengers to find overall survivor rate\n",
    "survivor_rate = (float(surv_sum)/passengers_count) * 100\n",
    "survivor_rate = round(survivor_rate, 2)\n",
    "print \"The overall survivor rate is %r%%\" % survivor_rate"
   ]
  },
  {
   "cell_type": "code",
   "execution_count": 223,
   "metadata": {
    "collapsed": false
   },
   "outputs": [
    {
     "data": {
      "text/html": [
       "<div>\n",
       "<table border=\"1\" class=\"dataframe\">\n",
       "  <thead>\n",
       "    <tr style=\"text-align: right;\">\n",
       "      <th></th>\n",
       "      <th>Total Passengers</th>\n",
       "      <th>Survived</th>\n",
       "    </tr>\n",
       "  </thead>\n",
       "  <tbody>\n",
       "    <tr>\n",
       "      <th>0</th>\n",
       "      <td>712</td>\n",
       "      <td>288</td>\n",
       "    </tr>\n",
       "  </tbody>\n",
       "</table>\n",
       "</div>"
      ],
      "text/plain": [
       "   Total Passengers  Survived\n",
       "0               712       288"
      ]
     },
     "execution_count": 223,
     "metadata": {},
     "output_type": "execute_result"
    }
   ],
   "source": [
    "surv_data = ({\"Total Passengers\": [passengers_count],\n",
    "                   \"Survived\": [surv_sum],})\n",
    "surv_df = pd.DataFrame(surv_data, columns=[\"Total Passengers\", \"Survived\"])\n",
    "surv_df"
   ]
  },
  {
   "cell_type": "code",
   "execution_count": 327,
   "metadata": {
    "collapsed": false
   },
   "outputs": [
    {
     "data": {
      "text/html": [
       "<div>\n",
       "<table border=\"1\" class=\"dataframe\">\n",
       "  <thead>\n",
       "    <tr style=\"text-align: right;\">\n",
       "      <th></th>\n",
       "      <th>Total Passengers</th>\n",
       "      <th>Survived</th>\n",
       "      <th>Survival Rate</th>\n",
       "    </tr>\n",
       "  </thead>\n",
       "  <tbody>\n",
       "    <tr>\n",
       "      <th>0</th>\n",
       "      <td>712</td>\n",
       "      <td>288</td>\n",
       "      <td>0.404494</td>\n",
       "    </tr>\n",
       "  </tbody>\n",
       "</table>\n",
       "</div>"
      ],
      "text/plain": [
       "   Total Passengers  Survived  Survival Rate\n",
       "0               712       288       0.404494"
      ]
     },
     "execution_count": 327,
     "metadata": {},
     "output_type": "execute_result"
    }
   ],
   "source": [
    "#Place the rate into the dataframe\n",
    "surv_df[\"Survival Rate\"] = surv_df[\"Survived\"]/surv_df[\"Total Passengers\"]\n",
    "surv_df"
   ]
  },
  {
   "cell_type": "markdown",
   "metadata": {},
   "source": [
    "<h2>3) What role does gender play in surviving?</h2>"
   ]
  },
  {
   "cell_type": "markdown",
   "metadata": {},
   "source": [
    "In the intro video, we were told that women and children were instructed to flee the ship before men could. Perhaps unsurprisingly, gender played a huge role in survival. Of the 288 survivors, 195 (~68%) were female and 93 (~32%) were male. Of the 259 female passengers, 195 survived (~75%), while only ~21% of males (93 of 453) survived. Thus, females were much more likely to survive the sinking of the Titanic than were males."
   ]
  },
  {
   "cell_type": "code",
   "execution_count": 324,
   "metadata": {
    "collapsed": false
   },
   "outputs": [
    {
     "data": {
      "image/png": "[encoded data removed]",
      "text/plain": [
       "<matplotlib.figure.Figure at 0x109c95810>"
      ]
     },
     "metadata": {},
     "output_type": "display_data"
    }
   ],
   "source": [
    "all_gender[\"Portion of Survivors\"].plot(subplots=True, kind=\"pie\", labels=[\"female\", \"male\"], colors=[\"r\", \"b\"], fontsize=20, autopct='%.2f%%', figsize=(6,6));"
   ]
  },
  {
   "cell_type": "code",
   "execution_count": 322,
   "metadata": {
    "collapsed": false
   },
   "outputs": [
    {
     "data": {
      "image/png": "[encoded data removed]",
      "text/plain": [
       "<matplotlib.figure.Figure at 0x10ad7b050>"
      ]
     },
     "metadata": {},
     "output_type": "display_data"
    }
   ],
   "source": [
    "all_gender[\"Survivor Rate by Gender\"].plot(subplots=True, kind=\"bar\", color=[\"r\", \"b\"]);"
   ]
  },
  {
   "cell_type": "code",
   "execution_count": 82,
   "metadata": {
    "collapsed": false
   },
   "outputs": [
    {
     "data": {
      "text/html": [
       "<div>\n",
       "<table border=\"1\" class=\"dataframe\">\n",
       "  <thead>\n",
       "    <tr style=\"text-align: right;\">\n",
       "      <th></th>\n",
       "      <th>Survived</th>\n",
       "    </tr>\n",
       "    <tr>\n",
       "      <th>Sex</th>\n",
       "      <th></th>\n",
       "    </tr>\n",
       "  </thead>\n",
       "  <tbody>\n",
       "    <tr>\n",
       "      <th>female</th>\n",
       "      <td>195</td>\n",
       "    </tr>\n",
       "    <tr>\n",
       "      <th>male</th>\n",
       "      <td>93</td>\n",
       "    </tr>\n",
       "  </tbody>\n",
       "</table>\n",
       "</div>"
      ],
      "text/plain": [
       "        Survived\n",
       "Sex             \n",
       "female       195\n",
       "male          93"
      ]
     },
     "execution_count": 82,
     "metadata": {},
     "output_type": "execute_result"
    }
   ],
   "source": [
    "#Find the number of survivors by each gender\n",
    "gender = data.groupby([\"Sex\"])[\"Survived\"].sum()\n",
    "\n",
    "#turn data into a dataframe for easy retrieval\n",
    "gender = pd.DataFrame(gender)\n",
    "gender"
   ]
  },
  {
   "cell_type": "code",
   "execution_count": 301,
   "metadata": {
    "collapsed": false
   },
   "outputs": [
    {
     "data": {
      "text/html": [
       "<div>\n",
       "<table border=\"1\" class=\"dataframe\">\n",
       "  <thead>\n",
       "    <tr style=\"text-align: right;\">\n",
       "      <th></th>\n",
       "      <th>Total Passengers Per Gender</th>\n",
       "    </tr>\n",
       "    <tr>\n",
       "      <th>Sex</th>\n",
       "      <th></th>\n",
       "    </tr>\n",
       "  </thead>\n",
       "  <tbody>\n",
       "    <tr>\n",
       "      <th>female</th>\n",
       "      <td>259</td>\n",
       "    </tr>\n",
       "    <tr>\n",
       "      <th>male</th>\n",
       "      <td>453</td>\n",
       "    </tr>\n",
       "  </tbody>\n",
       "</table>\n",
       "</div>"
      ],
      "text/plain": [
       "        Total Passengers Per Gender\n",
       "Sex                                \n",
       "female                          259\n",
       "male                            453"
      ]
     },
     "execution_count": 301,
     "metadata": {},
     "output_type": "execute_result"
    }
   ],
   "source": [
    "#Find number of total passengers per gender (through count)\n",
    "gender_total = data.groupby([\"Sex\"])[\"Survived\"].count()\n",
    "gender_total = pd.DataFrame(gender_total)\n",
    "gender_total = gender_total.rename(columns={\"Survived\": \"Total Passengers Per Gender\"})\n",
    "gender_total"
   ]
  },
  {
   "cell_type": "code",
   "execution_count": 302,
   "metadata": {
    "collapsed": false
   },
   "outputs": [
    {
     "data": {
      "text/html": [
       "<div>\n",
       "<table border=\"1\" class=\"dataframe\">\n",
       "  <thead>\n",
       "    <tr style=\"text-align: right;\">\n",
       "      <th></th>\n",
       "      <th>Total Passengers Per Gender</th>\n",
       "      <th>Survived</th>\n",
       "    </tr>\n",
       "    <tr>\n",
       "      <th>Sex</th>\n",
       "      <th></th>\n",
       "      <th></th>\n",
       "    </tr>\n",
       "  </thead>\n",
       "  <tbody>\n",
       "    <tr>\n",
       "      <th>female</th>\n",
       "      <td>259</td>\n",
       "      <td>195</td>\n",
       "    </tr>\n",
       "    <tr>\n",
       "      <th>male</th>\n",
       "      <td>453</td>\n",
       "      <td>93</td>\n",
       "    </tr>\n",
       "  </tbody>\n",
       "</table>\n",
       "</div>"
      ],
      "text/plain": [
       "        Total Passengers Per Gender  Survived\n",
       "Sex                                          \n",
       "female                          259       195\n",
       "male                            453        93"
      ]
     },
     "execution_count": 302,
     "metadata": {},
     "output_type": "execute_result"
    }
   ],
   "source": [
    "#Combine the two pieces together\n",
    "all_gender = pd.concat([gender_total, gender,], axis=1)\n",
    "all_gender"
   ]
  },
  {
   "cell_type": "code",
   "execution_count": 303,
   "metadata": {
    "collapsed": false
   },
   "outputs": [
    {
     "data": {
      "text/html": [
       "<div>\n",
       "<table border=\"1\" class=\"dataframe\">\n",
       "  <thead>\n",
       "    <tr style=\"text-align: right;\">\n",
       "      <th></th>\n",
       "      <th>Total Passengers Per Gender</th>\n",
       "      <th>Survived</th>\n",
       "      <th>Survivor Rate by Gender</th>\n",
       "    </tr>\n",
       "    <tr>\n",
       "      <th>Sex</th>\n",
       "      <th></th>\n",
       "      <th></th>\n",
       "      <th></th>\n",
       "    </tr>\n",
       "  </thead>\n",
       "  <tbody>\n",
       "    <tr>\n",
       "      <th>female</th>\n",
       "      <td>259</td>\n",
       "      <td>195</td>\n",
       "      <td>0.752896</td>\n",
       "    </tr>\n",
       "    <tr>\n",
       "      <th>male</th>\n",
       "      <td>453</td>\n",
       "      <td>93</td>\n",
       "      <td>0.205298</td>\n",
       "    </tr>\n",
       "  </tbody>\n",
       "</table>\n",
       "</div>"
      ],
      "text/plain": [
       "        Total Passengers Per Gender  Survived  Survivor Rate by Gender\n",
       "Sex                                                                   \n",
       "female                          259       195                 0.752896\n",
       "male                            453        93                 0.205298"
      ]
     },
     "execution_count": 303,
     "metadata": {},
     "output_type": "execute_result"
    }
   ],
   "source": [
    "#Find survivor rate within gender\n",
    "all_gender[\"Survivor Rate by Gender\"] = all_gender[\"Survived\"]/all_gender[\"Total Passengers Per Gender\"]\n",
    "all_gender"
   ]
  },
  {
   "cell_type": "code",
   "execution_count": 304,
   "metadata": {
    "collapsed": false
   },
   "outputs": [
    {
     "data": {
      "text/html": [
       "<div>\n",
       "<table border=\"1\" class=\"dataframe\">\n",
       "  <thead>\n",
       "    <tr style=\"text-align: right;\">\n",
       "      <th></th>\n",
       "      <th>Total Passengers Per Gender</th>\n",
       "      <th>Survived</th>\n",
       "      <th>Survivor Rate by Gender</th>\n",
       "      <th>Portion of Survivors</th>\n",
       "    </tr>\n",
       "    <tr>\n",
       "      <th>Sex</th>\n",
       "      <th></th>\n",
       "      <th></th>\n",
       "      <th></th>\n",
       "      <th></th>\n",
       "    </tr>\n",
       "  </thead>\n",
       "  <tbody>\n",
       "    <tr>\n",
       "      <th>female</th>\n",
       "      <td>259</td>\n",
       "      <td>195</td>\n",
       "      <td>0.752896</td>\n",
       "      <td>0.677083</td>\n",
       "    </tr>\n",
       "    <tr>\n",
       "      <th>male</th>\n",
       "      <td>453</td>\n",
       "      <td>93</td>\n",
       "      <td>0.205298</td>\n",
       "      <td>0.322917</td>\n",
       "    </tr>\n",
       "  </tbody>\n",
       "</table>\n",
       "</div>"
      ],
      "text/plain": [
       "        Total Passengers Per Gender  Survived  Survivor Rate by Gender  \\\n",
       "Sex                                                                      \n",
       "female                          259       195                 0.752896   \n",
       "male                            453        93                 0.205298   \n",
       "\n",
       "        Portion of Survivors  \n",
       "Sex                           \n",
       "female              0.677083  \n",
       "male                0.322917  "
      ]
     },
     "execution_count": 304,
     "metadata": {},
     "output_type": "execute_result"
    }
   ],
   "source": [
    "#This will show how much each gender composes the survivor population\n",
    "all_gender[\"Portion of Survivors\"] = [float(i)/surv_sum for i in all_gender[\"Survived\"]]\n",
    "all_gender"
   ]
  },
  {
   "cell_type": "code",
   "execution_count": 305,
   "metadata": {
    "collapsed": false
   },
   "outputs": [
    {
     "data": {
      "text/html": [
       "<div>\n",
       "<table border=\"1\" class=\"dataframe\">\n",
       "  <thead>\n",
       "    <tr style=\"text-align: right;\">\n",
       "      <th></th>\n",
       "      <th>Total Passengers Per Gender</th>\n",
       "      <th>Survived</th>\n",
       "      <th>Survivor Rate by Gender</th>\n",
       "      <th>Portion of Survivors</th>\n",
       "      <th>Overall Rate of Survival</th>\n",
       "    </tr>\n",
       "    <tr>\n",
       "      <th>Sex</th>\n",
       "      <th></th>\n",
       "      <th></th>\n",
       "      <th></th>\n",
       "      <th></th>\n",
       "      <th></th>\n",
       "    </tr>\n",
       "  </thead>\n",
       "  <tbody>\n",
       "    <tr>\n",
       "      <th>female</th>\n",
       "      <td>259</td>\n",
       "      <td>195</td>\n",
       "      <td>0.752896</td>\n",
       "      <td>0.677083</td>\n",
       "      <td>0.273876</td>\n",
       "    </tr>\n",
       "    <tr>\n",
       "      <th>male</th>\n",
       "      <td>453</td>\n",
       "      <td>93</td>\n",
       "      <td>0.205298</td>\n",
       "      <td>0.322917</td>\n",
       "      <td>0.130618</td>\n",
       "    </tr>\n",
       "  </tbody>\n",
       "</table>\n",
       "</div>"
      ],
      "text/plain": [
       "        Total Passengers Per Gender  Survived  Survivor Rate by Gender  \\\n",
       "Sex                                                                      \n",
       "female                          259       195                 0.752896   \n",
       "male                            453        93                 0.205298   \n",
       "\n",
       "        Portion of Survivors  Overall Rate of Survival  \n",
       "Sex                                                     \n",
       "female              0.677083                  0.273876  \n",
       "male                0.322917                  0.130618  "
      ]
     },
     "execution_count": 305,
     "metadata": {},
     "output_type": "execute_result"
    }
   ],
   "source": [
    "#This will show the overall survivor rate\n",
    "all_gender[\"Overall Rate of Survival\"] = [float(i)/passengers_count for i in all_gender[\"Survived\"]]\n",
    "all_gender"
   ]
  },
  {
   "cell_type": "markdown",
   "metadata": {},
   "source": [
    "<h2>4) What role does class play in surviving?</h2>"
   ]
  },
  {
   "cell_type": "markdown",
   "metadata": {},
   "source": [
    "Class played a  significant role in survival on the Titanic, but mainly if a person was lucky (or rich) enough to gain entry to the first class. Within the population of survivors, members of the first class composed of ~42% (120) of the  288 survivors. However, they had a survival rate of over 50% within their own class, meaning the liklihood of surviving if one were in the first class was ~65%. Those in the second class survived at a rate of ~48%, while the third class fared the worst at ~24%. In other words, class definitely mattered."
   ]
  },
  {
   "cell_type": "code",
   "execution_count": 354,
   "metadata": {
    "collapsed": false
   },
   "outputs": [
    {
     "data": {
      "image/png": "[encoded data removed]",
      "text/plain": [
       "<matplotlib.figure.Figure at 0x10b194c10>"
      ]
     },
     "metadata": {},
     "output_type": "display_data"
    }
   ],
   "source": [
    "#Create a bar plot to compare survivors per class\n",
    "all_pass_class.plot(kind=\"bar\", y=[\"Total Passengers Per Class\", \"Survived\"]);"
   ]
  },
  {
   "cell_type": "code",
   "execution_count": 360,
   "metadata": {
    "collapsed": false
   },
   "outputs": [
    {
     "data": {
      "image/png": "[encoded data removed]",
      "text/plain": [
       "<matplotlib.figure.Figure at 0x10b953650>"
      ]
     },
     "metadata": {},
     "output_type": "display_data"
    }
   ],
   "source": [
    "#Compare survivor rates within each passenger class\n",
    "all_pass_class.plot(kind=\"bar\", y=[\"Survivor Rate within Passenger Class\"],);"
   ]
  },
  {
   "cell_type": "code",
   "execution_count": 259,
   "metadata": {
    "collapsed": false
   },
   "outputs": [
    {
     "data": {
      "text/html": [
       "<div>\n",
       "<table border=\"1\" class=\"dataframe\">\n",
       "  <thead>\n",
       "    <tr style=\"text-align: right;\">\n",
       "      <th></th>\n",
       "      <th>Survived</th>\n",
       "    </tr>\n",
       "    <tr>\n",
       "      <th>Pclass</th>\n",
       "      <th></th>\n",
       "    </tr>\n",
       "  </thead>\n",
       "  <tbody>\n",
       "    <tr>\n",
       "      <th>1</th>\n",
       "      <td>120</td>\n",
       "    </tr>\n",
       "    <tr>\n",
       "      <th>2</th>\n",
       "      <td>83</td>\n",
       "    </tr>\n",
       "    <tr>\n",
       "      <th>3</th>\n",
       "      <td>85</td>\n",
       "    </tr>\n",
       "  </tbody>\n",
       "</table>\n",
       "</div>"
      ],
      "text/plain": [
       "        Survived\n",
       "Pclass          \n",
       "1            120\n",
       "2             83\n",
       "3             85"
      ]
     },
     "execution_count": 259,
     "metadata": {},
     "output_type": "execute_result"
    }
   ],
   "source": [
    "#Find the number of survivors by each passenger class\n",
    "passclass = data.groupby([\"Pclass\"])[\"Survived\"].sum()\n",
    "\n",
    "#turn data into a dataframe for easy retrieval\n",
    "passclass = pd.DataFrame(passclass)\n",
    "passclass"
   ]
  },
  {
   "cell_type": "code",
   "execution_count": 292,
   "metadata": {
    "collapsed": false
   },
   "outputs": [
    {
     "data": {
      "text/html": [
       "<div>\n",
       "<table border=\"1\" class=\"dataframe\">\n",
       "  <thead>\n",
       "    <tr style=\"text-align: right;\">\n",
       "      <th></th>\n",
       "      <th>Total Passengers Per Class</th>\n",
       "    </tr>\n",
       "    <tr>\n",
       "      <th>Pclass</th>\n",
       "      <th></th>\n",
       "    </tr>\n",
       "  </thead>\n",
       "  <tbody>\n",
       "    <tr>\n",
       "      <th>1</th>\n",
       "      <td>184</td>\n",
       "    </tr>\n",
       "    <tr>\n",
       "      <th>2</th>\n",
       "      <td>173</td>\n",
       "    </tr>\n",
       "    <tr>\n",
       "      <th>3</th>\n",
       "      <td>355</td>\n",
       "    </tr>\n",
       "  </tbody>\n",
       "</table>\n",
       "</div>"
      ],
      "text/plain": [
       "        Total Passengers Per Class\n",
       "Pclass                            \n",
       "1                              184\n",
       "2                              173\n",
       "3                              355"
      ]
     },
     "execution_count": 292,
     "metadata": {},
     "output_type": "execute_result"
    }
   ],
   "source": [
    "#Find number of total passengers per class (through count)\n",
    "total_per_class = data.groupby([\"Pclass\"])[\"Survived\"].count()\n",
    "total_per_class = pd.DataFrame(total_per_class)\n",
    "total_per_class = total_per_class.rename(columns={\"Survived\": \"Total Passengers Per Class\"})\n",
    "total_per_class"
   ]
  },
  {
   "cell_type": "code",
   "execution_count": 293,
   "metadata": {
    "collapsed": false
   },
   "outputs": [
    {
     "data": {
      "text/html": [
       "<div>\n",
       "<table border=\"1\" class=\"dataframe\">\n",
       "  <thead>\n",
       "    <tr style=\"text-align: right;\">\n",
       "      <th></th>\n",
       "      <th>Total Passengers Per Class</th>\n",
       "      <th>Survived</th>\n",
       "    </tr>\n",
       "    <tr>\n",
       "      <th>Pclass</th>\n",
       "      <th></th>\n",
       "      <th></th>\n",
       "    </tr>\n",
       "  </thead>\n",
       "  <tbody>\n",
       "    <tr>\n",
       "      <th>1</th>\n",
       "      <td>184</td>\n",
       "      <td>120</td>\n",
       "    </tr>\n",
       "    <tr>\n",
       "      <th>2</th>\n",
       "      <td>173</td>\n",
       "      <td>83</td>\n",
       "    </tr>\n",
       "    <tr>\n",
       "      <th>3</th>\n",
       "      <td>355</td>\n",
       "      <td>85</td>\n",
       "    </tr>\n",
       "  </tbody>\n",
       "</table>\n",
       "</div>"
      ],
      "text/plain": [
       "        Total Passengers Per Class  Survived\n",
       "Pclass                                      \n",
       "1                              184       120\n",
       "2                              173        83\n",
       "3                              355        85"
      ]
     },
     "execution_count": 293,
     "metadata": {},
     "output_type": "execute_result"
    }
   ],
   "source": [
    "#Combine the two pieces together\n",
    "all_pass_class = pd.concat([total_per_class, passclass,], axis=1)\n",
    "all_pass_class"
   ]
  },
  {
   "cell_type": "code",
   "execution_count": 296,
   "metadata": {
    "collapsed": false
   },
   "outputs": [
    {
     "data": {
      "text/html": [
       "<div>\n",
       "<table border=\"1\" class=\"dataframe\">\n",
       "  <thead>\n",
       "    <tr style=\"text-align: right;\">\n",
       "      <th></th>\n",
       "      <th>Total Passengers Per Class</th>\n",
       "      <th>Survived</th>\n",
       "      <th>Survivor Rate within Passenger Class</th>\n",
       "    </tr>\n",
       "    <tr>\n",
       "      <th>Pclass</th>\n",
       "      <th></th>\n",
       "      <th></th>\n",
       "      <th></th>\n",
       "    </tr>\n",
       "  </thead>\n",
       "  <tbody>\n",
       "    <tr>\n",
       "      <th>1</th>\n",
       "      <td>184</td>\n",
       "      <td>120</td>\n",
       "      <td>0.652174</td>\n",
       "    </tr>\n",
       "    <tr>\n",
       "      <th>2</th>\n",
       "      <td>173</td>\n",
       "      <td>83</td>\n",
       "      <td>0.479769</td>\n",
       "    </tr>\n",
       "    <tr>\n",
       "      <th>3</th>\n",
       "      <td>355</td>\n",
       "      <td>85</td>\n",
       "      <td>0.239437</td>\n",
       "    </tr>\n",
       "  </tbody>\n",
       "</table>\n",
       "</div>"
      ],
      "text/plain": [
       "        Total Passengers Per Class  Survived  \\\n",
       "Pclass                                         \n",
       "1                              184       120   \n",
       "2                              173        83   \n",
       "3                              355        85   \n",
       "\n",
       "        Survivor Rate within Passenger Class  \n",
       "Pclass                                        \n",
       "1                                   0.652174  \n",
       "2                                   0.479769  \n",
       "3                                   0.239437  "
      ]
     },
     "execution_count": 296,
     "metadata": {},
     "output_type": "execute_result"
    }
   ],
   "source": [
    "#Find survivor rate within passenger class\n",
    "all_pass_class[\"Survivor Rate within Passenger Class\"] = all_pass_class[\"Survived\"]/all_pass_class[\"Total Passengers Per Class\"]\n",
    "all_pass_class"
   ]
  },
  {
   "cell_type": "code",
   "execution_count": 299,
   "metadata": {
    "collapsed": false
   },
   "outputs": [
    {
     "data": {
      "text/html": [
       "<div>\n",
       "<table border=\"1\" class=\"dataframe\">\n",
       "  <thead>\n",
       "    <tr style=\"text-align: right;\">\n",
       "      <th></th>\n",
       "      <th>Total Passengers Per Class</th>\n",
       "      <th>Survived</th>\n",
       "      <th>Survivor Rate within Passenger Class</th>\n",
       "      <th>Portion of Survivors</th>\n",
       "    </tr>\n",
       "    <tr>\n",
       "      <th>Pclass</th>\n",
       "      <th></th>\n",
       "      <th></th>\n",
       "      <th></th>\n",
       "      <th></th>\n",
       "    </tr>\n",
       "  </thead>\n",
       "  <tbody>\n",
       "    <tr>\n",
       "      <th>1</th>\n",
       "      <td>184</td>\n",
       "      <td>120</td>\n",
       "      <td>0.652174</td>\n",
       "      <td>0.416667</td>\n",
       "    </tr>\n",
       "    <tr>\n",
       "      <th>2</th>\n",
       "      <td>173</td>\n",
       "      <td>83</td>\n",
       "      <td>0.479769</td>\n",
       "      <td>0.288194</td>\n",
       "    </tr>\n",
       "    <tr>\n",
       "      <th>3</th>\n",
       "      <td>355</td>\n",
       "      <td>85</td>\n",
       "      <td>0.239437</td>\n",
       "      <td>0.295139</td>\n",
       "    </tr>\n",
       "  </tbody>\n",
       "</table>\n",
       "</div>"
      ],
      "text/plain": [
       "        Total Passengers Per Class  Survived  \\\n",
       "Pclass                                         \n",
       "1                              184       120   \n",
       "2                              173        83   \n",
       "3                              355        85   \n",
       "\n",
       "        Survivor Rate within Passenger Class  Portion of Survivors  \n",
       "Pclass                                                              \n",
       "1                                   0.652174              0.416667  \n",
       "2                                   0.479769              0.288194  \n",
       "3                                   0.239437              0.295139  "
      ]
     },
     "execution_count": 299,
     "metadata": {},
     "output_type": "execute_result"
    }
   ],
   "source": [
    "#This will show how much each passenger class composes the survivor population\n",
    "all_pass_class[\"Portion of Survivors\"] = [float(i)/surv_sum for i in all_pass_class[\"Survived\"]]\n",
    "all_pass_class"
   ]
  },
  {
   "cell_type": "code",
   "execution_count": 300,
   "metadata": {
    "collapsed": false
   },
   "outputs": [
    {
     "data": {
      "text/html": [
       "<div>\n",
       "<table border=\"1\" class=\"dataframe\">\n",
       "  <thead>\n",
       "    <tr style=\"text-align: right;\">\n",
       "      <th></th>\n",
       "      <th>Total Passengers Per Class</th>\n",
       "      <th>Survived</th>\n",
       "      <th>Survivor Rate within Passenger Class</th>\n",
       "      <th>Portion of Survivors</th>\n",
       "      <th>Overall Rate of Survival</th>\n",
       "    </tr>\n",
       "    <tr>\n",
       "      <th>Pclass</th>\n",
       "      <th></th>\n",
       "      <th></th>\n",
       "      <th></th>\n",
       "      <th></th>\n",
       "      <th></th>\n",
       "    </tr>\n",
       "  </thead>\n",
       "  <tbody>\n",
       "    <tr>\n",
       "      <th>1</th>\n",
       "      <td>184</td>\n",
       "      <td>120</td>\n",
       "      <td>0.652174</td>\n",
       "      <td>0.416667</td>\n",
       "      <td>0.168539</td>\n",
       "    </tr>\n",
       "    <tr>\n",
       "      <th>2</th>\n",
       "      <td>173</td>\n",
       "      <td>83</td>\n",
       "      <td>0.479769</td>\n",
       "      <td>0.288194</td>\n",
       "      <td>0.116573</td>\n",
       "    </tr>\n",
       "    <tr>\n",
       "      <th>3</th>\n",
       "      <td>355</td>\n",
       "      <td>85</td>\n",
       "      <td>0.239437</td>\n",
       "      <td>0.295139</td>\n",
       "      <td>0.119382</td>\n",
       "    </tr>\n",
       "  </tbody>\n",
       "</table>\n",
       "</div>"
      ],
      "text/plain": [
       "        Total Passengers Per Class  Survived  \\\n",
       "Pclass                                         \n",
       "1                              184       120   \n",
       "2                              173        83   \n",
       "3                              355        85   \n",
       "\n",
       "        Survivor Rate within Passenger Class  Portion of Survivors  \\\n",
       "Pclass                                                               \n",
       "1                                   0.652174              0.416667   \n",
       "2                                   0.479769              0.288194   \n",
       "3                                   0.239437              0.295139   \n",
       "\n",
       "        Overall Rate of Survival  \n",
       "Pclass                            \n",
       "1                       0.168539  \n",
       "2                       0.116573  \n",
       "3                       0.119382  "
      ]
     },
     "execution_count": 300,
     "metadata": {},
     "output_type": "execute_result"
    }
   ],
   "source": [
    "#This will show the overall survivor rate\n",
    "all_pass_class[\"Overall Rate of Survival\"] = [float(i)/passengers_count for i in all_pass_class[\"Survived\"]]\n",
    "all_pass_class"
   ]
  },
  {
   "cell_type": "markdown",
   "metadata": {},
   "source": [
    "<h2>5) What role does age play in surviving?</h2>"
   ]
  },
  {
   "cell_type": "markdown",
   "metadata": {},
   "source": [
    "Age was a very important factor in survival, again as hinted in the intro video. Specifically, youth was a helpful factor in survival. When compared by age group, children had the highest percentage of survival with 38 out of 62 making it out alive (~61%), the only group (discounting an outlier) where over 50% of the members survived. While one eighty year old passenger survived, those results were uncommon given that all passengers between the ages of 70-79 perished."
   ]
  },
  {
   "cell_type": "code",
   "execution_count": 548,
   "metadata": {
    "collapsed": false
   },
   "outputs": [
    {
     "data": {
      "image/png": "[encoded data removed]",
      "text/plain": [
       "<matplotlib.figure.Figure at 0x10b4ec9d0>"
      ]
     },
     "metadata": {},
     "output_type": "display_data"
    }
   ],
   "source": [
    "#Compare survivor rates within each age group\n",
    "age_brackets.plot(y=[\"Total\", \"Survived\"], figsize=(10,6));"
   ]
  },
  {
   "cell_type": "code",
   "execution_count": 549,
   "metadata": {
    "collapsed": false
   },
   "outputs": [
    {
     "data": {
      "text/plain": [
       "<matplotlib.axes._subplots.AxesSubplot at 0x10b8f8b50>"
      ]
     },
     "execution_count": 549,
     "metadata": {},
     "output_type": "execute_result"
    },
    {
     "data": {
      "image/png": "[encoded data removed]",
      "text/plain": [
       "<matplotlib.figure.Figure at 0x10b80a410>"
      ]
     },
     "metadata": {},
     "output_type": "display_data"
    }
   ],
   "source": [
    "#Show the survivor rate within each age group; note the \"Age 80-90\" age group is not typical for the results\n",
    "age_brackets.plot(kind=\"bar\", y=[\"Survivor Rate within Age Group\"])"
   ]
  },
  {
   "cell_type": "code",
   "execution_count": 132,
   "metadata": {
    "collapsed": false
   },
   "outputs": [
    {
     "data": {
      "text/plain": [
       "80.0"
      ]
     },
     "execution_count": 132,
     "metadata": {},
     "output_type": "execute_result"
    }
   ],
   "source": [
    "#Remind myself the max age (although that is in data.describe() above)\n",
    "data[\"Age\"].max()"
   ]
  },
  {
   "cell_type": "code",
   "execution_count": 133,
   "metadata": {
    "collapsed": false
   },
   "outputs": [
    {
     "data": {
      "text/plain": [
       "0.41999999999999998"
      ]
     },
     "execution_count": 133,
     "metadata": {},
     "output_type": "execute_result"
    }
   ],
   "source": [
    "#Same deal but with lowest age\n",
    "data[\"Age\"].min()"
   ]
  },
  {
   "cell_type": "code",
   "execution_count": 527,
   "metadata": {
    "collapsed": false
   },
   "outputs": [
    {
     "data": {
      "text/plain": [
       "62"
      ]
     },
     "execution_count": 527,
     "metadata": {},
     "output_type": "execute_result"
    }
   ],
   "source": [
    "#Find amount of passengers between the ages of 0 and 10\n",
    "children_count = len(data[(data[\"Age\"] >= 0) & (data[\"Age\"] < 10)])\n",
    "children_count"
   ]
  },
  {
   "cell_type": "code",
   "execution_count": 528,
   "metadata": {
    "collapsed": false
   },
   "outputs": [
    {
     "data": {
      "text/plain": [
       "38"
      ]
     },
     "execution_count": 528,
     "metadata": {},
     "output_type": "execute_result"
    }
   ],
   "source": [
    "#Find the amount of survivors between the ages of 0 and 10\n",
    "children_surv = data[(data[\"Age\"] >= 0) & (data[\"Age\"] < 10)][\"Survived\"].sum()\n",
    "children_surv"
   ]
  },
  {
   "cell_type": "code",
   "execution_count": 529,
   "metadata": {
    "collapsed": false
   },
   "outputs": [
    {
     "data": {
      "text/plain": [
       "102"
      ]
     },
     "execution_count": 529,
     "metadata": {},
     "output_type": "execute_result"
    }
   ],
   "source": [
    "#Find amount of passengers between the ages of 10 and 20\n",
    "teen_count = len(data[(data[\"Age\"] >= 10) & (data[\"Age\"] < 20)])\n",
    "teen_count"
   ]
  },
  {
   "cell_type": "code",
   "execution_count": 531,
   "metadata": {
    "collapsed": false
   },
   "outputs": [
    {
     "data": {
      "text/plain": [
       "41"
      ]
     },
     "execution_count": 531,
     "metadata": {},
     "output_type": "execute_result"
    }
   ],
   "source": [
    "#Find the amount of survivors between the ages of 10 and 20\n",
    "teen_surv = data[(data[\"Age\"] >= 10) & (data[\"Age\"] < 20)][\"Survived\"].sum()\n",
    "teen_surv"
   ]
  },
  {
   "cell_type": "code",
   "execution_count": 534,
   "metadata": {
    "collapsed": false
   },
   "outputs": [
    {
     "data": {
      "text/plain": [
       "220"
      ]
     },
     "execution_count": 534,
     "metadata": {},
     "output_type": "execute_result"
    }
   ],
   "source": [
    "#Find amount of passengers between the ages of 20 and 30\n",
    "twenties_count = len(data[(data[\"Age\"] >= 20) & (data[\"Age\"] < 30)])\n",
    "twenties_count"
   ]
  },
  {
   "cell_type": "code",
   "execution_count": 533,
   "metadata": {
    "collapsed": false
   },
   "outputs": [
    {
     "data": {
      "text/plain": [
       "77"
      ]
     },
     "execution_count": 533,
     "metadata": {},
     "output_type": "execute_result"
    }
   ],
   "source": [
    "#Find the amount of survivors between the ages of 20 and 30\n",
    "twenties_surv = data[(data[\"Age\"] >= 20) & (data[\"Age\"] < 30)][\"Survived\"].sum()\n",
    "twenties_surv"
   ]
  },
  {
   "cell_type": "code",
   "execution_count": 535,
   "metadata": {
    "collapsed": false
   },
   "outputs": [
    {
     "data": {
      "text/plain": [
       "166"
      ]
     },
     "execution_count": 535,
     "metadata": {},
     "output_type": "execute_result"
    }
   ],
   "source": [
    "#Find amount of passengers between the ages of 30 and 40\n",
    "thirties_count = len(data[(data[\"Age\"] >= 30) & (data[\"Age\"] < 40)])\n",
    "thirties_count"
   ]
  },
  {
   "cell_type": "code",
   "execution_count": 536,
   "metadata": {
    "collapsed": false
   },
   "outputs": [
    {
     "data": {
      "text/plain": [
       "72"
      ]
     },
     "execution_count": 536,
     "metadata": {},
     "output_type": "execute_result"
    }
   ],
   "source": [
    "#Find the amount of survivors between the ages of 30 and 40\n",
    "thirties_surv = data[(data[\"Age\"] >= 30) & (data[\"Age\"] < 40)][\"Survived\"].sum()\n",
    "thirties_surv"
   ]
  },
  {
   "cell_type": "code",
   "execution_count": 537,
   "metadata": {
    "collapsed": false
   },
   "outputs": [
    {
     "data": {
      "text/plain": [
       "89"
      ]
     },
     "execution_count": 537,
     "metadata": {},
     "output_type": "execute_result"
    }
   ],
   "source": [
    "#Find amount of passengers between the ages of 40 and 50\n",
    "forties_count = len(data[(data[\"Age\"] >= 40) & (data[\"Age\"] < 50)])\n",
    "forties_count"
   ]
  },
  {
   "cell_type": "code",
   "execution_count": 538,
   "metadata": {
    "collapsed": false
   },
   "outputs": [
    {
     "data": {
      "text/plain": [
       "34"
      ]
     },
     "execution_count": 538,
     "metadata": {},
     "output_type": "execute_result"
    }
   ],
   "source": [
    "#Find the amount of survivors between the ages of 40 and 50\n",
    "forties_surv = data[(data[\"Age\"] >= 40) & (data[\"Age\"] < 50)][\"Survived\"].sum()\n",
    "forties_surv"
   ]
  },
  {
   "cell_type": "code",
   "execution_count": 539,
   "metadata": {
    "collapsed": false
   },
   "outputs": [
    {
     "data": {
      "text/plain": [
       "48"
      ]
     },
     "execution_count": 539,
     "metadata": {},
     "output_type": "execute_result"
    }
   ],
   "source": [
    "#Find amount of passengers between the ages of 50 and 60\n",
    "fifties_count = len(data[(data[\"Age\"] >= 50) & (data[\"Age\"] < 60)])\n",
    "fifties_count"
   ]
  },
  {
   "cell_type": "code",
   "execution_count": 540,
   "metadata": {
    "collapsed": false
   },
   "outputs": [
    {
     "data": {
      "text/plain": [
       "20"
      ]
     },
     "execution_count": 540,
     "metadata": {},
     "output_type": "execute_result"
    }
   ],
   "source": [
    "#Find the amount of survivors between the ages of 50 and 60\n",
    "fifties_surv = data[(data[\"Age\"] >= 50) & (data[\"Age\"] < 60)][\"Survived\"].sum()\n",
    "fifties_surv"
   ]
  },
  {
   "cell_type": "code",
   "execution_count": 542,
   "metadata": {
    "collapsed": false
   },
   "outputs": [
    {
     "data": {
      "text/plain": [
       "18"
      ]
     },
     "execution_count": 542,
     "metadata": {},
     "output_type": "execute_result"
    }
   ],
   "source": [
    "#Find amount of passengers between the ages of 60 and 70\n",
    "sixties_count = len(data[(data[\"Age\"] >= 60) & (data[\"Age\"] < 70)])\n",
    "sixties_count"
   ]
  },
  {
   "cell_type": "code",
   "execution_count": 543,
   "metadata": {
    "collapsed": false
   },
   "outputs": [
    {
     "data": {
      "text/plain": [
       "5"
      ]
     },
     "execution_count": 543,
     "metadata": {},
     "output_type": "execute_result"
    }
   ],
   "source": [
    "#Find the amount of survivors between the ages of 60 and 70\n",
    "sixties_surv = data[(data[\"Age\"] >= 60) & (data[\"Age\"] < 70)][\"Survived\"].sum()\n",
    "sixties_surv"
   ]
  },
  {
   "cell_type": "code",
   "execution_count": 544,
   "metadata": {
    "collapsed": false
   },
   "outputs": [
    {
     "data": {
      "text/plain": [
       "6"
      ]
     },
     "execution_count": 544,
     "metadata": {},
     "output_type": "execute_result"
    }
   ],
   "source": [
    "#Find amount of passengers between the ages of 70 and 80\n",
    "seventies_count = len(data[(data[\"Age\"] >= 70) & (data[\"Age\"] < 80)])\n",
    "seventies_count"
   ]
  },
  {
   "cell_type": "code",
   "execution_count": 545,
   "metadata": {
    "collapsed": false
   },
   "outputs": [
    {
     "data": {
      "text/plain": [
       "0"
      ]
     },
     "execution_count": 545,
     "metadata": {},
     "output_type": "execute_result"
    }
   ],
   "source": [
    "#Find the amount of survivors between the ages of 70 and 80\n",
    "seventies_surv = data[(data[\"Age\"] >= 70) & (data[\"Age\"] < 80)][\"Survived\"].sum()\n",
    "seventies_surv"
   ]
  },
  {
   "cell_type": "code",
   "execution_count": 546,
   "metadata": {
    "collapsed": false
   },
   "outputs": [
    {
     "data": {
      "text/plain": [
       "1"
      ]
     },
     "execution_count": 546,
     "metadata": {},
     "output_type": "execute_result"
    }
   ],
   "source": [
    "#Find amount of passengers between the ages of 80 and 90\n",
    "eighties_count = len(data[(data[\"Age\"] >= 80) & (data[\"Age\"] < 90)])\n",
    "eighties_count"
   ]
  },
  {
   "cell_type": "code",
   "execution_count": 547,
   "metadata": {
    "collapsed": false
   },
   "outputs": [
    {
     "data": {
      "text/plain": [
       "1"
      ]
     },
     "execution_count": 547,
     "metadata": {},
     "output_type": "execute_result"
    }
   ],
   "source": [
    "#Find the amount of survivors between the ages of 80 and 90\n",
    "eighties_surv = data[(data[\"Age\"] >= 80) & (data[\"Age\"] < 90)][\"Survived\"].sum()\n",
    "eighties_surv"
   ]
  },
  {
   "cell_type": "code",
   "execution_count": 550,
   "metadata": {
    "collapsed": false
   },
   "outputs": [
    {
     "data": {
      "text/html": [
       "<div>\n",
       "<table border=\"1\" class=\"dataframe\">\n",
       "  <thead>\n",
       "    <tr style=\"text-align: right;\">\n",
       "      <th></th>\n",
       "      <th>Total</th>\n",
       "      <th>Survived</th>\n",
       "    </tr>\n",
       "  </thead>\n",
       "  <tbody>\n",
       "    <tr>\n",
       "      <th>Age 0-9</th>\n",
       "      <td>62</td>\n",
       "      <td>38</td>\n",
       "    </tr>\n",
       "    <tr>\n",
       "      <th>Age 10-19</th>\n",
       "      <td>102</td>\n",
       "      <td>41</td>\n",
       "    </tr>\n",
       "    <tr>\n",
       "      <th>Age 20-29</th>\n",
       "      <td>220</td>\n",
       "      <td>77</td>\n",
       "    </tr>\n",
       "    <tr>\n",
       "      <th>Age 30-39</th>\n",
       "      <td>166</td>\n",
       "      <td>72</td>\n",
       "    </tr>\n",
       "    <tr>\n",
       "      <th>Age 40-49</th>\n",
       "      <td>89</td>\n",
       "      <td>34</td>\n",
       "    </tr>\n",
       "    <tr>\n",
       "      <th>Age 50-59</th>\n",
       "      <td>48</td>\n",
       "      <td>20</td>\n",
       "    </tr>\n",
       "    <tr>\n",
       "      <th>Age 60-69</th>\n",
       "      <td>18</td>\n",
       "      <td>5</td>\n",
       "    </tr>\n",
       "    <tr>\n",
       "      <th>Age 70-79</th>\n",
       "      <td>6</td>\n",
       "      <td>0</td>\n",
       "    </tr>\n",
       "    <tr>\n",
       "      <th>Age 80-89</th>\n",
       "      <td>1</td>\n",
       "      <td>1</td>\n",
       "    </tr>\n",
       "  </tbody>\n",
       "</table>\n",
       "</div>"
      ],
      "text/plain": [
       "           Total  Survived\n",
       "Age 0-9       62        38\n",
       "Age 10-19    102        41\n",
       "Age 20-29    220        77\n",
       "Age 30-39    166        72\n",
       "Age 40-49     89        34\n",
       "Age 50-59     48        20\n",
       "Age 60-69     18         5\n",
       "Age 70-79      6         0\n",
       "Age 80-89      1         1"
      ]
     },
     "execution_count": 550,
     "metadata": {},
     "output_type": "execute_result"
    }
   ],
   "source": [
    "#Create data frame to represent \"Total\" and \"Survival\" by age bracket\n",
    "age_data = {\"Total\": [children_count, teen_count, twenties_count, thirties_count, forties_count, fifties_count, sixties_count, seventies_count, eighties_count],\n",
    "        \"Survived\": [children_surv, teen_surv, twenties_surv, thirties_surv, forties_surv, fifties_surv, sixties_surv, seventies_surv, eighties_surv],\n",
    "         }\n",
    "age_brackets = pd.DataFrame(age_data, columns=[\"Total\", \"Survived\"], index=[\"Age 0-9\", \"Age 10-19\", \"Age 20-29\", \"Age 30-39\", \"Age 40-49\", \"Age 50-59\", \"Age 60-69\", \"Age 70-79\", \"Age 80-89\"])\n",
    "age_brackets"
   ]
  },
  {
   "cell_type": "code",
   "execution_count": 551,
   "metadata": {
    "collapsed": false
   },
   "outputs": [
    {
     "data": {
      "text/html": [
       "<div>\n",
       "<table border=\"1\" class=\"dataframe\">\n",
       "  <thead>\n",
       "    <tr style=\"text-align: right;\">\n",
       "      <th></th>\n",
       "      <th>Total</th>\n",
       "      <th>Survived</th>\n",
       "      <th>Survivor Rate within Age Group</th>\n",
       "    </tr>\n",
       "  </thead>\n",
       "  <tbody>\n",
       "    <tr>\n",
       "      <th>Age 0-9</th>\n",
       "      <td>62</td>\n",
       "      <td>38</td>\n",
       "      <td>0.612903</td>\n",
       "    </tr>\n",
       "    <tr>\n",
       "      <th>Age 10-19</th>\n",
       "      <td>102</td>\n",
       "      <td>41</td>\n",
       "      <td>0.401961</td>\n",
       "    </tr>\n",
       "    <tr>\n",
       "      <th>Age 20-29</th>\n",
       "      <td>220</td>\n",
       "      <td>77</td>\n",
       "      <td>0.350000</td>\n",
       "    </tr>\n",
       "    <tr>\n",
       "      <th>Age 30-39</th>\n",
       "      <td>166</td>\n",
       "      <td>72</td>\n",
       "      <td>0.433735</td>\n",
       "    </tr>\n",
       "    <tr>\n",
       "      <th>Age 40-49</th>\n",
       "      <td>89</td>\n",
       "      <td>34</td>\n",
       "      <td>0.382022</td>\n",
       "    </tr>\n",
       "    <tr>\n",
       "      <th>Age 50-59</th>\n",
       "      <td>48</td>\n",
       "      <td>20</td>\n",
       "      <td>0.416667</td>\n",
       "    </tr>\n",
       "    <tr>\n",
       "      <th>Age 60-69</th>\n",
       "      <td>18</td>\n",
       "      <td>5</td>\n",
       "      <td>0.277778</td>\n",
       "    </tr>\n",
       "    <tr>\n",
       "      <th>Age 70-79</th>\n",
       "      <td>6</td>\n",
       "      <td>0</td>\n",
       "      <td>0.000000</td>\n",
       "    </tr>\n",
       "    <tr>\n",
       "      <th>Age 80-89</th>\n",
       "      <td>1</td>\n",
       "      <td>1</td>\n",
       "      <td>1.000000</td>\n",
       "    </tr>\n",
       "  </tbody>\n",
       "</table>\n",
       "</div>"
      ],
      "text/plain": [
       "           Total  Survived  Survivor Rate within Age Group\n",
       "Age 0-9       62        38                        0.612903\n",
       "Age 10-19    102        41                        0.401961\n",
       "Age 20-29    220        77                        0.350000\n",
       "Age 30-39    166        72                        0.433735\n",
       "Age 40-49     89        34                        0.382022\n",
       "Age 50-59     48        20                        0.416667\n",
       "Age 60-69     18         5                        0.277778\n",
       "Age 70-79      6         0                        0.000000\n",
       "Age 80-89      1         1                        1.000000"
      ]
     },
     "execution_count": 551,
     "metadata": {},
     "output_type": "execute_result"
    }
   ],
   "source": [
    "#This way we can see the survival rate within age group\n",
    "age_brackets[\"Survivor Rate within Age Group\"] = age_brackets[\"Survived\"]/age_brackets[\"Total\"]\n",
    "age_brackets"
   ]
  },
  {
   "cell_type": "code",
   "execution_count": 552,
   "metadata": {
    "collapsed": false
   },
   "outputs": [
    {
     "data": {
      "text/html": [
       "<div>\n",
       "<table border=\"1\" class=\"dataframe\">\n",
       "  <thead>\n",
       "    <tr style=\"text-align: right;\">\n",
       "      <th></th>\n",
       "      <th>Total</th>\n",
       "      <th>Survived</th>\n",
       "      <th>Survivor Rate within Age Group</th>\n",
       "      <th>Portion of Survivors</th>\n",
       "    </tr>\n",
       "  </thead>\n",
       "  <tbody>\n",
       "    <tr>\n",
       "      <th>Age 0-9</th>\n",
       "      <td>62</td>\n",
       "      <td>38</td>\n",
       "      <td>0.612903</td>\n",
       "      <td>0.131944</td>\n",
       "    </tr>\n",
       "    <tr>\n",
       "      <th>Age 10-19</th>\n",
       "      <td>102</td>\n",
       "      <td>41</td>\n",
       "      <td>0.401961</td>\n",
       "      <td>0.142361</td>\n",
       "    </tr>\n",
       "    <tr>\n",
       "      <th>Age 20-29</th>\n",
       "      <td>220</td>\n",
       "      <td>77</td>\n",
       "      <td>0.350000</td>\n",
       "      <td>0.267361</td>\n",
       "    </tr>\n",
       "    <tr>\n",
       "      <th>Age 30-39</th>\n",
       "      <td>166</td>\n",
       "      <td>72</td>\n",
       "      <td>0.433735</td>\n",
       "      <td>0.250000</td>\n",
       "    </tr>\n",
       "    <tr>\n",
       "      <th>Age 40-49</th>\n",
       "      <td>89</td>\n",
       "      <td>34</td>\n",
       "      <td>0.382022</td>\n",
       "      <td>0.118056</td>\n",
       "    </tr>\n",
       "    <tr>\n",
       "      <th>Age 50-59</th>\n",
       "      <td>48</td>\n",
       "      <td>20</td>\n",
       "      <td>0.416667</td>\n",
       "      <td>0.069444</td>\n",
       "    </tr>\n",
       "    <tr>\n",
       "      <th>Age 60-69</th>\n",
       "      <td>18</td>\n",
       "      <td>5</td>\n",
       "      <td>0.277778</td>\n",
       "      <td>0.017361</td>\n",
       "    </tr>\n",
       "    <tr>\n",
       "      <th>Age 70-79</th>\n",
       "      <td>6</td>\n",
       "      <td>0</td>\n",
       "      <td>0.000000</td>\n",
       "      <td>0.000000</td>\n",
       "    </tr>\n",
       "    <tr>\n",
       "      <th>Age 80-89</th>\n",
       "      <td>1</td>\n",
       "      <td>1</td>\n",
       "      <td>1.000000</td>\n",
       "      <td>0.003472</td>\n",
       "    </tr>\n",
       "  </tbody>\n",
       "</table>\n",
       "</div>"
      ],
      "text/plain": [
       "           Total  Survived  Survivor Rate within Age Group  \\\n",
       "Age 0-9       62        38                        0.612903   \n",
       "Age 10-19    102        41                        0.401961   \n",
       "Age 20-29    220        77                        0.350000   \n",
       "Age 30-39    166        72                        0.433735   \n",
       "Age 40-49     89        34                        0.382022   \n",
       "Age 50-59     48        20                        0.416667   \n",
       "Age 60-69     18         5                        0.277778   \n",
       "Age 70-79      6         0                        0.000000   \n",
       "Age 80-89      1         1                        1.000000   \n",
       "\n",
       "           Portion of Survivors  \n",
       "Age 0-9                0.131944  \n",
       "Age 10-19              0.142361  \n",
       "Age 20-29              0.267361  \n",
       "Age 30-39              0.250000  \n",
       "Age 40-49              0.118056  \n",
       "Age 50-59              0.069444  \n",
       "Age 60-69              0.017361  \n",
       "Age 70-79              0.000000  \n",
       "Age 80-89              0.003472  "
      ]
     },
     "execution_count": 552,
     "metadata": {},
     "output_type": "execute_result"
    }
   ],
   "source": [
    "#This will show how much each age group composes the survivor population\n",
    "age_brackets[\"Portion of Survivors\"] = [float(i)/surv_sum for i in age_brackets[\"Survived\"]]\n",
    "age_brackets"
   ]
  },
  {
   "cell_type": "code",
   "execution_count": 553,
   "metadata": {
    "collapsed": false
   },
   "outputs": [
    {
     "data": {
      "text/html": [
       "<div>\n",
       "<table border=\"1\" class=\"dataframe\">\n",
       "  <thead>\n",
       "    <tr style=\"text-align: right;\">\n",
       "      <th></th>\n",
       "      <th>Total</th>\n",
       "      <th>Survived</th>\n",
       "      <th>Survivor Rate within Age Group</th>\n",
       "      <th>Portion of Survivors</th>\n",
       "      <th>Overall Rate of Survival</th>\n",
       "    </tr>\n",
       "  </thead>\n",
       "  <tbody>\n",
       "    <tr>\n",
       "      <th>Age 0-9</th>\n",
       "      <td>62</td>\n",
       "      <td>38</td>\n",
       "      <td>0.612903</td>\n",
       "      <td>0.131944</td>\n",
       "      <td>0.053371</td>\n",
       "    </tr>\n",
       "    <tr>\n",
       "      <th>Age 10-19</th>\n",
       "      <td>102</td>\n",
       "      <td>41</td>\n",
       "      <td>0.401961</td>\n",
       "      <td>0.142361</td>\n",
       "      <td>0.057584</td>\n",
       "    </tr>\n",
       "    <tr>\n",
       "      <th>Age 20-29</th>\n",
       "      <td>220</td>\n",
       "      <td>77</td>\n",
       "      <td>0.350000</td>\n",
       "      <td>0.267361</td>\n",
       "      <td>0.108146</td>\n",
       "    </tr>\n",
       "    <tr>\n",
       "      <th>Age 30-39</th>\n",
       "      <td>166</td>\n",
       "      <td>72</td>\n",
       "      <td>0.433735</td>\n",
       "      <td>0.250000</td>\n",
       "      <td>0.101124</td>\n",
       "    </tr>\n",
       "    <tr>\n",
       "      <th>Age 40-49</th>\n",
       "      <td>89</td>\n",
       "      <td>34</td>\n",
       "      <td>0.382022</td>\n",
       "      <td>0.118056</td>\n",
       "      <td>0.047753</td>\n",
       "    </tr>\n",
       "    <tr>\n",
       "      <th>Age 50-59</th>\n",
       "      <td>48</td>\n",
       "      <td>20</td>\n",
       "      <td>0.416667</td>\n",
       "      <td>0.069444</td>\n",
       "      <td>0.028090</td>\n",
       "    </tr>\n",
       "    <tr>\n",
       "      <th>Age 60-69</th>\n",
       "      <td>18</td>\n",
       "      <td>5</td>\n",
       "      <td>0.277778</td>\n",
       "      <td>0.017361</td>\n",
       "      <td>0.007022</td>\n",
       "    </tr>\n",
       "    <tr>\n",
       "      <th>Age 70-79</th>\n",
       "      <td>6</td>\n",
       "      <td>0</td>\n",
       "      <td>0.000000</td>\n",
       "      <td>0.000000</td>\n",
       "      <td>0.000000</td>\n",
       "    </tr>\n",
       "    <tr>\n",
       "      <th>Age 80-89</th>\n",
       "      <td>1</td>\n",
       "      <td>1</td>\n",
       "      <td>1.000000</td>\n",
       "      <td>0.003472</td>\n",
       "      <td>0.001404</td>\n",
       "    </tr>\n",
       "  </tbody>\n",
       "</table>\n",
       "</div>"
      ],
      "text/plain": [
       "           Total  Survived  Survivor Rate within Age Group  \\\n",
       "Age 0-9       62        38                        0.612903   \n",
       "Age 10-19    102        41                        0.401961   \n",
       "Age 20-29    220        77                        0.350000   \n",
       "Age 30-39    166        72                        0.433735   \n",
       "Age 40-49     89        34                        0.382022   \n",
       "Age 50-59     48        20                        0.416667   \n",
       "Age 60-69     18         5                        0.277778   \n",
       "Age 70-79      6         0                        0.000000   \n",
       "Age 80-89      1         1                        1.000000   \n",
       "\n",
       "           Portion of Survivors  Overall Rate of Survival  \n",
       "Age 0-9                0.131944                  0.053371  \n",
       "Age 10-19              0.142361                  0.057584  \n",
       "Age 20-29              0.267361                  0.108146  \n",
       "Age 30-39              0.250000                  0.101124  \n",
       "Age 40-49              0.118056                  0.047753  \n",
       "Age 50-59              0.069444                  0.028090  \n",
       "Age 60-69              0.017361                  0.007022  \n",
       "Age 70-79              0.000000                  0.000000  \n",
       "Age 80-89              0.003472                  0.001404  "
      ]
     },
     "execution_count": 553,
     "metadata": {},
     "output_type": "execute_result"
    }
   ],
   "source": [
    "#This will show the overall survivor rate\n",
    "age_brackets[\"Overall Rate of Survival\"] = [float(i)/passengers_count for i in age_brackets[\"Survived\"]]\n",
    "age_brackets"
   ]
  },
  {
   "cell_type": "code",
   "execution_count": 554,
   "metadata": {
    "collapsed": false
   },
   "outputs": [
    {
     "data": {
      "text/html": [
       "<div>\n",
       "<table border=\"1\" class=\"dataframe\">\n",
       "  <thead>\n",
       "    <tr style=\"text-align: right;\">\n",
       "      <th></th>\n",
       "      <th>Total</th>\n",
       "      <th>Survived</th>\n",
       "      <th>Survivor Rate within Age Group</th>\n",
       "      <th>Portion of Survivors</th>\n",
       "      <th>Overall Rate of Survival</th>\n",
       "    </tr>\n",
       "  </thead>\n",
       "  <tbody>\n",
       "    <tr>\n",
       "      <th>Age 20-29</th>\n",
       "      <td>220</td>\n",
       "      <td>77</td>\n",
       "      <td>0.350000</td>\n",
       "      <td>0.267361</td>\n",
       "      <td>0.108146</td>\n",
       "    </tr>\n",
       "    <tr>\n",
       "      <th>Age 30-39</th>\n",
       "      <td>166</td>\n",
       "      <td>72</td>\n",
       "      <td>0.433735</td>\n",
       "      <td>0.250000</td>\n",
       "      <td>0.101124</td>\n",
       "    </tr>\n",
       "    <tr>\n",
       "      <th>Age 10-19</th>\n",
       "      <td>102</td>\n",
       "      <td>41</td>\n",
       "      <td>0.401961</td>\n",
       "      <td>0.142361</td>\n",
       "      <td>0.057584</td>\n",
       "    </tr>\n",
       "    <tr>\n",
       "      <th>Age 0-9</th>\n",
       "      <td>62</td>\n",
       "      <td>38</td>\n",
       "      <td>0.612903</td>\n",
       "      <td>0.131944</td>\n",
       "      <td>0.053371</td>\n",
       "    </tr>\n",
       "    <tr>\n",
       "      <th>Age 40-49</th>\n",
       "      <td>89</td>\n",
       "      <td>34</td>\n",
       "      <td>0.382022</td>\n",
       "      <td>0.118056</td>\n",
       "      <td>0.047753</td>\n",
       "    </tr>\n",
       "    <tr>\n",
       "      <th>Age 50-59</th>\n",
       "      <td>48</td>\n",
       "      <td>20</td>\n",
       "      <td>0.416667</td>\n",
       "      <td>0.069444</td>\n",
       "      <td>0.028090</td>\n",
       "    </tr>\n",
       "    <tr>\n",
       "      <th>Age 60-69</th>\n",
       "      <td>18</td>\n",
       "      <td>5</td>\n",
       "      <td>0.277778</td>\n",
       "      <td>0.017361</td>\n",
       "      <td>0.007022</td>\n",
       "    </tr>\n",
       "    <tr>\n",
       "      <th>Age 80-89</th>\n",
       "      <td>1</td>\n",
       "      <td>1</td>\n",
       "      <td>1.000000</td>\n",
       "      <td>0.003472</td>\n",
       "      <td>0.001404</td>\n",
       "    </tr>\n",
       "    <tr>\n",
       "      <th>Age 70-79</th>\n",
       "      <td>6</td>\n",
       "      <td>0</td>\n",
       "      <td>0.000000</td>\n",
       "      <td>0.000000</td>\n",
       "      <td>0.000000</td>\n",
       "    </tr>\n",
       "  </tbody>\n",
       "</table>\n",
       "</div>"
      ],
      "text/plain": [
       "           Total  Survived  Survivor Rate within Age Group  \\\n",
       "Age 20-29    220        77                        0.350000   \n",
       "Age 30-39    166        72                        0.433735   \n",
       "Age 10-19    102        41                        0.401961   \n",
       "Age 0-9       62        38                        0.612903   \n",
       "Age 40-49     89        34                        0.382022   \n",
       "Age 50-59     48        20                        0.416667   \n",
       "Age 60-69     18         5                        0.277778   \n",
       "Age 80-89      1         1                        1.000000   \n",
       "Age 70-79      6         0                        0.000000   \n",
       "\n",
       "           Portion of Survivors  Overall Rate of Survival  \n",
       "Age 20-29              0.267361                  0.108146  \n",
       "Age 30-39              0.250000                  0.101124  \n",
       "Age 10-19              0.142361                  0.057584  \n",
       "Age 0-9                0.131944                  0.053371  \n",
       "Age 40-49              0.118056                  0.047753  \n",
       "Age 50-59              0.069444                  0.028090  \n",
       "Age 60-69              0.017361                  0.007022  \n",
       "Age 80-89              0.003472                  0.001404  \n",
       "Age 70-79              0.000000                  0.000000  "
      ]
     },
     "execution_count": 554,
     "metadata": {},
     "output_type": "execute_result"
    }
   ],
   "source": [
    "#First, taking a look at overall rate of survival (sorted from highest to lowest)\n",
    "age_brackets.sort_values(by=[\"Overall Rate of Survival\"], ascending = False)"
   ]
  },
  {
   "cell_type": "code",
   "execution_count": 555,
   "metadata": {
    "collapsed": false
   },
   "outputs": [
    {
     "data": {
      "text/html": [
       "<div>\n",
       "<table border=\"1\" class=\"dataframe\">\n",
       "  <thead>\n",
       "    <tr style=\"text-align: right;\">\n",
       "      <th></th>\n",
       "      <th>Total</th>\n",
       "      <th>Survived</th>\n",
       "      <th>Survivor Rate within Age Group</th>\n",
       "      <th>Portion of Survivors</th>\n",
       "      <th>Overall Rate of Survival</th>\n",
       "    </tr>\n",
       "  </thead>\n",
       "  <tbody>\n",
       "    <tr>\n",
       "      <th>Age 80-89</th>\n",
       "      <td>1</td>\n",
       "      <td>1</td>\n",
       "      <td>1.000000</td>\n",
       "      <td>0.003472</td>\n",
       "      <td>0.001404</td>\n",
       "    </tr>\n",
       "    <tr>\n",
       "      <th>Age 0-9</th>\n",
       "      <td>62</td>\n",
       "      <td>38</td>\n",
       "      <td>0.612903</td>\n",
       "      <td>0.131944</td>\n",
       "      <td>0.053371</td>\n",
       "    </tr>\n",
       "    <tr>\n",
       "      <th>Age 30-39</th>\n",
       "      <td>166</td>\n",
       "      <td>72</td>\n",
       "      <td>0.433735</td>\n",
       "      <td>0.250000</td>\n",
       "      <td>0.101124</td>\n",
       "    </tr>\n",
       "    <tr>\n",
       "      <th>Age 50-59</th>\n",
       "      <td>48</td>\n",
       "      <td>20</td>\n",
       "      <td>0.416667</td>\n",
       "      <td>0.069444</td>\n",
       "      <td>0.028090</td>\n",
       "    </tr>\n",
       "    <tr>\n",
       "      <th>Age 10-19</th>\n",
       "      <td>102</td>\n",
       "      <td>41</td>\n",
       "      <td>0.401961</td>\n",
       "      <td>0.142361</td>\n",
       "      <td>0.057584</td>\n",
       "    </tr>\n",
       "    <tr>\n",
       "      <th>Age 40-49</th>\n",
       "      <td>89</td>\n",
       "      <td>34</td>\n",
       "      <td>0.382022</td>\n",
       "      <td>0.118056</td>\n",
       "      <td>0.047753</td>\n",
       "    </tr>\n",
       "    <tr>\n",
       "      <th>Age 20-29</th>\n",
       "      <td>220</td>\n",
       "      <td>77</td>\n",
       "      <td>0.350000</td>\n",
       "      <td>0.267361</td>\n",
       "      <td>0.108146</td>\n",
       "    </tr>\n",
       "    <tr>\n",
       "      <th>Age 60-69</th>\n",
       "      <td>18</td>\n",
       "      <td>5</td>\n",
       "      <td>0.277778</td>\n",
       "      <td>0.017361</td>\n",
       "      <td>0.007022</td>\n",
       "    </tr>\n",
       "    <tr>\n",
       "      <th>Age 70-79</th>\n",
       "      <td>6</td>\n",
       "      <td>0</td>\n",
       "      <td>0.000000</td>\n",
       "      <td>0.000000</td>\n",
       "      <td>0.000000</td>\n",
       "    </tr>\n",
       "  </tbody>\n",
       "</table>\n",
       "</div>"
      ],
      "text/plain": [
       "           Total  Survived  Survivor Rate within Age Group  \\\n",
       "Age 80-89      1         1                        1.000000   \n",
       "Age 0-9       62        38                        0.612903   \n",
       "Age 30-39    166        72                        0.433735   \n",
       "Age 50-59     48        20                        0.416667   \n",
       "Age 10-19    102        41                        0.401961   \n",
       "Age 40-49     89        34                        0.382022   \n",
       "Age 20-29    220        77                        0.350000   \n",
       "Age 60-69     18         5                        0.277778   \n",
       "Age 70-79      6         0                        0.000000   \n",
       "\n",
       "           Portion of Survivors  Overall Rate of Survival  \n",
       "Age 80-89              0.003472                  0.001404  \n",
       "Age 0-9                0.131944                  0.053371  \n",
       "Age 30-39              0.250000                  0.101124  \n",
       "Age 50-59              0.069444                  0.028090  \n",
       "Age 10-19              0.142361                  0.057584  \n",
       "Age 40-49              0.118056                  0.047753  \n",
       "Age 20-29              0.267361                  0.108146  \n",
       "Age 60-69              0.017361                  0.007022  \n",
       "Age 70-79              0.000000                  0.000000  "
      ]
     },
     "execution_count": 555,
     "metadata": {},
     "output_type": "execute_result"
    }
   ],
   "source": [
    "#Next, taking a look at survivor rate within age group (sorted from highest to lowest)\n",
    "age_brackets.sort_values(by=[\"Survivor Rate within Age Group\"], ascending = False)"
   ]
  },
  {
   "cell_type": "markdown",
   "metadata": {},
   "source": [
    "<h2>6) Given the above, do you have any guesses on what predicts survival?</h2>"
   ]
  },
  {
   "cell_type": "markdown",
   "metadata": {},
   "source": [
    "Much of what we have been examining above predicts survival:  gender, passenger class, and age. A female was ~75% likely to survive, while a first-class passenger was ~65% likely to survive in their respective population pools. Similarly, children aged 0-9 were ~61% likely to survive. These odds are better than random and are in their favor. Meanwhile, adult-aged men in lower classes (namely the third class) were much more likely to die.\n",
    "\n",
    "In order to confirm that a combination of attributes further helps or hurts a passenger, I did some more exploration below."
   ]
  },
  {
   "cell_type": "code",
   "execution_count": 560,
   "metadata": {
    "collapsed": false
   },
   "outputs": [
    {
     "data": {
      "text/html": [
       "<div>\n",
       "<table border=\"1\" class=\"dataframe\">\n",
       "  <thead>\n",
       "    <tr style=\"text-align: right;\">\n",
       "      <th></th>\n",
       "      <th></th>\n",
       "      <th>Survived</th>\n",
       "      <th>Total</th>\n",
       "      <th>Survival Rate</th>\n",
       "    </tr>\n",
       "    <tr>\n",
       "      <th>Sex</th>\n",
       "      <th>Pclass</th>\n",
       "      <th></th>\n",
       "      <th></th>\n",
       "      <th></th>\n",
       "    </tr>\n",
       "  </thead>\n",
       "  <tbody>\n",
       "    <tr>\n",
       "      <th rowspan=\"3\" valign=\"top\">female</th>\n",
       "      <th>1</th>\n",
       "      <td>80</td>\n",
       "      <td>83</td>\n",
       "      <td>0.963855</td>\n",
       "    </tr>\n",
       "    <tr>\n",
       "      <th>2</th>\n",
       "      <td>68</td>\n",
       "      <td>74</td>\n",
       "      <td>0.918919</td>\n",
       "    </tr>\n",
       "    <tr>\n",
       "      <th>3</th>\n",
       "      <td>47</td>\n",
       "      <td>102</td>\n",
       "      <td>0.460784</td>\n",
       "    </tr>\n",
       "    <tr>\n",
       "      <th rowspan=\"3\" valign=\"top\">male</th>\n",
       "      <th>1</th>\n",
       "      <td>40</td>\n",
       "      <td>101</td>\n",
       "      <td>0.396040</td>\n",
       "    </tr>\n",
       "    <tr>\n",
       "      <th>2</th>\n",
       "      <td>15</td>\n",
       "      <td>99</td>\n",
       "      <td>0.151515</td>\n",
       "    </tr>\n",
       "    <tr>\n",
       "      <th>3</th>\n",
       "      <td>38</td>\n",
       "      <td>253</td>\n",
       "      <td>0.150198</td>\n",
       "    </tr>\n",
       "  </tbody>\n",
       "</table>\n",
       "</div>"
      ],
      "text/plain": [
       "               Survived  Total  Survival Rate\n",
       "Sex    Pclass                                \n",
       "female 1             80     83       0.963855\n",
       "       2             68     74       0.918919\n",
       "       3             47    102       0.460784\n",
       "male   1             40    101       0.396040\n",
       "       2             15     99       0.151515\n",
       "       3             38    253       0.150198"
      ]
     },
     "execution_count": 560,
     "metadata": {},
     "output_type": "execute_result"
    }
   ],
   "source": [
    "#Compare survival using gender and passenger class data\n",
    "#First, find survivors\n",
    "gender_class_g = data.groupby([\"Sex\",\"Pclass\"])[\"Survived\"].sum()\n",
    "gender_class_g = pd.DataFrame(gender_class_g)\n",
    "\n",
    "#Then, find total\n",
    "gender_class_t = data.groupby([\"Sex\",\"Pclass\"])[\"Survived\"].count()\n",
    "gender_class_t = pd.DataFrame(gender_class_t)\n",
    "gender_class_t = gender_class_t.rename(columns={\"Survived\": \"Total\"})\n",
    "\n",
    "#Create one mega DataFrame\n",
    "gender_class_g[\"Total\"] = gender_class_t[\"Total\"]\n",
    "\n",
    "#Find some survival rates for passengers with both attributes gender+passenger_class\n",
    "gender_class_g[\"Survival Rate\"] = gender_class_g[\"Survived\"] / gender_class_g[\"Total\"]\n",
    "gender_class_g\n"
   ]
  },
  {
   "cell_type": "code",
   "execution_count": 564,
   "metadata": {
    "collapsed": false
   },
   "outputs": [
    {
     "data": {
      "text/plain": [
       "<matplotlib.axes._subplots.AxesSubplot at 0x10b759890>"
      ]
     },
     "execution_count": 564,
     "metadata": {},
     "output_type": "execute_result"
    },
    {
     "data": {
      "image/png": "[encoded data removed]",
      "text/plain": [
       "<matplotlib.figure.Figure at 0x10b857510>"
      ]
     },
     "metadata": {},
     "output_type": "display_data"
    }
   ],
   "source": [
    "gender_class_g.plot(kind=\"bar\", y=[\"Total\", \"Survived\"], colors=[\"r\", \"b\"])"
   ]
  },
  {
   "cell_type": "code",
   "execution_count": 565,
   "metadata": {
    "collapsed": false
   },
   "outputs": [
    {
     "data": {
      "text/plain": [
       "<matplotlib.axes._subplots.AxesSubplot at 0x10aa65650>"
      ]
     },
     "execution_count": 565,
     "metadata": {},
     "output_type": "execute_result"
    },
    {
     "data": {
      "image/png": "[encoded data removed]",
      "text/plain": [
       "<matplotlib.figure.Figure at 0x10ae05110>"
      ]
     },
     "metadata": {},
     "output_type": "display_data"
    }
   ],
   "source": [
    "gender_class_g.plot(kind=\"bar\", y=[\"Survival Rate\"])"
   ]
  },
  {
   "cell_type": "markdown",
   "metadata": {},
   "source": [
    "Females in first- and second-class survived at rates over 90%, while females in third-class only survived at a ~46% rate. Men in first-class only survived at a rate of ~40%. The drop-off thereafter is huge. Thus, it does indeed greatly benefit a passenger to be BOTH a woman and a first-class (or even second-class) passenger."
   ]
  },
  {
   "cell_type": "markdown",
   "metadata": {},
   "source": [
    "<h2>7) Do you have any ideas for new features we could create from the data that would help us predict if someone will survive?</h2>"
   ]
  },
  {
   "cell_type": "markdown",
   "metadata": {
    "collapsed": true
   },
   "source": [
    "<ul>\n",
    "    <li>Implementing the age brackets to help hone in on accurately predicting survival could be helpful</li>\n",
    "    <li>Focusing on whether having family onboard (\"SibSp\" and \"Parch\") had an effect on survival would be interesting to know (see below)</li>\n",
    "    <li>Perhaps also taking a look at the departure city and whether it has an impact on survival (see below)</li>"
   ]
  },
  {
   "cell_type": "code",
   "execution_count": 608,
   "metadata": {
    "collapsed": false
   },
   "outputs": [
    {
     "data": {
      "text/html": [
       "<div>\n",
       "<table border=\"1\" class=\"dataframe\">\n",
       "  <thead>\n",
       "    <tr style=\"text-align: right;\">\n",
       "      <th></th>\n",
       "      <th>Survived</th>\n",
       "      <th>Total</th>\n",
       "      <th>Family Survival Rate</th>\n",
       "    </tr>\n",
       "    <tr>\n",
       "      <th>Family</th>\n",
       "      <th></th>\n",
       "      <th></th>\n",
       "      <th></th>\n",
       "    </tr>\n",
       "  </thead>\n",
       "  <tbody>\n",
       "    <tr>\n",
       "      <th>3</th>\n",
       "      <td>21</td>\n",
       "      <td>27</td>\n",
       "      <td>0.777778</td>\n",
       "    </tr>\n",
       "    <tr>\n",
       "      <th>2</th>\n",
       "      <td>53</td>\n",
       "      <td>93</td>\n",
       "      <td>0.569892</td>\n",
       "    </tr>\n",
       "    <tr>\n",
       "      <th>1</th>\n",
       "      <td>76</td>\n",
       "      <td>139</td>\n",
       "      <td>0.546763</td>\n",
       "    </tr>\n",
       "    <tr>\n",
       "      <th>6</th>\n",
       "      <td>4</td>\n",
       "      <td>12</td>\n",
       "      <td>0.333333</td>\n",
       "    </tr>\n",
       "    <tr>\n",
       "      <th>0</th>\n",
       "      <td>128</td>\n",
       "      <td>402</td>\n",
       "      <td>0.318408</td>\n",
       "    </tr>\n",
       "    <tr>\n",
       "      <th>4</th>\n",
       "      <td>3</td>\n",
       "      <td>11</td>\n",
       "      <td>0.272727</td>\n",
       "    </tr>\n",
       "    <tr>\n",
       "      <th>5</th>\n",
       "      <td>3</td>\n",
       "      <td>22</td>\n",
       "      <td>0.136364</td>\n",
       "    </tr>\n",
       "    <tr>\n",
       "      <th>7</th>\n",
       "      <td>0</td>\n",
       "      <td>6</td>\n",
       "      <td>0.000000</td>\n",
       "    </tr>\n",
       "  </tbody>\n",
       "</table>\n",
       "</div>"
      ],
      "text/plain": [
       "        Survived  Total  Family Survival Rate\n",
       "Family                                       \n",
       "3             21     27              0.777778\n",
       "2             53     93              0.569892\n",
       "1             76    139              0.546763\n",
       "6              4     12              0.333333\n",
       "0            128    402              0.318408\n",
       "4              3     11              0.272727\n",
       "5              3     22              0.136364\n",
       "7              0      6              0.000000"
      ]
     },
     "execution_count": 608,
     "metadata": {},
     "output_type": "execute_result"
    }
   ],
   "source": [
    "#Take a look at the impact having family onboard has on survival; Add the Sibplings/Spouse and Parents/Children values\n",
    "familys = data[\"SibSp\"] + data[\"Parch\"] #duplicates?\n",
    "familys = pd.DataFrame(data=familys, columns=[\"Family\"])\n",
    "familys[\"Survived\"] = data[\"Survived\"]\n",
    "\n",
    "#Look at survivors per number of family members\n",
    "family_sum = familys.groupby([\"Family\"])[\"Survived\"].sum()\n",
    "familys_sum = pd.DataFrame(familys_sum)\n",
    "\n",
    "#Look at total per number of family members\n",
    "familys_count = familys.groupby([\"Family\"])[\"Survived\"].count()\n",
    "familys_count = pd.DataFrame(familys_count)\n",
    "familys_count = familys_count.rename(columns={\"Survived\": \"Total\"})\n",
    "\n",
    "#Add total column to survivor dataframe\n",
    "familys_sum[\"Total\"] = familys_count[\"Total\"]\n",
    "\n",
    "#Calculate survivor rate\n",
    "familys_sum[\"Family Survival Rate\"] = familys_sum[\"Survived\"] / familys_sum[\"Total\"]\n",
    "\n",
    "#Sort DataFrame to better view info\n",
    "familys_sum.sort_values(by=\"Family Survival Rate\", ascending=False)"
   ]
  },
  {
   "cell_type": "code",
   "execution_count": 582,
   "metadata": {
    "collapsed": false
   },
   "outputs": [
    {
     "data": {
      "text/plain": [
       "<matplotlib.axes._subplots.AxesSubplot at 0x10ae5e710>"
      ]
     },
     "execution_count": 582,
     "metadata": {},
     "output_type": "execute_result"
    },
    {
     "data": {
      "image/png": "[encoded data removed]",
      "text/plain": [
       "<matplotlib.figure.Figure at 0x10b76bd50>"
      ]
     },
     "metadata": {},
     "output_type": "display_data"
    }
   ],
   "source": [
    "familys_sum.plot(kind=\"bar\", y=[\"Total\", \"Survived\"],)"
   ]
  },
  {
   "cell_type": "code",
   "execution_count": 583,
   "metadata": {
    "collapsed": false
   },
   "outputs": [
    {
     "data": {
      "text/plain": [
       "<matplotlib.axes._subplots.AxesSubplot at 0x10c166ed0>"
      ]
     },
     "execution_count": 583,
     "metadata": {},
     "output_type": "execute_result"
    },
    {
     "data": {
      "image/png": "[encoded data removed]",
      "text/plain": [
       "<matplotlib.figure.Figure at 0x10b561b50>"
      ]
     },
     "metadata": {},
     "output_type": "display_data"
    }
   ],
   "source": [
    "familys_sum.plot(kind=\"bar\", y=[\"Family Survival Rate\"], colors=[\"y\"])"
   ]
  },
  {
   "cell_type": "markdown",
   "metadata": {},
   "source": [
    "Here, it looks like family does have some effect on survival. Those with small families (1-3, with 3 being the most beneficial) fare the best. Those without any family (0), the largest pool of people, do not do very well (~32% rate of survival within that pool). However, those with large families (6 or 7--although, there is but a small group of people that fit that description) are unlikely to survive."
   ]
  },
  {
   "cell_type": "code",
   "execution_count": 592,
   "metadata": {
    "collapsed": false
   },
   "outputs": [
    {
     "data": {
      "text/html": [
       "<div>\n",
       "<table border=\"1\" class=\"dataframe\">\n",
       "  <thead>\n",
       "    <tr style=\"text-align: right;\">\n",
       "      <th></th>\n",
       "      <th>Survived</th>\n",
       "      <th>Total</th>\n",
       "      <th>City Embarked Survival Rate</th>\n",
       "    </tr>\n",
       "    <tr>\n",
       "      <th>Embarked</th>\n",
       "      <th></th>\n",
       "      <th></th>\n",
       "      <th></th>\n",
       "    </tr>\n",
       "  </thead>\n",
       "  <tbody>\n",
       "    <tr>\n",
       "      <th>C</th>\n",
       "      <td>79</td>\n",
       "      <td>130</td>\n",
       "      <td>0.607692</td>\n",
       "    </tr>\n",
       "    <tr>\n",
       "      <th>S</th>\n",
       "      <td>201</td>\n",
       "      <td>554</td>\n",
       "      <td>0.362816</td>\n",
       "    </tr>\n",
       "    <tr>\n",
       "      <th>Q</th>\n",
       "      <td>8</td>\n",
       "      <td>28</td>\n",
       "      <td>0.285714</td>\n",
       "    </tr>\n",
       "  </tbody>\n",
       "</table>\n",
       "</div>"
      ],
      "text/plain": [
       "          Survived  Total  City Embarked Survival Rate\n",
       "Embarked                                              \n",
       "C               79    130                     0.607692\n",
       "S              201    554                     0.362816\n",
       "Q                8     28                     0.285714"
      ]
     },
     "execution_count": 592,
     "metadata": {},
     "output_type": "execute_result"
    }
   ],
   "source": [
    "# Take a look at survivor rate by city (C = Cherbourg; Q = Queenstown; S = Southampton)\n",
    "embarked_sum = data.groupby([\"Embarked\"])[\"Survived\"].sum()\n",
    "embarked_sum = pd.DataFrame(embarked_sum)\n",
    "\n",
    "embarked_count = data.groupby([\"Embarked\"])[\"Survived\"].count()\n",
    "embarked_count = pd.DataFrame(embarked_count)\n",
    "embarked_count = embarked_count.rename(columns={\"Survived\": \"Total\"})\n",
    "\n",
    "embarked_sum[\"Total\"] = embarked_count[\"Total\"]\n",
    "\n",
    "#Calculate survivor rate\n",
    "embarked_sum[\"City Embarked Survival Rate\"] = embarked_sum[\"Survived\"] / embarked_sum[\"Total\"]\n",
    "\n",
    "#Sort DataFrame to better view info\n",
    "embarked_sum.sort_values(by=\"City Embarked Survival Rate\", ascending=False)"
   ]
  },
  {
   "cell_type": "code",
   "execution_count": 607,
   "metadata": {
    "collapsed": false
   },
   "outputs": [
    {
     "data": {
      "text/plain": [
       "<matplotlib.axes._subplots.AxesSubplot at 0x10ac20110>"
      ]
     },
     "execution_count": 607,
     "metadata": {},
     "output_type": "execute_result"
    },
    {
     "data": {
      "image/png": "[encoded data removed]",
      "text/plain": [
       "<matplotlib.figure.Figure at 0x10c3d0190>"
      ]
     },
     "metadata": {},
     "output_type": "display_data"
    }
   ],
   "source": [
    "embarked_sum.plot(kind=\"bar\", y=[\"City Embarked Survival Rate\"])"
   ]
  },
  {
   "cell_type": "code",
   "execution_count": 615,
   "metadata": {
    "collapsed": false
   },
   "outputs": [
    {
     "data": {
      "text/html": [
       "<div>\n",
       "<table border=\"1\" class=\"dataframe\">\n",
       "  <thead>\n",
       "    <tr style=\"text-align: right;\">\n",
       "      <th></th>\n",
       "      <th></th>\n",
       "      <th>Total</th>\n",
       "      <th>Survived</th>\n",
       "      <th>City Embarked Survival Rate with Class</th>\n",
       "    </tr>\n",
       "    <tr>\n",
       "      <th>Embarked</th>\n",
       "      <th>Pclass</th>\n",
       "      <th></th>\n",
       "      <th></th>\n",
       "      <th></th>\n",
       "    </tr>\n",
       "  </thead>\n",
       "  <tbody>\n",
       "    <tr>\n",
       "      <th rowspan=\"3\" valign=\"top\">C</th>\n",
       "      <th>1</th>\n",
       "      <td>74</td>\n",
       "      <td>53</td>\n",
       "      <td>0.716216</td>\n",
       "    </tr>\n",
       "    <tr>\n",
       "      <th>2</th>\n",
       "      <td>15</td>\n",
       "      <td>8</td>\n",
       "      <td>0.533333</td>\n",
       "    </tr>\n",
       "    <tr>\n",
       "      <th>3</th>\n",
       "      <td>41</td>\n",
       "      <td>18</td>\n",
       "      <td>0.439024</td>\n",
       "    </tr>\n",
       "    <tr>\n",
       "      <th rowspan=\"3\" valign=\"top\">Q</th>\n",
       "      <th>1</th>\n",
       "      <td>2</td>\n",
       "      <td>1</td>\n",
       "      <td>0.500000</td>\n",
       "    </tr>\n",
       "    <tr>\n",
       "      <th>2</th>\n",
       "      <td>2</td>\n",
       "      <td>1</td>\n",
       "      <td>0.500000</td>\n",
       "    </tr>\n",
       "    <tr>\n",
       "      <th>3</th>\n",
       "      <td>24</td>\n",
       "      <td>6</td>\n",
       "      <td>0.250000</td>\n",
       "    </tr>\n",
       "    <tr>\n",
       "      <th rowspan=\"3\" valign=\"top\">S</th>\n",
       "      <th>1</th>\n",
       "      <td>108</td>\n",
       "      <td>66</td>\n",
       "      <td>0.611111</td>\n",
       "    </tr>\n",
       "    <tr>\n",
       "      <th>2</th>\n",
       "      <td>156</td>\n",
       "      <td>74</td>\n",
       "      <td>0.474359</td>\n",
       "    </tr>\n",
       "    <tr>\n",
       "      <th>3</th>\n",
       "      <td>290</td>\n",
       "      <td>61</td>\n",
       "      <td>0.210345</td>\n",
       "    </tr>\n",
       "  </tbody>\n",
       "</table>\n",
       "</div>"
      ],
      "text/plain": [
       "                 Total  Survived  City Embarked Survival Rate with Class\n",
       "Embarked Pclass                                                         \n",
       "C        1          74        53                                0.716216\n",
       "         2          15         8                                0.533333\n",
       "         3          41        18                                0.439024\n",
       "Q        1           2         1                                0.500000\n",
       "         2           2         1                                0.500000\n",
       "         3          24         6                                0.250000\n",
       "S        1         108        66                                0.611111\n",
       "         2         156        74                                0.474359\n",
       "         3         290        61                                0.210345"
      ]
     },
     "execution_count": 615,
     "metadata": {},
     "output_type": "execute_result"
    }
   ],
   "source": [
    "# Take a look at some survivor stats for where people embarked and their passenger class\n",
    "embarked_class_count = data.groupby([\"Embarked\", \"Pclass\"])[\"Survived\"].count()\n",
    "embarked_class_count = pd.DataFrame(embarked_class_count)\n",
    "embarked_class_count = embarked_class_count.rename(columns={\"Survived\": \"Total\"})\n",
    "\n",
    "embarked_class_sum = data.groupby([\"Embarked\", \"Pclass\"])[\"Survived\"].sum()\n",
    "embarked_class_sum = pd.DataFrame(embarked_class_sum)\n",
    "\n",
    "embarked_class_count[\"Survived\"] = embarked_class_sum[\"Survived\"]\n",
    "\n",
    "embarked_class_count[\"City Embarked Survival Rate with Class\"] = embarked_class_count[\"Survived\"] / embarked_class_count[\"Total\"]\n",
    "\n",
    "embarked_class_count"
   ]
  },
  {
   "cell_type": "markdown",
   "metadata": {},
   "source": [
    "Cherbourg had a higher rate of survival (~60%) compared to the other two cities, and I suspected it had something to do with class. Even though there are members from the second and third class onboard from Cherbourg, first class makes up the largest percentage for that particular city. Most people boarded the boat at Southampton, and even though more first class passengers boarded there than at Cherbourg, there were many other-class passengers who boarded as well, diluting the survivor rate."
   ]
  }
 ],
 "metadata": {
  "kernelspec": {
   "display_name": "Python 2",
   "language": "python",
   "name": "python2"
  },
  "language_info": {
   "codemirror_mode": {
    "name": "ipython",
    "version": 2
   },
   "file_extension": ".py",
   "mimetype": "text/x-python",
   "name": "python",
   "nbconvert_exporter": "python",
   "pygments_lexer": "ipython2",
   "version": "2.7.10"
  }
 },
 "nbformat": 4,
 "nbformat_minor": 0
}
