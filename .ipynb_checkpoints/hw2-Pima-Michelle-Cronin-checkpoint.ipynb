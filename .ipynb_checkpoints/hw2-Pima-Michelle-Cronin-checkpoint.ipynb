{
 "cells": [
  {
   "cell_type": "markdown",
   "metadata": {},
   "source": [
    "Michelle Cronin \n",
    "\n",
    "General Assembly - Data Science \n",
    "\n",
    "Homework 2 - Pima Indian Diabetes Dataset \n",
    "\n",
    "February 8, 2016"
   ]
  },
  {
   "cell_type": "code",
   "execution_count": 101,
   "metadata": {
    "collapsed": false
   },
   "outputs": [],
   "source": [
    "# import necessary libraries to start\n",
    "import pandas as pd\n",
    "import numpy as np\n",
    "import matplotlib.pyplot as plt\n",
    "%matplotlib inline\n",
    "\n",
    "import seaborn as sns"
   ]
  },
  {
   "cell_type": "markdown",
   "metadata": {},
   "source": [
    "[Pima Indians Diabetes Dataset Location - UCI](https://archive.ics.uci.edu/ml/datasets/Pima+Indians+Diabetes)"
   ]
  },
  {
   "cell_type": "markdown",
   "metadata": {},
   "source": [
    "## 1) Describe the content of the dataset and its goals"
   ]
  },
  {
   "cell_type": "markdown",
   "metadata": {},
   "source": [
    "#### Dataset Goals+Content:\n",
    "- Goal:  To predict diabetes onset within this particular population segment (Pima Indian women -- ages 21+; oldest is 81 years old)\n",
    "- Within this dataset, 35% of the patients are labeled as having diabetes and 65% are labeled as not.\n",
    "- From peaking at the top of the file, I learned that it does not have any descriptive headers.\n",
    "- The website that hosts the dataset also provides additional information on the dataset, such as its headers. I know that the dataset is 768x9 in shape, so the 9 provided attributes fit the 9 columns.\n",
    "- Each value is separated by a comma\n",
    "- No missing data as NaNs, but some values appear impossible (i.e. 0 mm for tricep skin thickness) -- this missing value idea is supported by documentation on the dataset's website\n",
    "- Seems like there might be an outlier in serum_insulin; not sure whether it's okay to remove (sensor or entry error -- or black swan?) -- will keep due to uncertainty"
   ]
  },
  {
   "cell_type": "code",
   "execution_count": 102,
   "metadata": {
    "collapsed": false
   },
   "outputs": [
    {
     "name": "stdout",
     "output_type": "stream",
     "text": [
      "README.md                         hw2-Pima-Michelle-Cronin.ipynb    titanic_dropna.csv\r\n",
      "hw1-Titanic-Michelle-Cronin.ipynb pima-indians-diabetes.data.txt\r\n"
     ]
    }
   ],
   "source": [
    "# explore the data:  first at the file level --> first, find the file (pima-indians-diabetes.data.txt)\n",
    "!ls"
   ]
  },
  {
   "cell_type": "code",
   "execution_count": 103,
   "metadata": {
    "collapsed": false
   },
   "outputs": [
    {
     "name": "stdout",
     "output_type": "stream",
     "text": [
      "6,148,72,35,0,33.6,0.627,50,1\r\n",
      "1,85,66,29,0,26.6,0.351,31,0\r\n",
      "8,183,64,0,0,23.3,0.672,32,1\r\n",
      "1,89,66,23,94,28.1,0.167,21,0\r\n",
      "0,137,40,35,168,43.1,2.288,33,1\r\n",
      "5,116,74,0,0,25.6,0.201,30,0\r\n",
      "3,78,50,32,88,31.0,0.248,26,1\r\n",
      "10,115,0,0,0,35.3,0.134,29,0\r\n",
      "2,197,70,45,543,30.5,0.158,53,1\r\n",
      "8,125,96,0,0,0.0,0.232,54,1\r\n"
     ]
    }
   ],
   "source": [
    "# peek at the top of the file (10 rows)\n",
    "!head -n 10 pima-indians-diabetes.data.txt"
   ]
  },
  {
   "cell_type": "code",
   "execution_count": 104,
   "metadata": {
    "collapsed": false
   },
   "outputs": [
    {
     "name": "stdout",
     "output_type": "stream",
     "text": [
      "1,106,76,0,0,37.5,0.197,26,0\r\n",
      "6,190,92,0,0,35.5,0.278,66,1\r\n",
      "2,88,58,26,16,28.4,0.766,22,0\r\n",
      "9,170,74,31,0,44.0,0.403,43,1\r\n",
      "9,89,62,0,0,22.5,0.142,33,0\r\n",
      "10,101,76,48,180,32.9,0.171,63,0\r\n",
      "2,122,70,27,0,36.8,0.340,27,0\r\n",
      "5,121,72,23,112,26.2,0.245,30,0\r\n",
      "1,126,60,0,0,30.1,0.349,47,1\r\n",
      "1,93,70,31,0,30.4,0.315,23,0\r\n"
     ]
    }
   ],
   "source": [
    "# peek at the end of the file (10 rows)\n",
    "!tail -n 10 pima-indians-diabetes.data.txt"
   ]
  },
  {
   "cell_type": "code",
   "execution_count": 105,
   "metadata": {
    "collapsed": false
   },
   "outputs": [],
   "source": [
    "# import data without headers (so add/create headers)\n",
    "names = ['preg',\n",
    "         'pg_conc',\n",
    "         'diastolic_bp',\n",
    "         'skin',\n",
    "         'serum_insulin',\n",
    "         'bmi',\n",
    "         'diabetes_pf',\n",
    "         'age',\n",
    "         'class']\n",
    "data = pd.read_csv('pima-indians-diabetes.data.txt', names=names)"
   ]
  },
  {
   "cell_type": "code",
   "execution_count": 106,
   "metadata": {
    "collapsed": false
   },
   "outputs": [
    {
     "data": {
      "text/html": [
       "<div>\n",
       "<table border=\"1\" class=\"dataframe\">\n",
       "  <thead>\n",
       "    <tr style=\"text-align: right;\">\n",
       "      <th></th>\n",
       "      <th>preg</th>\n",
       "      <th>pg_conc</th>\n",
       "      <th>diastolic_bp</th>\n",
       "      <th>skin</th>\n",
       "      <th>serum_insulin</th>\n",
       "      <th>bmi</th>\n",
       "      <th>diabetes_pf</th>\n",
       "      <th>age</th>\n",
       "      <th>class</th>\n",
       "    </tr>\n",
       "  </thead>\n",
       "  <tbody>\n",
       "    <tr>\n",
       "      <th>0</th>\n",
       "      <td>6</td>\n",
       "      <td>148</td>\n",
       "      <td>72</td>\n",
       "      <td>35</td>\n",
       "      <td>0</td>\n",
       "      <td>33.6</td>\n",
       "      <td>0.627</td>\n",
       "      <td>50</td>\n",
       "      <td>1</td>\n",
       "    </tr>\n",
       "    <tr>\n",
       "      <th>1</th>\n",
       "      <td>1</td>\n",
       "      <td>85</td>\n",
       "      <td>66</td>\n",
       "      <td>29</td>\n",
       "      <td>0</td>\n",
       "      <td>26.6</td>\n",
       "      <td>0.351</td>\n",
       "      <td>31</td>\n",
       "      <td>0</td>\n",
       "    </tr>\n",
       "    <tr>\n",
       "      <th>2</th>\n",
       "      <td>8</td>\n",
       "      <td>183</td>\n",
       "      <td>64</td>\n",
       "      <td>0</td>\n",
       "      <td>0</td>\n",
       "      <td>23.3</td>\n",
       "      <td>0.672</td>\n",
       "      <td>32</td>\n",
       "      <td>1</td>\n",
       "    </tr>\n",
       "    <tr>\n",
       "      <th>3</th>\n",
       "      <td>1</td>\n",
       "      <td>89</td>\n",
       "      <td>66</td>\n",
       "      <td>23</td>\n",
       "      <td>94</td>\n",
       "      <td>28.1</td>\n",
       "      <td>0.167</td>\n",
       "      <td>21</td>\n",
       "      <td>0</td>\n",
       "    </tr>\n",
       "    <tr>\n",
       "      <th>4</th>\n",
       "      <td>0</td>\n",
       "      <td>137</td>\n",
       "      <td>40</td>\n",
       "      <td>35</td>\n",
       "      <td>168</td>\n",
       "      <td>43.1</td>\n",
       "      <td>2.288</td>\n",
       "      <td>33</td>\n",
       "      <td>1</td>\n",
       "    </tr>\n",
       "    <tr>\n",
       "      <th>5</th>\n",
       "      <td>5</td>\n",
       "      <td>116</td>\n",
       "      <td>74</td>\n",
       "      <td>0</td>\n",
       "      <td>0</td>\n",
       "      <td>25.6</td>\n",
       "      <td>0.201</td>\n",
       "      <td>30</td>\n",
       "      <td>0</td>\n",
       "    </tr>\n",
       "    <tr>\n",
       "      <th>6</th>\n",
       "      <td>3</td>\n",
       "      <td>78</td>\n",
       "      <td>50</td>\n",
       "      <td>32</td>\n",
       "      <td>88</td>\n",
       "      <td>31.0</td>\n",
       "      <td>0.248</td>\n",
       "      <td>26</td>\n",
       "      <td>1</td>\n",
       "    </tr>\n",
       "    <tr>\n",
       "      <th>7</th>\n",
       "      <td>10</td>\n",
       "      <td>115</td>\n",
       "      <td>0</td>\n",
       "      <td>0</td>\n",
       "      <td>0</td>\n",
       "      <td>35.3</td>\n",
       "      <td>0.134</td>\n",
       "      <td>29</td>\n",
       "      <td>0</td>\n",
       "    </tr>\n",
       "    <tr>\n",
       "      <th>8</th>\n",
       "      <td>2</td>\n",
       "      <td>197</td>\n",
       "      <td>70</td>\n",
       "      <td>45</td>\n",
       "      <td>543</td>\n",
       "      <td>30.5</td>\n",
       "      <td>0.158</td>\n",
       "      <td>53</td>\n",
       "      <td>1</td>\n",
       "    </tr>\n",
       "    <tr>\n",
       "      <th>9</th>\n",
       "      <td>8</td>\n",
       "      <td>125</td>\n",
       "      <td>96</td>\n",
       "      <td>0</td>\n",
       "      <td>0</td>\n",
       "      <td>0.0</td>\n",
       "      <td>0.232</td>\n",
       "      <td>54</td>\n",
       "      <td>1</td>\n",
       "    </tr>\n",
       "    <tr>\n",
       "      <th>10</th>\n",
       "      <td>4</td>\n",
       "      <td>110</td>\n",
       "      <td>92</td>\n",
       "      <td>0</td>\n",
       "      <td>0</td>\n",
       "      <td>37.6</td>\n",
       "      <td>0.191</td>\n",
       "      <td>30</td>\n",
       "      <td>0</td>\n",
       "    </tr>\n",
       "    <tr>\n",
       "      <th>11</th>\n",
       "      <td>10</td>\n",
       "      <td>168</td>\n",
       "      <td>74</td>\n",
       "      <td>0</td>\n",
       "      <td>0</td>\n",
       "      <td>38.0</td>\n",
       "      <td>0.537</td>\n",
       "      <td>34</td>\n",
       "      <td>1</td>\n",
       "    </tr>\n",
       "    <tr>\n",
       "      <th>12</th>\n",
       "      <td>10</td>\n",
       "      <td>139</td>\n",
       "      <td>80</td>\n",
       "      <td>0</td>\n",
       "      <td>0</td>\n",
       "      <td>27.1</td>\n",
       "      <td>1.441</td>\n",
       "      <td>57</td>\n",
       "      <td>0</td>\n",
       "    </tr>\n",
       "    <tr>\n",
       "      <th>13</th>\n",
       "      <td>1</td>\n",
       "      <td>189</td>\n",
       "      <td>60</td>\n",
       "      <td>23</td>\n",
       "      <td>846</td>\n",
       "      <td>30.1</td>\n",
       "      <td>0.398</td>\n",
       "      <td>59</td>\n",
       "      <td>1</td>\n",
       "    </tr>\n",
       "    <tr>\n",
       "      <th>14</th>\n",
       "      <td>5</td>\n",
       "      <td>166</td>\n",
       "      <td>72</td>\n",
       "      <td>19</td>\n",
       "      <td>175</td>\n",
       "      <td>25.8</td>\n",
       "      <td>0.587</td>\n",
       "      <td>51</td>\n",
       "      <td>1</td>\n",
       "    </tr>\n",
       "    <tr>\n",
       "      <th>15</th>\n",
       "      <td>7</td>\n",
       "      <td>100</td>\n",
       "      <td>0</td>\n",
       "      <td>0</td>\n",
       "      <td>0</td>\n",
       "      <td>30.0</td>\n",
       "      <td>0.484</td>\n",
       "      <td>32</td>\n",
       "      <td>1</td>\n",
       "    </tr>\n",
       "    <tr>\n",
       "      <th>16</th>\n",
       "      <td>0</td>\n",
       "      <td>118</td>\n",
       "      <td>84</td>\n",
       "      <td>47</td>\n",
       "      <td>230</td>\n",
       "      <td>45.8</td>\n",
       "      <td>0.551</td>\n",
       "      <td>31</td>\n",
       "      <td>1</td>\n",
       "    </tr>\n",
       "    <tr>\n",
       "      <th>17</th>\n",
       "      <td>7</td>\n",
       "      <td>107</td>\n",
       "      <td>74</td>\n",
       "      <td>0</td>\n",
       "      <td>0</td>\n",
       "      <td>29.6</td>\n",
       "      <td>0.254</td>\n",
       "      <td>31</td>\n",
       "      <td>1</td>\n",
       "    </tr>\n",
       "    <tr>\n",
       "      <th>18</th>\n",
       "      <td>1</td>\n",
       "      <td>103</td>\n",
       "      <td>30</td>\n",
       "      <td>38</td>\n",
       "      <td>83</td>\n",
       "      <td>43.3</td>\n",
       "      <td>0.183</td>\n",
       "      <td>33</td>\n",
       "      <td>0</td>\n",
       "    </tr>\n",
       "    <tr>\n",
       "      <th>19</th>\n",
       "      <td>1</td>\n",
       "      <td>115</td>\n",
       "      <td>70</td>\n",
       "      <td>30</td>\n",
       "      <td>96</td>\n",
       "      <td>34.6</td>\n",
       "      <td>0.529</td>\n",
       "      <td>32</td>\n",
       "      <td>1</td>\n",
       "    </tr>\n",
       "  </tbody>\n",
       "</table>\n",
       "</div>"
      ],
      "text/plain": [
       "    preg  pg_conc  diastolic_bp  skin  serum_insulin   bmi  diabetes_pf  age  \\\n",
       "0      6      148            72    35              0  33.6        0.627   50   \n",
       "1      1       85            66    29              0  26.6        0.351   31   \n",
       "2      8      183            64     0              0  23.3        0.672   32   \n",
       "3      1       89            66    23             94  28.1        0.167   21   \n",
       "4      0      137            40    35            168  43.1        2.288   33   \n",
       "5      5      116            74     0              0  25.6        0.201   30   \n",
       "6      3       78            50    32             88  31.0        0.248   26   \n",
       "7     10      115             0     0              0  35.3        0.134   29   \n",
       "8      2      197            70    45            543  30.5        0.158   53   \n",
       "9      8      125            96     0              0   0.0        0.232   54   \n",
       "10     4      110            92     0              0  37.6        0.191   30   \n",
       "11    10      168            74     0              0  38.0        0.537   34   \n",
       "12    10      139            80     0              0  27.1        1.441   57   \n",
       "13     1      189            60    23            846  30.1        0.398   59   \n",
       "14     5      166            72    19            175  25.8        0.587   51   \n",
       "15     7      100             0     0              0  30.0        0.484   32   \n",
       "16     0      118            84    47            230  45.8        0.551   31   \n",
       "17     7      107            74     0              0  29.6        0.254   31   \n",
       "18     1      103            30    38             83  43.3        0.183   33   \n",
       "19     1      115            70    30             96  34.6        0.529   32   \n",
       "\n",
       "    class  \n",
       "0       1  \n",
       "1       0  \n",
       "2       1  \n",
       "3       0  \n",
       "4       1  \n",
       "5       0  \n",
       "6       1  \n",
       "7       0  \n",
       "8       1  \n",
       "9       1  \n",
       "10      0  \n",
       "11      1  \n",
       "12      0  \n",
       "13      1  \n",
       "14      1  \n",
       "15      1  \n",
       "16      1  \n",
       "17      1  \n",
       "18      0  \n",
       "19      1  "
      ]
     },
     "execution_count": 106,
     "metadata": {},
     "output_type": "execute_result"
    }
   ],
   "source": [
    "# check that dataframe imported in okay\n",
    "data.head(20)"
   ]
  },
  {
   "cell_type": "code",
   "execution_count": 107,
   "metadata": {
    "collapsed": false
   },
   "outputs": [
    {
     "data": {
      "text/html": [
       "<div>\n",
       "<table border=\"1\" class=\"dataframe\">\n",
       "  <thead>\n",
       "    <tr style=\"text-align: right;\">\n",
       "      <th></th>\n",
       "      <th>preg</th>\n",
       "      <th>pg_conc</th>\n",
       "      <th>diastolic_bp</th>\n",
       "      <th>skin</th>\n",
       "      <th>serum_insulin</th>\n",
       "      <th>bmi</th>\n",
       "      <th>diabetes_pf</th>\n",
       "      <th>age</th>\n",
       "      <th>class</th>\n",
       "    </tr>\n",
       "  </thead>\n",
       "  <tbody>\n",
       "    <tr>\n",
       "      <th>748</th>\n",
       "      <td>3</td>\n",
       "      <td>187</td>\n",
       "      <td>70</td>\n",
       "      <td>22</td>\n",
       "      <td>200</td>\n",
       "      <td>36.4</td>\n",
       "      <td>0.408</td>\n",
       "      <td>36</td>\n",
       "      <td>1</td>\n",
       "    </tr>\n",
       "    <tr>\n",
       "      <th>749</th>\n",
       "      <td>6</td>\n",
       "      <td>162</td>\n",
       "      <td>62</td>\n",
       "      <td>0</td>\n",
       "      <td>0</td>\n",
       "      <td>24.3</td>\n",
       "      <td>0.178</td>\n",
       "      <td>50</td>\n",
       "      <td>1</td>\n",
       "    </tr>\n",
       "    <tr>\n",
       "      <th>750</th>\n",
       "      <td>4</td>\n",
       "      <td>136</td>\n",
       "      <td>70</td>\n",
       "      <td>0</td>\n",
       "      <td>0</td>\n",
       "      <td>31.2</td>\n",
       "      <td>1.182</td>\n",
       "      <td>22</td>\n",
       "      <td>1</td>\n",
       "    </tr>\n",
       "    <tr>\n",
       "      <th>751</th>\n",
       "      <td>1</td>\n",
       "      <td>121</td>\n",
       "      <td>78</td>\n",
       "      <td>39</td>\n",
       "      <td>74</td>\n",
       "      <td>39.0</td>\n",
       "      <td>0.261</td>\n",
       "      <td>28</td>\n",
       "      <td>0</td>\n",
       "    </tr>\n",
       "    <tr>\n",
       "      <th>752</th>\n",
       "      <td>3</td>\n",
       "      <td>108</td>\n",
       "      <td>62</td>\n",
       "      <td>24</td>\n",
       "      <td>0</td>\n",
       "      <td>26.0</td>\n",
       "      <td>0.223</td>\n",
       "      <td>25</td>\n",
       "      <td>0</td>\n",
       "    </tr>\n",
       "    <tr>\n",
       "      <th>753</th>\n",
       "      <td>0</td>\n",
       "      <td>181</td>\n",
       "      <td>88</td>\n",
       "      <td>44</td>\n",
       "      <td>510</td>\n",
       "      <td>43.3</td>\n",
       "      <td>0.222</td>\n",
       "      <td>26</td>\n",
       "      <td>1</td>\n",
       "    </tr>\n",
       "    <tr>\n",
       "      <th>754</th>\n",
       "      <td>8</td>\n",
       "      <td>154</td>\n",
       "      <td>78</td>\n",
       "      <td>32</td>\n",
       "      <td>0</td>\n",
       "      <td>32.4</td>\n",
       "      <td>0.443</td>\n",
       "      <td>45</td>\n",
       "      <td>1</td>\n",
       "    </tr>\n",
       "    <tr>\n",
       "      <th>755</th>\n",
       "      <td>1</td>\n",
       "      <td>128</td>\n",
       "      <td>88</td>\n",
       "      <td>39</td>\n",
       "      <td>110</td>\n",
       "      <td>36.5</td>\n",
       "      <td>1.057</td>\n",
       "      <td>37</td>\n",
       "      <td>1</td>\n",
       "    </tr>\n",
       "    <tr>\n",
       "      <th>756</th>\n",
       "      <td>7</td>\n",
       "      <td>137</td>\n",
       "      <td>90</td>\n",
       "      <td>41</td>\n",
       "      <td>0</td>\n",
       "      <td>32.0</td>\n",
       "      <td>0.391</td>\n",
       "      <td>39</td>\n",
       "      <td>0</td>\n",
       "    </tr>\n",
       "    <tr>\n",
       "      <th>757</th>\n",
       "      <td>0</td>\n",
       "      <td>123</td>\n",
       "      <td>72</td>\n",
       "      <td>0</td>\n",
       "      <td>0</td>\n",
       "      <td>36.3</td>\n",
       "      <td>0.258</td>\n",
       "      <td>52</td>\n",
       "      <td>1</td>\n",
       "    </tr>\n",
       "    <tr>\n",
       "      <th>758</th>\n",
       "      <td>1</td>\n",
       "      <td>106</td>\n",
       "      <td>76</td>\n",
       "      <td>0</td>\n",
       "      <td>0</td>\n",
       "      <td>37.5</td>\n",
       "      <td>0.197</td>\n",
       "      <td>26</td>\n",
       "      <td>0</td>\n",
       "    </tr>\n",
       "    <tr>\n",
       "      <th>759</th>\n",
       "      <td>6</td>\n",
       "      <td>190</td>\n",
       "      <td>92</td>\n",
       "      <td>0</td>\n",
       "      <td>0</td>\n",
       "      <td>35.5</td>\n",
       "      <td>0.278</td>\n",
       "      <td>66</td>\n",
       "      <td>1</td>\n",
       "    </tr>\n",
       "    <tr>\n",
       "      <th>760</th>\n",
       "      <td>2</td>\n",
       "      <td>88</td>\n",
       "      <td>58</td>\n",
       "      <td>26</td>\n",
       "      <td>16</td>\n",
       "      <td>28.4</td>\n",
       "      <td>0.766</td>\n",
       "      <td>22</td>\n",
       "      <td>0</td>\n",
       "    </tr>\n",
       "    <tr>\n",
       "      <th>761</th>\n",
       "      <td>9</td>\n",
       "      <td>170</td>\n",
       "      <td>74</td>\n",
       "      <td>31</td>\n",
       "      <td>0</td>\n",
       "      <td>44.0</td>\n",
       "      <td>0.403</td>\n",
       "      <td>43</td>\n",
       "      <td>1</td>\n",
       "    </tr>\n",
       "    <tr>\n",
       "      <th>762</th>\n",
       "      <td>9</td>\n",
       "      <td>89</td>\n",
       "      <td>62</td>\n",
       "      <td>0</td>\n",
       "      <td>0</td>\n",
       "      <td>22.5</td>\n",
       "      <td>0.142</td>\n",
       "      <td>33</td>\n",
       "      <td>0</td>\n",
       "    </tr>\n",
       "    <tr>\n",
       "      <th>763</th>\n",
       "      <td>10</td>\n",
       "      <td>101</td>\n",
       "      <td>76</td>\n",
       "      <td>48</td>\n",
       "      <td>180</td>\n",
       "      <td>32.9</td>\n",
       "      <td>0.171</td>\n",
       "      <td>63</td>\n",
       "      <td>0</td>\n",
       "    </tr>\n",
       "    <tr>\n",
       "      <th>764</th>\n",
       "      <td>2</td>\n",
       "      <td>122</td>\n",
       "      <td>70</td>\n",
       "      <td>27</td>\n",
       "      <td>0</td>\n",
       "      <td>36.8</td>\n",
       "      <td>0.340</td>\n",
       "      <td>27</td>\n",
       "      <td>0</td>\n",
       "    </tr>\n",
       "    <tr>\n",
       "      <th>765</th>\n",
       "      <td>5</td>\n",
       "      <td>121</td>\n",
       "      <td>72</td>\n",
       "      <td>23</td>\n",
       "      <td>112</td>\n",
       "      <td>26.2</td>\n",
       "      <td>0.245</td>\n",
       "      <td>30</td>\n",
       "      <td>0</td>\n",
       "    </tr>\n",
       "    <tr>\n",
       "      <th>766</th>\n",
       "      <td>1</td>\n",
       "      <td>126</td>\n",
       "      <td>60</td>\n",
       "      <td>0</td>\n",
       "      <td>0</td>\n",
       "      <td>30.1</td>\n",
       "      <td>0.349</td>\n",
       "      <td>47</td>\n",
       "      <td>1</td>\n",
       "    </tr>\n",
       "    <tr>\n",
       "      <th>767</th>\n",
       "      <td>1</td>\n",
       "      <td>93</td>\n",
       "      <td>70</td>\n",
       "      <td>31</td>\n",
       "      <td>0</td>\n",
       "      <td>30.4</td>\n",
       "      <td>0.315</td>\n",
       "      <td>23</td>\n",
       "      <td>0</td>\n",
       "    </tr>\n",
       "  </tbody>\n",
       "</table>\n",
       "</div>"
      ],
      "text/plain": [
       "     preg  pg_conc  diastolic_bp  skin  serum_insulin   bmi  diabetes_pf  age  \\\n",
       "748     3      187            70    22            200  36.4        0.408   36   \n",
       "749     6      162            62     0              0  24.3        0.178   50   \n",
       "750     4      136            70     0              0  31.2        1.182   22   \n",
       "751     1      121            78    39             74  39.0        0.261   28   \n",
       "752     3      108            62    24              0  26.0        0.223   25   \n",
       "753     0      181            88    44            510  43.3        0.222   26   \n",
       "754     8      154            78    32              0  32.4        0.443   45   \n",
       "755     1      128            88    39            110  36.5        1.057   37   \n",
       "756     7      137            90    41              0  32.0        0.391   39   \n",
       "757     0      123            72     0              0  36.3        0.258   52   \n",
       "758     1      106            76     0              0  37.5        0.197   26   \n",
       "759     6      190            92     0              0  35.5        0.278   66   \n",
       "760     2       88            58    26             16  28.4        0.766   22   \n",
       "761     9      170            74    31              0  44.0        0.403   43   \n",
       "762     9       89            62     0              0  22.5        0.142   33   \n",
       "763    10      101            76    48            180  32.9        0.171   63   \n",
       "764     2      122            70    27              0  36.8        0.340   27   \n",
       "765     5      121            72    23            112  26.2        0.245   30   \n",
       "766     1      126            60     0              0  30.1        0.349   47   \n",
       "767     1       93            70    31              0  30.4        0.315   23   \n",
       "\n",
       "     class  \n",
       "748      1  \n",
       "749      1  \n",
       "750      1  \n",
       "751      0  \n",
       "752      0  \n",
       "753      1  \n",
       "754      1  \n",
       "755      1  \n",
       "756      0  \n",
       "757      1  \n",
       "758      0  \n",
       "759      1  \n",
       "760      0  \n",
       "761      1  \n",
       "762      0  \n",
       "763      0  \n",
       "764      0  \n",
       "765      0  \n",
       "766      1  \n",
       "767      0  "
      ]
     },
     "execution_count": 107,
     "metadata": {},
     "output_type": "execute_result"
    }
   ],
   "source": [
    "data.tail(20)"
   ]
  },
  {
   "cell_type": "code",
   "execution_count": 108,
   "metadata": {
    "collapsed": true
   },
   "outputs": [],
   "source": [
    "# create a copy in case of mistakes\n",
    "datac = data.copy()"
   ]
  },
  {
   "cell_type": "code",
   "execution_count": 109,
   "metadata": {
    "collapsed": false
   },
   "outputs": [
    {
     "data": {
      "text/plain": [
       "(768, 9)"
      ]
     },
     "execution_count": 109,
     "metadata": {},
     "output_type": "execute_result"
    }
   ],
   "source": [
    "# explore the data (768 rows; 9 columns)\n",
    "data.shape"
   ]
  },
  {
   "cell_type": "code",
   "execution_count": 110,
   "metadata": {
    "collapsed": false
   },
   "outputs": [
    {
     "data": {
      "text/plain": [
       "preg               int64\n",
       "pg_conc            int64\n",
       "diastolic_bp       int64\n",
       "skin               int64\n",
       "serum_insulin      int64\n",
       "bmi              float64\n",
       "diabetes_pf      float64\n",
       "age                int64\n",
       "class              int64\n",
       "dtype: object"
      ]
     },
     "execution_count": 110,
     "metadata": {},
     "output_type": "execute_result"
    }
   ],
   "source": [
    "data.dtypes"
   ]
  },
  {
   "cell_type": "code",
   "execution_count": 111,
   "metadata": {
    "collapsed": false
   },
   "outputs": [
    {
     "name": "stdout",
     "output_type": "stream",
     "text": [
      "<class 'pandas.core.frame.DataFrame'>\n",
      "Int64Index: 768 entries, 0 to 767\n",
      "Data columns (total 9 columns):\n",
      "preg             768 non-null int64\n",
      "pg_conc          768 non-null int64\n",
      "diastolic_bp     768 non-null int64\n",
      "skin             768 non-null int64\n",
      "serum_insulin    768 non-null int64\n",
      "bmi              768 non-null float64\n",
      "diabetes_pf      768 non-null float64\n",
      "age              768 non-null int64\n",
      "class            768 non-null int64\n",
      "dtypes: float64(2), int64(7)\n",
      "memory usage: 60.0 KB\n"
     ]
    }
   ],
   "source": [
    "data.info()"
   ]
  },
  {
   "cell_type": "code",
   "execution_count": 112,
   "metadata": {
    "collapsed": false
   },
   "outputs": [
    {
     "data": {
      "text/html": [
       "<div>\n",
       "<table border=\"1\" class=\"dataframe\">\n",
       "  <thead>\n",
       "    <tr style=\"text-align: right;\">\n",
       "      <th></th>\n",
       "      <th>preg</th>\n",
       "      <th>pg_conc</th>\n",
       "      <th>diastolic_bp</th>\n",
       "      <th>skin</th>\n",
       "      <th>serum_insulin</th>\n",
       "      <th>bmi</th>\n",
       "      <th>diabetes_pf</th>\n",
       "      <th>age</th>\n",
       "      <th>class</th>\n",
       "    </tr>\n",
       "  </thead>\n",
       "  <tbody>\n",
       "    <tr>\n",
       "      <th>count</th>\n",
       "      <td>768.000000</td>\n",
       "      <td>768.000000</td>\n",
       "      <td>768.000000</td>\n",
       "      <td>768.000000</td>\n",
       "      <td>768.000000</td>\n",
       "      <td>768.000000</td>\n",
       "      <td>768.000000</td>\n",
       "      <td>768.000000</td>\n",
       "      <td>768.000000</td>\n",
       "    </tr>\n",
       "    <tr>\n",
       "      <th>mean</th>\n",
       "      <td>3.845052</td>\n",
       "      <td>120.894531</td>\n",
       "      <td>69.105469</td>\n",
       "      <td>20.536458</td>\n",
       "      <td>79.799479</td>\n",
       "      <td>31.992578</td>\n",
       "      <td>0.471876</td>\n",
       "      <td>33.240885</td>\n",
       "      <td>0.348958</td>\n",
       "    </tr>\n",
       "    <tr>\n",
       "      <th>std</th>\n",
       "      <td>3.369578</td>\n",
       "      <td>31.972618</td>\n",
       "      <td>19.355807</td>\n",
       "      <td>15.952218</td>\n",
       "      <td>115.244002</td>\n",
       "      <td>7.884160</td>\n",
       "      <td>0.331329</td>\n",
       "      <td>11.760232</td>\n",
       "      <td>0.476951</td>\n",
       "    </tr>\n",
       "    <tr>\n",
       "      <th>min</th>\n",
       "      <td>0.000000</td>\n",
       "      <td>0.000000</td>\n",
       "      <td>0.000000</td>\n",
       "      <td>0.000000</td>\n",
       "      <td>0.000000</td>\n",
       "      <td>0.000000</td>\n",
       "      <td>0.078000</td>\n",
       "      <td>21.000000</td>\n",
       "      <td>0.000000</td>\n",
       "    </tr>\n",
       "    <tr>\n",
       "      <th>25%</th>\n",
       "      <td>1.000000</td>\n",
       "      <td>99.000000</td>\n",
       "      <td>62.000000</td>\n",
       "      <td>0.000000</td>\n",
       "      <td>0.000000</td>\n",
       "      <td>27.300000</td>\n",
       "      <td>0.243750</td>\n",
       "      <td>24.000000</td>\n",
       "      <td>0.000000</td>\n",
       "    </tr>\n",
       "    <tr>\n",
       "      <th>50%</th>\n",
       "      <td>3.000000</td>\n",
       "      <td>117.000000</td>\n",
       "      <td>72.000000</td>\n",
       "      <td>23.000000</td>\n",
       "      <td>30.500000</td>\n",
       "      <td>32.000000</td>\n",
       "      <td>0.372500</td>\n",
       "      <td>29.000000</td>\n",
       "      <td>0.000000</td>\n",
       "    </tr>\n",
       "    <tr>\n",
       "      <th>75%</th>\n",
       "      <td>6.000000</td>\n",
       "      <td>140.250000</td>\n",
       "      <td>80.000000</td>\n",
       "      <td>32.000000</td>\n",
       "      <td>127.250000</td>\n",
       "      <td>36.600000</td>\n",
       "      <td>0.626250</td>\n",
       "      <td>41.000000</td>\n",
       "      <td>1.000000</td>\n",
       "    </tr>\n",
       "    <tr>\n",
       "      <th>max</th>\n",
       "      <td>17.000000</td>\n",
       "      <td>199.000000</td>\n",
       "      <td>122.000000</td>\n",
       "      <td>99.000000</td>\n",
       "      <td>846.000000</td>\n",
       "      <td>67.100000</td>\n",
       "      <td>2.420000</td>\n",
       "      <td>81.000000</td>\n",
       "      <td>1.000000</td>\n",
       "    </tr>\n",
       "  </tbody>\n",
       "</table>\n",
       "</div>"
      ],
      "text/plain": [
       "             preg     pg_conc  diastolic_bp        skin  serum_insulin  \\\n",
       "count  768.000000  768.000000    768.000000  768.000000     768.000000   \n",
       "mean     3.845052  120.894531     69.105469   20.536458      79.799479   \n",
       "std      3.369578   31.972618     19.355807   15.952218     115.244002   \n",
       "min      0.000000    0.000000      0.000000    0.000000       0.000000   \n",
       "25%      1.000000   99.000000     62.000000    0.000000       0.000000   \n",
       "50%      3.000000  117.000000     72.000000   23.000000      30.500000   \n",
       "75%      6.000000  140.250000     80.000000   32.000000     127.250000   \n",
       "max     17.000000  199.000000    122.000000   99.000000     846.000000   \n",
       "\n",
       "              bmi  diabetes_pf         age       class  \n",
       "count  768.000000   768.000000  768.000000  768.000000  \n",
       "mean    31.992578     0.471876   33.240885    0.348958  \n",
       "std      7.884160     0.331329   11.760232    0.476951  \n",
       "min      0.000000     0.078000   21.000000    0.000000  \n",
       "25%     27.300000     0.243750   24.000000    0.000000  \n",
       "50%     32.000000     0.372500   29.000000    0.000000  \n",
       "75%     36.600000     0.626250   41.000000    1.000000  \n",
       "max     67.100000     2.420000   81.000000    1.000000  "
      ]
     },
     "execution_count": 112,
     "metadata": {},
     "output_type": "execute_result"
    }
   ],
   "source": [
    "# view basic analysis/trends in the data as well as outlier possibilities\n",
    "data.describe()"
   ]
  },
  {
   "cell_type": "code",
   "execution_count": 113,
   "metadata": {
    "collapsed": false
   },
   "outputs": [
    {
     "data": {
      "image/png": "[encoded data removed]",
      "text/plain": [
       "<matplotlib.figure.Figure at 0x10ca5c810>"
      ]
     },
     "metadata": {},
     "output_type": "display_data"
    }
   ],
   "source": [
    "# plot histograms to see distributions + any trends with those diagnosed with diabetes\n",
    "plt.figure(figsize=(20, 10))\n",
    "plt.title('Distribution of Number of Pregnancies with Diabetes')\n",
    "sns.countplot(x=data['preg'], color='Salmon')\n",
    "sns.countplot(x=data[data['class']==1]['preg'], color='Gray');"
   ]
  },
  {
   "cell_type": "code",
   "execution_count": 114,
   "metadata": {
    "collapsed": false
   },
   "outputs": [
    {
     "data": {
      "image/png": "[encoded data removed]",
      "text/plain": [
       "<matplotlib.figure.Figure at 0x10d767b10>"
      ]
     },
     "metadata": {},
     "output_type": "display_data"
    }
   ],
   "source": [
    "plt.figure(figsize=(20, 10))\n",
    "plt.title('Distribution of 2-Hour Plasma Glucose Test Results with Diabetes')\n",
    "sns.countplot(x=data['pg_conc'], color='Salmon')\n",
    "sns.countplot(x=data[data['class']==1]['pg_conc'], color='Gray')\n",
    "plt.xticks(rotation=45);"
   ]
  },
  {
   "cell_type": "code",
   "execution_count": 115,
   "metadata": {
    "collapsed": false
   },
   "outputs": [
    {
     "data": {
      "image/png": "[encoded data removed]",
      "text/plain": [
       "<matplotlib.figure.Figure at 0x10f7c3f10>"
      ]
     },
     "metadata": {},
     "output_type": "display_data"
    }
   ],
   "source": [
    "plt.figure(figsize=(20, 10))\n",
    "plt.title('Distribution of Diastolic Blood Pressure with Diabetes')\n",
    "sns.countplot(x=data['diastolic_bp'], color='Salmon')\n",
    "sns.countplot(x=data[data['class']==1]['diastolic_bp'], color='Gray')\n",
    "plt.xticks(rotation=45);"
   ]
  },
  {
   "cell_type": "code",
   "execution_count": 116,
   "metadata": {
    "collapsed": false
   },
   "outputs": [
    {
     "data": {
      "image/png": "[encoded data removed]",
      "text/plain": [
       "<matplotlib.figure.Figure at 0x10ce93810>"
      ]
     },
     "metadata": {},
     "output_type": "display_data"
    }
   ],
   "source": [
    "plt.figure(figsize=(20, 10))\n",
    "plt.title('Distribution of Tricep Skin Thickness with Diabetes')\n",
    "sns.countplot(x=data['skin'], color='Salmon')\n",
    "sns.countplot(x=data[data['class']==1]['skin'], color='Gray')\n",
    "plt.xticks(rotation=45);"
   ]
  },
  {
   "cell_type": "code",
   "execution_count": 117,
   "metadata": {
    "collapsed": false
   },
   "outputs": [
    {
     "data": {
      "image/png": "[encoded data removed]",
      "text/plain": [
       "<matplotlib.figure.Figure at 0x10d674890>"
      ]
     },
     "metadata": {},
     "output_type": "display_data"
    }
   ],
   "source": [
    "plt.figure(figsize=(20, 10))\n",
    "plt.title('Distribution of 2-Hour Serum Insulin Test Results with Diabetes')\n",
    "sns.countplot(x=data['serum_insulin'], color='Salmon')\n",
    "sns.countplot(x=data[data['class']==1]['serum_insulin'], color='Gray')\n",
    "plt.xticks(rotation=45);"
   ]
  },
  {
   "cell_type": "code",
   "execution_count": 118,
   "metadata": {
    "collapsed": false
   },
   "outputs": [
    {
     "data": {
      "image/png": "[encoded data removed]",
      "text/plain": [
       "<matplotlib.figure.Figure at 0x10d636c50>"
      ]
     },
     "metadata": {},
     "output_type": "display_data"
    }
   ],
   "source": [
    "plt.figure(figsize=(20, 10))\n",
    "plt.title('Distribution of Body Mass Index with Diabetes')\n",
    "sns.countplot(x=data['bmi'], color='Salmon')\n",
    "sns.countplot(x=data[data['class']==1]['bmi'], color='Gray')\n",
    "plt.xticks(rotation=45);"
   ]
  },
  {
   "cell_type": "code",
   "execution_count": 119,
   "metadata": {
    "collapsed": false
   },
   "outputs": [
    {
     "data": {
      "image/png": "[encoded data removed]",
      "text/plain": [
       "<matplotlib.figure.Figure at 0x10b4e6290>"
      ]
     },
     "metadata": {},
     "output_type": "display_data"
    }
   ],
   "source": [
    "plt.figure(figsize=(20, 10))\n",
    "plt.title('Distribution of Diabetes Pedigree Function with Diabetes')\n",
    "sns.countplot(x=data['diabetes_pf'], color='Salmon')\n",
    "sns.countplot(x=data[data['class']==1]['diabetes_pf'], color='Gray')\n",
    "plt.xticks(rotation=45);"
   ]
  },
  {
   "cell_type": "code",
   "execution_count": 120,
   "metadata": {
    "collapsed": false
   },
   "outputs": [
    {
     "data": {
      "image/png": "[encoded data removed]",
      "text/plain": [
       "<matplotlib.figure.Figure at 0x103c50ed0>"
      ]
     },
     "metadata": {},
     "output_type": "display_data"
    }
   ],
   "source": [
    "plt.figure(figsize=(20, 10))\n",
    "plt.title('Distribution of Ages with Diabetes')\n",
    "sns.countplot(x=data['age'], color='Salmon')\n",
    "sns.countplot(x=data[data['class']==1]['age'], color='Gray');"
   ]
  },
  {
   "cell_type": "code",
   "execution_count": 121,
   "metadata": {
    "collapsed": false
   },
   "outputs": [
    {
     "data": {
      "image/png": "[encoded data removed]",
      "text/plain": [
       "<matplotlib.figure.Figure at 0x10f563b90>"
      ]
     },
     "metadata": {},
     "output_type": "display_data"
    }
   ],
   "source": [
    "# Plot box and whisker plots to help identify variation/outliers\n",
    "data.plot(kind='box', vert=False, figsize=(20, 6), xlim=(0, 200), title='Box Plots - Pima Indian Dataset');"
   ]
  },
  {
   "cell_type": "markdown",
   "metadata": {},
   "source": [
    "## 2) Describe the features and formulate a hypothesis on which might be relevant in predicting diabetes"
   ]
  },
  {
   "cell_type": "markdown",
   "metadata": {},
   "source": [
    "After [reading](http://www.webmd.com/diabetes/guide/diabetes-basics) a little bit about diabetes, I predict that high glucose levels (pg_conc) and low insulin levels (serum_insulin) should be most relevant in predicting diabetes. Being overweight is a risk factor for Type 2 diabetes (which is more common than any of the other types), so I would also estimate that body mass index (bmi), triceps skin fold thickness (skin), and to perhaps a lesser degree diastolic blood pressure (diastolic_bp) should also be helpful diabetes predictors -- although I would also guess that the first two will be highly correlated. Note that the prevelance in the general population is 9.3% and in seniors is 25.9% (in the USA, in 2012)--much lower than in this population's at the time of the study.\n",
    "<br><br>\n",
    "In terms of feature engineering, I think it would be interesting to look at the ratio of plasma glucose concentration to serum insulin after a two-hour test to see if the balance of glucose and insulin in one's blood has an effect on predicting diabetes onset. One obstacle in applying this ratio might be the fact that we are not given the units for the 2-hour plasma glucose concentration test, but I still attempt to take a look at its effect on testing accuracy below."
   ]
  },
  {
   "cell_type": "code",
   "execution_count": 122,
   "metadata": {
    "collapsed": false
   },
   "outputs": [
    {
     "data": {
      "text/html": [
       "<div>\n",
       "<table border=\"1\" class=\"dataframe\">\n",
       "  <thead>\n",
       "    <tr style=\"text-align: right;\">\n",
       "      <th></th>\n",
       "      <th>preg</th>\n",
       "      <th>pg_conc</th>\n",
       "      <th>diastolic_bp</th>\n",
       "      <th>skin</th>\n",
       "      <th>serum_insulin</th>\n",
       "      <th>bmi</th>\n",
       "      <th>diabetes_pf</th>\n",
       "      <th>age</th>\n",
       "      <th>class</th>\n",
       "    </tr>\n",
       "  </thead>\n",
       "  <tbody>\n",
       "    <tr>\n",
       "      <th>preg</th>\n",
       "      <td>1.000000</td>\n",
       "      <td>0.129459</td>\n",
       "      <td>0.141282</td>\n",
       "      <td>-0.081672</td>\n",
       "      <td>-0.073535</td>\n",
       "      <td>0.017683</td>\n",
       "      <td>-0.033523</td>\n",
       "      <td>0.544341</td>\n",
       "      <td>0.221898</td>\n",
       "    </tr>\n",
       "    <tr>\n",
       "      <th>pg_conc</th>\n",
       "      <td>0.129459</td>\n",
       "      <td>1.000000</td>\n",
       "      <td>0.152590</td>\n",
       "      <td>0.057328</td>\n",
       "      <td>0.331357</td>\n",
       "      <td>0.221071</td>\n",
       "      <td>0.137337</td>\n",
       "      <td>0.263514</td>\n",
       "      <td>0.466581</td>\n",
       "    </tr>\n",
       "    <tr>\n",
       "      <th>diastolic_bp</th>\n",
       "      <td>0.141282</td>\n",
       "      <td>0.152590</td>\n",
       "      <td>1.000000</td>\n",
       "      <td>0.207371</td>\n",
       "      <td>0.088933</td>\n",
       "      <td>0.281805</td>\n",
       "      <td>0.041265</td>\n",
       "      <td>0.239528</td>\n",
       "      <td>0.065068</td>\n",
       "    </tr>\n",
       "    <tr>\n",
       "      <th>skin</th>\n",
       "      <td>-0.081672</td>\n",
       "      <td>0.057328</td>\n",
       "      <td>0.207371</td>\n",
       "      <td>1.000000</td>\n",
       "      <td>0.436783</td>\n",
       "      <td>0.392573</td>\n",
       "      <td>0.183928</td>\n",
       "      <td>-0.113970</td>\n",
       "      <td>0.074752</td>\n",
       "    </tr>\n",
       "    <tr>\n",
       "      <th>serum_insulin</th>\n",
       "      <td>-0.073535</td>\n",
       "      <td>0.331357</td>\n",
       "      <td>0.088933</td>\n",
       "      <td>0.436783</td>\n",
       "      <td>1.000000</td>\n",
       "      <td>0.197859</td>\n",
       "      <td>0.185071</td>\n",
       "      <td>-0.042163</td>\n",
       "      <td>0.130548</td>\n",
       "    </tr>\n",
       "    <tr>\n",
       "      <th>bmi</th>\n",
       "      <td>0.017683</td>\n",
       "      <td>0.221071</td>\n",
       "      <td>0.281805</td>\n",
       "      <td>0.392573</td>\n",
       "      <td>0.197859</td>\n",
       "      <td>1.000000</td>\n",
       "      <td>0.140647</td>\n",
       "      <td>0.036242</td>\n",
       "      <td>0.292695</td>\n",
       "    </tr>\n",
       "    <tr>\n",
       "      <th>diabetes_pf</th>\n",
       "      <td>-0.033523</td>\n",
       "      <td>0.137337</td>\n",
       "      <td>0.041265</td>\n",
       "      <td>0.183928</td>\n",
       "      <td>0.185071</td>\n",
       "      <td>0.140647</td>\n",
       "      <td>1.000000</td>\n",
       "      <td>0.033561</td>\n",
       "      <td>0.173844</td>\n",
       "    </tr>\n",
       "    <tr>\n",
       "      <th>age</th>\n",
       "      <td>0.544341</td>\n",
       "      <td>0.263514</td>\n",
       "      <td>0.239528</td>\n",
       "      <td>-0.113970</td>\n",
       "      <td>-0.042163</td>\n",
       "      <td>0.036242</td>\n",
       "      <td>0.033561</td>\n",
       "      <td>1.000000</td>\n",
       "      <td>0.238356</td>\n",
       "    </tr>\n",
       "    <tr>\n",
       "      <th>class</th>\n",
       "      <td>0.221898</td>\n",
       "      <td>0.466581</td>\n",
       "      <td>0.065068</td>\n",
       "      <td>0.074752</td>\n",
       "      <td>0.130548</td>\n",
       "      <td>0.292695</td>\n",
       "      <td>0.173844</td>\n",
       "      <td>0.238356</td>\n",
       "      <td>1.000000</td>\n",
       "    </tr>\n",
       "  </tbody>\n",
       "</table>\n",
       "</div>"
      ],
      "text/plain": [
       "                   preg   pg_conc  diastolic_bp      skin  serum_insulin  \\\n",
       "preg           1.000000  0.129459      0.141282 -0.081672      -0.073535   \n",
       "pg_conc        0.129459  1.000000      0.152590  0.057328       0.331357   \n",
       "diastolic_bp   0.141282  0.152590      1.000000  0.207371       0.088933   \n",
       "skin          -0.081672  0.057328      0.207371  1.000000       0.436783   \n",
       "serum_insulin -0.073535  0.331357      0.088933  0.436783       1.000000   \n",
       "bmi            0.017683  0.221071      0.281805  0.392573       0.197859   \n",
       "diabetes_pf   -0.033523  0.137337      0.041265  0.183928       0.185071   \n",
       "age            0.544341  0.263514      0.239528 -0.113970      -0.042163   \n",
       "class          0.221898  0.466581      0.065068  0.074752       0.130548   \n",
       "\n",
       "                    bmi  diabetes_pf       age     class  \n",
       "preg           0.017683    -0.033523  0.544341  0.221898  \n",
       "pg_conc        0.221071     0.137337  0.263514  0.466581  \n",
       "diastolic_bp   0.281805     0.041265  0.239528  0.065068  \n",
       "skin           0.392573     0.183928 -0.113970  0.074752  \n",
       "serum_insulin  0.197859     0.185071 -0.042163  0.130548  \n",
       "bmi            1.000000     0.140647  0.036242  0.292695  \n",
       "diabetes_pf    0.140647     1.000000  0.033561  0.173844  \n",
       "age            0.036242     0.033561  1.000000  0.238356  \n",
       "class          0.292695     0.173844  0.238356  1.000000  "
      ]
     },
     "execution_count": 122,
     "metadata": {},
     "output_type": "execute_result"
    }
   ],
   "source": [
    "# Look at how correlated the features are --> not very (age/preg, skin/bmi, and pg_conc/class at ~.5; .7 is threshold)\n",
    "data.corr()"
   ]
  },
  {
   "cell_type": "markdown",
   "metadata": {},
   "source": [
    "### Data Dictionary (describes the features):\n",
    "[reference](https://archive.ics.uci.edu/ml/datasets/Pima+Indians+Diabetes)\n",
    "<table>\n",
    "    <tr>\n",
    "        <td>**Field Name**</td>\n",
    "        <td>**Type**</td>\n",
    "        <td>**Description**</td>\n",
    "    </tr>\n",
    "    <tr>\n",
    "        <td>preg</td>\n",
    "        <td>integer</td>\n",
    "        <td>Number of times pregnant</td>\n",
    "    </tr>\n",
    "    <tr>\n",
    "        <td>pg_conc</td>\n",
    "        <td>integer</td>\n",
    "        <td>Plasma glucose concentration a[t] 2 hours in an oral glucose tolerance test\n",
    "        <br>(units not given, but maybe mg/dL)</td>\n",
    "    </tr>\n",
    "    <tr>\n",
    "        <td>diastolic_bp</td>\n",
    "        <td>integer</td>\n",
    "        <td>Diastolic blood pressure (mm Hg)</td>\n",
    "    </tr>\n",
    "    <tr>\n",
    "        <td>skin</td>\n",
    "        <td>integer</td>\n",
    "        <td>Triceps skin fold thickness (mm)</td>\n",
    "    </tr>\n",
    "    <tr>\n",
    "        <td>serum_insulin</td>\n",
    "        <td>integer</td>\n",
    "        <td>2-Hour serum insulin (mu U/ml)</td>\n",
    "    </tr>\n",
    "    <tr>\n",
    "        <td>bmi</td>\n",
    "        <td>float</td>\n",
    "        <td>Body mass index (weight in kg/(height in m)^2)</td>\n",
    "    </tr>\n",
    "    <tr>\n",
    "        <td>diabetes_pf</td>\n",
    "        <td>float</td>\n",
    "        <td>Diabetes pedigree function</td>\n",
    "    </tr>\n",
    "    <tr>\n",
    "        <td>age</td>\n",
    "        <td>integer</td>\n",
    "        <td>Age (years)</td>\n",
    "    </tr>\n",
    "    <tr>\n",
    "        <td>class</td>\n",
    "        <td>integer (0 or 1)</td>\n",
    "        <td>Class variable (0 to signify no diabetes or 1 to signify diabetes)</td>\n",
    "    </tr>\n",
    "    <tr>\n",
    "        <td>ratio</td>\n",
    "        <td>float</td>\n",
    "        <td>New feature I created, tested in one of the dataframes (datar):  pg_conc/serum_insulin\n",
    "        <br>Ratio of plasma glucose in blood after two hour test to serum insulin after two hour test\n",
    "        <br>(see end of Heading 3 for creation)</br>\n",
    "        </td>\n",
    "    </tr>\n",
    "</table>\n",
    "        \n",
    "        \n",
    "\n"
   ]
  },
  {
   "cell_type": "markdown",
   "metadata": {},
   "source": [
    "## 3) Describe the missing/NULL values. Decide if you should impute or drop them and justify your choice."
   ]
  },
  {
   "cell_type": "markdown",
   "metadata": {},
   "source": [
    "As established above, the missing/NULL values are ones encoded as \"0\" in places where it is biologically impossible to read as such (i.e. skin thickness, body mass index, etc.). Scanning through each feature, \"0\" should therefore represent a missing value in each of the columns except in number of times pregnant (preg) as it is possible for a woman to have never become pregnant and in class variable (class) as it is a binary classifier. Note that for those latter features, as \"0\" is a very possible data point, it is impossible for me to know if there are any missing values encoded as \"0\" there or actual entries listed as \"0\". But for the sake of having more data rather than less, I am going to err on the side of actual data for the purpose of this exercise."
   ]
  },
  {
   "cell_type": "markdown",
   "metadata": {},
   "source": [
    "After replacing the \"0\"s with NaNs and analyzing which columns have missing values, I dropped some rows and imputed others. Body Mass Index (bmi) and plasma glucose concentration (pg_conc) comprise such a small amout of data that it should be okay to drop (under 2%).\n",
    "\n",
    "The dataframe yielded similar stats when I compared its values with diastolic bloop pressure (diastolic_bp)'s missing values and without. So I imputed diastolic_bp's missing values with its median. I followed the same process with trifold skin thickness (skin).\n",
    "\n",
    "The two-hour insulin test (serum_insulin) has significantly more missing data, at almost 49%. This is very close to the 50% threshold rule of thumb for dropping a column of data. So I am going to test two versions:  one with serum_insulin dropped completely and one with its missing values imputed as its median to see which performs better."
   ]
  },
  {
   "cell_type": "code",
   "execution_count": 123,
   "metadata": {
    "collapsed": false
   },
   "outputs": [],
   "source": [
    "# Replace missing value \"0\" with NaN in each column except preg and class\n",
    "data[['pg_conc', 'diastolic_bp', 'skin', 'serum_insulin', 'bmi', 'diabetes_pf', 'age']] = data[['pg_conc', 'diastolic_bp', 'skin', 'serum_insulin', 'bmi', 'diabetes_pf', 'age']].replace(to_replace='0', value=np.nan)"
   ]
  },
  {
   "cell_type": "code",
   "execution_count": 124,
   "metadata": {
    "collapsed": false
   },
   "outputs": [
    {
     "data": {
      "text/html": [
       "<div>\n",
       "<table border=\"1\" class=\"dataframe\">\n",
       "  <thead>\n",
       "    <tr style=\"text-align: right;\">\n",
       "      <th></th>\n",
       "      <th>preg</th>\n",
       "      <th>pg_conc</th>\n",
       "      <th>diastolic_bp</th>\n",
       "      <th>skin</th>\n",
       "      <th>serum_insulin</th>\n",
       "      <th>bmi</th>\n",
       "      <th>diabetes_pf</th>\n",
       "      <th>age</th>\n",
       "      <th>class</th>\n",
       "    </tr>\n",
       "  </thead>\n",
       "  <tbody>\n",
       "    <tr>\n",
       "      <th>0</th>\n",
       "      <td>6</td>\n",
       "      <td>148</td>\n",
       "      <td>72</td>\n",
       "      <td>35</td>\n",
       "      <td>NaN</td>\n",
       "      <td>33.6</td>\n",
       "      <td>0.627</td>\n",
       "      <td>50</td>\n",
       "      <td>1</td>\n",
       "    </tr>\n",
       "    <tr>\n",
       "      <th>1</th>\n",
       "      <td>1</td>\n",
       "      <td>85</td>\n",
       "      <td>66</td>\n",
       "      <td>29</td>\n",
       "      <td>NaN</td>\n",
       "      <td>26.6</td>\n",
       "      <td>0.351</td>\n",
       "      <td>31</td>\n",
       "      <td>0</td>\n",
       "    </tr>\n",
       "    <tr>\n",
       "      <th>2</th>\n",
       "      <td>8</td>\n",
       "      <td>183</td>\n",
       "      <td>64</td>\n",
       "      <td>NaN</td>\n",
       "      <td>NaN</td>\n",
       "      <td>23.3</td>\n",
       "      <td>0.672</td>\n",
       "      <td>32</td>\n",
       "      <td>1</td>\n",
       "    </tr>\n",
       "    <tr>\n",
       "      <th>3</th>\n",
       "      <td>1</td>\n",
       "      <td>89</td>\n",
       "      <td>66</td>\n",
       "      <td>23</td>\n",
       "      <td>94</td>\n",
       "      <td>28.1</td>\n",
       "      <td>0.167</td>\n",
       "      <td>21</td>\n",
       "      <td>0</td>\n",
       "    </tr>\n",
       "    <tr>\n",
       "      <th>4</th>\n",
       "      <td>0</td>\n",
       "      <td>137</td>\n",
       "      <td>40</td>\n",
       "      <td>35</td>\n",
       "      <td>168</td>\n",
       "      <td>43.1</td>\n",
       "      <td>2.288</td>\n",
       "      <td>33</td>\n",
       "      <td>1</td>\n",
       "    </tr>\n",
       "  </tbody>\n",
       "</table>\n",
       "</div>"
      ],
      "text/plain": [
       "   preg  pg_conc  diastolic_bp  skin  serum_insulin   bmi  diabetes_pf  age  \\\n",
       "0     6      148            72    35            NaN  33.6        0.627   50   \n",
       "1     1       85            66    29            NaN  26.6        0.351   31   \n",
       "2     8      183            64   NaN            NaN  23.3        0.672   32   \n",
       "3     1       89            66    23             94  28.1        0.167   21   \n",
       "4     0      137            40    35            168  43.1        2.288   33   \n",
       "\n",
       "   class  \n",
       "0      1  \n",
       "1      0  \n",
       "2      1  \n",
       "3      0  \n",
       "4      1  "
      ]
     },
     "execution_count": 124,
     "metadata": {},
     "output_type": "execute_result"
    }
   ],
   "source": [
    "data.head()"
   ]
  },
  {
   "cell_type": "code",
   "execution_count": 125,
   "metadata": {
    "collapsed": false
   },
   "outputs": [
    {
     "name": "stdout",
     "output_type": "stream",
     "text": [
      "<class 'pandas.core.frame.DataFrame'>\n",
      "Int64Index: 768 entries, 0 to 767\n",
      "Data columns (total 9 columns):\n",
      "preg             768 non-null int64\n",
      "pg_conc          763 non-null float64\n",
      "diastolic_bp     733 non-null float64\n",
      "skin             541 non-null float64\n",
      "serum_insulin    394 non-null float64\n",
      "bmi              757 non-null float64\n",
      "diabetes_pf      768 non-null float64\n",
      "age              768 non-null int64\n",
      "class            768 non-null int64\n",
      "dtypes: float64(6), int64(3)\n",
      "memory usage: 60.0 KB\n"
     ]
    }
   ],
   "source": [
    "data.info()"
   ]
  },
  {
   "cell_type": "code",
   "execution_count": 126,
   "metadata": {
    "collapsed": false
   },
   "outputs": [
    {
     "data": {
      "text/html": [
       "<div>\n",
       "<table border=\"1\" class=\"dataframe\">\n",
       "  <thead>\n",
       "    <tr style=\"text-align: right;\">\n",
       "      <th></th>\n",
       "      <th>age</th>\n",
       "      <th>bmi</th>\n",
       "      <th>class</th>\n",
       "      <th>diabetes_pf</th>\n",
       "      <th>diastolic_bp</th>\n",
       "      <th>pg_conc</th>\n",
       "      <th>preg</th>\n",
       "      <th>serum_insulin</th>\n",
       "      <th>skin</th>\n",
       "    </tr>\n",
       "  </thead>\n",
       "  <tbody>\n",
       "    <tr>\n",
       "      <th>0</th>\n",
       "      <td>0</td>\n",
       "      <td>0.014323</td>\n",
       "      <td>0</td>\n",
       "      <td>0</td>\n",
       "      <td>0.045573</td>\n",
       "      <td>0.00651</td>\n",
       "      <td>0</td>\n",
       "      <td>0.486979</td>\n",
       "      <td>0.295573</td>\n",
       "    </tr>\n",
       "  </tbody>\n",
       "</table>\n",
       "</div>"
      ],
      "text/plain": [
       "   age       bmi  class  diabetes_pf  diastolic_bp  pg_conc  preg  \\\n",
       "0    0  0.014323      0            0      0.045573  0.00651     0   \n",
       "\n",
       "   serum_insulin      skin  \n",
       "0       0.486979  0.295573  "
      ]
     },
     "execution_count": 126,
     "metadata": {},
     "output_type": "execute_result"
    }
   ],
   "source": [
    "# create a dataframe of calculations of missing data for each column\n",
    "md = {'preg' : [0/768.0],\n",
    "         'pg_conc' : [5/768.0],\n",
    "         'diastolic_bp': [35/768.0],\n",
    "         'skin': [227/768.0],\n",
    "         'serum_insulin': [374/768.0],\n",
    "         'bmi': [11/768.0],\n",
    "         'diabetes_pf': [0/768.0],\n",
    "         'age': [0/768.0],\n",
    "         'class': [0/768.0]}\n",
    "\n",
    "missing = pd.DataFrame(md)\n",
    "missing"
   ]
  },
  {
   "cell_type": "code",
   "execution_count": 127,
   "metadata": {
    "collapsed": false
   },
   "outputs": [
    {
     "data": {
      "image/png": "[encoded data removed]",
      "text/plain": [
       "<matplotlib.figure.Figure at 0x10cc00cd0>"
      ]
     },
     "metadata": {},
     "output_type": "display_data"
    }
   ],
   "source": [
    "# graph the missing data\n",
    "plt.title('Proportion of Missing Data per Feature')\n",
    "sns.barplot(data=missing, ci=None, orient='h', order=data.columns);"
   ]
  },
  {
   "cell_type": "code",
   "execution_count": 128,
   "metadata": {
    "collapsed": false
   },
   "outputs": [
    {
     "data": {
      "text/html": [
       "<div>\n",
       "<table border=\"1\" class=\"dataframe\">\n",
       "  <thead>\n",
       "    <tr style=\"text-align: right;\">\n",
       "      <th></th>\n",
       "      <th>preg</th>\n",
       "      <th>pg_conc</th>\n",
       "      <th>diastolic_bp</th>\n",
       "      <th>skin</th>\n",
       "      <th>serum_insulin</th>\n",
       "      <th>bmi</th>\n",
       "      <th>diabetes_pf</th>\n",
       "      <th>age</th>\n",
       "      <th>class</th>\n",
       "    </tr>\n",
       "  </thead>\n",
       "  <tbody>\n",
       "    <tr>\n",
       "      <th>count</th>\n",
       "      <td>35.000000</td>\n",
       "      <td>35.000000</td>\n",
       "      <td>0</td>\n",
       "      <td>2.000000</td>\n",
       "      <td>0</td>\n",
       "      <td>28.000000</td>\n",
       "      <td>35.000000</td>\n",
       "      <td>35.000000</td>\n",
       "      <td>35.000000</td>\n",
       "    </tr>\n",
       "    <tr>\n",
       "      <th>mean</th>\n",
       "      <td>3.628571</td>\n",
       "      <td>117.800000</td>\n",
       "      <td>NaN</td>\n",
       "      <td>26.500000</td>\n",
       "      <td>NaN</td>\n",
       "      <td>32.132143</td>\n",
       "      <td>0.388429</td>\n",
       "      <td>30.714286</td>\n",
       "      <td>0.457143</td>\n",
       "    </tr>\n",
       "    <tr>\n",
       "      <th>std</th>\n",
       "      <td>3.646801</td>\n",
       "      <td>27.488821</td>\n",
       "      <td>NaN</td>\n",
       "      <td>4.949747</td>\n",
       "      <td>NaN</td>\n",
       "      <td>8.029393</td>\n",
       "      <td>0.254266</td>\n",
       "      <td>9.820661</td>\n",
       "      <td>0.505433</td>\n",
       "    </tr>\n",
       "    <tr>\n",
       "      <th>min</th>\n",
       "      <td>0.000000</td>\n",
       "      <td>73.000000</td>\n",
       "      <td>NaN</td>\n",
       "      <td>23.000000</td>\n",
       "      <td>NaN</td>\n",
       "      <td>19.600000</td>\n",
       "      <td>0.102000</td>\n",
       "      <td>21.000000</td>\n",
       "      <td>0.000000</td>\n",
       "    </tr>\n",
       "    <tr>\n",
       "      <th>25%</th>\n",
       "      <td>0.000000</td>\n",
       "      <td>97.500000</td>\n",
       "      <td>NaN</td>\n",
       "      <td>24.750000</td>\n",
       "      <td>NaN</td>\n",
       "      <td>26.925000</td>\n",
       "      <td>0.197500</td>\n",
       "      <td>24.500000</td>\n",
       "      <td>0.000000</td>\n",
       "    </tr>\n",
       "    <tr>\n",
       "      <th>50%</th>\n",
       "      <td>2.000000</td>\n",
       "      <td>117.000000</td>\n",
       "      <td>NaN</td>\n",
       "      <td>26.500000</td>\n",
       "      <td>NaN</td>\n",
       "      <td>30.000000</td>\n",
       "      <td>0.282000</td>\n",
       "      <td>28.000000</td>\n",
       "      <td>0.000000</td>\n",
       "    </tr>\n",
       "    <tr>\n",
       "      <th>75%</th>\n",
       "      <td>6.000000</td>\n",
       "      <td>133.500000</td>\n",
       "      <td>NaN</td>\n",
       "      <td>28.250000</td>\n",
       "      <td>NaN</td>\n",
       "      <td>36.850000</td>\n",
       "      <td>0.573500</td>\n",
       "      <td>34.000000</td>\n",
       "      <td>1.000000</td>\n",
       "    </tr>\n",
       "    <tr>\n",
       "      <th>max</th>\n",
       "      <td>13.000000</td>\n",
       "      <td>183.000000</td>\n",
       "      <td>NaN</td>\n",
       "      <td>30.000000</td>\n",
       "      <td>NaN</td>\n",
       "      <td>52.300000</td>\n",
       "      <td>0.933000</td>\n",
       "      <td>72.000000</td>\n",
       "      <td>1.000000</td>\n",
       "    </tr>\n",
       "  </tbody>\n",
       "</table>\n",
       "</div>"
      ],
      "text/plain": [
       "            preg     pg_conc  diastolic_bp       skin  serum_insulin  \\\n",
       "count  35.000000   35.000000             0   2.000000              0   \n",
       "mean    3.628571  117.800000           NaN  26.500000            NaN   \n",
       "std     3.646801   27.488821           NaN   4.949747            NaN   \n",
       "min     0.000000   73.000000           NaN  23.000000            NaN   \n",
       "25%     0.000000   97.500000           NaN  24.750000            NaN   \n",
       "50%     2.000000  117.000000           NaN  26.500000            NaN   \n",
       "75%     6.000000  133.500000           NaN  28.250000            NaN   \n",
       "max    13.000000  183.000000           NaN  30.000000            NaN   \n",
       "\n",
       "             bmi  diabetes_pf        age      class  \n",
       "count  28.000000    35.000000  35.000000  35.000000  \n",
       "mean   32.132143     0.388429  30.714286   0.457143  \n",
       "std     8.029393     0.254266   9.820661   0.505433  \n",
       "min    19.600000     0.102000  21.000000   0.000000  \n",
       "25%    26.925000     0.197500  24.500000   0.000000  \n",
       "50%    30.000000     0.282000  28.000000   0.000000  \n",
       "75%    36.850000     0.573500  34.000000   1.000000  \n",
       "max    52.300000     0.933000  72.000000   1.000000  "
      ]
     },
     "execution_count": 128,
     "metadata": {},
     "output_type": "execute_result"
    }
   ],
   "source": [
    "# look at data where diastolic_bp is missing\n",
    "data.loc[data['diastolic_bp'].isnull(),:].describe()"
   ]
  },
  {
   "cell_type": "code",
   "execution_count": 129,
   "metadata": {
    "collapsed": false
   },
   "outputs": [
    {
     "data": {
      "text/html": [
       "<div>\n",
       "<table border=\"1\" class=\"dataframe\">\n",
       "  <thead>\n",
       "    <tr style=\"text-align: right;\">\n",
       "      <th></th>\n",
       "      <th>preg</th>\n",
       "      <th>pg_conc</th>\n",
       "      <th>diastolic_bp</th>\n",
       "      <th>skin</th>\n",
       "      <th>serum_insulin</th>\n",
       "      <th>bmi</th>\n",
       "      <th>diabetes_pf</th>\n",
       "      <th>age</th>\n",
       "      <th>class</th>\n",
       "    </tr>\n",
       "  </thead>\n",
       "  <tbody>\n",
       "    <tr>\n",
       "      <th>count</th>\n",
       "      <td>733.000000</td>\n",
       "      <td>728.000000</td>\n",
       "      <td>733.000000</td>\n",
       "      <td>539.000000</td>\n",
       "      <td>394.000000</td>\n",
       "      <td>729.000000</td>\n",
       "      <td>733.000000</td>\n",
       "      <td>733.000000</td>\n",
       "      <td>733.000000</td>\n",
       "    </tr>\n",
       "    <tr>\n",
       "      <th>mean</th>\n",
       "      <td>3.855389</td>\n",
       "      <td>121.873626</td>\n",
       "      <td>72.405184</td>\n",
       "      <td>29.163265</td>\n",
       "      <td>155.548223</td>\n",
       "      <td>32.469959</td>\n",
       "      <td>0.475861</td>\n",
       "      <td>33.361528</td>\n",
       "      <td>0.343793</td>\n",
       "    </tr>\n",
       "    <tr>\n",
       "      <th>std</th>\n",
       "      <td>3.358106</td>\n",
       "      <td>30.679207</td>\n",
       "      <td>12.382158</td>\n",
       "      <td>10.493017</td>\n",
       "      <td>118.775855</td>\n",
       "      <td>6.885098</td>\n",
       "      <td>0.334179</td>\n",
       "      <td>11.837077</td>\n",
       "      <td>0.475297</td>\n",
       "    </tr>\n",
       "    <tr>\n",
       "      <th>min</th>\n",
       "      <td>0.000000</td>\n",
       "      <td>44.000000</td>\n",
       "      <td>24.000000</td>\n",
       "      <td>7.000000</td>\n",
       "      <td>14.000000</td>\n",
       "      <td>18.200000</td>\n",
       "      <td>0.078000</td>\n",
       "      <td>21.000000</td>\n",
       "      <td>0.000000</td>\n",
       "    </tr>\n",
       "    <tr>\n",
       "      <th>25%</th>\n",
       "      <td>1.000000</td>\n",
       "      <td>100.000000</td>\n",
       "      <td>64.000000</td>\n",
       "      <td>22.000000</td>\n",
       "      <td>76.250000</td>\n",
       "      <td>27.500000</td>\n",
       "      <td>0.245000</td>\n",
       "      <td>24.000000</td>\n",
       "      <td>0.000000</td>\n",
       "    </tr>\n",
       "    <tr>\n",
       "      <th>50%</th>\n",
       "      <td>3.000000</td>\n",
       "      <td>117.000000</td>\n",
       "      <td>72.000000</td>\n",
       "      <td>29.000000</td>\n",
       "      <td>125.000000</td>\n",
       "      <td>32.400000</td>\n",
       "      <td>0.380000</td>\n",
       "      <td>29.000000</td>\n",
       "      <td>0.000000</td>\n",
       "    </tr>\n",
       "    <tr>\n",
       "      <th>75%</th>\n",
       "      <td>6.000000</td>\n",
       "      <td>141.250000</td>\n",
       "      <td>80.000000</td>\n",
       "      <td>36.000000</td>\n",
       "      <td>190.000000</td>\n",
       "      <td>36.600000</td>\n",
       "      <td>0.629000</td>\n",
       "      <td>41.000000</td>\n",
       "      <td>1.000000</td>\n",
       "    </tr>\n",
       "    <tr>\n",
       "      <th>max</th>\n",
       "      <td>17.000000</td>\n",
       "      <td>199.000000</td>\n",
       "      <td>122.000000</td>\n",
       "      <td>99.000000</td>\n",
       "      <td>846.000000</td>\n",
       "      <td>67.100000</td>\n",
       "      <td>2.420000</td>\n",
       "      <td>81.000000</td>\n",
       "      <td>1.000000</td>\n",
       "    </tr>\n",
       "  </tbody>\n",
       "</table>\n",
       "</div>"
      ],
      "text/plain": [
       "             preg     pg_conc  diastolic_bp        skin  serum_insulin  \\\n",
       "count  733.000000  728.000000    733.000000  539.000000     394.000000   \n",
       "mean     3.855389  121.873626     72.405184   29.163265     155.548223   \n",
       "std      3.358106   30.679207     12.382158   10.493017     118.775855   \n",
       "min      0.000000   44.000000     24.000000    7.000000      14.000000   \n",
       "25%      1.000000  100.000000     64.000000   22.000000      76.250000   \n",
       "50%      3.000000  117.000000     72.000000   29.000000     125.000000   \n",
       "75%      6.000000  141.250000     80.000000   36.000000     190.000000   \n",
       "max     17.000000  199.000000    122.000000   99.000000     846.000000   \n",
       "\n",
       "              bmi  diabetes_pf         age       class  \n",
       "count  729.000000   733.000000  733.000000  733.000000  \n",
       "mean    32.469959     0.475861   33.361528    0.343793  \n",
       "std      6.885098     0.334179   11.837077    0.475297  \n",
       "min     18.200000     0.078000   21.000000    0.000000  \n",
       "25%     27.500000     0.245000   24.000000    0.000000  \n",
       "50%     32.400000     0.380000   29.000000    0.000000  \n",
       "75%     36.600000     0.629000   41.000000    1.000000  \n",
       "max     67.100000     2.420000   81.000000    1.000000  "
      ]
     },
     "execution_count": 129,
     "metadata": {},
     "output_type": "execute_result"
    }
   ],
   "source": [
    "# look at data where diastolic_bp is not missing --> the two are similar enough except at serum_insulin\n",
    "data.loc[data['diastolic_bp'].notnull(),:].describe()"
   ]
  },
  {
   "cell_type": "code",
   "execution_count": 130,
   "metadata": {
    "collapsed": false
   },
   "outputs": [
    {
     "name": "stdout",
     "output_type": "stream",
     "text": [
      "<class 'pandas.core.frame.DataFrame'>\n",
      "Int64Index: 768 entries, 0 to 767\n",
      "Data columns (total 9 columns):\n",
      "preg             768 non-null int64\n",
      "pg_conc          763 non-null float64\n",
      "diastolic_bp     768 non-null float64\n",
      "skin             541 non-null float64\n",
      "serum_insulin    394 non-null float64\n",
      "bmi              757 non-null float64\n",
      "diabetes_pf      768 non-null float64\n",
      "age              768 non-null int64\n",
      "class            768 non-null int64\n",
      "dtypes: float64(6), int64(3)\n",
      "memory usage: 60.0 KB\n"
     ]
    }
   ],
   "source": [
    "# fill in diastolic_bp missing values with its median value\n",
    "dbp_median = data['diastolic_bp'].median()\n",
    "data['diastolic_bp'].fillna(dbp_median, inplace=True)\n",
    "data.info()"
   ]
  },
  {
   "cell_type": "code",
   "execution_count": 131,
   "metadata": {
    "collapsed": false
   },
   "outputs": [
    {
     "data": {
      "text/html": [
       "<div>\n",
       "<table border=\"1\" class=\"dataframe\">\n",
       "  <thead>\n",
       "    <tr style=\"text-align: right;\">\n",
       "      <th></th>\n",
       "      <th>preg</th>\n",
       "      <th>pg_conc</th>\n",
       "      <th>diastolic_bp</th>\n",
       "      <th>skin</th>\n",
       "      <th>serum_insulin</th>\n",
       "      <th>bmi</th>\n",
       "      <th>diabetes_pf</th>\n",
       "      <th>age</th>\n",
       "      <th>class</th>\n",
       "    </tr>\n",
       "  </thead>\n",
       "  <tbody>\n",
       "    <tr>\n",
       "      <th>count</th>\n",
       "      <td>227.000000</td>\n",
       "      <td>227.000000</td>\n",
       "      <td>227.000000</td>\n",
       "      <td>0</td>\n",
       "      <td>0</td>\n",
       "      <td>218.000000</td>\n",
       "      <td>227.000000</td>\n",
       "      <td>227.000000</td>\n",
       "      <td>227.000000</td>\n",
       "    </tr>\n",
       "    <tr>\n",
       "      <th>mean</th>\n",
       "      <td>4.638767</td>\n",
       "      <td>123.449339</td>\n",
       "      <td>74.585903</td>\n",
       "      <td>NaN</td>\n",
       "      <td>NaN</td>\n",
       "      <td>31.373853</td>\n",
       "      <td>0.393291</td>\n",
       "      <td>37.251101</td>\n",
       "      <td>0.387665</td>\n",
       "    </tr>\n",
       "    <tr>\n",
       "      <th>std</th>\n",
       "      <td>3.350062</td>\n",
       "      <td>29.572931</td>\n",
       "      <td>11.421737</td>\n",
       "      <td>NaN</td>\n",
       "      <td>NaN</td>\n",
       "      <td>6.952505</td>\n",
       "      <td>0.276871</td>\n",
       "      <td>13.062933</td>\n",
       "      <td>0.488294</td>\n",
       "    </tr>\n",
       "    <tr>\n",
       "      <th>min</th>\n",
       "      <td>0.000000</td>\n",
       "      <td>44.000000</td>\n",
       "      <td>48.000000</td>\n",
       "      <td>NaN</td>\n",
       "      <td>NaN</td>\n",
       "      <td>18.200000</td>\n",
       "      <td>0.078000</td>\n",
       "      <td>21.000000</td>\n",
       "      <td>0.000000</td>\n",
       "    </tr>\n",
       "    <tr>\n",
       "      <th>25%</th>\n",
       "      <td>2.000000</td>\n",
       "      <td>105.000000</td>\n",
       "      <td>68.000000</td>\n",
       "      <td>NaN</td>\n",
       "      <td>NaN</td>\n",
       "      <td>25.925000</td>\n",
       "      <td>0.203000</td>\n",
       "      <td>27.000000</td>\n",
       "      <td>0.000000</td>\n",
       "    </tr>\n",
       "    <tr>\n",
       "      <th>50%</th>\n",
       "      <td>4.000000</td>\n",
       "      <td>120.000000</td>\n",
       "      <td>72.000000</td>\n",
       "      <td>NaN</td>\n",
       "      <td>NaN</td>\n",
       "      <td>30.850000</td>\n",
       "      <td>0.282000</td>\n",
       "      <td>34.000000</td>\n",
       "      <td>0.000000</td>\n",
       "    </tr>\n",
       "    <tr>\n",
       "      <th>75%</th>\n",
       "      <td>7.000000</td>\n",
       "      <td>140.500000</td>\n",
       "      <td>80.000000</td>\n",
       "      <td>NaN</td>\n",
       "      <td>NaN</td>\n",
       "      <td>35.300000</td>\n",
       "      <td>0.536500</td>\n",
       "      <td>45.000000</td>\n",
       "      <td>1.000000</td>\n",
       "    </tr>\n",
       "    <tr>\n",
       "      <th>max</th>\n",
       "      <td>13.000000</td>\n",
       "      <td>197.000000</td>\n",
       "      <td>122.000000</td>\n",
       "      <td>NaN</td>\n",
       "      <td>NaN</td>\n",
       "      <td>52.900000</td>\n",
       "      <td>1.781000</td>\n",
       "      <td>72.000000</td>\n",
       "      <td>1.000000</td>\n",
       "    </tr>\n",
       "  </tbody>\n",
       "</table>\n",
       "</div>"
      ],
      "text/plain": [
       "             preg     pg_conc  diastolic_bp  skin  serum_insulin         bmi  \\\n",
       "count  227.000000  227.000000    227.000000     0              0  218.000000   \n",
       "mean     4.638767  123.449339     74.585903   NaN            NaN   31.373853   \n",
       "std      3.350062   29.572931     11.421737   NaN            NaN    6.952505   \n",
       "min      0.000000   44.000000     48.000000   NaN            NaN   18.200000   \n",
       "25%      2.000000  105.000000     68.000000   NaN            NaN   25.925000   \n",
       "50%      4.000000  120.000000     72.000000   NaN            NaN   30.850000   \n",
       "75%      7.000000  140.500000     80.000000   NaN            NaN   35.300000   \n",
       "max     13.000000  197.000000    122.000000   NaN            NaN   52.900000   \n",
       "\n",
       "       diabetes_pf         age       class  \n",
       "count   227.000000  227.000000  227.000000  \n",
       "mean      0.393291   37.251101    0.387665  \n",
       "std       0.276871   13.062933    0.488294  \n",
       "min       0.078000   21.000000    0.000000  \n",
       "25%       0.203000   27.000000    0.000000  \n",
       "50%       0.282000   34.000000    0.000000  \n",
       "75%       0.536500   45.000000    1.000000  \n",
       "max       1.781000   72.000000    1.000000  "
      ]
     },
     "execution_count": 131,
     "metadata": {},
     "output_type": "execute_result"
    }
   ],
   "source": [
    "# look at data where skin is missing\n",
    "data.loc[data['skin'].isnull(),:].describe()"
   ]
  },
  {
   "cell_type": "code",
   "execution_count": 132,
   "metadata": {
    "collapsed": false
   },
   "outputs": [
    {
     "data": {
      "text/html": [
       "<div>\n",
       "<table border=\"1\" class=\"dataframe\">\n",
       "  <thead>\n",
       "    <tr style=\"text-align: right;\">\n",
       "      <th></th>\n",
       "      <th>preg</th>\n",
       "      <th>pg_conc</th>\n",
       "      <th>diastolic_bp</th>\n",
       "      <th>skin</th>\n",
       "      <th>serum_insulin</th>\n",
       "      <th>bmi</th>\n",
       "      <th>diabetes_pf</th>\n",
       "      <th>age</th>\n",
       "      <th>class</th>\n",
       "    </tr>\n",
       "  </thead>\n",
       "  <tbody>\n",
       "    <tr>\n",
       "      <th>count</th>\n",
       "      <td>541.000000</td>\n",
       "      <td>536.000000</td>\n",
       "      <td>541.000000</td>\n",
       "      <td>541.000000</td>\n",
       "      <td>394.000000</td>\n",
       "      <td>539.000000</td>\n",
       "      <td>541.000000</td>\n",
       "      <td>541.000000</td>\n",
       "      <td>541.000000</td>\n",
       "    </tr>\n",
       "    <tr>\n",
       "      <th>mean</th>\n",
       "      <td>3.512015</td>\n",
       "      <td>120.940299</td>\n",
       "      <td>71.463956</td>\n",
       "      <td>29.153420</td>\n",
       "      <td>155.548223</td>\n",
       "      <td>32.895733</td>\n",
       "      <td>0.504850</td>\n",
       "      <td>31.558226</td>\n",
       "      <td>0.332717</td>\n",
       "    </tr>\n",
       "    <tr>\n",
       "      <th>std</th>\n",
       "      <td>3.324759</td>\n",
       "      <td>30.931159</td>\n",
       "      <td>12.261997</td>\n",
       "      <td>10.476982</td>\n",
       "      <td>118.775855</td>\n",
       "      <td>6.871851</td>\n",
       "      <td>0.346639</td>\n",
       "      <td>10.743768</td>\n",
       "      <td>0.471622</td>\n",
       "    </tr>\n",
       "    <tr>\n",
       "      <th>min</th>\n",
       "      <td>0.000000</td>\n",
       "      <td>56.000000</td>\n",
       "      <td>24.000000</td>\n",
       "      <td>7.000000</td>\n",
       "      <td>14.000000</td>\n",
       "      <td>18.200000</td>\n",
       "      <td>0.085000</td>\n",
       "      <td>21.000000</td>\n",
       "      <td>0.000000</td>\n",
       "    </tr>\n",
       "    <tr>\n",
       "      <th>25%</th>\n",
       "      <td>1.000000</td>\n",
       "      <td>98.750000</td>\n",
       "      <td>64.000000</td>\n",
       "      <td>22.000000</td>\n",
       "      <td>76.250000</td>\n",
       "      <td>27.850000</td>\n",
       "      <td>0.259000</td>\n",
       "      <td>23.000000</td>\n",
       "      <td>0.000000</td>\n",
       "    </tr>\n",
       "    <tr>\n",
       "      <th>50%</th>\n",
       "      <td>2.000000</td>\n",
       "      <td>115.000000</td>\n",
       "      <td>72.000000</td>\n",
       "      <td>29.000000</td>\n",
       "      <td>125.000000</td>\n",
       "      <td>32.800000</td>\n",
       "      <td>0.417000</td>\n",
       "      <td>28.000000</td>\n",
       "      <td>0.000000</td>\n",
       "    </tr>\n",
       "    <tr>\n",
       "      <th>75%</th>\n",
       "      <td>5.000000</td>\n",
       "      <td>141.000000</td>\n",
       "      <td>80.000000</td>\n",
       "      <td>36.000000</td>\n",
       "      <td>190.000000</td>\n",
       "      <td>36.900000</td>\n",
       "      <td>0.660000</td>\n",
       "      <td>38.000000</td>\n",
       "      <td>1.000000</td>\n",
       "    </tr>\n",
       "    <tr>\n",
       "      <th>max</th>\n",
       "      <td>17.000000</td>\n",
       "      <td>199.000000</td>\n",
       "      <td>110.000000</td>\n",
       "      <td>99.000000</td>\n",
       "      <td>846.000000</td>\n",
       "      <td>67.100000</td>\n",
       "      <td>2.420000</td>\n",
       "      <td>81.000000</td>\n",
       "      <td>1.000000</td>\n",
       "    </tr>\n",
       "  </tbody>\n",
       "</table>\n",
       "</div>"
      ],
      "text/plain": [
       "             preg     pg_conc  diastolic_bp        skin  serum_insulin  \\\n",
       "count  541.000000  536.000000    541.000000  541.000000     394.000000   \n",
       "mean     3.512015  120.940299     71.463956   29.153420     155.548223   \n",
       "std      3.324759   30.931159     12.261997   10.476982     118.775855   \n",
       "min      0.000000   56.000000     24.000000    7.000000      14.000000   \n",
       "25%      1.000000   98.750000     64.000000   22.000000      76.250000   \n",
       "50%      2.000000  115.000000     72.000000   29.000000     125.000000   \n",
       "75%      5.000000  141.000000     80.000000   36.000000     190.000000   \n",
       "max     17.000000  199.000000    110.000000   99.000000     846.000000   \n",
       "\n",
       "              bmi  diabetes_pf         age       class  \n",
       "count  539.000000   541.000000  541.000000  541.000000  \n",
       "mean    32.895733     0.504850   31.558226    0.332717  \n",
       "std      6.871851     0.346639   10.743768    0.471622  \n",
       "min     18.200000     0.085000   21.000000    0.000000  \n",
       "25%     27.850000     0.259000   23.000000    0.000000  \n",
       "50%     32.800000     0.417000   28.000000    0.000000  \n",
       "75%     36.900000     0.660000   38.000000    1.000000  \n",
       "max     67.100000     2.420000   81.000000    1.000000  "
      ]
     },
     "execution_count": 132,
     "metadata": {},
     "output_type": "execute_result"
    }
   ],
   "source": [
    "# look at data where skin is not missing --> the two are similar enough except at serum_insulin... again...\n",
    "data.loc[data['skin'].notnull(),:].describe()"
   ]
  },
  {
   "cell_type": "code",
   "execution_count": 133,
   "metadata": {
    "collapsed": false
   },
   "outputs": [
    {
     "name": "stdout",
     "output_type": "stream",
     "text": [
      "<class 'pandas.core.frame.DataFrame'>\n",
      "Int64Index: 768 entries, 0 to 767\n",
      "Data columns (total 9 columns):\n",
      "preg             768 non-null int64\n",
      "pg_conc          763 non-null float64\n",
      "diastolic_bp     768 non-null float64\n",
      "skin             768 non-null float64\n",
      "serum_insulin    394 non-null float64\n",
      "bmi              757 non-null float64\n",
      "diabetes_pf      768 non-null float64\n",
      "age              768 non-null int64\n",
      "class            768 non-null int64\n",
      "dtypes: float64(6), int64(3)\n",
      "memory usage: 60.0 KB\n"
     ]
    }
   ],
   "source": [
    "# fill in skin missing values with its median value\n",
    "skin_median = data['skin'].median()\n",
    "data['skin'].fillna(skin_median, inplace=True)\n",
    "data.info()"
   ]
  },
  {
   "cell_type": "code",
   "execution_count": 134,
   "metadata": {
    "collapsed": false
   },
   "outputs": [
    {
     "data": {
      "text/html": [
       "<div>\n",
       "<table border=\"1\" class=\"dataframe\">\n",
       "  <thead>\n",
       "    <tr style=\"text-align: right;\">\n",
       "      <th></th>\n",
       "      <th>preg</th>\n",
       "      <th>pg_conc</th>\n",
       "      <th>diastolic_bp</th>\n",
       "      <th>skin</th>\n",
       "      <th>serum_insulin</th>\n",
       "      <th>bmi</th>\n",
       "      <th>diabetes_pf</th>\n",
       "      <th>age</th>\n",
       "      <th>class</th>\n",
       "    </tr>\n",
       "  </thead>\n",
       "  <tbody>\n",
       "    <tr>\n",
       "      <th>count</th>\n",
       "      <td>374.000000</td>\n",
       "      <td>370.000000</td>\n",
       "      <td>374.000000</td>\n",
       "      <td>374.000000</td>\n",
       "      <td>0</td>\n",
       "      <td>364.000000</td>\n",
       "      <td>374.000000</td>\n",
       "      <td>374.000000</td>\n",
       "      <td>374.000000</td>\n",
       "    </tr>\n",
       "    <tr>\n",
       "      <th>mean</th>\n",
       "      <td>4.433155</td>\n",
       "      <td>120.700000</td>\n",
       "      <td>74.211230</td>\n",
       "      <td>29.109626</td>\n",
       "      <td>NaN</td>\n",
       "      <td>31.793407</td>\n",
       "      <td>0.415340</td>\n",
       "      <td>35.796791</td>\n",
       "      <td>0.368984</td>\n",
       "    </tr>\n",
       "    <tr>\n",
       "      <th>std</th>\n",
       "      <td>3.437621</td>\n",
       "      <td>30.238604</td>\n",
       "      <td>11.425984</td>\n",
       "      <td>6.531940</td>\n",
       "      <td>NaN</td>\n",
       "      <td>6.763519</td>\n",
       "      <td>0.300547</td>\n",
       "      <td>12.729034</td>\n",
       "      <td>0.483176</td>\n",
       "    </tr>\n",
       "    <tr>\n",
       "      <th>min</th>\n",
       "      <td>0.000000</td>\n",
       "      <td>44.000000</td>\n",
       "      <td>44.000000</td>\n",
       "      <td>8.000000</td>\n",
       "      <td>NaN</td>\n",
       "      <td>18.200000</td>\n",
       "      <td>0.078000</td>\n",
       "      <td>21.000000</td>\n",
       "      <td>0.000000</td>\n",
       "    </tr>\n",
       "    <tr>\n",
       "      <th>25%</th>\n",
       "      <td>1.000000</td>\n",
       "      <td>100.250000</td>\n",
       "      <td>68.000000</td>\n",
       "      <td>29.000000</td>\n",
       "      <td>NaN</td>\n",
       "      <td>26.800000</td>\n",
       "      <td>0.209000</td>\n",
       "      <td>25.000000</td>\n",
       "      <td>0.000000</td>\n",
       "    </tr>\n",
       "    <tr>\n",
       "      <th>50%</th>\n",
       "      <td>4.000000</td>\n",
       "      <td>115.000000</td>\n",
       "      <td>72.000000</td>\n",
       "      <td>29.000000</td>\n",
       "      <td>NaN</td>\n",
       "      <td>31.200000</td>\n",
       "      <td>0.302500</td>\n",
       "      <td>32.000000</td>\n",
       "      <td>0.000000</td>\n",
       "    </tr>\n",
       "    <tr>\n",
       "      <th>75%</th>\n",
       "      <td>7.000000</td>\n",
       "      <td>138.000000</td>\n",
       "      <td>80.000000</td>\n",
       "      <td>29.000000</td>\n",
       "      <td>NaN</td>\n",
       "      <td>35.725000</td>\n",
       "      <td>0.553250</td>\n",
       "      <td>43.000000</td>\n",
       "      <td>1.000000</td>\n",
       "    </tr>\n",
       "    <tr>\n",
       "      <th>max</th>\n",
       "      <td>14.000000</td>\n",
       "      <td>199.000000</td>\n",
       "      <td>122.000000</td>\n",
       "      <td>99.000000</td>\n",
       "      <td>NaN</td>\n",
       "      <td>52.900000</td>\n",
       "      <td>1.893000</td>\n",
       "      <td>72.000000</td>\n",
       "      <td>1.000000</td>\n",
       "    </tr>\n",
       "  </tbody>\n",
       "</table>\n",
       "</div>"
      ],
      "text/plain": [
       "             preg     pg_conc  diastolic_bp        skin  serum_insulin  \\\n",
       "count  374.000000  370.000000    374.000000  374.000000              0   \n",
       "mean     4.433155  120.700000     74.211230   29.109626            NaN   \n",
       "std      3.437621   30.238604     11.425984    6.531940            NaN   \n",
       "min      0.000000   44.000000     44.000000    8.000000            NaN   \n",
       "25%      1.000000  100.250000     68.000000   29.000000            NaN   \n",
       "50%      4.000000  115.000000     72.000000   29.000000            NaN   \n",
       "75%      7.000000  138.000000     80.000000   29.000000            NaN   \n",
       "max     14.000000  199.000000    122.000000   99.000000            NaN   \n",
       "\n",
       "              bmi  diabetes_pf         age       class  \n",
       "count  364.000000   374.000000  374.000000  374.000000  \n",
       "mean    31.793407     0.415340   35.796791    0.368984  \n",
       "std      6.763519     0.300547   12.729034    0.483176  \n",
       "min     18.200000     0.078000   21.000000    0.000000  \n",
       "25%     26.800000     0.209000   25.000000    0.000000  \n",
       "50%     31.200000     0.302500   32.000000    0.000000  \n",
       "75%     35.725000     0.553250   43.000000    1.000000  \n",
       "max     52.900000     1.893000   72.000000    1.000000  "
      ]
     },
     "execution_count": 134,
     "metadata": {},
     "output_type": "execute_result"
    }
   ],
   "source": [
    "# look at data where serum_insulin is missing\n",
    "data.loc[data['serum_insulin'].isnull(),:].describe()"
   ]
  },
  {
   "cell_type": "code",
   "execution_count": 135,
   "metadata": {
    "collapsed": false
   },
   "outputs": [
    {
     "data": {
      "text/html": [
       "<div>\n",
       "<table border=\"1\" class=\"dataframe\">\n",
       "  <thead>\n",
       "    <tr style=\"text-align: right;\">\n",
       "      <th></th>\n",
       "      <th>preg</th>\n",
       "      <th>pg_conc</th>\n",
       "      <th>diastolic_bp</th>\n",
       "      <th>skin</th>\n",
       "      <th>serum_insulin</th>\n",
       "      <th>bmi</th>\n",
       "      <th>diabetes_pf</th>\n",
       "      <th>age</th>\n",
       "      <th>class</th>\n",
       "    </tr>\n",
       "  </thead>\n",
       "  <tbody>\n",
       "    <tr>\n",
       "      <th>count</th>\n",
       "      <td>394.000000</td>\n",
       "      <td>393.000000</td>\n",
       "      <td>394.000000</td>\n",
       "      <td>394.000000</td>\n",
       "      <td>394.000000</td>\n",
       "      <td>393.000000</td>\n",
       "      <td>394.000000</td>\n",
       "      <td>394.000000</td>\n",
       "      <td>394.000000</td>\n",
       "    </tr>\n",
       "    <tr>\n",
       "      <th>mean</th>\n",
       "      <td>3.286802</td>\n",
       "      <td>122.615776</td>\n",
       "      <td>70.654822</td>\n",
       "      <td>29.106599</td>\n",
       "      <td>155.548223</td>\n",
       "      <td>33.072519</td>\n",
       "      <td>0.525543</td>\n",
       "      <td>30.814721</td>\n",
       "      <td>0.329949</td>\n",
       "    </tr>\n",
       "    <tr>\n",
       "      <th>std</th>\n",
       "      <td>3.209635</td>\n",
       "      <td>30.822276</td>\n",
       "      <td>12.469919</td>\n",
       "      <td>10.504273</td>\n",
       "      <td>118.775855</td>\n",
       "      <td>7.023947</td>\n",
       "      <td>0.350127</td>\n",
       "      <td>10.198971</td>\n",
       "      <td>0.470792</td>\n",
       "    </tr>\n",
       "    <tr>\n",
       "      <th>min</th>\n",
       "      <td>0.000000</td>\n",
       "      <td>56.000000</td>\n",
       "      <td>24.000000</td>\n",
       "      <td>7.000000</td>\n",
       "      <td>14.000000</td>\n",
       "      <td>18.200000</td>\n",
       "      <td>0.085000</td>\n",
       "      <td>21.000000</td>\n",
       "      <td>0.000000</td>\n",
       "    </tr>\n",
       "    <tr>\n",
       "      <th>25%</th>\n",
       "      <td>1.000000</td>\n",
       "      <td>99.000000</td>\n",
       "      <td>62.000000</td>\n",
       "      <td>21.000000</td>\n",
       "      <td>76.250000</td>\n",
       "      <td>28.400000</td>\n",
       "      <td>0.270250</td>\n",
       "      <td>23.000000</td>\n",
       "      <td>0.000000</td>\n",
       "    </tr>\n",
       "    <tr>\n",
       "      <th>50%</th>\n",
       "      <td>2.000000</td>\n",
       "      <td>119.000000</td>\n",
       "      <td>70.000000</td>\n",
       "      <td>29.000000</td>\n",
       "      <td>125.000000</td>\n",
       "      <td>33.200000</td>\n",
       "      <td>0.449500</td>\n",
       "      <td>27.000000</td>\n",
       "      <td>0.000000</td>\n",
       "    </tr>\n",
       "    <tr>\n",
       "      <th>75%</th>\n",
       "      <td>5.000000</td>\n",
       "      <td>143.000000</td>\n",
       "      <td>78.000000</td>\n",
       "      <td>36.750000</td>\n",
       "      <td>190.000000</td>\n",
       "      <td>37.100000</td>\n",
       "      <td>0.687000</td>\n",
       "      <td>36.000000</td>\n",
       "      <td>1.000000</td>\n",
       "    </tr>\n",
       "    <tr>\n",
       "      <th>max</th>\n",
       "      <td>17.000000</td>\n",
       "      <td>198.000000</td>\n",
       "      <td>110.000000</td>\n",
       "      <td>63.000000</td>\n",
       "      <td>846.000000</td>\n",
       "      <td>67.100000</td>\n",
       "      <td>2.420000</td>\n",
       "      <td>81.000000</td>\n",
       "      <td>1.000000</td>\n",
       "    </tr>\n",
       "  </tbody>\n",
       "</table>\n",
       "</div>"
      ],
      "text/plain": [
       "             preg     pg_conc  diastolic_bp        skin  serum_insulin  \\\n",
       "count  394.000000  393.000000    394.000000  394.000000     394.000000   \n",
       "mean     3.286802  122.615776     70.654822   29.106599     155.548223   \n",
       "std      3.209635   30.822276     12.469919   10.504273     118.775855   \n",
       "min      0.000000   56.000000     24.000000    7.000000      14.000000   \n",
       "25%      1.000000   99.000000     62.000000   21.000000      76.250000   \n",
       "50%      2.000000  119.000000     70.000000   29.000000     125.000000   \n",
       "75%      5.000000  143.000000     78.000000   36.750000     190.000000   \n",
       "max     17.000000  198.000000    110.000000   63.000000     846.000000   \n",
       "\n",
       "              bmi  diabetes_pf         age       class  \n",
       "count  393.000000   394.000000  394.000000  394.000000  \n",
       "mean    33.072519     0.525543   30.814721    0.329949  \n",
       "std      7.023947     0.350127   10.198971    0.470792  \n",
       "min     18.200000     0.085000   21.000000    0.000000  \n",
       "25%     28.400000     0.270250   23.000000    0.000000  \n",
       "50%     33.200000     0.449500   27.000000    0.000000  \n",
       "75%     37.100000     0.687000   36.000000    1.000000  \n",
       "max     67.100000     2.420000   81.000000    1.000000  "
      ]
     },
     "execution_count": 135,
     "metadata": {},
     "output_type": "execute_result"
    }
   ],
   "source": [
    "# look at data where serum_insulin is not missing --> mostly similar, with more variance in diabetes_pf and age\n",
    "data.loc[data['serum_insulin'].notnull(),:].describe()"
   ]
  },
  {
   "cell_type": "code",
   "execution_count": 136,
   "metadata": {
    "collapsed": false
   },
   "outputs": [
    {
     "name": "stdout",
     "output_type": "stream",
     "text": [
      "<class 'pandas.core.frame.DataFrame'>\n",
      "Int64Index: 768 entries, 0 to 767\n",
      "Data columns (total 9 columns):\n",
      "preg             768 non-null int64\n",
      "pg_conc          763 non-null float64\n",
      "diastolic_bp     768 non-null float64\n",
      "skin             768 non-null float64\n",
      "serum_insulin    768 non-null float64\n",
      "bmi              757 non-null float64\n",
      "diabetes_pf      768 non-null float64\n",
      "age              768 non-null int64\n",
      "class            768 non-null int64\n",
      "dtypes: float64(6), int64(3)\n",
      "memory usage: 60.0 KB\n"
     ]
    }
   ],
   "source": [
    "# fill in serum_insulin missing values with its median value\n",
    "si_median = data['serum_insulin'].median()\n",
    "data['serum_insulin'].fillna(si_median, inplace=True)\n",
    "data.info()"
   ]
  },
  {
   "cell_type": "code",
   "execution_count": 137,
   "metadata": {
    "collapsed": false
   },
   "outputs": [
    {
     "name": "stdout",
     "output_type": "stream",
     "text": [
      "<class 'pandas.core.frame.DataFrame'>\n",
      "Int64Index: 752 entries, 0 to 767\n",
      "Data columns (total 9 columns):\n",
      "preg             752 non-null int64\n",
      "pg_conc          752 non-null float64\n",
      "diastolic_bp     752 non-null float64\n",
      "skin             752 non-null float64\n",
      "serum_insulin    752 non-null float64\n",
      "bmi              752 non-null float64\n",
      "diabetes_pf      752 non-null float64\n",
      "age              752 non-null int64\n",
      "class            752 non-null int64\n",
      "dtypes: float64(6), int64(3)\n",
      "memory usage: 58.8 KB\n"
     ]
    }
   ],
   "source": [
    "# remove the less than 2% missing value rows of pg_conc and bmi; save as a new dataframe\n",
    "all_data = data.dropna()\n",
    "all_data.info()"
   ]
  },
  {
   "cell_type": "code",
   "execution_count": 138,
   "metadata": {
    "collapsed": false
   },
   "outputs": [
    {
     "data": {
      "text/html": [
       "<div>\n",
       "<table border=\"1\" class=\"dataframe\">\n",
       "  <thead>\n",
       "    <tr style=\"text-align: right;\">\n",
       "      <th></th>\n",
       "      <th>preg</th>\n",
       "      <th>pg_conc</th>\n",
       "      <th>diastolic_bp</th>\n",
       "      <th>skin</th>\n",
       "      <th>serum_insulin</th>\n",
       "      <th>bmi</th>\n",
       "      <th>diabetes_pf</th>\n",
       "      <th>age</th>\n",
       "      <th>class</th>\n",
       "      <th>ratio</th>\n",
       "    </tr>\n",
       "  </thead>\n",
       "  <tbody>\n",
       "    <tr>\n",
       "      <th>0</th>\n",
       "      <td>6</td>\n",
       "      <td>148</td>\n",
       "      <td>72</td>\n",
       "      <td>35</td>\n",
       "      <td>125</td>\n",
       "      <td>33.6</td>\n",
       "      <td>0.627</td>\n",
       "      <td>50</td>\n",
       "      <td>1</td>\n",
       "      <td>1.184000</td>\n",
       "    </tr>\n",
       "    <tr>\n",
       "      <th>1</th>\n",
       "      <td>1</td>\n",
       "      <td>85</td>\n",
       "      <td>66</td>\n",
       "      <td>29</td>\n",
       "      <td>125</td>\n",
       "      <td>26.6</td>\n",
       "      <td>0.351</td>\n",
       "      <td>31</td>\n",
       "      <td>0</td>\n",
       "      <td>0.680000</td>\n",
       "    </tr>\n",
       "    <tr>\n",
       "      <th>2</th>\n",
       "      <td>8</td>\n",
       "      <td>183</td>\n",
       "      <td>64</td>\n",
       "      <td>29</td>\n",
       "      <td>125</td>\n",
       "      <td>23.3</td>\n",
       "      <td>0.672</td>\n",
       "      <td>32</td>\n",
       "      <td>1</td>\n",
       "      <td>1.464000</td>\n",
       "    </tr>\n",
       "    <tr>\n",
       "      <th>3</th>\n",
       "      <td>1</td>\n",
       "      <td>89</td>\n",
       "      <td>66</td>\n",
       "      <td>23</td>\n",
       "      <td>94</td>\n",
       "      <td>28.1</td>\n",
       "      <td>0.167</td>\n",
       "      <td>21</td>\n",
       "      <td>0</td>\n",
       "      <td>0.946809</td>\n",
       "    </tr>\n",
       "    <tr>\n",
       "      <th>4</th>\n",
       "      <td>0</td>\n",
       "      <td>137</td>\n",
       "      <td>40</td>\n",
       "      <td>35</td>\n",
       "      <td>168</td>\n",
       "      <td>43.1</td>\n",
       "      <td>2.288</td>\n",
       "      <td>33</td>\n",
       "      <td>1</td>\n",
       "      <td>0.815476</td>\n",
       "    </tr>\n",
       "  </tbody>\n",
       "</table>\n",
       "</div>"
      ],
      "text/plain": [
       "   preg  pg_conc  diastolic_bp  skin  serum_insulin   bmi  diabetes_pf  age  \\\n",
       "0     6      148            72    35            125  33.6        0.627   50   \n",
       "1     1       85            66    29            125  26.6        0.351   31   \n",
       "2     8      183            64    29            125  23.3        0.672   32   \n",
       "3     1       89            66    23             94  28.1        0.167   21   \n",
       "4     0      137            40    35            168  43.1        2.288   33   \n",
       "\n",
       "   class     ratio  \n",
       "0      1  1.184000  \n",
       "1      0  0.680000  \n",
       "2      1  1.464000  \n",
       "3      0  0.946809  \n",
       "4      1  0.815476  "
      ]
     },
     "execution_count": 138,
     "metadata": {},
     "output_type": "execute_result"
    }
   ],
   "source": [
    "# create dataframe that contains new ratio feature\n",
    "datar = all_data.copy()\n",
    "datar['ratio'] = datar['pg_conc']/datar['serum_insulin']\n",
    "datar.head()"
   ]
  },
  {
   "cell_type": "code",
   "execution_count": 139,
   "metadata": {
    "collapsed": false
   },
   "outputs": [
    {
     "name": "stdout",
     "output_type": "stream",
     "text": [
      "<class 'pandas.core.frame.DataFrame'>\n",
      "Int64Index: 752 entries, 0 to 767\n",
      "Data columns (total 10 columns):\n",
      "preg             752 non-null int64\n",
      "pg_conc          752 non-null float64\n",
      "diastolic_bp     752 non-null float64\n",
      "skin             752 non-null float64\n",
      "serum_insulin    752 non-null float64\n",
      "bmi              752 non-null float64\n",
      "diabetes_pf      752 non-null float64\n",
      "age              752 non-null int64\n",
      "class            752 non-null int64\n",
      "ratio            752 non-null float64\n",
      "dtypes: float64(7), int64(3)\n",
      "memory usage: 64.6 KB\n"
     ]
    }
   ],
   "source": [
    "datar.info()"
   ]
  },
  {
   "cell_type": "code",
   "execution_count": 140,
   "metadata": {
    "collapsed": true
   },
   "outputs": [],
   "source": [
    "# create a dataframe without serum_insulin\n",
    "data_small = all_data.drop(['serum_insulin'], axis=1)"
   ]
  },
  {
   "cell_type": "code",
   "execution_count": 141,
   "metadata": {
    "collapsed": false
   },
   "outputs": [
    {
     "data": {
      "text/html": [
       "<div>\n",
       "<table border=\"1\" class=\"dataframe\">\n",
       "  <thead>\n",
       "    <tr style=\"text-align: right;\">\n",
       "      <th></th>\n",
       "      <th>preg</th>\n",
       "      <th>pg_conc</th>\n",
       "      <th>diastolic_bp</th>\n",
       "      <th>skin</th>\n",
       "      <th>bmi</th>\n",
       "      <th>diabetes_pf</th>\n",
       "      <th>age</th>\n",
       "      <th>class</th>\n",
       "    </tr>\n",
       "  </thead>\n",
       "  <tbody>\n",
       "    <tr>\n",
       "      <th>0</th>\n",
       "      <td>6</td>\n",
       "      <td>148</td>\n",
       "      <td>72</td>\n",
       "      <td>35</td>\n",
       "      <td>33.6</td>\n",
       "      <td>0.627</td>\n",
       "      <td>50</td>\n",
       "      <td>1</td>\n",
       "    </tr>\n",
       "    <tr>\n",
       "      <th>1</th>\n",
       "      <td>1</td>\n",
       "      <td>85</td>\n",
       "      <td>66</td>\n",
       "      <td>29</td>\n",
       "      <td>26.6</td>\n",
       "      <td>0.351</td>\n",
       "      <td>31</td>\n",
       "      <td>0</td>\n",
       "    </tr>\n",
       "    <tr>\n",
       "      <th>2</th>\n",
       "      <td>8</td>\n",
       "      <td>183</td>\n",
       "      <td>64</td>\n",
       "      <td>29</td>\n",
       "      <td>23.3</td>\n",
       "      <td>0.672</td>\n",
       "      <td>32</td>\n",
       "      <td>1</td>\n",
       "    </tr>\n",
       "    <tr>\n",
       "      <th>3</th>\n",
       "      <td>1</td>\n",
       "      <td>89</td>\n",
       "      <td>66</td>\n",
       "      <td>23</td>\n",
       "      <td>28.1</td>\n",
       "      <td>0.167</td>\n",
       "      <td>21</td>\n",
       "      <td>0</td>\n",
       "    </tr>\n",
       "    <tr>\n",
       "      <th>4</th>\n",
       "      <td>0</td>\n",
       "      <td>137</td>\n",
       "      <td>40</td>\n",
       "      <td>35</td>\n",
       "      <td>43.1</td>\n",
       "      <td>2.288</td>\n",
       "      <td>33</td>\n",
       "      <td>1</td>\n",
       "    </tr>\n",
       "  </tbody>\n",
       "</table>\n",
       "</div>"
      ],
      "text/plain": [
       "   preg  pg_conc  diastolic_bp  skin   bmi  diabetes_pf  age  class\n",
       "0     6      148            72    35  33.6        0.627   50      1\n",
       "1     1       85            66    29  26.6        0.351   31      0\n",
       "2     8      183            64    29  23.3        0.672   32      1\n",
       "3     1       89            66    23  28.1        0.167   21      0\n",
       "4     0      137            40    35  43.1        2.288   33      1"
      ]
     },
     "execution_count": 141,
     "metadata": {},
     "output_type": "execute_result"
    }
   ],
   "source": [
    "data_small.head()"
   ]
  },
  {
   "cell_type": "markdown",
   "metadata": {},
   "source": [
    "Note that now I have three dataframes I will be testing:\n",
    "- all_data - all of the original features, with median-imputed data for most missing values (bmi and pg_conc missing values were dropped) [1]\n",
    "- datar - same as all_data, but with the addition of the ratio feature [2]\n",
    "- data_small - same as all_data, except with the serum_insulin column dropped [3]"
   ]
  },
  {
   "cell_type": "code",
   "execution_count": 142,
   "metadata": {
    "collapsed": false
   },
   "outputs": [
    {
     "data": {
      "text/html": [
       "<div>\n",
       "<table border=\"1\" class=\"dataframe\">\n",
       "  <thead>\n",
       "    <tr style=\"text-align: right;\">\n",
       "      <th></th>\n",
       "      <th>preg</th>\n",
       "      <th>pg_conc</th>\n",
       "      <th>diastolic_bp</th>\n",
       "      <th>skin</th>\n",
       "      <th>serum_insulin</th>\n",
       "      <th>bmi</th>\n",
       "      <th>diabetes_pf</th>\n",
       "      <th>age</th>\n",
       "      <th>class</th>\n",
       "      <th>ratio</th>\n",
       "    </tr>\n",
       "  </thead>\n",
       "  <tbody>\n",
       "    <tr>\n",
       "      <th>preg</th>\n",
       "      <td>1.000000</td>\n",
       "      <td>0.125717</td>\n",
       "      <td>0.205104</td>\n",
       "      <td>0.077887</td>\n",
       "      <td>0.023044</td>\n",
       "      <td>0.018352</td>\n",
       "      <td>-0.029159</td>\n",
       "      <td>0.545238</td>\n",
       "      <td>0.213371</td>\n",
       "      <td>-0.051533</td>\n",
       "    </tr>\n",
       "    <tr>\n",
       "      <th>pg_conc</th>\n",
       "      <td>0.125717</td>\n",
       "      <td>1.000000</td>\n",
       "      <td>0.220129</td>\n",
       "      <td>0.193570</td>\n",
       "      <td>0.420346</td>\n",
       "      <td>0.232771</td>\n",
       "      <td>0.133945</td>\n",
       "      <td>0.261490</td>\n",
       "      <td>0.494190</td>\n",
       "      <td>0.052573</td>\n",
       "    </tr>\n",
       "    <tr>\n",
       "      <th>diastolic_bp</th>\n",
       "      <td>0.205104</td>\n",
       "      <td>0.220129</td>\n",
       "      <td>1.000000</td>\n",
       "      <td>0.191545</td>\n",
       "      <td>0.045578</td>\n",
       "      <td>0.280419</td>\n",
       "      <td>0.000091</td>\n",
       "      <td>0.320406</td>\n",
       "      <td>0.162308</td>\n",
       "      <td>-0.003307</td>\n",
       "    </tr>\n",
       "    <tr>\n",
       "      <th>skin</th>\n",
       "      <td>0.077887</td>\n",
       "      <td>0.193570</td>\n",
       "      <td>0.191545</td>\n",
       "      <td>1.000000</td>\n",
       "      <td>0.154164</td>\n",
       "      <td>0.541981</td>\n",
       "      <td>0.104627</td>\n",
       "      <td>0.123297</td>\n",
       "      <td>0.211854</td>\n",
       "      <td>-0.003612</td>\n",
       "    </tr>\n",
       "    <tr>\n",
       "      <th>serum_insulin</th>\n",
       "      <td>0.023044</td>\n",
       "      <td>0.420346</td>\n",
       "      <td>0.045578</td>\n",
       "      <td>0.154164</td>\n",
       "      <td>1.000000</td>\n",
       "      <td>0.179990</td>\n",
       "      <td>0.129163</td>\n",
       "      <td>0.095388</td>\n",
       "      <td>0.203664</td>\n",
       "      <td>-0.461425</td>\n",
       "    </tr>\n",
       "    <tr>\n",
       "      <th>bmi</th>\n",
       "      <td>0.018352</td>\n",
       "      <td>0.232771</td>\n",
       "      <td>0.280419</td>\n",
       "      <td>0.541981</td>\n",
       "      <td>0.179990</td>\n",
       "      <td>1.000000</td>\n",
       "      <td>0.153683</td>\n",
       "      <td>0.022144</td>\n",
       "      <td>0.309884</td>\n",
       "      <td>0.002938</td>\n",
       "    </tr>\n",
       "    <tr>\n",
       "      <th>diabetes_pf</th>\n",
       "      <td>-0.029159</td>\n",
       "      <td>0.133945</td>\n",
       "      <td>0.000091</td>\n",
       "      <td>0.104627</td>\n",
       "      <td>0.129163</td>\n",
       "      <td>0.153683</td>\n",
       "      <td>1.000000</td>\n",
       "      <td>0.031674</td>\n",
       "      <td>0.178052</td>\n",
       "      <td>0.095576</td>\n",
       "    </tr>\n",
       "    <tr>\n",
       "      <th>age</th>\n",
       "      <td>0.545238</td>\n",
       "      <td>0.261490</td>\n",
       "      <td>0.320406</td>\n",
       "      <td>0.123297</td>\n",
       "      <td>0.095388</td>\n",
       "      <td>0.022144</td>\n",
       "      <td>0.031674</td>\n",
       "      <td>1.000000</td>\n",
       "      <td>0.232734</td>\n",
       "      <td>-0.060497</td>\n",
       "    </tr>\n",
       "    <tr>\n",
       "      <th>class</th>\n",
       "      <td>0.213371</td>\n",
       "      <td>0.494190</td>\n",
       "      <td>0.162308</td>\n",
       "      <td>0.211854</td>\n",
       "      <td>0.203664</td>\n",
       "      <td>0.309884</td>\n",
       "      <td>0.178052</td>\n",
       "      <td>0.232734</td>\n",
       "      <td>1.000000</td>\n",
       "      <td>-0.003126</td>\n",
       "    </tr>\n",
       "    <tr>\n",
       "      <th>ratio</th>\n",
       "      <td>-0.051533</td>\n",
       "      <td>0.052573</td>\n",
       "      <td>-0.003307</td>\n",
       "      <td>-0.003612</td>\n",
       "      <td>-0.461425</td>\n",
       "      <td>0.002938</td>\n",
       "      <td>0.095576</td>\n",
       "      <td>-0.060497</td>\n",
       "      <td>-0.003126</td>\n",
       "      <td>1.000000</td>\n",
       "    </tr>\n",
       "  </tbody>\n",
       "</table>\n",
       "</div>"
      ],
      "text/plain": [
       "                   preg   pg_conc  diastolic_bp      skin  serum_insulin  \\\n",
       "preg           1.000000  0.125717      0.205104  0.077887       0.023044   \n",
       "pg_conc        0.125717  1.000000      0.220129  0.193570       0.420346   \n",
       "diastolic_bp   0.205104  0.220129      1.000000  0.191545       0.045578   \n",
       "skin           0.077887  0.193570      0.191545  1.000000       0.154164   \n",
       "serum_insulin  0.023044  0.420346      0.045578  0.154164       1.000000   \n",
       "bmi            0.018352  0.232771      0.280419  0.541981       0.179990   \n",
       "diabetes_pf   -0.029159  0.133945      0.000091  0.104627       0.129163   \n",
       "age            0.545238  0.261490      0.320406  0.123297       0.095388   \n",
       "class          0.213371  0.494190      0.162308  0.211854       0.203664   \n",
       "ratio         -0.051533  0.052573     -0.003307 -0.003612      -0.461425   \n",
       "\n",
       "                    bmi  diabetes_pf       age     class     ratio  \n",
       "preg           0.018352    -0.029159  0.545238  0.213371 -0.051533  \n",
       "pg_conc        0.232771     0.133945  0.261490  0.494190  0.052573  \n",
       "diastolic_bp   0.280419     0.000091  0.320406  0.162308 -0.003307  \n",
       "skin           0.541981     0.104627  0.123297  0.211854 -0.003612  \n",
       "serum_insulin  0.179990     0.129163  0.095388  0.203664 -0.461425  \n",
       "bmi            1.000000     0.153683  0.022144  0.309884  0.002938  \n",
       "diabetes_pf    0.153683     1.000000  0.031674  0.178052  0.095576  \n",
       "age            0.022144     0.031674  1.000000  0.232734 -0.060497  \n",
       "class          0.309884     0.178052  0.232734  1.000000 -0.003126  \n",
       "ratio          0.002938     0.095576 -0.060497 -0.003126  1.000000  "
      ]
     },
     "execution_count": 142,
     "metadata": {},
     "output_type": "execute_result"
    }
   ],
   "source": [
    "# Now that I have created a new feature, I want to see how correlated it is to the others --> nope!\n",
    "datar.corr()"
   ]
  },
  {
   "cell_type": "markdown",
   "metadata": {},
   "source": [
    "## 4) Come up with a benchmark for the minimum performance that an algorithm should have on this dataset"
   ]
  },
  {
   "cell_type": "markdown",
   "metadata": {},
   "source": [
    "65% is the benchmark for minimum performance."
   ]
  },
  {
   "cell_type": "code",
   "execution_count": 143,
   "metadata": {
    "collapsed": false
   },
   "outputs": [
    {
     "data": {
      "text/plain": [
       "0    0.648936\n",
       "Name: class, dtype: float64"
      ]
     },
     "execution_count": 143,
     "metadata": {},
     "output_type": "execute_result"
    }
   ],
   "source": [
    "# Count of non-diabetes (versus diabetes) divided by amount of rows to determine benchmark for minimum performance\n",
    "all_data['class'].value_counts().head(1) / len(all_data['class'])"
   ]
  },
  {
   "cell_type": "code",
   "execution_count": 144,
   "metadata": {
    "collapsed": false
   },
   "outputs": [
    {
     "data": {
      "image/png": "[encoded data removed]",
      "text/plain": [
       "<matplotlib.figure.Figure at 0x10cd4f950>"
      ]
     },
     "metadata": {},
     "output_type": "display_data"
    }
   ],
   "source": [
    "# visualization of the above\n",
    "all_data['class'].value_counts().plot(title='Diabetes Diagnosis', subplots=True, kind='pie', autopct='%.2f%%', colors=['LightBlue', 'Salmon'], \n",
    "                                      fontsize=20, labels=['0 - Negative for Diabetes', '1 - Positive for Diabetes'], figsize=(6,6));"
   ]
  },
  {
   "cell_type": "code",
   "execution_count": 145,
   "metadata": {
    "collapsed": false
   },
   "outputs": [],
   "source": [
    "# Assign data to X and y (3x for each dataset I wish to test)\n",
    "y1 = all_data['class']\n",
    "y2 = datar['class']\n",
    "y3 = data_small['class']\n",
    "\n",
    "X1 = all_data.drop('class', axis=1)\n",
    "X2 = datar.drop('class', axis=1)\n",
    "X3 = data_small.drop('class', axis=1)"
   ]
  },
  {
   "cell_type": "code",
   "execution_count": 146,
   "metadata": {
    "collapsed": true
   },
   "outputs": [],
   "source": [
    "# break up the data into test and training sets:\n",
    "from sklearn.cross_validation import train_test_split\n",
    "X_train1, X_test1, y_train1, y_test1 = train_test_split(X1, y1, test_size=0.2, random_state=1)\n",
    "X_train2, X_test2, y_train2, y_test2 = train_test_split(X2, y2, test_size=0.2, random_state=1)\n",
    "X_train3, X_test3, y_train3, y_test3 = train_test_split(X3, y3, test_size=0.2, random_state=1)"
   ]
  },
  {
   "cell_type": "code",
   "execution_count": 147,
   "metadata": {
    "collapsed": true
   },
   "outputs": [],
   "source": [
    "# 20% test / 80% train / 10 cross validation iterations \n",
    "from sklearn.cross_validation import ShuffleSplit\n",
    "cv1 = ShuffleSplit(X_train1.shape[0], n_iter=10, test_size=0.2, random_state=0)\n",
    "cv2 = ShuffleSplit(X_train2.shape[0], n_iter=10, test_size=0.2, random_state=0)\n",
    "cv3 = ShuffleSplit(X_train3.shape[0], n_iter=10, test_size=0.2, random_state=0)"
   ]
  },
  {
   "cell_type": "code",
   "execution_count": 148,
   "metadata": {
    "collapsed": true
   },
   "outputs": [],
   "source": [
    "# standardization for models that use euclidian distances\n",
    "from sklearn.preprocessing import StandardScaler\n",
    "stdsc = StandardScaler()\n",
    "# transform training features\n",
    "X_train_std1 = stdsc.fit_transform(X_train1)\n",
    "# transform the testing features in the same way\n",
    "X_test_std1 = stdsc.transform(X_test1)\n",
    "\n",
    "X_train_std2 = stdsc.fit_transform(X_train2)\n",
    "X_test_std2 = stdsc.transform(X_test2)\n",
    "\n",
    "X_train_std3 = stdsc.fit_transform(X_train3)\n",
    "X_test_std3 = stdsc.transform(X_test3)"
   ]
  },
  {
   "cell_type": "code",
   "execution_count": 149,
   "metadata": {
    "collapsed": false
   },
   "outputs": [
    {
     "data": {
      "image/png": "[encoded data removed]",
      "text/plain": [
       "<matplotlib.figure.Figure at 0x10ce93710>"
      ]
     },
     "metadata": {},
     "output_type": "display_data"
    }
   ],
   "source": [
    "# take a look at the features plotted for those with/without diabetes + how they change for each set\n",
    "plt.figure()\n",
    "pd.tools.plotting.parallel_coordinates(all_data, 'class');"
   ]
  },
  {
   "cell_type": "code",
   "execution_count": 150,
   "metadata": {
    "collapsed": false
   },
   "outputs": [
    {
     "data": {
      "image/png": "[encoded data removed]",
      "text/plain": [
       "<matplotlib.figure.Figure at 0x10bcc5090>"
      ]
     },
     "metadata": {},
     "output_type": "display_data"
    }
   ],
   "source": [
    "plt.figure()\n",
    "pd.tools.plotting.parallel_coordinates(datar, 'class');"
   ]
  },
  {
   "cell_type": "code",
   "execution_count": 151,
   "metadata": {
    "collapsed": false
   },
   "outputs": [
    {
     "data": {
      "image/png": "[encoded data removed]",
      "text/plain": [
       "<matplotlib.figure.Figure at 0x10ce93390>"
      ]
     },
     "metadata": {},
     "output_type": "display_data"
    }
   ],
   "source": [
    "plt.figure()\n",
    "pd.tools.plotting.parallel_coordinates(data_small, 'class');"
   ]
  },
  {
   "cell_type": "markdown",
   "metadata": {},
   "source": [
    "## 5) What's the best performance you can get with kNN? Is kNN a good choice for this dataset?"
   ]
  },
  {
   "cell_type": "markdown",
   "metadata": {},
   "source": [
    "- Best Accuracy:  (1) 76.16% with datar (2) 74.83% with all_data (3) 73.51% with data_small\n",
    "- Speed: (1) 1.91 ms per loop with all_data (2) 2.02 ms per loop with datar (3) 12 ms per loop with data_small\n",
    "- Tested: datar\n",
    "- Interpretability: This model is easy to explain, so interpretibility is very good!\n",
    "<br><br>\n",
    "**Is kNN a good choice for this dataset?** Yes, this model is a good choice for this dataset since we are not predicting a continuous number but instead a category (1 or 0 representing 'Yes-Diabetes' or 'No Diabetes') and we only have 7-8 (depending on the dataframe) features (plus one label column). The performance is better than our benchmark, although the learning curves reveal bias and variance."
   ]
  },
  {
   "cell_type": "code",
   "execution_count": 152,
   "metadata": {
    "collapsed": true
   },
   "outputs": [],
   "source": [
    "# import and create classifier\n",
    "from sklearn.neighbors import KNeighborsClassifier\n",
    "knn = KNeighborsClassifier()"
   ]
  },
  {
   "cell_type": "code",
   "execution_count": 153,
   "metadata": {
    "collapsed": false
   },
   "outputs": [
    {
     "data": {
      "text/plain": [
       "GridSearchCV(cv=ShuffleSplit(601, n_iter=10, test_size=0.2, random_state=0),\n",
       "       error_score='raise',\n",
       "       estimator=KNeighborsClassifier(algorithm='auto', leaf_size=30, metric='minkowski',\n",
       "           metric_params=None, n_neighbors=5, p=2, weights='uniform'),\n",
       "       fit_params={}, iid=True, loss_func=None, n_jobs=1,\n",
       "       param_grid={'n_neighbors': [1, 2, 3, 4, 5, 6, 7, 8, 9, 10, 11, 12, 13, 14, 15, 16, 17, 18, 19, 20, 21, 22, 23, 24, 25, 26, 27, 28, 29], 'weights': ['uniform', 'distance'], 'p': [1, 2, 3]},\n",
       "       pre_dispatch='2*n_jobs', refit=True, score_func=None, scoring=None,\n",
       "       verbose=0)"
      ]
     },
     "execution_count": 153,
     "metadata": {},
     "output_type": "execute_result"
    }
   ],
   "source": [
    "# gridsearch for hyperparameters\n",
    "from sklearn.grid_search import GridSearchCV\n",
    "# the parameters we want to search in a dictionary\n",
    "# use the parameter name from sklearn as the key\n",
    "# and the possible values you want to test as the values\n",
    "parameters = {'n_neighbors': range(1,30), 'weights': ['uniform', 'distance'],\n",
    "             'p': range(1,4)}\n",
    "clf1 = GridSearchCV(knn, parameters, cv=cv1)\n",
    "clf1.fit(X_train_std1, y_train1)"
   ]
  },
  {
   "cell_type": "code",
   "execution_count": 154,
   "metadata": {
    "collapsed": false
   },
   "outputs": [
    {
     "data": {
      "text/plain": [
       "{'n_neighbors': 13, 'p': 2, 'weights': 'uniform'}"
      ]
     },
     "execution_count": 154,
     "metadata": {},
     "output_type": "execute_result"
    }
   ],
   "source": [
    "# get best performing combo\n",
    "clf1.best_params_"
   ]
  },
  {
   "cell_type": "code",
   "execution_count": 155,
   "metadata": {
    "collapsed": false
   },
   "outputs": [
    {
     "data": {
      "text/plain": [
       "0.76528925619834709"
      ]
     },
     "execution_count": 155,
     "metadata": {},
     "output_type": "execute_result"
    }
   ],
   "source": [
    "# average of cross validation scores\n",
    "clf1.best_score_"
   ]
  },
  {
   "cell_type": "code",
   "execution_count": 156,
   "metadata": {
    "collapsed": false
   },
   "outputs": [
    {
     "data": {
      "text/plain": [
       "KNeighborsClassifier(algorithm='auto', leaf_size=30, metric='minkowski',\n",
       "           metric_params=None, n_neighbors=13, p=2, weights='uniform')"
      ]
     },
     "execution_count": 156,
     "metadata": {},
     "output_type": "execute_result"
    }
   ],
   "source": [
    "# estimator params\n",
    "clf1.best_estimator_"
   ]
  },
  {
   "cell_type": "code",
   "execution_count": 157,
   "metadata": {
    "collapsed": true
   },
   "outputs": [],
   "source": [
    "# storing results for comparison for all_data\n",
    "best_knn1 = clf1.best_estimator_"
   ]
  },
  {
   "cell_type": "code",
   "execution_count": 158,
   "metadata": {
    "collapsed": false
   },
   "outputs": [
    {
     "data": {
      "text/plain": [
       "GridSearchCV(cv=ShuffleSplit(601, n_iter=10, test_size=0.2, random_state=0),\n",
       "       error_score='raise',\n",
       "       estimator=KNeighborsClassifier(algorithm='auto', leaf_size=30, metric='minkowski',\n",
       "           metric_params=None, n_neighbors=5, p=2, weights='uniform'),\n",
       "       fit_params={}, iid=True, loss_func=None, n_jobs=1,\n",
       "       param_grid={'n_neighbors': [1, 2, 3, 4, 5, 6, 7, 8, 9, 10, 11, 12, 13, 14, 15, 16, 17, 18, 19, 20, 21, 22, 23, 24, 25, 26, 27, 28, 29], 'weights': ['uniform', 'distance'], 'p': [1, 2, 3]},\n",
       "       pre_dispatch='2*n_jobs', refit=True, score_func=None, scoring=None,\n",
       "       verbose=0)"
      ]
     },
     "execution_count": 158,
     "metadata": {},
     "output_type": "execute_result"
    }
   ],
   "source": [
    "# repeating process for datar\n",
    "parameters = {'n_neighbors': range(1,30), 'weights': ['uniform', 'distance'],\n",
    "             'p': range(1,4)}\n",
    "clf2 = GridSearchCV(knn, parameters, cv=cv2)\n",
    "clf2.fit(X_train_std2, y_train2)"
   ]
  },
  {
   "cell_type": "code",
   "execution_count": 159,
   "metadata": {
    "collapsed": false
   },
   "outputs": [
    {
     "data": {
      "text/plain": [
       "{'n_neighbors': 11, 'p': 2, 'weights': 'uniform'}"
      ]
     },
     "execution_count": 159,
     "metadata": {},
     "output_type": "execute_result"
    }
   ],
   "source": [
    "# get best performing combo - datar\n",
    "clf2.best_params_"
   ]
  },
  {
   "cell_type": "code",
   "execution_count": 160,
   "metadata": {
    "collapsed": false
   },
   "outputs": [
    {
     "data": {
      "text/plain": [
       "0.76776859504132233"
      ]
     },
     "execution_count": 160,
     "metadata": {},
     "output_type": "execute_result"
    }
   ],
   "source": [
    "clf2.best_score_"
   ]
  },
  {
   "cell_type": "code",
   "execution_count": 161,
   "metadata": {
    "collapsed": false
   },
   "outputs": [
    {
     "data": {
      "text/plain": [
       "KNeighborsClassifier(algorithm='auto', leaf_size=30, metric='minkowski',\n",
       "           metric_params=None, n_neighbors=11, p=2, weights='uniform')"
      ]
     },
     "execution_count": 161,
     "metadata": {},
     "output_type": "execute_result"
    }
   ],
   "source": [
    "# estimator params\n",
    "clf2.best_estimator_"
   ]
  },
  {
   "cell_type": "code",
   "execution_count": 162,
   "metadata": {
    "collapsed": true
   },
   "outputs": [],
   "source": [
    "# storing results for comparison for datar\n",
    "best_knn2 = clf2.best_estimator_"
   ]
  },
  {
   "cell_type": "code",
   "execution_count": 163,
   "metadata": {
    "collapsed": false
   },
   "outputs": [
    {
     "data": {
      "text/plain": [
       "GridSearchCV(cv=ShuffleSplit(601, n_iter=10, test_size=0.2, random_state=0),\n",
       "       error_score='raise',\n",
       "       estimator=KNeighborsClassifier(algorithm='auto', leaf_size=30, metric='minkowski',\n",
       "           metric_params=None, n_neighbors=5, p=2, weights='uniform'),\n",
       "       fit_params={}, iid=True, loss_func=None, n_jobs=1,\n",
       "       param_grid={'n_neighbors': [1, 2, 3, 4, 5, 6, 7, 8, 9, 10, 11, 12, 13, 14, 15, 16, 17, 18, 19, 20, 21, 22, 23, 24, 25, 26, 27, 28, 29], 'weights': ['uniform', 'distance'], 'p': [1, 2, 3]},\n",
       "       pre_dispatch='2*n_jobs', refit=True, score_func=None, scoring=None,\n",
       "       verbose=0)"
      ]
     },
     "execution_count": 163,
     "metadata": {},
     "output_type": "execute_result"
    }
   ],
   "source": [
    "# repeating process for data_small\n",
    "parameters = {'n_neighbors': range(1,30), 'weights': ['uniform', 'distance'],\n",
    "             'p': range(1,4)}\n",
    "clf3 = GridSearchCV(knn, parameters, cv=cv3)\n",
    "clf3.fit(X_train_std3, y_train3)"
   ]
  },
  {
   "cell_type": "code",
   "execution_count": 164,
   "metadata": {
    "collapsed": false
   },
   "outputs": [
    {
     "data": {
      "text/plain": [
       "{'n_neighbors': 14, 'p': 3, 'weights': 'uniform'}"
      ]
     },
     "execution_count": 164,
     "metadata": {},
     "output_type": "execute_result"
    }
   ],
   "source": [
    "# get best performing combo - data_small\n",
    "clf3.best_params_"
   ]
  },
  {
   "cell_type": "code",
   "execution_count": 165,
   "metadata": {
    "collapsed": false
   },
   "outputs": [
    {
     "data": {
      "text/plain": [
       "0.76942148760330575"
      ]
     },
     "execution_count": 165,
     "metadata": {},
     "output_type": "execute_result"
    }
   ],
   "source": [
    "clf3.best_score_"
   ]
  },
  {
   "cell_type": "code",
   "execution_count": 166,
   "metadata": {
    "collapsed": false
   },
   "outputs": [
    {
     "data": {
      "text/plain": [
       "KNeighborsClassifier(algorithm='auto', leaf_size=30, metric='minkowski',\n",
       "           metric_params=None, n_neighbors=14, p=3, weights='uniform')"
      ]
     },
     "execution_count": 166,
     "metadata": {},
     "output_type": "execute_result"
    }
   ],
   "source": [
    "# estimator params\n",
    "clf3.best_estimator_"
   ]
  },
  {
   "cell_type": "code",
   "execution_count": 167,
   "metadata": {
    "collapsed": true
   },
   "outputs": [],
   "source": [
    "# storing results for comparison for data_small\n",
    "best_knn3 = clf3.best_estimator_"
   ]
  },
  {
   "cell_type": "code",
   "execution_count": 168,
   "metadata": {
    "collapsed": false
   },
   "outputs": [
    {
     "data": {
      "text/plain": [
       "0.7483443708609272"
      ]
     },
     "execution_count": 168,
     "metadata": {},
     "output_type": "execute_result"
    }
   ],
   "source": [
    "# compare the accuracy of each of the three:\n",
    "# all_data\n",
    "best_knn1.score(X_test_std1, y_test1)"
   ]
  },
  {
   "cell_type": "code",
   "execution_count": 169,
   "metadata": {
    "collapsed": false
   },
   "outputs": [
    {
     "name": "stdout",
     "output_type": "stream",
     "text": [
      "100 loops, best of 3: 2.06 ms per loop\n"
     ]
    }
   ],
   "source": [
    "# timing - all_data\n",
    "%timeit best_knn1.predict(X_test_std1)"
   ]
  },
  {
   "cell_type": "code",
   "execution_count": 170,
   "metadata": {
    "collapsed": false
   },
   "outputs": [
    {
     "data": {
      "text/plain": [
       "0.76158940397350994"
      ]
     },
     "execution_count": 170,
     "metadata": {},
     "output_type": "execute_result"
    }
   ],
   "source": [
    "# datar\n",
    "best_knn2.score(X_test_std2, y_test2)"
   ]
  },
  {
   "cell_type": "code",
   "execution_count": 171,
   "metadata": {
    "collapsed": false
   },
   "outputs": [
    {
     "name": "stdout",
     "output_type": "stream",
     "text": [
      "100 loops, best of 3: 2.2 ms per loop\n"
     ]
    }
   ],
   "source": [
    "# timing - datar\n",
    "%timeit best_knn2.predict(X_test_std2)"
   ]
  },
  {
   "cell_type": "code",
   "execution_count": 172,
   "metadata": {
    "collapsed": false
   },
   "outputs": [
    {
     "data": {
      "text/plain": [
       "0.73509933774834435"
      ]
     },
     "execution_count": 172,
     "metadata": {},
     "output_type": "execute_result"
    }
   ],
   "source": [
    "#data_small\n",
    "best_knn3.score(X_test_std3, y_test3)"
   ]
  },
  {
   "cell_type": "code",
   "execution_count": 173,
   "metadata": {
    "collapsed": false
   },
   "outputs": [
    {
     "name": "stdout",
     "output_type": "stream",
     "text": [
      "100 loops, best of 3: 11.8 ms per loop\n"
     ]
    }
   ],
   "source": [
    "# timing - data_small\n",
    "%timeit best_knn3.predict(X_test_std3)"
   ]
  },
  {
   "cell_type": "code",
   "execution_count": 174,
   "metadata": {
    "collapsed": false
   },
   "outputs": [
    {
     "data": {
      "text/plain": [
       "(array([ 48, 156, 264, 372, 480]),\n",
       " array([[ 0.83333333,  0.8125    ,  0.72916667,  0.8125    ,  0.6875    ,\n",
       "          0.70833333,  0.625     ,  0.75      ,  0.8125    ,  0.85416667],\n",
       "        [ 0.82692308,  0.76282051,  0.73076923,  0.80128205,  0.77564103,\n",
       "          0.76923077,  0.78205128,  0.77564103,  0.74358974,  0.75      ],\n",
       "        [ 0.79924242,  0.80681818,  0.78409091,  0.8030303 ,  0.8030303 ,\n",
       "          0.79166667,  0.79545455,  0.78409091,  0.77272727,  0.78030303],\n",
       "        [ 0.80913978,  0.79301075,  0.7983871 ,  0.81451613,  0.81182796,\n",
       "          0.80376344,  0.78763441,  0.80913978,  0.80107527,  0.80107527],\n",
       "        [ 0.81666667,  0.78958333,  0.80208333,  0.79791667,  0.7875    ,\n",
       "          0.80625   ,  0.80416667,  0.80625   ,  0.80833333,  0.80416667]]),\n",
       " array([[ 0.75206612,  0.78512397,  0.78512397,  0.67768595,  0.67768595,\n",
       "          0.70247934,  0.7107438 ,  0.72727273,  0.70247934,  0.69421488],\n",
       "        [ 0.76859504,  0.75206612,  0.76033058,  0.69421488,  0.70247934,\n",
       "          0.66942149,  0.7107438 ,  0.75206612,  0.71900826,  0.68595041],\n",
       "        [ 0.74380165,  0.80165289,  0.80165289,  0.7107438 ,  0.74380165,\n",
       "          0.68595041,  0.71900826,  0.76859504,  0.76033058,  0.68595041],\n",
       "        [ 0.72727273,  0.80991736,  0.80165289,  0.74380165,  0.76033058,\n",
       "          0.73553719,  0.74380165,  0.74380165,  0.70247934,  0.74380165],\n",
       "        [ 0.73553719,  0.83471074,  0.81818182,  0.73553719,  0.76859504,\n",
       "          0.80991736,  0.73553719,  0.75206612,  0.74380165,  0.74380165]]))"
      ]
     },
     "execution_count": 174,
     "metadata": {},
     "output_type": "execute_result"
    }
   ],
   "source": [
    "# get ready to plot learning curves\n",
    "from sklearn.learning_curve import learning_curve\n",
    "title = 'title'\n",
    "learning_curve(best_knn2, X_train_std2, y_train2, cv=cv2)"
   ]
  },
  {
   "cell_type": "code",
   "execution_count": 175,
   "metadata": {
    "collapsed": true
   },
   "outputs": [],
   "source": [
    "def plot_learning_curve(estimator, title, X2, y2, ylim=None, cv=None,\n",
    "                       train_sizes=np.linspace(.2,1.0,10), n_jobs=1):\n",
    "    \"\"\"Create a learning curve to help\n",
    "    us determine if we are overfitting\n",
    "    or underfitting.\n",
    "    \n",
    "    Parameters\n",
    "    ----------\n",
    "    estimator (variable name) : our ML algorithm we want to plot\n",
    "\n",
    "    title (string) : title for our chart\n",
    "\n",
    "    X2 : our training dataframe\n",
    "\n",
    "    y2 : our training labels\n",
    "\n",
    "    ylim (tuple): min, max of the score, ie % accuracy\n",
    "\n",
    "    cv2 (variable name) : pass through for our CV strategy\n",
    "    \n",
    "    train_sizes (list-like) : the increments of % of our training data to use\n",
    "    \"\"\"\n",
    "    \n",
    "    plt.figure()\n",
    "    plt.title(title)\n",
    "    if ylim is not None:\n",
    "        plt.ylim(*ylim)\n",
    "    \n",
    "    plt.xlabel(\"Number of training examples used\")\n",
    "    plt.ylabel(\"Accuracy\")\n",
    "    train_sizes, train_scores, test_scores = learning_curve(\n",
    "        estimator, X2, y2, cv=cv2, n_jobs=n_jobs, train_sizes=train_sizes)\n",
    "    train_scores_mean = np.mean(train_scores, axis=1)\n",
    "    train_scores_std = np.std(train_scores, axis=1)\n",
    "    test_scores_mean = np.mean(test_scores, axis=1)\n",
    "    test_scores_std = np.std(test_scores, axis=1)\n",
    "    plt.grid()\n",
    "\n",
    "    plt.fill_between(train_sizes, train_scores_mean - train_scores_std,\n",
    "                     train_scores_mean + train_scores_std, alpha=0.1,\n",
    "                     color=\"r\")\n",
    "    plt.fill_between(train_sizes, test_scores_mean - test_scores_std,\n",
    "                     test_scores_mean + test_scores_std, alpha=0.1, color=\"g\")\n",
    "    plt.plot(train_sizes, train_scores_mean, 'o-', color=\"r\",\n",
    "             label=\"Training score\")\n",
    "    plt.plot(train_sizes, test_scores_mean, 'o-', color=\"g\",\n",
    "             label=\"Cross-validation score\")\n",
    "\n",
    "    plt.legend(loc=\"best\")\n",
    "    return plt"
   ]
  },
  {
   "cell_type": "code",
   "execution_count": 176,
   "metadata": {
    "collapsed": false
   },
   "outputs": [
    {
     "data": {
      "image/png": "[encoded data removed]",
      "text/plain": [
       "<matplotlib.figure.Figure at 0x10f274710>"
      ]
     },
     "metadata": {},
     "output_type": "display_data"
    }
   ],
   "source": [
    "plot_learning_curve(best_knn2, 'Learning Curve for kNN (datar)', X_train_std2, y_train2, cv=cv2);"
   ]
  },
  {
   "cell_type": "markdown",
   "metadata": {},
   "source": [
    "## 6) What's the best performance you can get with Naive Bayes? Is NB a good choice for this dataset?"
   ]
  },
  {
   "cell_type": "markdown",
   "metadata": {},
   "source": [
    "- Best Accuracy:  70.25%\n",
    "- Speed: 79.7 microsec\n",
    "- Tested: Only did vectorization for pg_conc\n",
    "- Interpretability: This model can be moderately easy to explain, but is usually used for textual analysis. So I feel like it would be difficult to explain why and how it was used in this particular situation (and that includes the other NB varieties).\n",
    "<br><br>\n",
    "**Is NB a good choice for this dataset?** No, because part of how it works is by detecting the frequency of a word (the multinomial NB that I used; others can detect the absence of a word or normal distribution; maybe that one, Gaussian, would be somewhat more relevant in this case). This data is composed of numbers (test results), first of all, and contains several dimensions--making it a poor candidate. Features have some correlation, while this model assumes feature indepenence. The learning curves show tons of bias and maybe some variance although the line for training is a bit jagged. However, it did perform a few points better than benchmark and is fast."
   ]
  },
  {
   "cell_type": "code",
   "execution_count": 177,
   "metadata": {
    "collapsed": false
   },
   "outputs": [],
   "source": [
    "# convert all to strings\n",
    "SX_train1 = X_train1.astype(str)"
   ]
  },
  {
   "cell_type": "code",
   "execution_count": 178,
   "metadata": {
    "collapsed": false
   },
   "outputs": [
    {
     "name": "stdout",
     "output_type": "stream",
     "text": [
      "<class 'pandas.core.frame.DataFrame'>\n",
      "Int64Index: 601 entries, 97 to 38\n",
      "Data columns (total 8 columns):\n",
      "preg             601 non-null object\n",
      "pg_conc          601 non-null object\n",
      "diastolic_bp     601 non-null object\n",
      "skin             601 non-null object\n",
      "serum_insulin    601 non-null object\n",
      "bmi              601 non-null object\n",
      "diabetes_pf      601 non-null object\n",
      "age              601 non-null object\n",
      "dtypes: object(8)\n",
      "memory usage: 42.3+ KB\n"
     ]
    }
   ],
   "source": [
    "SX_train1.info()"
   ]
  },
  {
   "cell_type": "code",
   "execution_count": 179,
   "metadata": {
    "collapsed": false
   },
   "outputs": [
    {
     "data": {
      "text/plain": [
       "array([[0, 0, 0, 0, 0, 1, 0, 0],\n",
       "       [0, 0, 0, 0, 1, 0, 0, 0],\n",
       "       [0, 0, 0, 1, 0, 0, 0, 0],\n",
       "       [0, 0, 0, 0, 0, 0, 0, 1],\n",
       "       [0, 0, 0, 0, 0, 0, 1, 0],\n",
       "       [0, 1, 0, 0, 0, 0, 0, 0],\n",
       "       [0, 0, 1, 0, 0, 0, 0, 0],\n",
       "       [1, 0, 0, 0, 0, 0, 0, 0]])"
      ]
     },
     "execution_count": 179,
     "metadata": {},
     "output_type": "execute_result"
    }
   ],
   "source": [
    "# vectorize\n",
    "from sklearn.feature_extraction.text import CountVectorizer\n",
    "vect = CountVectorizer(decode_error='ignore')\n",
    "vect.fit(SX_train1[['preg', 'pg_conc', 'diastolic_bp', 'skin', 'serum_insulin', 'bmi', 'diabetes_pf', 'age']])\n",
    "vect_trans1 = vect.transform(SX_train1[['preg', 'pg_conc', 'diastolic_bp', 'skin', 'serum_insulin', 'bmi', 'diabetes_pf', 'age']])\n",
    "vect_trans1.toarray()"
   ]
  },
  {
   "cell_type": "code",
   "execution_count": 180,
   "metadata": {
    "collapsed": true
   },
   "outputs": [],
   "source": [
    "# place into dataframe\n",
    "nb_df1 = pd.DataFrame(vect_trans1.toarray())"
   ]
  },
  {
   "cell_type": "code",
   "execution_count": 181,
   "metadata": {
    "collapsed": false
   },
   "outputs": [
    {
     "data": {
      "text/html": [
       "<div>\n",
       "<table border=\"1\" class=\"dataframe\">\n",
       "  <thead>\n",
       "    <tr style=\"text-align: right;\">\n",
       "      <th></th>\n",
       "      <th>0</th>\n",
       "      <th>1</th>\n",
       "      <th>2</th>\n",
       "      <th>3</th>\n",
       "      <th>4</th>\n",
       "      <th>5</th>\n",
       "      <th>6</th>\n",
       "      <th>7</th>\n",
       "    </tr>\n",
       "  </thead>\n",
       "  <tbody>\n",
       "    <tr>\n",
       "      <th>0</th>\n",
       "      <td>0</td>\n",
       "      <td>0</td>\n",
       "      <td>0</td>\n",
       "      <td>0</td>\n",
       "      <td>0</td>\n",
       "      <td>1</td>\n",
       "      <td>0</td>\n",
       "      <td>0</td>\n",
       "    </tr>\n",
       "    <tr>\n",
       "      <th>1</th>\n",
       "      <td>0</td>\n",
       "      <td>0</td>\n",
       "      <td>0</td>\n",
       "      <td>0</td>\n",
       "      <td>1</td>\n",
       "      <td>0</td>\n",
       "      <td>0</td>\n",
       "      <td>0</td>\n",
       "    </tr>\n",
       "    <tr>\n",
       "      <th>2</th>\n",
       "      <td>0</td>\n",
       "      <td>0</td>\n",
       "      <td>0</td>\n",
       "      <td>1</td>\n",
       "      <td>0</td>\n",
       "      <td>0</td>\n",
       "      <td>0</td>\n",
       "      <td>0</td>\n",
       "    </tr>\n",
       "    <tr>\n",
       "      <th>3</th>\n",
       "      <td>0</td>\n",
       "      <td>0</td>\n",
       "      <td>0</td>\n",
       "      <td>0</td>\n",
       "      <td>0</td>\n",
       "      <td>0</td>\n",
       "      <td>0</td>\n",
       "      <td>1</td>\n",
       "    </tr>\n",
       "    <tr>\n",
       "      <th>4</th>\n",
       "      <td>0</td>\n",
       "      <td>0</td>\n",
       "      <td>0</td>\n",
       "      <td>0</td>\n",
       "      <td>0</td>\n",
       "      <td>0</td>\n",
       "      <td>1</td>\n",
       "      <td>0</td>\n",
       "    </tr>\n",
       "    <tr>\n",
       "      <th>5</th>\n",
       "      <td>0</td>\n",
       "      <td>1</td>\n",
       "      <td>0</td>\n",
       "      <td>0</td>\n",
       "      <td>0</td>\n",
       "      <td>0</td>\n",
       "      <td>0</td>\n",
       "      <td>0</td>\n",
       "    </tr>\n",
       "    <tr>\n",
       "      <th>6</th>\n",
       "      <td>0</td>\n",
       "      <td>0</td>\n",
       "      <td>1</td>\n",
       "      <td>0</td>\n",
       "      <td>0</td>\n",
       "      <td>0</td>\n",
       "      <td>0</td>\n",
       "      <td>0</td>\n",
       "    </tr>\n",
       "    <tr>\n",
       "      <th>7</th>\n",
       "      <td>1</td>\n",
       "      <td>0</td>\n",
       "      <td>0</td>\n",
       "      <td>0</td>\n",
       "      <td>0</td>\n",
       "      <td>0</td>\n",
       "      <td>0</td>\n",
       "      <td>0</td>\n",
       "    </tr>\n",
       "  </tbody>\n",
       "</table>\n",
       "</div>"
      ],
      "text/plain": [
       "   0  1  2  3  4  5  6  7\n",
       "0  0  0  0  0  0  1  0  0\n",
       "1  0  0  0  0  1  0  0  0\n",
       "2  0  0  0  1  0  0  0  0\n",
       "3  0  0  0  0  0  0  0  1\n",
       "4  0  0  0  0  0  0  1  0\n",
       "5  0  1  0  0  0  0  0  0\n",
       "6  0  0  1  0  0  0  0  0\n",
       "7  1  0  0  0  0  0  0  0"
      ]
     },
     "execution_count": 181,
     "metadata": {},
     "output_type": "execute_result"
    }
   ],
   "source": [
    "# this looks bad, but this is probably a really bad model for this type of thing; \n",
    "# maybe would work better with only one feature?\n",
    "nb_df1.head(50)"
   ]
  },
  {
   "cell_type": "code",
   "execution_count": 182,
   "metadata": {
    "collapsed": false
   },
   "outputs": [
    {
     "data": {
      "text/plain": [
       "array([[0, 0, 0, ..., 0, 0, 0],\n",
       "       [0, 0, 0, ..., 0, 0, 0],\n",
       "       [0, 0, 0, ..., 0, 0, 0],\n",
       "       ..., \n",
       "       [0, 0, 0, ..., 0, 0, 0],\n",
       "       [0, 0, 0, ..., 0, 0, 0],\n",
       "       [0, 0, 0, ..., 0, 0, 0]])"
      ]
     },
     "execution_count": 182,
     "metadata": {},
     "output_type": "execute_result"
    }
   ],
   "source": [
    "# let's try with pg_conc, which Random Forest says is the most important predictive feature and had high correlation to class\n",
    "vect = CountVectorizer(decode_error='ignore')\n",
    "vect.fit(SX_train1.pg_conc)\n",
    "vect_trans1again = vect.transform(SX_train1.pg_conc)\n",
    "vect_trans1again.toarray()"
   ]
  },
  {
   "cell_type": "code",
   "execution_count": 183,
   "metadata": {
    "collapsed": true
   },
   "outputs": [],
   "source": [
    "# place into dataframe\n",
    "nb_df1again = pd.DataFrame(vect_trans1again.toarray())"
   ]
  },
  {
   "cell_type": "code",
   "execution_count": 184,
   "metadata": {
    "collapsed": false
   },
   "outputs": [
    {
     "name": "stdout",
     "output_type": "stream",
     "text": [
      "<class 'pandas.core.frame.DataFrame'>\n",
      "Int64Index: 601 entries, 0 to 600\n",
      "Columns: 130 entries, 0 to 129\n",
      "dtypes: int64(130)\n",
      "memory usage: 615.1 KB\n"
     ]
    }
   ],
   "source": [
    "# better, but kind of meaningless since we don't need/can't get a word list \n",
    "# not doing this for the others\n",
    "nb_df1again.info()"
   ]
  },
  {
   "cell_type": "code",
   "execution_count": 185,
   "metadata": {
    "collapsed": true
   },
   "outputs": [],
   "source": [
    "# make our y column and label_key to reference later\n",
    "nb_df1again['class'] = pd.factorize(y_train1)[0]\n",
    "label_key = pd.factorize(y_train1)[1]"
   ]
  },
  {
   "cell_type": "code",
   "execution_count": 186,
   "metadata": {
    "collapsed": false
   },
   "outputs": [
    {
     "data": {
      "text/html": [
       "<div>\n",
       "<table border=\"1\" class=\"dataframe\">\n",
       "  <thead>\n",
       "    <tr style=\"text-align: right;\">\n",
       "      <th></th>\n",
       "      <th>0</th>\n",
       "      <th>1</th>\n",
       "      <th>2</th>\n",
       "      <th>3</th>\n",
       "      <th>4</th>\n",
       "      <th>5</th>\n",
       "      <th>6</th>\n",
       "      <th>7</th>\n",
       "      <th>8</th>\n",
       "      <th>9</th>\n",
       "      <th>...</th>\n",
       "      <th>121</th>\n",
       "      <th>122</th>\n",
       "      <th>123</th>\n",
       "      <th>124</th>\n",
       "      <th>125</th>\n",
       "      <th>126</th>\n",
       "      <th>127</th>\n",
       "      <th>128</th>\n",
       "      <th>129</th>\n",
       "      <th>class</th>\n",
       "    </tr>\n",
       "  </thead>\n",
       "  <tbody>\n",
       "    <tr>\n",
       "      <th>0</th>\n",
       "      <td>0</td>\n",
       "      <td>0</td>\n",
       "      <td>0</td>\n",
       "      <td>0</td>\n",
       "      <td>0</td>\n",
       "      <td>0</td>\n",
       "      <td>0</td>\n",
       "      <td>0</td>\n",
       "      <td>0</td>\n",
       "      <td>0</td>\n",
       "      <td>...</td>\n",
       "      <td>0</td>\n",
       "      <td>0</td>\n",
       "      <td>0</td>\n",
       "      <td>0</td>\n",
       "      <td>0</td>\n",
       "      <td>0</td>\n",
       "      <td>0</td>\n",
       "      <td>0</td>\n",
       "      <td>0</td>\n",
       "      <td>0</td>\n",
       "    </tr>\n",
       "    <tr>\n",
       "      <th>1</th>\n",
       "      <td>0</td>\n",
       "      <td>0</td>\n",
       "      <td>0</td>\n",
       "      <td>0</td>\n",
       "      <td>0</td>\n",
       "      <td>0</td>\n",
       "      <td>0</td>\n",
       "      <td>0</td>\n",
       "      <td>0</td>\n",
       "      <td>0</td>\n",
       "      <td>...</td>\n",
       "      <td>0</td>\n",
       "      <td>0</td>\n",
       "      <td>0</td>\n",
       "      <td>0</td>\n",
       "      <td>0</td>\n",
       "      <td>0</td>\n",
       "      <td>0</td>\n",
       "      <td>0</td>\n",
       "      <td>0</td>\n",
       "      <td>1</td>\n",
       "    </tr>\n",
       "    <tr>\n",
       "      <th>2</th>\n",
       "      <td>0</td>\n",
       "      <td>0</td>\n",
       "      <td>0</td>\n",
       "      <td>0</td>\n",
       "      <td>0</td>\n",
       "      <td>0</td>\n",
       "      <td>0</td>\n",
       "      <td>0</td>\n",
       "      <td>0</td>\n",
       "      <td>0</td>\n",
       "      <td>...</td>\n",
       "      <td>0</td>\n",
       "      <td>0</td>\n",
       "      <td>0</td>\n",
       "      <td>0</td>\n",
       "      <td>0</td>\n",
       "      <td>1</td>\n",
       "      <td>0</td>\n",
       "      <td>0</td>\n",
       "      <td>0</td>\n",
       "      <td>0</td>\n",
       "    </tr>\n",
       "    <tr>\n",
       "      <th>3</th>\n",
       "      <td>0</td>\n",
       "      <td>0</td>\n",
       "      <td>0</td>\n",
       "      <td>0</td>\n",
       "      <td>0</td>\n",
       "      <td>0</td>\n",
       "      <td>0</td>\n",
       "      <td>0</td>\n",
       "      <td>0</td>\n",
       "      <td>0</td>\n",
       "      <td>...</td>\n",
       "      <td>0</td>\n",
       "      <td>0</td>\n",
       "      <td>0</td>\n",
       "      <td>0</td>\n",
       "      <td>0</td>\n",
       "      <td>0</td>\n",
       "      <td>0</td>\n",
       "      <td>0</td>\n",
       "      <td>0</td>\n",
       "      <td>0</td>\n",
       "    </tr>\n",
       "    <tr>\n",
       "      <th>4</th>\n",
       "      <td>0</td>\n",
       "      <td>0</td>\n",
       "      <td>0</td>\n",
       "      <td>0</td>\n",
       "      <td>0</td>\n",
       "      <td>0</td>\n",
       "      <td>0</td>\n",
       "      <td>1</td>\n",
       "      <td>0</td>\n",
       "      <td>0</td>\n",
       "      <td>...</td>\n",
       "      <td>0</td>\n",
       "      <td>0</td>\n",
       "      <td>0</td>\n",
       "      <td>0</td>\n",
       "      <td>0</td>\n",
       "      <td>0</td>\n",
       "      <td>0</td>\n",
       "      <td>0</td>\n",
       "      <td>0</td>\n",
       "      <td>0</td>\n",
       "    </tr>\n",
       "  </tbody>\n",
       "</table>\n",
       "<p>5 rows × 131 columns</p>\n",
       "</div>"
      ],
      "text/plain": [
       "   0  1  2  3  4  5  6  7  8  9  ...    121  122  123  124  125  126  127  \\\n",
       "0  0  0  0  0  0  0  0  0  0  0  ...      0    0    0    0    0    0    0   \n",
       "1  0  0  0  0  0  0  0  0  0  0  ...      0    0    0    0    0    0    0   \n",
       "2  0  0  0  0  0  0  0  0  0  0  ...      0    0    0    0    0    1    0   \n",
       "3  0  0  0  0  0  0  0  0  0  0  ...      0    0    0    0    0    0    0   \n",
       "4  0  0  0  0  0  0  0  1  0  0  ...      0    0    0    0    0    0    0   \n",
       "\n",
       "   128  129  class  \n",
       "0    0    0      0  \n",
       "1    0    0      1  \n",
       "2    0    0      0  \n",
       "3    0    0      0  \n",
       "4    0    0      0  \n",
       "\n",
       "[5 rows x 131 columns]"
      ]
     },
     "execution_count": 186,
     "metadata": {},
     "output_type": "execute_result"
    }
   ],
   "source": [
    "nb_df1again.head()"
   ]
  },
  {
   "cell_type": "code",
   "execution_count": 187,
   "metadata": {
    "collapsed": false
   },
   "outputs": [
    {
     "name": "stdout",
     "output_type": "stream",
     "text": [
      "<class 'pandas.core.frame.DataFrame'>\n",
      "Int64Index: 601 entries, 0 to 600\n",
      "Columns: 131 entries, 0 to class\n",
      "dtypes: int64(131)\n",
      "memory usage: 619.8 KB\n"
     ]
    }
   ],
   "source": [
    "nb_df1again.info()"
   ]
  },
  {
   "cell_type": "code",
   "execution_count": 188,
   "metadata": {
    "collapsed": true
   },
   "outputs": [],
   "source": [
    "# set our X and y\n",
    "ynb, Xnb = nb_df1again['class'], nb_df1again.drop(['class'], axis=1)"
   ]
  },
  {
   "cell_type": "code",
   "execution_count": 189,
   "metadata": {
    "collapsed": true
   },
   "outputs": [],
   "source": [
    "# test and train the data\n",
    "Xnb_train, Xnb_test, ynb_train, ynb_test = train_test_split(Xnb, ynb, \n",
    "                                                    test_size=0.2, random_state=1)"
   ]
  },
  {
   "cell_type": "code",
   "execution_count": 190,
   "metadata": {
    "collapsed": false
   },
   "outputs": [],
   "source": [
    "# set up cross validation\n",
    "cv_nb = ShuffleSplit(Xnb_train.shape[0], n_iter=10, test_size=0.2, random_state=0)"
   ]
  },
  {
   "cell_type": "code",
   "execution_count": 191,
   "metadata": {
    "collapsed": false
   },
   "outputs": [
    {
     "data": {
      "text/plain": [
       "GridSearchCV(cv=ShuffleSplit(480, n_iter=10, test_size=0.2, random_state=0),\n",
       "       error_score='raise',\n",
       "       estimator=MultinomialNB(alpha=1.0, class_prior=None, fit_prior=True),\n",
       "       fit_params={}, iid=True, loss_func=None, n_jobs=1,\n",
       "       param_grid={'alpha': array([  1.00000e-04,   1.11200e-01,   2.22300e-01,   3.33400e-01,\n",
       "         4.44500e-01,   5.55600e-01,   6.66700e-01,   7.77800e-01,\n",
       "         8.88900e-01,   1.00000e+00])},\n",
       "       pre_dispatch='2*n_jobs', refit=True, score_func=None, scoring=None,\n",
       "       verbose=0)"
      ]
     },
     "execution_count": 191,
     "metadata": {},
     "output_type": "execute_result"
    }
   ],
   "source": [
    "# check best params for all_data\n",
    "from sklearn.naive_bayes import MultinomialNB\n",
    "\n",
    "parameters = {'alpha': np.linspace(1e-4, 1, 10)}\n",
    "nbayes = MultinomialNB()\n",
    "clf_nb1 = GridSearchCV(nbayes, parameters, cv=cv_nb)\n",
    "clf_nb1.fit(Xnb_train, ynb_train)"
   ]
  },
  {
   "cell_type": "code",
   "execution_count": 192,
   "metadata": {
    "collapsed": false
   },
   "outputs": [
    {
     "data": {
      "text/plain": [
       "{'alpha': 1.0}"
      ]
     },
     "execution_count": 192,
     "metadata": {},
     "output_type": "execute_result"
    }
   ],
   "source": [
    "clf_nb1.best_params_"
   ]
  },
  {
   "cell_type": "code",
   "execution_count": 255,
   "metadata": {
    "collapsed": false
   },
   "outputs": [
    {
     "data": {
      "text/plain": [
       "0.65312499999999996"
      ]
     },
     "execution_count": 255,
     "metadata": {},
     "output_type": "execute_result"
    }
   ],
   "source": [
    "clf_nb1.best_score_"
   ]
  },
  {
   "cell_type": "code",
   "execution_count": 193,
   "metadata": {
    "collapsed": false
   },
   "outputs": [
    {
     "data": {
      "text/plain": [
       "MultinomialNB(alpha=1.0, class_prior=None, fit_prior=True)"
      ]
     },
     "execution_count": 193,
     "metadata": {},
     "output_type": "execute_result"
    }
   ],
   "source": [
    "clf_nb1.best_estimator_"
   ]
  },
  {
   "cell_type": "code",
   "execution_count": 194,
   "metadata": {
    "collapsed": true
   },
   "outputs": [],
   "source": [
    "best_nb1 = clf_nb1.best_estimator_"
   ]
  },
  {
   "cell_type": "code",
   "execution_count": 195,
   "metadata": {
    "collapsed": false
   },
   "outputs": [
    {
     "data": {
      "text/plain": [
       "0.7024793388429752"
      ]
     },
     "execution_count": 195,
     "metadata": {},
     "output_type": "execute_result"
    }
   ],
   "source": [
    "best_nb1.score(Xnb_test, ynb_test)"
   ]
  },
  {
   "cell_type": "code",
   "execution_count": 196,
   "metadata": {
    "collapsed": false
   },
   "outputs": [
    {
     "name": "stdout",
     "output_type": "stream",
     "text": [
      "The slowest run took 9.57 times longer than the fastest. This could mean that an intermediate result is being cached \n",
      "10000 loops, best of 3: 75.5 µs per loop\n"
     ]
    }
   ],
   "source": [
    "# timing for all_data\n",
    "%timeit best_nb1.predict(Xnb_test)"
   ]
  },
  {
   "cell_type": "code",
   "execution_count": 197,
   "metadata": {
    "collapsed": false
   },
   "outputs": [
    {
     "data": {
      "text/plain": [
       "(array([ 38, 124, 211, 297, 384]),\n",
       " array([[ 1.        ,  0.92105263,  0.73684211,  0.92105263,  0.97368421,\n",
       "          0.73684211,  0.94736842,  0.81578947,  0.97368421,  0.73684211],\n",
       "        [ 0.86290323,  0.88709677,  0.81451613,  0.87096774,  0.87096774,\n",
       "          0.83870968,  0.87903226,  0.86290323,  0.88709677,  0.86290323],\n",
       "        [ 0.81042654,  0.83412322,  0.81516588,  0.80094787,  0.81042654,\n",
       "          0.8436019 ,  0.81516588,  0.83412322,  0.83886256,  0.83412322],\n",
       "        [ 0.8013468 ,  0.81818182,  0.8047138 ,  0.79124579,  0.7979798 ,\n",
       "          0.80808081,  0.78451178,  0.81144781,  0.82491582,  0.7979798 ],\n",
       "        [ 0.79427083,  0.796875  ,  0.78645833,  0.79166667,  0.79947917,\n",
       "          0.796875  ,  0.79166667,  0.79427083,  0.79947917,  0.796875  ]]),\n",
       " array([[ 0.60416667,  0.625     ,  0.61458333,  0.5625    ,  0.61458333,\n",
       "          0.52083333,  0.625     ,  0.72916667,  0.61458333,  0.64583333],\n",
       "        [ 0.63541667,  0.64583333,  0.67708333,  0.48958333,  0.65625   ,\n",
       "          0.55208333,  0.61458333,  0.69791667,  0.59375   ,  0.58333333],\n",
       "        [ 0.6875    ,  0.63541667,  0.59375   ,  0.60416667,  0.67708333,\n",
       "          0.57291667,  0.64583333,  0.65625   ,  0.59375   ,  0.5625    ],\n",
       "        [ 0.67708333,  0.63541667,  0.64583333,  0.60416667,  0.69791667,\n",
       "          0.5625    ,  0.67708333,  0.65625   ,  0.5625    ,  0.64583333],\n",
       "        [ 0.69791667,  0.64583333,  0.66666667,  0.67708333,  0.625     ,\n",
       "          0.59375   ,  0.66666667,  0.65625   ,  0.625     ,  0.67708333]]))"
      ]
     },
     "execution_count": 197,
     "metadata": {},
     "output_type": "execute_result"
    }
   ],
   "source": [
    "# get ready to plot learning curves\n",
    "from sklearn.learning_curve import learning_curve\n",
    "title = 'title'\n",
    "learning_curve(nbayes, Xnb_train, ynb_train, cv=cv_nb)"
   ]
  },
  {
   "cell_type": "code",
   "execution_count": 198,
   "metadata": {
    "collapsed": true
   },
   "outputs": [],
   "source": [
    "def plot_learning_curve(estimator, title, Xnb, ynb, ylim=None, cv=None,\n",
    "                       train_sizes=np.linspace(.2,1.0,10), n_jobs=1):\n",
    "    \"\"\"Create a learning curve to help\n",
    "    us determine if we are overfitting\n",
    "    or underfitting.\n",
    "    \n",
    "    Parameters\n",
    "    ----------\n",
    "    estimator (variable name) : our ML algorithm we want to plot\n",
    "\n",
    "    title (string) : title for our chart\n",
    "\n",
    "    X3 : our training dataframe\n",
    "\n",
    "    y3 : our training labels\n",
    "\n",
    "    ylim (tuple): min, max of the score, ie % accuracy\n",
    "\n",
    "    cv3 (variable name) : pass through for our CV strategy\n",
    "    \n",
    "    train_sizes (list-like) : the increments of % of our training data to use\n",
    "    \"\"\"\n",
    "    \n",
    "    plt.figure()\n",
    "    plt.title(title)\n",
    "    if ylim is not None:\n",
    "        plt.ylim(*ylim)\n",
    "    \n",
    "    plt.xlabel(\"Number of training examples used\")\n",
    "    plt.ylabel(\"Accuracy\")\n",
    "    train_sizes, train_scores, test_scores = learning_curve(\n",
    "        estimator, X3, y3, cv=cv3, n_jobs=n_jobs, train_sizes=train_sizes)\n",
    "    train_scores_mean = np.mean(train_scores, axis=1)\n",
    "    train_scores_std = np.std(train_scores, axis=1)\n",
    "    test_scores_mean = np.mean(test_scores, axis=1)\n",
    "    test_scores_std = np.std(test_scores, axis=1)\n",
    "    plt.grid()\n",
    "\n",
    "    plt.fill_between(train_sizes, train_scores_mean - train_scores_std,\n",
    "                     train_scores_mean + train_scores_std, alpha=0.1,\n",
    "                     color=\"r\")\n",
    "    plt.fill_between(train_sizes, test_scores_mean - test_scores_std,\n",
    "                     test_scores_mean + test_scores_std, alpha=0.1, color=\"g\")\n",
    "    plt.plot(train_sizes, train_scores_mean, 'o-', color=\"r\",\n",
    "             label=\"Training score\")\n",
    "    plt.plot(train_sizes, test_scores_mean, 'o-', color=\"g\",\n",
    "             label=\"Cross-validation score\")\n",
    "\n",
    "    plt.legend(loc=\"best\")\n",
    "    return plt"
   ]
  },
  {
   "cell_type": "code",
   "execution_count": 199,
   "metadata": {
    "collapsed": false
   },
   "outputs": [
    {
     "data": {
      "image/png": "[encoded data removed]",
      "text/plain": [
       "<matplotlib.figure.Figure at 0x10bc02690>"
      ]
     },
     "metadata": {},
     "output_type": "display_data"
    }
   ],
   "source": [
    "plot_learning_curve(nbayes, 'Learning Curve for Naive Bayes (all_data: pg_conc', Xnb_train, ynb_train, cv=cv_nb);"
   ]
  },
  {
   "cell_type": "markdown",
   "metadata": {},
   "source": [
    "## 7) What's the best performance you can get with Logistic Regression? Is LR a good choice for this dataset?"
   ]
  },
  {
   "cell_type": "markdown",
   "metadata": {},
   "source": [
    "- Best Accuracy:  (Tied for 1st place) 76.16% with all_data and data_small (3) 74.83% with datar\n",
    "- Speed: (1) 30.7 microsec per loop with datar (2) 31.2 microsec per loop with all_data (3) 31.3 microsec per loop with small_data\n",
    "- Tested: all_data\n",
    "- Interpretability: Not the simplest to explain (linear regression or kNN), but could be worse (Random Forests).\n",
    "<br><br>\n",
    "**Is LR a good choice for this dataset?** Yes, because we are predicting a binary outcome and do not have a ton of features. We can also calculate probabilities to support how confident we are in a prediction, when using LR. Further, it performed better than benchmark. Grid search suggested I use Lasso for best performance, which I did, and is the easier to explain than Ridge. But I was surprised, because it appears none of the features were dropped (I guess all are relevant). Finally, learning curves reveal bias and some variance."
   ]
  },
  {
   "cell_type": "code",
   "execution_count": 200,
   "metadata": {
    "collapsed": true
   },
   "outputs": [],
   "source": [
    "# import and create logistic regresstion\n",
    "from sklearn.linear_model import LogisticRegression\n",
    "logreg = LogisticRegression()"
   ]
  },
  {
   "cell_type": "code",
   "execution_count": 277,
   "metadata": {
    "collapsed": false
   },
   "outputs": [
    {
     "data": {
      "text/plain": [
       "GridSearchCV(cv=ShuffleSplit(601, n_iter=10, test_size=0.2, random_state=0),\n",
       "       error_score='raise',\n",
       "       estimator=LogisticRegression(C=1.0, class_weight=None, dual=False, fit_intercept=True,\n",
       "          intercept_scaling=1, max_iter=100, multi_class='ovr',\n",
       "          penalty='l2', random_state=None, solver='liblinear', tol=0.0001,\n",
       "          verbose=0),\n",
       "       fit_params={}, iid=True, loss_func=None, n_jobs=1,\n",
       "       param_grid={'penalty': ['l1', 'l2'], 'C': array([  1.00000e-05,   1.01010e+03, ...,   9.89899e+04,   1.00000e+05]), 'class_weight': ['auto', None]},\n",
       "       pre_dispatch='2*n_jobs', refit=True, score_func=None, scoring=None,\n",
       "       verbose=0)"
      ]
     },
     "execution_count": 277,
     "metadata": {},
     "output_type": "execute_result"
    }
   ],
   "source": [
    "# tune params via gridsearch --> for all_data\n",
    "parameters = {'C': np.linspace(1e-5, 1e5, 100), 'class_weight':['auto', None], 'penalty': ['l1', 'l2']} \n",
    "clflr1 = GridSearchCV(logreg, parameters, cv=cv1)\n",
    "clflr1.fit(X_train_std1, y_train1)"
   ]
  },
  {
   "cell_type": "code",
   "execution_count": 305,
   "metadata": {
    "collapsed": false
   },
   "outputs": [
    {
     "data": {
      "text/plain": [
       "{'C': 1010.1010199999999, 'class_weight': None, 'penalty': 'l1'}"
      ]
     },
     "execution_count": 305,
     "metadata": {},
     "output_type": "execute_result"
    }
   ],
   "source": [
    "# best params for all_data\n",
    "clflr1.best_params_"
   ]
  },
  {
   "cell_type": "code",
   "execution_count": 273,
   "metadata": {
    "collapsed": false
   },
   "outputs": [
    {
     "data": {
      "text/plain": [
       "0.77520661157024795"
      ]
     },
     "execution_count": 273,
     "metadata": {},
     "output_type": "execute_result"
    }
   ],
   "source": [
    "clflr1.best_score_"
   ]
  },
  {
   "cell_type": "code",
   "execution_count": 274,
   "metadata": {
    "collapsed": false
   },
   "outputs": [
    {
     "data": {
      "text/plain": [
       "LogisticRegression(C=1010.1010199999999, class_weight=None, dual=False,\n",
       "          fit_intercept=True, intercept_scaling=1, max_iter=100,\n",
       "          multi_class='ovr', penalty='l1', random_state=None,\n",
       "          solver='liblinear', tol=0.0001, verbose=0)"
      ]
     },
     "execution_count": 274,
     "metadata": {},
     "output_type": "execute_result"
    }
   ],
   "source": [
    "clflr1.best_estimator_"
   ]
  },
  {
   "cell_type": "code",
   "execution_count": 275,
   "metadata": {
    "collapsed": true
   },
   "outputs": [],
   "source": [
    "best_lr1 = clflr1.best_estimator_"
   ]
  },
  {
   "cell_type": "code",
   "execution_count": 276,
   "metadata": {
    "collapsed": false
   },
   "outputs": [
    {
     "data": {
      "text/plain": [
       "GridSearchCV(cv=ShuffleSplit(601, n_iter=10, test_size=0.2, random_state=0),\n",
       "       error_score='raise',\n",
       "       estimator=LogisticRegression(C=1.0, class_weight=None, dual=False, fit_intercept=True,\n",
       "          intercept_scaling=1, max_iter=100, multi_class='ovr',\n",
       "          penalty='l2', random_state=None, solver='liblinear', tol=0.0001,\n",
       "          verbose=0),\n",
       "       fit_params={}, iid=True, loss_func=None, n_jobs=1,\n",
       "       param_grid={'penalty': ['l1', 'l2'], 'C': array([  1.00000e-05,   1.01010e+03, ...,   9.89899e+04,   1.00000e+05]), 'class_weight': ['auto', None]},\n",
       "       pre_dispatch='2*n_jobs', refit=True, score_func=None, scoring=None,\n",
       "       verbose=0)"
      ]
     },
     "execution_count": 276,
     "metadata": {},
     "output_type": "execute_result"
    }
   ],
   "source": [
    "# tune params via gridsearch --> for datar\n",
    "parameters = {'C': np.linspace(1e-5, 1e5, 100), 'class_weight':['auto', None], 'penalty': ['l1', 'l2']} \n",
    "clflr2 = GridSearchCV(logreg, parameters, cv=cv2)\n",
    "clflr2.fit(X_train_std2, y_train2)"
   ]
  },
  {
   "cell_type": "code",
   "execution_count": 279,
   "metadata": {
    "collapsed": false
   },
   "outputs": [
    {
     "data": {
      "text/plain": [
       "{'C': 4040.4040500000001, 'class_weight': None, 'penalty': 'l1'}"
      ]
     },
     "execution_count": 279,
     "metadata": {},
     "output_type": "execute_result"
    }
   ],
   "source": [
    "# best params for datar\n",
    "clflr2.best_params_"
   ]
  },
  {
   "cell_type": "code",
   "execution_count": 280,
   "metadata": {
    "collapsed": false
   },
   "outputs": [
    {
     "data": {
      "text/plain": [
       "0.77355371900826442"
      ]
     },
     "execution_count": 280,
     "metadata": {},
     "output_type": "execute_result"
    }
   ],
   "source": [
    "clflr2.best_score_"
   ]
  },
  {
   "cell_type": "code",
   "execution_count": 281,
   "metadata": {
    "collapsed": false
   },
   "outputs": [
    {
     "data": {
      "text/plain": [
       "LogisticRegression(C=4040.4040500000001, class_weight=None, dual=False,\n",
       "          fit_intercept=True, intercept_scaling=1, max_iter=100,\n",
       "          multi_class='ovr', penalty='l1', random_state=None,\n",
       "          solver='liblinear', tol=0.0001, verbose=0)"
      ]
     },
     "execution_count": 281,
     "metadata": {},
     "output_type": "execute_result"
    }
   ],
   "source": [
    "clflr2.best_estimator_"
   ]
  },
  {
   "cell_type": "code",
   "execution_count": 282,
   "metadata": {
    "collapsed": true
   },
   "outputs": [],
   "source": [
    "best_lr2 = clflr2.best_estimator_"
   ]
  },
  {
   "cell_type": "code",
   "execution_count": 283,
   "metadata": {
    "collapsed": false
   },
   "outputs": [
    {
     "data": {
      "text/plain": [
       "GridSearchCV(cv=ShuffleSplit(601, n_iter=10, test_size=0.2, random_state=0),\n",
       "       error_score='raise',\n",
       "       estimator=LogisticRegression(C=1.0, class_weight=None, dual=False, fit_intercept=True,\n",
       "          intercept_scaling=1, max_iter=100, multi_class='ovr',\n",
       "          penalty='l2', random_state=None, solver='liblinear', tol=0.0001,\n",
       "          verbose=0),\n",
       "       fit_params={}, iid=True, loss_func=None, n_jobs=1,\n",
       "       param_grid={'penalty': ['l1', 'l2'], 'C': array([  1.00000e-05,   1.01010e+03, ...,   9.89899e+04,   1.00000e+05]), 'class_weight': ['auto', None]},\n",
       "       pre_dispatch='2*n_jobs', refit=True, score_func=None, scoring=None,\n",
       "       verbose=0)"
      ]
     },
     "execution_count": 283,
     "metadata": {},
     "output_type": "execute_result"
    }
   ],
   "source": [
    "# tune params via gridsearch --> for data_small\n",
    "parameters = {'C': np.linspace(1e-5, 1e5, 100), 'class_weight':['auto', None], 'penalty': ['l1', 'l2']} \n",
    "clflr3 = GridSearchCV(logreg, parameters, cv=cv3)\n",
    "clflr3.fit(X_train_std3, y_train3)"
   ]
  },
  {
   "cell_type": "code",
   "execution_count": 284,
   "metadata": {
    "collapsed": false
   },
   "outputs": [
    {
     "data": {
      "text/plain": [
       "{'C': 1010.1010199999999, 'class_weight': None, 'penalty': 'l1'}"
      ]
     },
     "execution_count": 284,
     "metadata": {},
     "output_type": "execute_result"
    }
   ],
   "source": [
    "# best params for data_small\n",
    "clflr3.best_params_"
   ]
  },
  {
   "cell_type": "code",
   "execution_count": 285,
   "metadata": {
    "collapsed": false
   },
   "outputs": [
    {
     "data": {
      "text/plain": [
       "0.77685950413223137"
      ]
     },
     "execution_count": 285,
     "metadata": {},
     "output_type": "execute_result"
    }
   ],
   "source": [
    "clflr3.best_score_"
   ]
  },
  {
   "cell_type": "code",
   "execution_count": 286,
   "metadata": {
    "collapsed": false
   },
   "outputs": [
    {
     "data": {
      "text/plain": [
       "LogisticRegression(C=1010.1010199999999, class_weight=None, dual=False,\n",
       "          fit_intercept=True, intercept_scaling=1, max_iter=100,\n",
       "          multi_class='ovr', penalty='l1', random_state=None,\n",
       "          solver='liblinear', tol=0.0001, verbose=0)"
      ]
     },
     "execution_count": 286,
     "metadata": {},
     "output_type": "execute_result"
    }
   ],
   "source": [
    "clflr3.best_estimator_"
   ]
  },
  {
   "cell_type": "code",
   "execution_count": 287,
   "metadata": {
    "collapsed": true
   },
   "outputs": [],
   "source": [
    "best_lr3 = clflr3.best_estimator_"
   ]
  },
  {
   "cell_type": "code",
   "execution_count": 307,
   "metadata": {
    "collapsed": false
   },
   "outputs": [
    {
     "data": {
      "text/plain": [
       "LogisticRegression(C=1010.1010199999999, class_weight=None, dual=False,\n",
       "          fit_intercept=True, intercept_scaling=1, max_iter=100,\n",
       "          multi_class='ovr', penalty='l1', random_state=None,\n",
       "          solver='liblinear', tol=0.0001, verbose=0)"
      ]
     },
     "execution_count": 307,
     "metadata": {},
     "output_type": "execute_result"
    }
   ],
   "source": [
    "# fit logreg model with best params\n",
    "best_lr1.fit(X_train_std2, y_train2)"
   ]
  },
  {
   "cell_type": "code",
   "execution_count": 292,
   "metadata": {
    "collapsed": false
   },
   "outputs": [
    {
     "data": {
      "text/plain": [
       "0.76158940397350994"
      ]
     },
     "execution_count": 292,
     "metadata": {},
     "output_type": "execute_result"
    }
   ],
   "source": [
    "# check on the scores of the three:\n",
    "#all_data\n",
    "best_lr1.score(X_test_std1, y_test1)"
   ]
  },
  {
   "cell_type": "code",
   "execution_count": 214,
   "metadata": {
    "collapsed": false
   },
   "outputs": [
    {
     "name": "stdout",
     "output_type": "stream",
     "text": [
      "The slowest run took 4.18 times longer than the fastest. This could mean that an intermediate result is being cached \n",
      "10000 loops, best of 3: 31.1 µs per loop\n"
     ]
    }
   ],
   "source": [
    "# timing all_data time\n",
    "%timeit best_lr1.predict(X_test_std1)"
   ]
  },
  {
   "cell_type": "code",
   "execution_count": 293,
   "metadata": {
    "collapsed": false
   },
   "outputs": [
    {
     "data": {
      "text/plain": [
       "LogisticRegression(C=4040.4040500000001, class_weight=None, dual=False,\n",
       "          fit_intercept=True, intercept_scaling=1, max_iter=100,\n",
       "          multi_class='ovr', penalty='l1', random_state=None,\n",
       "          solver='liblinear', tol=0.0001, verbose=0)"
      ]
     },
     "execution_count": 293,
     "metadata": {},
     "output_type": "execute_result"
    }
   ],
   "source": [
    "best_lr2.fit(X_train_std2, y_train2)"
   ]
  },
  {
   "cell_type": "code",
   "execution_count": 294,
   "metadata": {
    "collapsed": false
   },
   "outputs": [
    {
     "data": {
      "text/plain": [
       "0.7483443708609272"
      ]
     },
     "execution_count": 294,
     "metadata": {},
     "output_type": "execute_result"
    }
   ],
   "source": [
    "#datar\n",
    "best_lr2.score(X_test_std2, y_test2)"
   ]
  },
  {
   "cell_type": "code",
   "execution_count": 216,
   "metadata": {
    "collapsed": false
   },
   "outputs": [
    {
     "name": "stdout",
     "output_type": "stream",
     "text": [
      "The slowest run took 7.81 times longer than the fastest. This could mean that an intermediate result is being cached \n",
      "10000 loops, best of 3: 31.1 µs per loop\n"
     ]
    }
   ],
   "source": [
    "# timing datar\n",
    "%timeit best_lr2.predict(X_test_std2)"
   ]
  },
  {
   "cell_type": "code",
   "execution_count": 295,
   "metadata": {
    "collapsed": false
   },
   "outputs": [
    {
     "data": {
      "text/plain": [
       "LogisticRegression(C=1010.1010199999999, class_weight=None, dual=False,\n",
       "          fit_intercept=True, intercept_scaling=1, max_iter=100,\n",
       "          multi_class='ovr', penalty='l1', random_state=None,\n",
       "          solver='liblinear', tol=0.0001, verbose=0)"
      ]
     },
     "execution_count": 295,
     "metadata": {},
     "output_type": "execute_result"
    }
   ],
   "source": [
    "best_lr3.fit(X_train_std3, y_train3)"
   ]
  },
  {
   "cell_type": "code",
   "execution_count": 296,
   "metadata": {
    "collapsed": false
   },
   "outputs": [
    {
     "data": {
      "text/plain": [
       "0.76158940397350994"
      ]
     },
     "execution_count": 296,
     "metadata": {},
     "output_type": "execute_result"
    }
   ],
   "source": [
    "#data_small\n",
    "best_lr3.score(X_test_std3, y_test3)"
   ]
  },
  {
   "cell_type": "code",
   "execution_count": 218,
   "metadata": {
    "collapsed": false
   },
   "outputs": [
    {
     "name": "stdout",
     "output_type": "stream",
     "text": [
      "The slowest run took 7.75 times longer than the fastest. This could mean that an intermediate result is being cached \n",
      "10000 loops, best of 3: 31 µs per loop\n"
     ]
    }
   ],
   "source": [
    "# timing data_small time\n",
    "%timeit best_lr3.predict(X_test_std3)"
   ]
  },
  {
   "cell_type": "code",
   "execution_count": 297,
   "metadata": {
    "collapsed": false
   },
   "outputs": [
    {
     "data": {
      "text/html": [
       "<div>\n",
       "<table border=\"1\" class=\"dataframe\">\n",
       "  <thead>\n",
       "    <tr style=\"text-align: right;\">\n",
       "      <th></th>\n",
       "      <th>coefficients</th>\n",
       "      <th>features</th>\n",
       "    </tr>\n",
       "  </thead>\n",
       "  <tbody>\n",
       "    <tr>\n",
       "      <th>0</th>\n",
       "      <td>0.437403</td>\n",
       "      <td>preg</td>\n",
       "    </tr>\n",
       "    <tr>\n",
       "      <th>1</th>\n",
       "      <td>1.130061</td>\n",
       "      <td>pg_conc</td>\n",
       "    </tr>\n",
       "    <tr>\n",
       "      <th>2</th>\n",
       "      <td>-0.055129</td>\n",
       "      <td>diastolic_bp</td>\n",
       "    </tr>\n",
       "    <tr>\n",
       "      <th>3</th>\n",
       "      <td>-0.001436</td>\n",
       "      <td>skin</td>\n",
       "    </tr>\n",
       "    <tr>\n",
       "      <th>4</th>\n",
       "      <td>-0.066666</td>\n",
       "      <td>serum_insulin</td>\n",
       "    </tr>\n",
       "    <tr>\n",
       "      <th>5</th>\n",
       "      <td>0.608416</td>\n",
       "      <td>bmi</td>\n",
       "    </tr>\n",
       "    <tr>\n",
       "      <th>6</th>\n",
       "      <td>0.386527</td>\n",
       "      <td>diabetes_pf</td>\n",
       "    </tr>\n",
       "    <tr>\n",
       "      <th>7</th>\n",
       "      <td>0.130264</td>\n",
       "      <td>age</td>\n",
       "    </tr>\n",
       "  </tbody>\n",
       "</table>\n",
       "</div>"
      ],
      "text/plain": [
       "   coefficients       features\n",
       "0      0.437403           preg\n",
       "1      1.130061        pg_conc\n",
       "2     -0.055129   diastolic_bp\n",
       "3     -0.001436           skin\n",
       "4     -0.066666  serum_insulin\n",
       "5      0.608416            bmi\n",
       "6      0.386527    diabetes_pf\n",
       "7      0.130264            age"
      ]
     },
     "execution_count": 297,
     "metadata": {},
     "output_type": "execute_result"
    }
   ],
   "source": [
    "# farther from zero --> more important\n",
    "# all_data --> preg, bmi, diabetes_pf\n",
    "pd.DataFrame({'features': X_train1.columns, 'coefficients': best_lr1.coef_[0]})"
   ]
  },
  {
   "cell_type": "code",
   "execution_count": 298,
   "metadata": {
    "collapsed": false
   },
   "outputs": [
    {
     "data": {
      "text/html": [
       "<div>\n",
       "<table border=\"1\" class=\"dataframe\">\n",
       "  <thead>\n",
       "    <tr style=\"text-align: right;\">\n",
       "      <th></th>\n",
       "      <th>coefficients</th>\n",
       "      <th>features</th>\n",
       "    </tr>\n",
       "  </thead>\n",
       "  <tbody>\n",
       "    <tr>\n",
       "      <th>0</th>\n",
       "      <td>0.437258</td>\n",
       "      <td>preg</td>\n",
       "    </tr>\n",
       "    <tr>\n",
       "      <th>1</th>\n",
       "      <td>1.231652</td>\n",
       "      <td>pg_conc</td>\n",
       "    </tr>\n",
       "    <tr>\n",
       "      <th>2</th>\n",
       "      <td>-0.057273</td>\n",
       "      <td>diastolic_bp</td>\n",
       "    </tr>\n",
       "    <tr>\n",
       "      <th>3</th>\n",
       "      <td>0.006790</td>\n",
       "      <td>skin</td>\n",
       "    </tr>\n",
       "    <tr>\n",
       "      <th>4</th>\n",
       "      <td>-0.215083</td>\n",
       "      <td>serum_insulin</td>\n",
       "    </tr>\n",
       "    <tr>\n",
       "      <th>5</th>\n",
       "      <td>0.606032</td>\n",
       "      <td>bmi</td>\n",
       "    </tr>\n",
       "    <tr>\n",
       "      <th>6</th>\n",
       "      <td>0.409045</td>\n",
       "      <td>diabetes_pf</td>\n",
       "    </tr>\n",
       "    <tr>\n",
       "      <th>7</th>\n",
       "      <td>0.128015</td>\n",
       "      <td>age</td>\n",
       "    </tr>\n",
       "    <tr>\n",
       "      <th>8</th>\n",
       "      <td>-0.299529</td>\n",
       "      <td>ratio</td>\n",
       "    </tr>\n",
       "  </tbody>\n",
       "</table>\n",
       "</div>"
      ],
      "text/plain": [
       "   coefficients       features\n",
       "0      0.437258           preg\n",
       "1      1.231652        pg_conc\n",
       "2     -0.057273   diastolic_bp\n",
       "3      0.006790           skin\n",
       "4     -0.215083  serum_insulin\n",
       "5      0.606032            bmi\n",
       "6      0.409045    diabetes_pf\n",
       "7      0.128015            age\n",
       "8     -0.299529          ratio"
      ]
     },
     "execution_count": 298,
     "metadata": {},
     "output_type": "execute_result"
    }
   ],
   "source": [
    "# farther from zero --> more important\n",
    "# datar --> preg, bmi, diabetes_pf\n",
    "pd.DataFrame({'features': X_train2.columns, 'coefficients': best_lr2.coef_[0]})"
   ]
  },
  {
   "cell_type": "code",
   "execution_count": 299,
   "metadata": {
    "collapsed": false
   },
   "outputs": [
    {
     "data": {
      "text/html": [
       "<div>\n",
       "<table border=\"1\" class=\"dataframe\">\n",
       "  <thead>\n",
       "    <tr style=\"text-align: right;\">\n",
       "      <th></th>\n",
       "      <th>coefficients</th>\n",
       "      <th>features</th>\n",
       "    </tr>\n",
       "  </thead>\n",
       "  <tbody>\n",
       "    <tr>\n",
       "      <th>0</th>\n",
       "      <td>0.439341</td>\n",
       "      <td>preg</td>\n",
       "    </tr>\n",
       "    <tr>\n",
       "      <th>1</th>\n",
       "      <td>1.099972</td>\n",
       "      <td>pg_conc</td>\n",
       "    </tr>\n",
       "    <tr>\n",
       "      <th>2</th>\n",
       "      <td>-0.050896</td>\n",
       "      <td>diastolic_bp</td>\n",
       "    </tr>\n",
       "    <tr>\n",
       "      <th>3</th>\n",
       "      <td>-0.003130</td>\n",
       "      <td>skin</td>\n",
       "    </tr>\n",
       "    <tr>\n",
       "      <th>4</th>\n",
       "      <td>0.600514</td>\n",
       "      <td>bmi</td>\n",
       "    </tr>\n",
       "    <tr>\n",
       "      <th>5</th>\n",
       "      <td>0.381312</td>\n",
       "      <td>diabetes_pf</td>\n",
       "    </tr>\n",
       "    <tr>\n",
       "      <th>6</th>\n",
       "      <td>0.130972</td>\n",
       "      <td>age</td>\n",
       "    </tr>\n",
       "  </tbody>\n",
       "</table>\n",
       "</div>"
      ],
      "text/plain": [
       "   coefficients      features\n",
       "0      0.439341          preg\n",
       "1      1.099972       pg_conc\n",
       "2     -0.050896  diastolic_bp\n",
       "3     -0.003130          skin\n",
       "4      0.600514           bmi\n",
       "5      0.381312   diabetes_pf\n",
       "6      0.130972           age"
      ]
     },
     "execution_count": 299,
     "metadata": {},
     "output_type": "execute_result"
    }
   ],
   "source": [
    "# farther from zero --> more important\n",
    "# data_small --> preg, bmi, diabetes_pf\n",
    "pd.DataFrame({'features': X_train3.columns, 'coefficients': best_lr3.coef_[0]})"
   ]
  },
  {
   "cell_type": "code",
   "execution_count": 300,
   "metadata": {
    "collapsed": false
   },
   "outputs": [
    {
     "data": {
      "text/plain": [
       "(array([ 48, 156, 264, 372, 480]),\n",
       " array([[ 0.89583333,  0.8125    ,  0.8125    ,  0.77083333,  0.70833333,\n",
       "          0.8125    ,  0.77083333,  0.77083333,  0.91666667,  0.89583333],\n",
       "        [ 0.78205128,  0.74358974,  0.75      ,  0.79487179,  0.78846154,\n",
       "          0.75      ,  0.76923077,  0.75641026,  0.74358974,  0.74358974],\n",
       "        [ 0.79166667,  0.76893939,  0.76136364,  0.8030303 ,  0.79924242,\n",
       "          0.76515152,  0.78030303,  0.79545455,  0.75757576,  0.78030303],\n",
       "        [ 0.77150538,  0.7688172 ,  0.77150538,  0.80376344,  0.79032258,\n",
       "          0.78494624,  0.7688172 ,  0.77419355,  0.77956989,  0.7688172 ],\n",
       "        [ 0.78333333,  0.77291667,  0.77083333,  0.78125   ,  0.77916667,\n",
       "          0.77916667,  0.79583333,  0.77916667,  0.78333333,  0.78333333]]),\n",
       " array([[ 0.70247934,  0.7768595 ,  0.80991736,  0.7107438 ,  0.76033058,\n",
       "          0.75206612,  0.7107438 ,  0.71900826,  0.67768595,  0.66942149],\n",
       "        [ 0.78512397,  0.81818182,  0.7768595 ,  0.73553719,  0.75206612,\n",
       "          0.76859504,  0.73553719,  0.74380165,  0.73553719,  0.72727273],\n",
       "        [ 0.78512397,  0.82644628,  0.79338843,  0.76859504,  0.74380165,\n",
       "          0.74380165,  0.75206612,  0.75206612,  0.7768595 ,  0.76859504],\n",
       "        [ 0.80165289,  0.84297521,  0.80165289,  0.7768595 ,  0.7768595 ,\n",
       "          0.76859504,  0.75206612,  0.73553719,  0.7768595 ,  0.76859504],\n",
       "        [ 0.76859504,  0.81818182,  0.78512397,  0.78512397,  0.78512397,\n",
       "          0.79338843,  0.72727273,  0.74380165,  0.7768595 ,  0.76859504]]))"
      ]
     },
     "execution_count": 300,
     "metadata": {},
     "output_type": "execute_result"
    }
   ],
   "source": [
    "# get ready to plot learning curves for logistic regression\n",
    "from sklearn.learning_curve import learning_curve\n",
    "title = 'title'\n",
    "learning_curve(best_lr1, X_train_std1, y_train1, cv=cv1)"
   ]
  },
  {
   "cell_type": "code",
   "execution_count": 301,
   "metadata": {
    "collapsed": true
   },
   "outputs": [],
   "source": [
    "def plot_learning_curve(estimator, title, X1, y1, ylim=None, cv=None,\n",
    "                       train_sizes=np.linspace(.2,1.0,10), n_jobs=1):\n",
    "    \"\"\"Create a learning curve to help\n",
    "    us determine if we are overfitting\n",
    "    or underfitting.\n",
    "    \n",
    "    Parameters\n",
    "    ----------\n",
    "    estimator (variable name) : our ML algorithm we want to plot\n",
    "\n",
    "    title (string) : title for our chart\n",
    "\n",
    "    X1 : our training dataframe\n",
    "\n",
    "    y1 : our training labels\n",
    "\n",
    "    ylim (tuple): min, max of the score, ie % accuracy\n",
    "\n",
    "    cv1 (variable name) : pass through for our CV strategy\n",
    "    \n",
    "    train_sizes (list-like) : the increments of % of our training data to use\n",
    "    \"\"\"\n",
    "    \n",
    "    plt.figure()\n",
    "    plt.title(title)\n",
    "    if ylim is not None:\n",
    "        plt.ylim(*ylim)\n",
    "    \n",
    "    plt.xlabel(\"Number of training examples used\")\n",
    "    plt.ylabel(\"Accuracy\")\n",
    "    train_sizes, train_scores, test_scores = learning_curve(\n",
    "        estimator, X3, y3, cv=cv3, n_jobs=n_jobs, train_sizes=train_sizes)\n",
    "    train_scores_mean = np.mean(train_scores, axis=1)\n",
    "    train_scores_std = np.std(train_scores, axis=1)\n",
    "    test_scores_mean = np.mean(test_scores, axis=1)\n",
    "    test_scores_std = np.std(test_scores, axis=1)\n",
    "    plt.grid()\n",
    "\n",
    "    plt.fill_between(train_sizes, train_scores_mean - train_scores_std,\n",
    "                     train_scores_mean + train_scores_std, alpha=0.1,\n",
    "                     color=\"r\")\n",
    "    plt.fill_between(train_sizes, test_scores_mean - test_scores_std,\n",
    "                     test_scores_mean + test_scores_std, alpha=0.1, color=\"g\")\n",
    "    plt.plot(train_sizes, train_scores_mean, 'o-', color=\"r\",\n",
    "             label=\"Training score\")\n",
    "    plt.plot(train_sizes, test_scores_mean, 'o-', color=\"g\",\n",
    "             label=\"Cross-validation score\")\n",
    "\n",
    "    plt.legend(loc=\"best\")\n",
    "    return plt"
   ]
  },
  {
   "cell_type": "code",
   "execution_count": 302,
   "metadata": {
    "collapsed": false
   },
   "outputs": [
    {
     "data": {
      "image/png": "[encoded data removed]",
      "text/plain": [
       "<matplotlib.figure.Figure at 0x10f69c610>"
      ]
     },
     "metadata": {},
     "output_type": "display_data"
    }
   ],
   "source": [
    "plot_learning_curve(best_lr1, 'Learning Curve for Logistic Regression (all_data)', X_train_std1, y_train1, cv=cv1);"
   ]
  },
  {
   "cell_type": "markdown",
   "metadata": {},
   "source": [
    "## 8) What's the best performance you can get with Random Forest? Is RF a good choice for this dataset?"
   ]
  },
  {
   "cell_type": "markdown",
   "metadata": {},
   "source": [
    "- Best Accuracy:  (1) 75.5% with data_small (2) 74.83% with datar (3) 74.17% with all_data\n",
    "- Speed: (1) 2.86 ms per loop with data_small (2) 3.81 ms per loop with datar (3) 5.15 ms per loop with all_data\n",
    "- Tested: data_small\n",
    "- Interpretability: Pretty complex, especially compared to its simple family member:  the Decision Tree.\n",
    "<br><br>\n",
    "**Is RF a good choice for this dataset?** Yes, because it helps us learn important features and the data's relationship is pretty complex (definitely not linear). On the learning curves, there is some some variance (but the highest training set performance)."
   ]
  },
  {
   "cell_type": "code",
   "execution_count": 227,
   "metadata": {
    "collapsed": true
   },
   "outputs": [],
   "source": [
    "# import and create random forest\n",
    "from sklearn.ensemble import RandomForestClassifier\n",
    "rfmodel = RandomForestClassifier()"
   ]
  },
  {
   "cell_type": "code",
   "execution_count": 228,
   "metadata": {
    "collapsed": true
   },
   "outputs": [],
   "source": [
    "# find best params - first for all_data\n",
    "parameters = {'n_estimators': range(1, 100, 10)}\n",
    "clfrf1 = GridSearchCV(rfmodel, parameters, cv=cv1)"
   ]
  },
  {
   "cell_type": "code",
   "execution_count": 229,
   "metadata": {
    "collapsed": false
   },
   "outputs": [
    {
     "data": {
      "text/plain": [
       "{'n_estimators': 41}"
      ]
     },
     "execution_count": 229,
     "metadata": {},
     "output_type": "execute_result"
    }
   ],
   "source": [
    "clfrf1.fit(X_train1, y_train1)\n",
    "clfrf1.best_params_"
   ]
  },
  {
   "cell_type": "code",
   "execution_count": 308,
   "metadata": {
    "collapsed": false
   },
   "outputs": [
    {
     "data": {
      "text/plain": [
       "0.75619834710743805"
      ]
     },
     "execution_count": 308,
     "metadata": {},
     "output_type": "execute_result"
    }
   ],
   "source": [
    "clfrf1.best_score_"
   ]
  },
  {
   "cell_type": "code",
   "execution_count": 230,
   "metadata": {
    "collapsed": false
   },
   "outputs": [
    {
     "data": {
      "text/plain": [
       "RandomForestClassifier(bootstrap=True, class_weight=None, criterion='gini',\n",
       "            max_depth=None, max_features='auto', max_leaf_nodes=None,\n",
       "            min_samples_leaf=1, min_samples_split=2,\n",
       "            min_weight_fraction_leaf=0.0, n_estimators=41, n_jobs=1,\n",
       "            oob_score=False, random_state=None, verbose=0,\n",
       "            warm_start=False)"
      ]
     },
     "execution_count": 230,
     "metadata": {},
     "output_type": "execute_result"
    }
   ],
   "source": [
    "clfrf1.best_estimator_"
   ]
  },
  {
   "cell_type": "code",
   "execution_count": 231,
   "metadata": {
    "collapsed": true
   },
   "outputs": [],
   "source": [
    "best_rf1 = clfrf1.best_estimator_"
   ]
  },
  {
   "cell_type": "code",
   "execution_count": 232,
   "metadata": {
    "collapsed": true
   },
   "outputs": [],
   "source": [
    "# find best params - now for datar\n",
    "parameters = {'n_estimators': range(1, 100, 10)}\n",
    "clfrf2 = GridSearchCV(rfmodel, parameters, cv=cv2)"
   ]
  },
  {
   "cell_type": "code",
   "execution_count": 233,
   "metadata": {
    "collapsed": false
   },
   "outputs": [
    {
     "data": {
      "text/plain": [
       "{'n_estimators': 81}"
      ]
     },
     "execution_count": 233,
     "metadata": {},
     "output_type": "execute_result"
    }
   ],
   "source": [
    "clfrf2.fit(X_train2, y_train2)\n",
    "clfrf2.best_params_"
   ]
  },
  {
   "cell_type": "code",
   "execution_count": 309,
   "metadata": {
    "collapsed": false
   },
   "outputs": [
    {
     "data": {
      "text/plain": [
       "0.75619834710743805"
      ]
     },
     "execution_count": 309,
     "metadata": {},
     "output_type": "execute_result"
    }
   ],
   "source": [
    "clfrf2.best_score_"
   ]
  },
  {
   "cell_type": "code",
   "execution_count": 234,
   "metadata": {
    "collapsed": false
   },
   "outputs": [
    {
     "data": {
      "text/plain": [
       "RandomForestClassifier(bootstrap=True, class_weight=None, criterion='gini',\n",
       "            max_depth=None, max_features='auto', max_leaf_nodes=None,\n",
       "            min_samples_leaf=1, min_samples_split=2,\n",
       "            min_weight_fraction_leaf=0.0, n_estimators=81, n_jobs=1,\n",
       "            oob_score=False, random_state=None, verbose=0,\n",
       "            warm_start=False)"
      ]
     },
     "execution_count": 234,
     "metadata": {},
     "output_type": "execute_result"
    }
   ],
   "source": [
    "clfrf2.best_estimator_"
   ]
  },
  {
   "cell_type": "code",
   "execution_count": 235,
   "metadata": {
    "collapsed": true
   },
   "outputs": [],
   "source": [
    "best_rf2 = clfrf2.best_estimator_"
   ]
  },
  {
   "cell_type": "code",
   "execution_count": 236,
   "metadata": {
    "collapsed": true
   },
   "outputs": [],
   "source": [
    "# find best params - finally, for data_small\n",
    "parameters = {'n_estimators': range(1, 100, 10)}\n",
    "clfrf3 = GridSearchCV(rfmodel, parameters, cv=cv3)"
   ]
  },
  {
   "cell_type": "code",
   "execution_count": 237,
   "metadata": {
    "collapsed": false
   },
   "outputs": [
    {
     "data": {
      "text/plain": [
       "{'n_estimators': 41}"
      ]
     },
     "execution_count": 237,
     "metadata": {},
     "output_type": "execute_result"
    }
   ],
   "source": [
    "clfrf3.fit(X_train3, y_train3)\n",
    "clfrf3.best_params_"
   ]
  },
  {
   "cell_type": "code",
   "execution_count": 310,
   "metadata": {
    "collapsed": false
   },
   "outputs": [
    {
     "data": {
      "text/plain": [
       "0.7528925619834711"
      ]
     },
     "execution_count": 310,
     "metadata": {},
     "output_type": "execute_result"
    }
   ],
   "source": [
    "clfrf3.best_score_"
   ]
  },
  {
   "cell_type": "code",
   "execution_count": 238,
   "metadata": {
    "collapsed": false
   },
   "outputs": [
    {
     "data": {
      "text/plain": [
       "RandomForestClassifier(bootstrap=True, class_weight=None, criterion='gini',\n",
       "            max_depth=None, max_features='auto', max_leaf_nodes=None,\n",
       "            min_samples_leaf=1, min_samples_split=2,\n",
       "            min_weight_fraction_leaf=0.0, n_estimators=41, n_jobs=1,\n",
       "            oob_score=False, random_state=None, verbose=0,\n",
       "            warm_start=False)"
      ]
     },
     "execution_count": 238,
     "metadata": {},
     "output_type": "execute_result"
    }
   ],
   "source": [
    "clfrf3.best_estimator_"
   ]
  },
  {
   "cell_type": "code",
   "execution_count": 239,
   "metadata": {
    "collapsed": true
   },
   "outputs": [],
   "source": [
    "best_rf3 = clfrf3.best_estimator_"
   ]
  },
  {
   "cell_type": "code",
   "execution_count": 240,
   "metadata": {
    "collapsed": false
   },
   "outputs": [
    {
     "name": "stdout",
     "output_type": "stream",
     "text": [
      "CV accuracy [ 0.75621891  0.73134328  0.73869347], Average accuracy 0.742085218797\n"
     ]
    }
   ],
   "source": [
    "# Evaluate the Random Forest model using cross-validation (for all_data)\n",
    "from sklearn.cross_validation import cross_val_score\n",
    "\n",
    "scores1 = cross_val_score(rfmodel, X_train1, y_train1, scoring='accuracy')\n",
    "print('CV accuracy {}, Average accuracy {}'.format(scores1, scores1.mean()))"
   ]
  },
  {
   "cell_type": "code",
   "execution_count": 241,
   "metadata": {
    "collapsed": false
   },
   "outputs": [
    {
     "data": {
      "text/plain": [
       "0.75496688741721851"
      ]
     },
     "execution_count": 241,
     "metadata": {},
     "output_type": "execute_result"
    }
   ],
   "source": [
    "# check on the scores of the three:\n",
    "#all_data\n",
    "best_rf1.score(X_test1, y_test1)"
   ]
  },
  {
   "cell_type": "code",
   "execution_count": 242,
   "metadata": {
    "collapsed": false
   },
   "outputs": [
    {
     "name": "stdout",
     "output_type": "stream",
     "text": [
      "100 loops, best of 3: 2.64 ms per loop\n"
     ]
    }
   ],
   "source": [
    "# timing - all_data\n",
    "%timeit best_rf1.predict(X_test1)"
   ]
  },
  {
   "cell_type": "code",
   "execution_count": 243,
   "metadata": {
    "collapsed": false
   },
   "outputs": [
    {
     "name": "stdout",
     "output_type": "stream",
     "text": [
      "CV accuracy [ 0.74626866  0.69651741  0.77386935], Average accuracy 0.738885138795\n"
     ]
    }
   ],
   "source": [
    "# cv eval --> datar\n",
    "scores2 = cross_val_score(rfmodel, X_train2, y_train2, scoring='accuracy')\n",
    "print('CV accuracy {}, Average accuracy {}'.format(scores2, scores2.mean()))"
   ]
  },
  {
   "cell_type": "code",
   "execution_count": 244,
   "metadata": {
    "collapsed": false
   },
   "outputs": [
    {
     "data": {
      "text/plain": [
       "0.7483443708609272"
      ]
     },
     "execution_count": 244,
     "metadata": {},
     "output_type": "execute_result"
    }
   ],
   "source": [
    "# datar\n",
    "best_rf2.score(X_test2, y_test2)"
   ]
  },
  {
   "cell_type": "code",
   "execution_count": 245,
   "metadata": {
    "collapsed": false
   },
   "outputs": [
    {
     "name": "stdout",
     "output_type": "stream",
     "text": [
      "100 loops, best of 3: 4.95 ms per loop\n"
     ]
    }
   ],
   "source": [
    "# timing - datar\n",
    "%timeit best_rf2.predict(X_test2)"
   ]
  },
  {
   "cell_type": "code",
   "execution_count": 246,
   "metadata": {
    "collapsed": false
   },
   "outputs": [
    {
     "name": "stdout",
     "output_type": "stream",
     "text": [
      "CV accuracy [ 0.75124378  0.72139303  0.75879397], Average accuracy 0.743810261923\n"
     ]
    }
   ],
   "source": [
    "# cv eval --> data_small\n",
    "scores3 = cross_val_score(rfmodel, X_train3, y_train3, scoring='accuracy')\n",
    "print('CV accuracy {}, Average accuracy {}'.format(scores3, scores3.mean()))"
   ]
  },
  {
   "cell_type": "code",
   "execution_count": 247,
   "metadata": {
    "collapsed": false
   },
   "outputs": [
    {
     "data": {
      "text/plain": [
       "0.76158940397350994"
      ]
     },
     "execution_count": 247,
     "metadata": {},
     "output_type": "execute_result"
    }
   ],
   "source": [
    "# data_small\n",
    "best_rf3.score(X_test3, y_test3)"
   ]
  },
  {
   "cell_type": "code",
   "execution_count": 248,
   "metadata": {
    "collapsed": false
   },
   "outputs": [
    {
     "name": "stdout",
     "output_type": "stream",
     "text": [
      "100 loops, best of 3: 2.57 ms per loop\n"
     ]
    }
   ],
   "source": [
    "# timing - data_small\n",
    "%timeit best_rf3.predict(X_test3)"
   ]
  },
  {
   "cell_type": "code",
   "execution_count": 249,
   "metadata": {
    "collapsed": false
   },
   "outputs": [
    {
     "data": {
      "text/plain": [
       "(array([ 48, 156, 264, 372, 480]),\n",
       " array([[ 1.        ,  1.        ,  1.        ,  1.        ,  1.        ,\n",
       "          1.        ,  1.        ,  1.        ,  1.        ,  1.        ],\n",
       "        [ 1.        ,  1.        ,  1.        ,  1.        ,  1.        ,\n",
       "          1.        ,  1.        ,  1.        ,  1.        ,  1.        ],\n",
       "        [ 0.99621212,  1.        ,  0.99621212,  1.        ,  1.        ,\n",
       "          0.99621212,  1.        ,  1.        ,  1.        ,  1.        ],\n",
       "        [ 0.99462366,  1.        ,  1.        ,  1.        ,  0.99731183,\n",
       "          1.        ,  0.99731183,  1.        ,  0.99731183,  1.        ],\n",
       "        [ 0.99791667,  1.        ,  1.        ,  0.99791667,  1.        ,\n",
       "          1.        ,  1.        ,  1.        ,  1.        ,  1.        ]]),\n",
       " array([[ 0.72727273,  0.83471074,  0.78512397,  0.6446281 ,  0.65289256,\n",
       "          0.76033058,  0.71900826,  0.7768595 ,  0.72727273,  0.62809917],\n",
       "        [ 0.76033058,  0.76033058,  0.80165289,  0.73553719,  0.68595041,\n",
       "          0.75206612,  0.73553719,  0.7107438 ,  0.6446281 ,  0.58677686],\n",
       "        [ 0.74380165,  0.80165289,  0.74380165,  0.72727273,  0.7107438 ,\n",
       "          0.7107438 ,  0.74380165,  0.72727273,  0.74380165,  0.66115702],\n",
       "        [ 0.76033058,  0.79338843,  0.7768595 ,  0.73553719,  0.73553719,\n",
       "          0.72727273,  0.74380165,  0.76033058,  0.74380165,  0.68595041],\n",
       "        [ 0.73553719,  0.79338843,  0.76859504,  0.76033058,  0.76033058,\n",
       "          0.76033058,  0.75206612,  0.76033058,  0.74380165,  0.72727273]]))"
      ]
     },
     "execution_count": 249,
     "metadata": {},
     "output_type": "execute_result"
    }
   ],
   "source": [
    "# get ready to plot learning curves for random forests\n",
    "from sklearn.learning_curve import learning_curve\n",
    "title = 'title'\n",
    "learning_curve(best_rf3, X_train3, y_train3, cv=cv3)"
   ]
  },
  {
   "cell_type": "code",
   "execution_count": 250,
   "metadata": {
    "collapsed": true
   },
   "outputs": [],
   "source": [
    "def plot_learning_curve(estimator, title, X3, y3, ylim=None, cv=None,\n",
    "                       train_sizes=np.linspace(.2,1.0,10), n_jobs=1):\n",
    "    \"\"\"Create a learning curve to help\n",
    "    us determine if we are overfitting\n",
    "    or underfitting.\n",
    "    \n",
    "    Parameters\n",
    "    ----------\n",
    "    estimator (variable name) : our ML algorithm we want to plot\n",
    "\n",
    "    title (string) : title for our chart\n",
    "\n",
    "    X3 : our training dataframe\n",
    "\n",
    "    y3 : our training labels\n",
    "\n",
    "    ylim (tuple): min, max of the score, ie % accuracy\n",
    "\n",
    "    cv3 (variable name) : pass through for our CV strategy\n",
    "    \n",
    "    train_sizes (list-like) : the increments of % of our training data to use\n",
    "    \"\"\"\n",
    "    \n",
    "    plt.figure()\n",
    "    plt.title(title)\n",
    "    if ylim is not None:\n",
    "        plt.ylim(*ylim)\n",
    "    \n",
    "    plt.xlabel(\"Number of training examples used\")\n",
    "    plt.ylabel(\"Accuracy\")\n",
    "    train_sizes, train_scores, test_scores = learning_curve(\n",
    "        estimator, X3, y3, cv=cv3, n_jobs=n_jobs, train_sizes=train_sizes)\n",
    "    train_scores_mean = np.mean(train_scores, axis=1)\n",
    "    train_scores_std = np.std(train_scores, axis=1)\n",
    "    test_scores_mean = np.mean(test_scores, axis=1)\n",
    "    test_scores_std = np.std(test_scores, axis=1)\n",
    "    plt.grid()\n",
    "\n",
    "    plt.fill_between(train_sizes, train_scores_mean - train_scores_std,\n",
    "                     train_scores_mean + train_scores_std, alpha=0.1,\n",
    "                     color=\"r\")\n",
    "    plt.fill_between(train_sizes, test_scores_mean - test_scores_std,\n",
    "                     test_scores_mean + test_scores_std, alpha=0.1, color=\"g\")\n",
    "    plt.plot(train_sizes, train_scores_mean, 'o-', color=\"r\",\n",
    "             label=\"Training score\")\n",
    "    plt.plot(train_sizes, test_scores_mean, 'o-', color=\"g\",\n",
    "             label=\"Cross-validation score\")\n",
    "\n",
    "    plt.legend(loc=\"best\")\n",
    "    return plt"
   ]
  },
  {
   "cell_type": "code",
   "execution_count": 251,
   "metadata": {
    "collapsed": false
   },
   "outputs": [
    {
     "data": {
      "image/png": "[encoded data removed]",
      "text/plain": [
       "<matplotlib.figure.Figure at 0x10ee8a750>"
      ]
     },
     "metadata": {},
     "output_type": "display_data"
    }
   ],
   "source": [
    "plot_learning_curve(best_rf3, 'Learning Curve for Random Forests (data_small)', X_train3, y_train3, cv=cv3);"
   ]
  },
  {
   "cell_type": "code",
   "execution_count": 252,
   "metadata": {
    "collapsed": false
   },
   "outputs": [
    {
     "data": {
      "text/html": [
       "<div>\n",
       "<table border=\"1\" class=\"dataframe\">\n",
       "  <thead>\n",
       "    <tr style=\"text-align: right;\">\n",
       "      <th></th>\n",
       "      <th>Features</th>\n",
       "      <th>Importance Score</th>\n",
       "    </tr>\n",
       "  </thead>\n",
       "  <tbody>\n",
       "    <tr>\n",
       "      <th>1</th>\n",
       "      <td>pg_conc</td>\n",
       "      <td>0.245166</td>\n",
       "    </tr>\n",
       "    <tr>\n",
       "      <th>5</th>\n",
       "      <td>bmi</td>\n",
       "      <td>0.146127</td>\n",
       "    </tr>\n",
       "    <tr>\n",
       "      <th>6</th>\n",
       "      <td>diabetes_pf</td>\n",
       "      <td>0.137316</td>\n",
       "    </tr>\n",
       "    <tr>\n",
       "      <th>7</th>\n",
       "      <td>age</td>\n",
       "      <td>0.135608</td>\n",
       "    </tr>\n",
       "    <tr>\n",
       "      <th>4</th>\n",
       "      <td>serum_insulin</td>\n",
       "      <td>0.093996</td>\n",
       "    </tr>\n",
       "    <tr>\n",
       "      <th>2</th>\n",
       "      <td>diastolic_bp</td>\n",
       "      <td>0.085085</td>\n",
       "    </tr>\n",
       "    <tr>\n",
       "      <th>3</th>\n",
       "      <td>skin</td>\n",
       "      <td>0.078465</td>\n",
       "    </tr>\n",
       "    <tr>\n",
       "      <th>0</th>\n",
       "      <td>preg</td>\n",
       "      <td>0.078238</td>\n",
       "    </tr>\n",
       "  </tbody>\n",
       "</table>\n",
       "</div>"
      ],
      "text/plain": [
       "        Features  Importance Score\n",
       "1        pg_conc          0.245166\n",
       "5            bmi          0.146127\n",
       "6    diabetes_pf          0.137316\n",
       "7            age          0.135608\n",
       "4  serum_insulin          0.093996\n",
       "2   diastolic_bp          0.085085\n",
       "3           skin          0.078465\n",
       "0           preg          0.078238"
      ]
     },
     "execution_count": 252,
     "metadata": {},
     "output_type": "execute_result"
    }
   ],
   "source": [
    "# Use RF to find most important features - will do this for each dataframe\n",
    "features = X1.columns\n",
    "feature_importances = best_rf1.feature_importances_\n",
    "features_df = pd.DataFrame({'Features': features, 'Importance Score': feature_importances})\n",
    "features_df.sort_values('Importance Score', inplace=True, ascending=False)\n",
    "\n",
    "features_df.head(10)"
   ]
  },
  {
   "cell_type": "code",
   "execution_count": 253,
   "metadata": {
    "collapsed": false
   },
   "outputs": [
    {
     "data": {
      "text/html": [
       "<div>\n",
       "<table border=\"1\" class=\"dataframe\">\n",
       "  <thead>\n",
       "    <tr style=\"text-align: right;\">\n",
       "      <th></th>\n",
       "      <th>Features</th>\n",
       "      <th>Importance Score</th>\n",
       "    </tr>\n",
       "  </thead>\n",
       "  <tbody>\n",
       "    <tr>\n",
       "      <th>1</th>\n",
       "      <td>pg_conc</td>\n",
       "      <td>0.250571</td>\n",
       "    </tr>\n",
       "    <tr>\n",
       "      <th>5</th>\n",
       "      <td>bmi</td>\n",
       "      <td>0.145784</td>\n",
       "    </tr>\n",
       "    <tr>\n",
       "      <th>6</th>\n",
       "      <td>diabetes_pf</td>\n",
       "      <td>0.122474</td>\n",
       "    </tr>\n",
       "    <tr>\n",
       "      <th>7</th>\n",
       "      <td>age</td>\n",
       "      <td>0.114577</td>\n",
       "    </tr>\n",
       "    <tr>\n",
       "      <th>8</th>\n",
       "      <td>ratio</td>\n",
       "      <td>0.092456</td>\n",
       "    </tr>\n",
       "    <tr>\n",
       "      <th>4</th>\n",
       "      <td>serum_insulin</td>\n",
       "      <td>0.078208</td>\n",
       "    </tr>\n",
       "    <tr>\n",
       "      <th>2</th>\n",
       "      <td>diastolic_bp</td>\n",
       "      <td>0.069901</td>\n",
       "    </tr>\n",
       "    <tr>\n",
       "      <th>0</th>\n",
       "      <td>preg</td>\n",
       "      <td>0.066496</td>\n",
       "    </tr>\n",
       "    <tr>\n",
       "      <th>3</th>\n",
       "      <td>skin</td>\n",
       "      <td>0.059533</td>\n",
       "    </tr>\n",
       "  </tbody>\n",
       "</table>\n",
       "</div>"
      ],
      "text/plain": [
       "        Features  Importance Score\n",
       "1        pg_conc          0.250571\n",
       "5            bmi          0.145784\n",
       "6    diabetes_pf          0.122474\n",
       "7            age          0.114577\n",
       "8          ratio          0.092456\n",
       "4  serum_insulin          0.078208\n",
       "2   diastolic_bp          0.069901\n",
       "0           preg          0.066496\n",
       "3           skin          0.059533"
      ]
     },
     "execution_count": 253,
     "metadata": {},
     "output_type": "execute_result"
    }
   ],
   "source": [
    "features = X2.columns\n",
    "feature_importances = best_rf2.feature_importances_\n",
    "features_df = pd.DataFrame({'Features': features, 'Importance Score': feature_importances})\n",
    "features_df.sort_values('Importance Score', inplace=True, ascending=False)\n",
    "\n",
    "features_df.head(10)"
   ]
  },
  {
   "cell_type": "code",
   "execution_count": 254,
   "metadata": {
    "collapsed": false
   },
   "outputs": [
    {
     "data": {
      "text/html": [
       "<div>\n",
       "<table border=\"1\" class=\"dataframe\">\n",
       "  <thead>\n",
       "    <tr style=\"text-align: right;\">\n",
       "      <th></th>\n",
       "      <th>Features</th>\n",
       "      <th>Importance Score</th>\n",
       "    </tr>\n",
       "  </thead>\n",
       "  <tbody>\n",
       "    <tr>\n",
       "      <th>1</th>\n",
       "      <td>pg_conc</td>\n",
       "      <td>0.289127</td>\n",
       "    </tr>\n",
       "    <tr>\n",
       "      <th>4</th>\n",
       "      <td>bmi</td>\n",
       "      <td>0.173654</td>\n",
       "    </tr>\n",
       "    <tr>\n",
       "      <th>5</th>\n",
       "      <td>diabetes_pf</td>\n",
       "      <td>0.147253</td>\n",
       "    </tr>\n",
       "    <tr>\n",
       "      <th>6</th>\n",
       "      <td>age</td>\n",
       "      <td>0.138463</td>\n",
       "    </tr>\n",
       "    <tr>\n",
       "      <th>0</th>\n",
       "      <td>preg</td>\n",
       "      <td>0.088299</td>\n",
       "    </tr>\n",
       "    <tr>\n",
       "      <th>2</th>\n",
       "      <td>diastolic_bp</td>\n",
       "      <td>0.085159</td>\n",
       "    </tr>\n",
       "    <tr>\n",
       "      <th>3</th>\n",
       "      <td>skin</td>\n",
       "      <td>0.078045</td>\n",
       "    </tr>\n",
       "  </tbody>\n",
       "</table>\n",
       "</div>"
      ],
      "text/plain": [
       "       Features  Importance Score\n",
       "1       pg_conc          0.289127\n",
       "4           bmi          0.173654\n",
       "5   diabetes_pf          0.147253\n",
       "6           age          0.138463\n",
       "0          preg          0.088299\n",
       "2  diastolic_bp          0.085159\n",
       "3          skin          0.078045"
      ]
     },
     "execution_count": 254,
     "metadata": {},
     "output_type": "execute_result"
    }
   ],
   "source": [
    "features = X3.columns\n",
    "feature_importances = best_rf3.feature_importances_\n",
    "features_df = pd.DataFrame({'Features': features, 'Importance Score': feature_importances})\n",
    "features_df.sort_values('Importance Score', inplace=True, ascending=False)\n",
    "\n",
    "features_df.head(10)"
   ]
  },
  {
   "cell_type": "markdown",
   "metadata": {},
   "source": [
    "## 9) If you could only choose one, which classifer from the above that you already ran is best? How do you define best? (hint: could be prediction accuracy, running time, interpretability, etc)"
   ]
  },
  {
   "cell_type": "markdown",
   "metadata": {
    "collapsed": true
   },
   "source": [
    "Since we are dealing with people's health, I am most concerned with accuracy over speed or interpretability. It would be interesting to do this again with recall.\n",
    "\n",
    "kNN, Logistic Regression, and Random Forest all performed similarly enough in the mid-seventy percent range that I would consider them all. However, Logistic Regression was very speedy, had the highest accuracy (tied with kNN at 76.16%), but has the added bonus of allowing one to calculate confidence probabilities for predictions--which seems potentially handy when dealing with the medical field."
   ]
  },
  {
   "cell_type": "code",
   "execution_count": null,
   "metadata": {
    "collapsed": true
   },
   "outputs": [],
   "source": [
    "# for hw3:\n",
    "all_data.to_csv('nyc_high_schools_complete_20160227.csv', index=False)\n",
    "datar.to_csv('nyc_high_schools_complete_20160227.csv', index=False)\n",
    "data_small.to_csv('nyc_high_schools_complete_20160227.csv', index=False)"
   ]
  }
 ],
 "metadata": {
  "kernelspec": {
   "display_name": "Python 2",
   "language": "python",
   "name": "python2"
  },
  "language_info": {
   "codemirror_mode": {
    "name": "ipython",
    "version": 2
   },
   "file_extension": ".py",
   "mimetype": "text/x-python",
   "name": "python",
   "nbconvert_exporter": "python",
   "pygments_lexer": "ipython2",
   "version": "2.7.11"
  }
 },
 "nbformat": 4,
 "nbformat_minor": 0
}
